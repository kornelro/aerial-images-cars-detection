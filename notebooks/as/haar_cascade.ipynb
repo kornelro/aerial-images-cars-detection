{
 "cells": [
  {
   "cell_type": "code",
   "execution_count": 1,
   "metadata": {
    "collapsed": true,
    "pycharm": {
     "is_executing": false
    }
   },
   "outputs": [],
   "source": [
    "import cv2\n",
    "from src.data.image_loaders import VehiculesSquareImageLoader, VehiculesImageLoader\n",
    "from src.data.dataset_loaders import VehiculesDatasetLoader\n",
    "import matplotlib.pyplot as plt\n",
    "import os\n",
    "import shutil "
   ]
  },
  {
   "cell_type": "code",
   "execution_count": 12,
   "outputs": [
    {
     "data": {
      "text/plain": "['00000000.txt',\n '00000001.txt',\n '00000002.txt',\n '00000003.txt',\n '00000004.txt',\n '00000006.txt',\n '00000007.txt',\n '00000008.txt',\n '00000009.txt',\n '00000010.txt',\n '00000011.txt',\n '00000012.txt',\n '00000013.txt',\n '00000014.txt',\n '00000015.txt',\n '00000016.txt',\n '00000017.txt',\n '00000018.txt',\n '00000019.txt',\n '00000020.txt',\n '00000021.txt',\n '00000022.txt',\n '00000025.txt',\n '00000026.txt',\n '00000027.txt',\n '00000029.txt',\n '00000030.txt',\n '00000031.txt',\n '00000032.txt',\n '00000033.txt',\n '00000035.txt',\n '00000036.txt',\n '00000037.txt',\n '00000038.txt',\n '00000040.txt',\n '00000041.txt',\n '00000042.txt',\n '00000043.txt',\n '00000044.txt',\n '00000045.txt',\n '00000046.txt',\n '00000047.txt',\n '00000048.txt',\n '00000049.txt',\n '00000050.txt',\n '00000051.txt',\n '00000052.txt',\n '00000053.txt',\n '00000054.txt',\n '00000055.txt',\n '00000056.txt',\n '00000057.txt',\n '00000058.txt',\n '00000059.txt',\n '00000060.txt',\n '00000061.txt',\n '00000062.txt',\n '00000063.txt',\n '00000064.txt',\n '00000065.txt',\n '00000066.txt',\n '00000067.txt',\n '00000069.txt',\n '00000070.txt',\n '00000071.txt',\n '00000072.txt',\n '00000073.txt',\n '00000074.txt',\n '00000075.txt',\n '00000076.txt',\n '00000077.txt',\n '00000078.txt',\n '00000079.txt',\n '00000080.txt',\n '00000081.txt',\n '00000082.txt',\n '00000083.txt',\n '00000084.txt',\n '00000085.txt',\n '00000086.txt',\n '00000087.txt',\n '00000088.txt',\n '00000089.txt',\n '00000090.txt',\n '00000091.txt',\n '00000092.txt',\n '00000093.txt',\n '00000094.txt',\n '00000095.txt',\n '00000096.txt',\n '00000097.txt',\n '00000098.txt',\n '00000099.txt',\n '00000100.txt',\n '00000101.txt',\n '00000102.txt',\n '00000103.txt',\n '00000104.txt',\n '00000105.txt',\n '00000106.txt',\n '00000107.txt',\n '00000108.txt',\n '00000109.txt',\n '00000110.txt',\n '00000111.txt',\n '00000112.txt',\n '00000113.txt',\n '00000114.txt',\n '00000115.txt',\n '00000116.txt',\n '00000117.txt',\n '00000118.txt',\n '00000119.txt',\n '00000120.txt',\n '00000121.txt',\n '00000122.txt',\n '00000123.txt',\n '00000124.txt',\n '00000125.txt',\n '00000126.txt',\n '00000127.txt',\n '00000128.txt',\n '00000129.txt',\n '00000130.txt',\n '00000131.txt',\n '00000132.txt',\n '00000133.txt',\n '00000134.txt',\n '00000135.txt',\n '00000136.txt',\n '00000137.txt',\n '00000138.txt',\n '00000139.txt',\n '00000140.txt',\n '00000141.txt',\n '00000142.txt',\n '00000143.txt',\n '00000144.txt',\n '00000145.txt',\n '00000146.txt',\n '00000147.txt',\n '00000148.txt',\n '00000149.txt',\n '00000150.txt',\n '00000151.txt',\n '00000152.txt',\n '00000153.txt',\n '00000154.txt',\n '00000155.txt',\n '00000156.txt',\n '00000157.txt',\n '00000158.txt',\n '00000159.txt',\n '00000160.txt',\n '00000161.txt',\n '00000162.txt',\n '00000163.txt',\n '00000164.txt',\n '00000165.txt',\n '00000166.txt',\n '00000167.txt',\n '00000168.txt',\n '00000169.txt',\n '00000170.txt',\n '00000171.txt',\n '00000172.txt',\n '00000173.txt',\n '00000174.txt',\n '00000175.txt',\n '00000176.txt',\n '00000177.txt',\n '00000178.txt',\n '00000179.txt',\n '00000180.txt',\n '00000181.txt',\n '00000182.txt',\n '00000183.txt',\n '00000184.txt',\n '00000185.txt',\n '00000186.txt',\n '00000187.txt',\n '00000188.txt',\n '00000189.txt',\n '00000190.txt',\n '00000191.txt',\n '00000192.txt',\n '00000193.txt',\n '00000194.txt',\n '00000195.txt',\n '00000196.txt',\n '00000197.txt',\n '00000198.txt',\n '00000199.txt',\n '00000200.txt',\n '00000201.txt',\n '00000202.txt',\n '00000203.txt',\n '00000204.txt',\n '00000205.txt',\n '00000206.txt',\n '00000207.txt',\n '00000208.txt',\n '00000209.txt',\n '00000210.txt',\n '00000211.txt',\n '00000212.txt',\n '00000213.txt',\n '00000214.txt',\n '00000215.txt',\n '00000216.txt',\n '00000217.txt',\n '00000218.txt',\n '00000219.txt',\n '00000220.txt',\n '00000221.txt',\n '00000222.txt',\n '00000223.txt',\n '00000224.txt',\n '00000225.txt',\n '00000226.txt',\n '00000227.txt',\n '00000228.txt',\n '00000229.txt',\n '00000230.txt',\n '00000231.txt',\n '00000232.txt',\n '00000233.txt',\n '00000234.txt',\n '00000235.txt',\n '00000236.txt',\n '00000237.txt',\n '00000238.txt',\n '00000239.txt',\n '00000240.txt',\n '00000241.txt',\n '00000242.txt',\n '00000243.txt',\n '00000244.txt',\n '00000245.txt',\n '00000246.txt',\n '00000247.txt',\n '00000248.txt',\n '00000249.txt',\n '00000250.txt',\n '00000251.txt',\n '00000252.txt',\n '00000253.txt',\n '00000254.txt',\n '00000255.txt',\n '00000256.txt',\n '00000257.txt',\n '00000258.txt',\n '00000259.txt',\n '00000260.txt',\n '00000261.txt',\n '00000262.txt',\n '00000263.txt',\n '00000264.txt',\n '00000265.txt',\n '00000266.txt',\n '00000267.txt',\n '00000268.txt',\n '00000269.txt',\n '00000270.txt',\n '00000271.txt',\n '00000272.txt',\n '00000273.txt',\n '00000274.txt',\n '00000275.txt',\n '00000276.txt',\n '00000277.txt',\n '00000278.txt',\n '00000279.txt',\n '00000280.txt',\n '00000281.txt',\n '00000282.txt',\n '00000283.txt',\n '00000284.txt',\n '00000285.txt',\n '00000286.txt',\n '00000287.txt',\n '00000288.txt',\n '00000289.txt',\n '00000290.txt',\n '00000291.txt',\n '00000292.txt',\n '00000293.txt',\n '00000294.txt',\n '00000295.txt',\n '00000296.txt',\n '00000297.txt',\n '00000298.txt',\n '00000299.txt',\n '00000300.txt',\n '00000301.txt',\n '00000302.txt',\n '00000303.txt',\n '00000304.txt',\n '00000305.txt',\n '00000306.txt',\n '00000307.txt',\n '00000308.txt',\n '00000309.txt',\n '00000310.txt',\n '00000311.txt',\n '00000312.txt',\n '00000313.txt',\n '00000314.txt',\n '00000315.txt',\n '00000316.txt',\n '00000317.txt',\n '00000318.txt',\n '00000319.txt',\n '00000320.txt',\n '00000321.txt',\n '00000322.txt',\n '00000323.txt',\n '00000324.txt',\n '00000325.txt',\n '00000326.txt',\n '00000327.txt',\n '00000328.txt',\n '00000329.txt',\n '00000330.txt',\n '00000331.txt',\n '00000332.txt',\n '00000333.txt',\n '00000334.txt',\n '00000335.txt',\n '00000336.txt',\n '00000337.txt',\n '00000338.txt',\n '00000339.txt',\n '00000340.txt',\n '00000341.txt',\n '00000342.txt',\n '00000343.txt',\n '00000344.txt',\n '00000345.txt',\n '00000346.txt',\n '00000347.txt',\n '00000348.txt',\n '00000349.txt',\n '00000350.txt',\n '00000351.txt',\n '00000352.txt',\n '00000353.txt',\n '00000354.txt',\n '00000355.txt',\n '00000356.txt',\n '00000357.txt',\n '00000358.txt',\n '00000359.txt',\n '00000360.txt',\n '00000361.txt',\n '00000362.txt',\n '00000363.txt',\n '00000364.txt',\n '00000365.txt',\n '00000366.txt',\n '00000367.txt',\n '00000368.txt',\n '00000369.txt',\n '00000370.txt',\n '00000371.txt',\n '00000372.txt',\n '00000373.txt',\n '00000374.txt',\n '00000375.txt',\n '00000376.txt',\n '00000377.txt',\n '00000378.txt',\n '00000379.txt',\n '00000380.txt',\n '00000381.txt',\n '00000382.txt',\n '00000383.txt',\n '00000384.txt',\n '00000385.txt',\n '00000386.txt',\n '00000387.txt',\n '00000388.txt',\n '00000389.txt',\n '00000390.txt',\n '00000391.txt',\n '00000392.txt',\n '00000393.txt',\n '00000394.txt',\n '00000395.txt',\n '00000396.txt',\n '00000397.txt',\n '00000398.txt',\n '00000399.txt',\n '00000400.txt',\n '00000401.txt',\n '00000402.txt',\n '00000403.txt',\n '00000404.txt',\n '00000405.txt',\n '00000406.txt',\n '00000407.txt',\n '00000408.txt',\n '00000409.txt',\n '00000410.txt',\n '00000411.txt',\n '00000412.txt',\n '00000413.txt',\n '00000414.txt',\n '00000415.txt',\n '00000416.txt',\n '00000417.txt',\n '00000418.txt',\n '00000419.txt',\n '00000420.txt',\n '00000421.txt',\n '00000422.txt',\n '00000423.txt',\n '00000426.txt',\n '00000427.txt',\n '00000428.txt',\n '00000429.txt',\n '00000430.txt',\n '00000431.txt',\n '00000432.txt',\n '00000433.txt',\n '00000434.txt',\n '00000435.txt',\n '00000436.txt',\n '00000437.txt',\n '00000438.txt',\n '00000439.txt',\n '00000440.txt',\n '00000441.txt',\n '00000442.txt',\n '00000443.txt',\n '00000444.txt',\n '00000445.txt',\n '00000446.txt',\n '00000447.txt',\n '00000448.txt',\n '00000449.txt',\n '00000450.txt',\n '00000451.txt',\n '00000452.txt',\n '00000453.txt',\n '00000454.txt',\n '00000455.txt',\n '00000456.txt',\n '00000457.txt',\n '00000458.txt',\n '00000459.txt',\n '00000460.txt',\n '00000461.txt',\n '00000462.txt',\n '00000463.txt',\n '00000464.txt',\n '00000465.txt',\n '00000466.txt',\n '00000467.txt',\n '00000468.txt',\n '00000469.txt',\n '00000471.txt',\n '00000472.txt',\n '00000473.txt',\n '00000474.txt',\n '00000475.txt',\n '00000476.txt',\n '00000477.txt',\n '00000478.txt',\n '00000479.txt',\n '00000480.txt',\n '00000481.txt',\n '00000482.txt',\n '00000483.txt',\n '00000484.txt',\n '00000485.txt',\n '00000486.txt',\n '00000487.txt',\n '00000488.txt',\n '00000489.txt',\n '00000490.txt',\n '00000491.txt',\n '00000492.txt',\n '00000493.txt',\n '00000494.txt',\n '00000495.txt',\n '00000496.txt',\n '00000497.txt',\n '00000498.txt',\n '00000499.txt',\n '00000500.txt',\n '00000501.txt',\n '00000502.txt',\n '00000503.txt',\n '00000504.txt',\n '00000505.txt',\n '00000506.txt',\n '00000507.txt',\n '00000508.txt',\n '00000509.txt',\n '00000510.txt',\n '00000511.txt',\n '00000512.txt',\n '00000513.txt',\n '00000514.txt',\n '00000515.txt',\n '00000516.txt',\n '00000517.txt',\n '00000518.txt',\n '00000519.txt',\n '00000520.txt',\n '00000521.txt',\n '00000523.txt',\n '00000524.txt',\n '00000525.txt',\n '00000526.txt',\n '00000527.txt',\n '00000528.txt',\n '00000529.txt',\n '00000530.txt',\n '00000531.txt',\n '00000532.txt',\n '00000533.txt',\n '00000534.txt',\n '00000535.txt',\n '00000536.txt',\n '00000537.txt',\n '00000538.txt',\n '00000539.txt',\n '00000540.txt',\n '00000541.txt',\n '00000542.txt',\n '00000543.txt',\n '00000544.txt',\n '00000545.txt',\n '00000546.txt',\n '00000547.txt',\n '00000548.txt',\n '00000549.txt',\n '00000550.txt',\n '00000551.txt',\n '00000552.txt',\n '00000553.txt',\n '00000554.txt',\n '00000555.txt',\n '00000556.txt',\n '00000557.txt',\n '00000558.txt',\n '00000559.txt',\n '00000561.txt',\n '00000562.txt',\n '00000563.txt',\n '00000564.txt',\n '00000565.txt',\n '00000566.txt',\n '00000567.txt',\n '00000568.txt',\n '00000569.txt',\n '00000570.txt',\n '00000571.txt',\n '00000572.txt',\n '00000573.txt',\n '00000574.txt',\n '00000575.txt',\n '00000576.txt',\n '00000577.txt',\n '00000578.txt',\n '00000579.txt',\n '00000580.txt',\n '00000581.txt',\n '00000582.txt',\n '00000583.txt',\n '00000584.txt',\n '00000585.txt',\n '00000586.txt',\n '00000587.txt',\n '00000588.txt',\n '00000589.txt',\n '00000590.txt',\n '00000591.txt',\n '00000592.txt',\n '00000593.txt',\n '00000594.txt',\n '00000595.txt',\n '00000596.txt',\n '00000597.txt',\n '00000598.txt',\n '00000599.txt',\n '00000601.txt',\n '00000602.txt',\n '00000603.txt',\n '00000604.txt',\n '00000605.txt',\n '00000607.txt',\n '00000608.txt',\n '00000609.txt',\n '00000610.txt',\n '00000611.txt',\n '00000612.txt',\n '00000613.txt',\n '00000614.txt',\n '00000615.txt',\n '00000616.txt',\n '00000617.txt',\n '00000618.txt',\n '00000619.txt',\n '00000620.txt',\n '00000621.txt',\n '00000622.txt',\n '00000623.txt',\n '00000624.txt',\n '00000625.txt',\n '00000626.txt',\n '00000627.txt',\n '00000628.txt',\n '00000629.txt',\n '00000630.txt',\n '00000631.txt',\n '00000632.txt',\n '00000633.txt',\n '00000634.txt',\n '00000635.txt',\n '00000636.txt',\n '00000637.txt',\n '00000638.txt',\n '00000639.txt',\n '00000640.txt',\n '00000641.txt',\n '00000642.txt',\n '00000643.txt',\n '00000644.txt',\n '00000645.txt',\n '00000646.txt',\n '00000647.txt',\n '00000648.txt',\n '00000649.txt',\n '00000650.txt',\n '00000651.txt',\n '00000652.txt',\n '00000653.txt',\n '00000654.txt',\n '00000655.txt',\n '00000656.txt',\n '00000657.txt',\n '00000658.txt',\n '00000659.txt',\n '00000660.txt',\n '00000661.txt',\n '00000662.txt',\n '00000663.txt',\n '00000664.txt',\n '00000665.txt',\n '00000666.txt',\n '00000667.txt',\n '00000668.txt',\n '00000669.txt',\n '00000670.txt',\n '00000671.txt',\n '00000672.txt',\n '00000673.txt',\n '00000674.txt',\n '00000675.txt',\n '00000676.txt',\n '00000677.txt',\n '00000678.txt',\n '00000679.txt',\n '00000680.txt',\n '00000681.txt',\n '00000682.txt',\n '00000683.txt',\n '00000684.txt',\n '00000685.txt',\n '00000686.txt',\n '00000687.txt',\n '00000688.txt',\n '00000689.txt',\n '00000690.txt',\n '00000691.txt',\n '00000692.txt',\n '00000693.txt',\n '00000694.txt',\n '00000695.txt',\n '00000696.txt',\n '00000697.txt',\n '00000698.txt',\n '00000699.txt',\n '00000700.txt',\n '00000701.txt',\n '00000702.txt',\n '00000703.txt',\n '00000704.txt',\n '00000705.txt',\n '00000706.txt',\n '00000707.txt',\n '00000708.txt',\n '00000709.txt',\n '00000710.txt',\n '00000711.txt',\n '00000712.txt',\n '00000713.txt',\n '00000714.txt',\n '00000715.txt',\n '00000716.txt',\n '00000718.txt',\n '00000719.txt',\n '00000720.txt',\n '00000721.txt',\n '00000722.txt',\n '00000723.txt',\n '00000724.txt',\n '00000725.txt',\n '00000726.txt',\n '00000727.txt',\n '00000728.txt',\n '00000729.txt',\n '00000730.txt',\n '00000731.txt',\n '00000732.txt',\n '00000733.txt',\n '00000734.txt',\n '00000735.txt',\n '00000736.txt',\n '00000737.txt',\n '00000738.txt',\n '00000739.txt',\n '00000740.txt',\n '00000741.txt',\n '00000742.txt',\n '00000743.txt',\n '00000744.txt',\n '00000745.txt',\n '00000746.txt',\n '00000747.txt',\n '00000748.txt',\n '00000749.txt',\n '00000750.txt',\n '00000751.txt',\n '00000752.txt',\n '00000753.txt',\n '00000754.txt',\n '00000755.txt',\n '00000756.txt',\n '00000757.txt',\n '00000758.txt',\n '00000759.txt',\n '00000760.txt',\n '00000761.txt',\n '00000762.txt',\n '00000763.txt',\n '00000764.txt',\n '00000765.txt',\n '00000766.txt',\n '00000767.txt',\n '00000768.txt',\n '00000769.txt',\n '00000770.txt',\n '00000771.txt',\n '00000772.txt',\n '00000773.txt',\n '00000774.txt',\n '00000775.txt',\n '00000776.txt',\n '00000777.txt',\n '00000778.txt',\n '00000779.txt',\n '00000780.txt',\n '00000781.txt',\n '00000782.txt',\n '00000783.txt',\n '00000784.txt',\n '00000785.txt',\n '00000786.txt',\n '00000787.txt',\n '00000788.txt',\n '00000789.txt',\n '00000790.txt',\n '00000791.txt',\n '00000792.txt',\n '00000793.txt',\n '00000794.txt',\n '00000795.txt',\n '00000796.txt',\n '00000797.txt',\n '00000798.txt',\n '00000799.txt',\n '00000800.txt',\n '00000801.txt',\n '00000802.txt',\n '00000803.txt',\n '00000804.txt',\n '00000805.txt',\n '00000806.txt',\n '00000807.txt',\n '00000808.txt',\n '00000809.txt',\n '00000810.txt',\n '00000811.txt',\n '00000812.txt',\n '00000813.txt',\n '00000814.txt',\n '00000815.txt',\n '00000816.txt',\n '00000817.txt',\n '00000818.txt',\n '00000819.txt',\n '00000820.txt',\n '00000821.txt',\n '00000822.txt',\n '00000823.txt',\n '00000824.txt',\n '00000825.txt',\n '00000826.txt',\n '00000827.txt',\n '00000828.txt',\n '00000829.txt',\n '00000830.txt',\n '00000831.txt',\n '00000832.txt',\n '00000833.txt',\n '00000834.txt',\n '00000835.txt',\n '00000836.txt',\n '00000837.txt',\n '00000838.txt',\n '00000839.txt',\n '00000840.txt',\n '00000841.txt',\n '00000842.txt',\n '00000843.txt',\n '00000844.txt',\n '00000845.txt',\n '00000846.txt',\n '00000847.txt',\n '00000848.txt',\n '00000849.txt',\n '00000850.txt',\n '00000851.txt',\n '00000852.txt',\n '00000853.txt',\n '00000854.txt',\n '00000855.txt',\n '00000856.txt',\n '00000857.txt',\n '00000858.txt',\n '00000859.txt',\n '00000860.txt',\n '00000861.txt',\n '00000862.txt',\n '00000863.txt',\n '00000864.txt',\n '00000865.txt',\n '00000866.txt',\n '00000867.txt',\n '00000868.txt',\n '00000869.txt',\n '00000870.txt',\n '00000871.txt',\n '00000872.txt',\n '00000873.txt',\n '00000874.txt',\n '00000875.txt',\n '00000876.txt',\n '00000877.txt',\n '00000879.txt',\n '00000880.txt',\n '00000881.txt',\n '00000882.txt',\n '00000883.txt',\n '00000884.txt',\n '00000885.txt',\n '00000886.txt',\n '00000888.txt',\n '00000889.txt',\n '00000890.txt',\n '00000891.txt',\n '00000892.txt',\n '00000893.txt',\n '00000894.txt',\n '00000895.txt',\n '00000896.txt',\n '00000897.txt',\n '00000898.txt',\n '00000899.txt',\n '00000900.txt',\n '00000901.txt',\n '00000902.txt',\n '00000903.txt',\n '00000904.txt',\n '00000905.txt',\n '00000906.txt',\n '00000907.txt',\n '00000908.txt',\n '00000909.txt',\n '00000910.txt',\n '00000911.txt',\n '00000912.txt',\n '00000913.txt',\n '00000914.txt',\n '00000915.txt',\n '00000916.txt',\n '00000917.txt',\n '00000918.txt',\n '00000919.txt',\n '00000920.txt',\n '00000921.txt',\n '00000922.txt',\n '00000923.txt',\n '00000924.txt',\n '00000925.txt',\n '00000926.txt',\n '00000927.txt',\n '00000928.txt',\n '00000929.txt',\n '00000930.txt',\n '00000931.txt',\n '00000932.txt',\n '00000933.txt',\n '00000934.txt',\n '00000935.txt',\n '00000936.txt',\n '00000937.txt',\n '00000938.txt',\n '00000939.txt',\n '00000940.txt',\n '00000941.txt',\n '00000942.txt',\n '00000943.txt',\n '00000944.txt',\n '00000945.txt',\n '00000946.txt',\n '00000947.txt',\n '00000948.txt',\n '00000949.txt',\n '00000950.txt',\n '00000951.txt',\n '00000952.txt',\n '00000953.txt',\n '00000954.txt',\n '00000955.txt',\n '00000956.txt',\n '00000957.txt',\n '00000958.txt',\n '00000959.txt',\n '00000960.txt',\n '00000961.txt',\n '00000962.txt',\n '00000963.txt',\n '00000964.txt',\n '00000965.txt',\n '00000966.txt',\n '00000967.txt',\n '00000968.txt',\n '00000969.txt',\n '00000970.txt',\n '00000971.txt',\n '00000972.txt',\n '00000973.txt',\n '00000974.txt',\n '00000975.txt',\n '00000976.txt',\n '00000977.txt',\n '00000978.txt',\n '00000979.txt',\n '00000980.txt',\n '00000981.txt',\n '00000982.txt',\n '00000983.txt',\n '00000984.txt',\n '00000985.txt',\n '00000986.txt',\n '00000987.txt',\n '00000988.txt',\n '00000989.txt',\n '00000990.txt',\n '00000991.txt',\n '00000992.txt',\n '00000993.txt',\n '00000994.txt',\n '00000995.txt',\n '00000996.txt',\n '00000997.txt',\n '00000998.txt',\n '00000999.txt',\n '00001000.txt',\n '00001001.txt',\n '00001002.txt',\n '00001003.txt',\n '00001004.txt',\n '00001005.txt',\n '00001006.txt',\n '00001007.txt',\n '00001008.txt',\n '00001009.txt',\n '00001010.txt',\n '00001011.txt',\n '00001012.txt',\n '00001013.txt',\n '00001014.txt',\n '00001015.txt',\n '00001016.txt',\n ...]"
     },
     "metadata": {},
     "output_type": "execute_result",
     "execution_count": 12
    }
   ],
   "source": [
    "annotation_filepath = '../../data/raw/vehicules/Annotations1024/'\n",
    "image_file_path = '../../data/raw/vehicules/Vehicules1024'"
   ],
   "metadata": {
    "collapsed": false,
    "pycharm": {
     "name": "#%%\n",
     "is_executing": false
    }
   }
  },
  {
   "cell_type": "code",
   "execution_count": 60,
   "outputs": [],
   "source": [
    "images = os.listdir(image_file_path)\n",
    "images = [img.split(\"_\")[0] for img in images if img.split(\"_\")[1] == 'co.png']"
   ],
   "metadata": {
    "collapsed": false,
    "pycharm": {
     "name": "#%%\n",
     "is_executing": false
    }
   }
  },
  {
   "cell_type": "markdown",
   "source": [
    "Check for images with annotations and copy both the image and annotation file into cascade"
   ],
   "metadata": {
    "collapsed": false,
    "pycharm": {
     "name": "#%% md\n",
     "is_executing": false
    }
   }
  },
  {
   "cell_type": "code",
   "execution_count": null,
   "outputs": [],
   "source": [
    "files_with_pair = []\n",
    "for file_name in os.listdir(annotation_filepath):\n",
    "    file_num = file_name.split(\".\")[0]\n",
    "    if file_num in images:\n",
    "        files_with_pair.append(file_num)\n",
    "\n",
    "imgs_with_pair = ['_'.join([x, 'co.png']) for x in files_with_pair]\n",
    "imgs_with_pair = ['/'.join([image_file_path, x]) for x in imgs_with_pair]\n",
    "\n",
    "for file in imgs_with_pair:\n",
    "    shutil.copy2(file, '../../data/interim/cascades')\n",
    "\n",
    "ann_with_pairs = ['.'.join([x, 'txt']) for x in files_with_pair]\n",
    "ann_with_pairs = ['/'.join([annotation_filepath, x]) for x in ann_with_pairs]\n",
    "for file in ann_with_pairs:\n",
    "    shutil.copy2(file, '../../data/interim/cascades' )"
   ],
   "metadata": {
    "collapsed": false,
    "pycharm": {
     "name": "#%%\n"
    }
   }
  },
  {
   "cell_type": "markdown",
   "source": [
    "Load images from cascade folder"
   ],
   "metadata": {
    "collapsed": false,
    "pycharm": {
     "name": "#%% md\n",
     "is_executing": false
    }
   }
  },
  {
   "cell_type": "code",
   "execution_count": 19,
   "outputs": [],
   "source": [
    "BND_BOX_SIZE = (256, 256)\n",
    "DATASET_PATH = '../../data/interim/cascades/'"
   ],
   "metadata": {
    "collapsed": false,
    "pycharm": {
     "name": "#%%\n",
     "is_executing": false
    }
   }
  },
  {
   "cell_type": "code",
   "execution_count": 34,
   "outputs": [
    {
     "name": "stderr",
     "text": [
      "100%|██████████| 596/596 [00:19<00:00, 30.22it/s]\n"
     ],
     "output_type": "stream"
    }
   ],
   "source": [
    "dataset_loader = VehiculesDatasetLoader(\n",
    "    image_loader=VehiculesImageLoader()\n",
    ")\n",
    "\n",
    "\n",
    "images = dataset_loader.load_dataset(\n",
    "    input_folder_filepath=DATASET_PATH,\n",
    "    images_files_types=('png',),\n",
    "    annotations_files_types=('txt',),\n",
    "    verbose=True\n",
    ")"
   ],
   "metadata": {
    "collapsed": false,
    "pycharm": {
     "name": "#%%\n",
     "is_executing": false
    }
   }
  },
  {
   "cell_type": "markdown",
   "source": [
    "Create pos.txt file"
   ],
   "metadata": {
    "collapsed": false,
    "pycharm": {
     "name": "#%% md\n",
     "is_executing": false
    }
   }
  },
  {
   "cell_type": "code",
   "execution_count": 44,
   "outputs": [],
   "source": [
    "def read_images(input_images, output_file):\n",
    "    result = []\n",
    "    for image in input_images:\n",
    "        line = []\n",
    "        input_dir = image.image_dir[19:]\n",
    "        num_obj = str(len(image.bnd_boxes))\n",
    "        line.append(input_dir)\n",
    "        line.append(num_obj)\n",
    "        for bnd in image.bnd_boxes:\n",
    "            x = bnd[0]\n",
    "            y = bnd[1]\n",
    "            w = bnd[2] - x\n",
    "            h = bnd[7] - y\n",
    "           \n",
    "            if x + w >1024:\n",
    "                w = 1024 - x\n",
    "            if y + h > 1024:\n",
    "                h = 1024 - h\n",
    "            box = [x,y,w,h]\n",
    "            box = [str(x) for x in box]\n",
    "            line.extend(box)\n",
    "        str_line = ' '.join(line)\n",
    "        result.append(str_line)\n",
    "        # print(str_line)\n",
    "        with open(output_file, \"w\") as f:\n",
    "            for line in result:\n",
    "                f.write(line)\n",
    "                f.write('\\n')\n",
    "        "
   ],
   "metadata": {
    "collapsed": false,
    "pycharm": {
     "name": "#%%\n",
     "is_executing": false
    }
   }
  },
  {
   "cell_type": "code",
   "execution_count": 45,
   "outputs": [],
   "source": [
    "read_images(images, \"../../data/interim/pos.txt\")"
   ],
   "metadata": {
    "collapsed": false,
    "pycharm": {
     "name": "#%%\n",
     "is_executing": false
    }
   }
  },
  {
   "cell_type": "markdown",
   "source": [
    "Create negative samples "
   ],
   "metadata": {
    "collapsed": false,
    "pycharm": {
     "name": "#%% md\n",
     "is_executing": false
    }
   }
  },
  {
   "cell_type": "code",
   "execution_count": 36,
   "outputs": [],
   "source": [
    "output_dir = \"../../data/interim/negative/\"\n",
    "negative_imgs = []\n",
    "for id, image in enumerate(images):\n",
    "    output_path = ''.join([output_dir, 'neg', str(id), '.png'])\n",
    "    negative_imgs.append(output_path)\n",
    "    r_image = cv2.cvtColor(image.get_random_box(400, 400), cv2.COLOR_BGR2RGB)\n",
    "\n",
    "    cv2.imwrite(output_path, r_image)"
   ],
   "metadata": {
    "collapsed": false,
    "pycharm": {
     "name": "#%%\n",
     "is_executing": false
    }
   }
  },
  {
   "cell_type": "markdown",
   "source": [
    "Create neg.bg file"
   ],
   "metadata": {
    "collapsed": false,
    "pycharm": {
     "name": "#%% md\n",
     "is_executing": false
    }
   }
  },
  {
   "cell_type": "code",
   "execution_count": 47,
   "outputs": [],
   "source": [
    "with open('../../data/interim/neg.txt', 'w') as text_file:\n",
    "    for filename in os.listdir('../../data/interim/negative'):\n",
    "        text_file.write('negative/'+ filename + '\\n')"
   ],
   "metadata": {
    "collapsed": false,
    "pycharm": {
     "name": "#%%\n",
     "is_executing": false
    }
   }
  },
  {
   "cell_type": "markdown",
   "source": [
    "Copy positive samples into positive"
   ],
   "metadata": {
    "collapsed": false,
    "pycharm": {
     "name": "#%% md\n",
     "is_executing": false
    }
   }
  },
  {
   "cell_type": "code",
   "execution_count": 94,
   "outputs": [],
   "source": [
    "for file in imgs_with_pair:\n",
    "    shutil.copy2(file, '../../data/interim/positive')"
   ],
   "metadata": {
    "collapsed": false,
    "pycharm": {
     "name": "#%%\n",
     "is_executing": false
    }
   }
  },
  {
   "cell_type": "code",
   "execution_count": null,
   "outputs": [],
   "source": [
    "cascade = cv2.CascadeClassifier('../../data/interim/cascade_train/cascade.xml')"
   ],
   "metadata": {
    "collapsed": false,
    "pycharm": {
     "name": "#%%\n",
     "is_executing": false
    }
   }
  },
  {
   "cell_type": "code",
   "execution_count": null,
   "outputs": [],
   "source": [
    "file = \"../../data/interim/cascades/00000085_co.png\"\n",
    "img = cv2.imread(file)\n",
    "img = cv2.cvtColor(img, cv2.COLOR_BGR2RGB)"
   ],
   "metadata": {
    "collapsed": false,
    "pycharm": {
     "name": "#%%\n",
     "is_executing": false
    }
   }
  },
  {
   "cell_type": "code",
   "execution_count": 11,
   "outputs": [
    {
     "traceback": [
      "\u001b[1;31m---------------------------------------------------------------------------\u001b[0m",
      "\u001b[1;31mKeyboardInterrupt\u001b[0m                         Traceback (most recent call last)",
      "\u001b[1;32m<ipython-input-11-4467dcc87035>\u001b[0m in \u001b[0;36m<module>\u001b[1;34m\u001b[0m\n\u001b[1;32m----> 1\u001b[1;33m \u001b[0mrectangles\u001b[0m \u001b[1;33m=\u001b[0m \u001b[0mcascade\u001b[0m\u001b[1;33m.\u001b[0m\u001b[0mdetectMultiScale\u001b[0m\u001b[1;33m(\u001b[0m\u001b[0mimg\u001b[0m\u001b[1;33m)\u001b[0m\u001b[1;33m\u001b[0m\u001b[1;33m\u001b[0m\u001b[0m\n\u001b[0m",
      "\u001b[1;31mKeyboardInterrupt\u001b[0m: "
     ],
     "ename": "KeyboardInterrupt",
     "evalue": "",
     "output_type": "error"
    }
   ],
   "source": [
    "rectangles = cascade.detectMultiScale(img)"
   ],
   "metadata": {
    "collapsed": false,
    "pycharm": {
     "name": "#%%\n",
     "is_executing": false
    }
   }
  },
  {
   "cell_type": "code",
   "execution_count": null,
   "outputs": [],
   "source": [],
   "metadata": {
    "collapsed": false,
    "pycharm": {
     "name": "#%%\n",
     "is_executing": true
    }
   }
  },
  {
   "cell_type": "code",
   "execution_count": 9,
   "outputs": [
    {
     "traceback": [
      "\u001b[1;31m---------------------------------------------------------------------------\u001b[0m",
      "\u001b[1;31mTypeError\u001b[0m                                 Traceback (most recent call last)",
      "\u001b[1;32m<ipython-input-9-df7dcef8eac2>\u001b[0m in \u001b[0;36m<module>\u001b[1;34m\u001b[0m\n\u001b[1;32m----> 1\u001b[1;33m \u001b[0mcv2\u001b[0m\u001b[1;33m.\u001b[0m\u001b[0mimshow\u001b[0m\u001b[1;33m(\u001b[0m\u001b[1;34m'img'\u001b[0m\u001b[1;33m,\u001b[0m\u001b[0mfile\u001b[0m\u001b[1;33m)\u001b[0m\u001b[1;33m\u001b[0m\u001b[1;33m\u001b[0m\u001b[0m\n\u001b[0m\u001b[0;32m      2\u001b[0m \u001b[1;33m\u001b[0m\u001b[0m\n",
      "\u001b[1;31mTypeError\u001b[0m: Expected Ptr<cv::UMat> for argument 'mat'"
     ],
     "ename": "TypeError",
     "evalue": "Expected Ptr<cv::UMat> for argument 'mat'",
     "output_type": "error"
    }
   ],
   "source": [],
   "metadata": {
    "collapsed": false,
    "pycharm": {
     "name": "#%%\n",
     "is_executing": false
    }
   }
  },
  {
   "cell_type": "code",
   "execution_count": null,
   "outputs": [],
   "source": [
    "\n"
   ],
   "metadata": {
    "collapsed": false,
    "pycharm": {
     "name": "#%%\n"
    }
   }
  }
 ],
 "metadata": {
  "kernelspec": {
   "display_name": "Python 3",
   "language": "python",
   "name": "python3"
  },
  "language_info": {
   "codemirror_mode": {
    "name": "ipython",
    "version": 2
   },
   "file_extension": ".py",
   "mimetype": "text/x-python",
   "name": "python",
   "nbconvert_exporter": "python",
   "pygments_lexer": "ipython2",
   "version": "2.7.6"
  },
  "pycharm": {
   "stem_cell": {
    "cell_type": "raw",
    "source": [],
    "metadata": {
     "collapsed": false
    }
   }
  }
 },
 "nbformat": 4,
 "nbformat_minor": 0
}