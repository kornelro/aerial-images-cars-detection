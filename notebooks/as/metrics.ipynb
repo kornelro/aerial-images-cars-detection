{
 "cells": [
  {
   "cell_type": "code",
   "execution_count": 4,
   "metadata": {
    "collapsed": true,
    "pycharm": {
     "is_executing": false
    }
   },
   "outputs": [],
   "source": [
    "from podm.podm import *\n"
   ]
  },
  {
   "cell_type": "code",
   "execution_count": null,
   "outputs": [],
   "source": [
    "def convert_bbox_to_xywh(bbox):\n",
    "    x1, y1, x2, y2, x3, y3, x4, y4 = bbox\n",
    "    x = x1\n",
    "    y = y1\n",
    "    w = x2 - x1\n",
    "    h = x3 - x2\n",
    "    return x, y, w, h"
   ],
   "metadata": {
    "collapsed": false,
    "pycharm": {
     "name": "#%%\n"
    }
   }
  },
  {
   "cell_type": "code",
   "execution_count": 7,
   "outputs": [],
   "source": [
    "def get_BoundingBox_list(bbox_list, image):\n",
    "    results = []\n",
    "    for bbox in bbox_list:\n",
    "        x1, y1, x2, y2, x3, y3, x4, y4 = bbox\n",
    "        box = BoundingBox(image_name=image.image_dir, xtl=x1, ytl=y1, xbr=x4, ybr=y4, label=\"car\")\n",
    "        results.append(box)\n",
    "    return results\n",
    "        \n",
    "    "
   ],
   "metadata": {
    "collapsed": false,
    "pycharm": {
     "name": "#%%\n",
     "is_executing": false
    }
   }
  },
  {
   "cell_type": "code",
   "execution_count": null,
   "outputs": [],
   "source": [
    "image = images[0]\n",
    "\n",
    "gold_standard = get_BoundingBox_list(image.bnd_boxes, image)\n",
    "predicted = get_BoundingBox_list(predicted, image)\n"
   ],
   "metadata": {
    "collapsed": false,
    "pycharm": {
     "name": "#%%\n"
    }
   }
  },
  {
   "cell_type": "code",
   "execution_count": null,
   "outputs": [],
   "source": [
    "results = get_pascal_voc_metrics(gold_standard, predicted, iou_threshold=0.5)\n"
   ],
   "metadata": {
    "collapsed": false,
    "pycharm": {
     "name": "#%%\n"
    }
   }
  }
 ],
 "metadata": {
  "kernelspec": {
   "display_name": "Python 3",
   "language": "python",
   "name": "python3"
  },
  "language_info": {
   "codemirror_mode": {
    "name": "ipython",
    "version": 2
   },
   "file_extension": ".py",
   "mimetype": "text/x-python",
   "name": "python",
   "nbconvert_exporter": "python",
   "pygments_lexer": "ipython2",
   "version": "2.7.6"
  },
  "pycharm": {
   "stem_cell": {
    "cell_type": "raw",
    "source": [],
    "metadata": {
     "collapsed": false
    }
   }
  }
 },
 "nbformat": 4,
 "nbformat_minor": 0
}