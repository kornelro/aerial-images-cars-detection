{
 "cells": [
  {
   "cell_type": "code",
   "execution_count": null,
   "metadata": {
    "collapsed": true,
    "pycharm": {
     "is_executing": false
    }
   },
   "outputs": [],
   "source": [
    "import matplotlib.pyplot as plt\n",
    "import cv2\n",
    "import numpy as np"
   ]
  },
  {
   "cell_type": "code",
   "execution_count": null,
   "outputs": [],
   "source": [
    "image_path = '../../data/raw/vehicules/Vehicules1024/00000006_co.png'\n",
    "image = cv2.imread(image_path)\n",
    "plt.imshow(image)"
   ],
   "metadata": {
    "collapsed": false,
    "pycharm": {
     "name": "#%%\n",
     "is_executing": false
    }
   }
  },
  {
   "cell_type": "code",
   "execution_count": 68,
   "outputs": [
    {
     "name": "stdout",
     "text": [
      "['20.342700', '732.218553', '2.663762', '1', '1', '0', '31', '38', '10', '3', '720', '730', '745', '734']\n",
      "['10.840562', '295.124714', '1.951303', '1', '1', '0', '10', '22', '9', '1', '278', '285', '312', '306']\n",
      "['24.534819', '332.760633', '1.762844', '1', '1', '0', '22', '34', '30', '12', '314', '316', '353', '349']\n",
      "['88.441355', '349.808586', '0.668289', '1', '1', '0', '78', '106', '99', '70', '334', '356', '366', '343']\n",
      "['91.886124', '178.636005', '3.013269', '1', '1', '5', '76', '106', '109', '77', '174', '170', '183', '187']\n",
      "['127.099929', '181.803384', '-1.346085', '5', '1', '0', '121', '141', '135', '111', '163', '166', '201', '198']\n",
      "['152.811596', '187.392877', '1.354711', '1', '1', '0', '141', '156', '164', '151', '167', '167', '207', '209']\n"
     ],
     "output_type": "stream"
    }
   ],
   "source": [
    "annotation_file = \"../../data/raw/vehicules/Annotations1024/00000006.txt\"\n",
    "annotations = []\n",
    "\n",
    "with open(annotation_file, 'r') as f:\n",
    "        annotation_file = f.read()\n",
    "\n",
    "for ann_row in annotation_file.split('\\n'):\n",
    "    # print(ann_row)\n",
    "    # ann_row = ann_row.split(' ')\n",
    "    if len(ann_row) > 0:\n",
    "        ann_row = ann_row.split(' ')\n",
    "        print(ann_row)\n",
    "        \n",
    "        rotation = ann_row[2]\n",
    "        vehicle_class = ann_row[3]\n",
    "        is_whole = ann_row[4]\n",
    "        is_occluded = ann_row[5]\n",
    "        \n",
    "        x_center = float(ann_row[0])\n",
    "        y_center = float(ann_row[1])\n",
    "        \n",
    "        x_1, y_1 = int(ann_row[6]), int(ann_row[6+4])\n",
    "        x_2, y_2 = int(ann_row[7]), int(ann_row[7+4])\n",
    "        x_3, y_3 = int(ann_row[8]), int(ann_row[8+4])\n",
    "        x_4, y_4 = int(ann_row[9]), int(ann_row[9+4])\n",
    "        \n",
    "        \n",
    "        \n",
    "\n",
    "        annotations.append([[x_1, y_1],[x_2, y_2], [x_3, y_3], [x_4, y_4] ])\n",
    "        \n",
    "        boxes = np.array([[[x_1, y_1],[x_2, y_2], [x_3, y_3], [x_4, y_4] ]], np.int32)\n",
    "        # cv2.polylines(image, [boxes], True, (0,255,0), thickness=3)\n",
    "\n",
    "    # if vehicle_class == '2' and is_whole == '1' and is_occluded == '0':\n",
    "        "
   ],
   "metadata": {
    "collapsed": false,
    "pycharm": {
     "name": "#%%\n",
     "is_executing": false
    }
   }
  },
  {
   "cell_type": "code",
   "execution_count": null,
   "outputs": [],
   "source": [
    "def distSq(p, q): \n",
    "    return (p[0] - q[0]) * (p[0] - q[0]) + (p[1] - q[1]) * (p[1] - q[1]) \n",
    "\n",
    "def isSquare(p1, p2, p3, p4): \n",
    "  \n",
    "    d2 = distSq(p1, p2) # from p1 to p2 \n",
    "    d3 = distSq(p1, p3) # from p1 to p3 \n",
    "    d4 = distSq(p1, p4) # from p1 to p4 \n",
    "    if d2 == 0 or d3 == 0 or d4 == 0:     \n",
    "        return False\n",
    "    if d2 == d3 and 2 * d2 == d4 and 2 * distSq(p2, p4) == distSq(p2, p3): \n",
    "        return True\n",
    "    if d3 == d4 and 2 * d3 == d2 and  2 * distSq(p3, p2) == distSq(p3, p4): \n",
    "        return True\n",
    "    if d2 == d4 and 2 * d2 == d3 and 2 * distSq(p2, p3) == distSq(p2, p4): \n",
    "        return True\n",
    "    return False\n",
    "\n",
    "def check_rectangle(polygon):\n",
    "    p1 = polygon[0]\n",
    "    p2 = polygon[1]\n",
    "    p3 = polygon[2]\n",
    "    p4 = polygon[3]\n",
    "    return isSquare(p1, p2, p3, p4)"
   ],
   "metadata": {
    "collapsed": false,
    "pycharm": {
     "name": "#%%\n",
     "is_executing": false
    }
   }
  },
  {
   "cell_type": "code",
   "execution_count": null,
   "outputs": [],
   "source": [
    "polygon_to_check = [[0,0], [10, 0], [10, 10], [0, 10]]\n",
    "check_rectangle(polygon_to_check)"
   ],
   "metadata": {
    "collapsed": false,
    "pycharm": {
     "name": "#%%\n",
     "is_executing": false
    }
   }
  },
  {
   "cell_type": "code",
   "execution_count": null,
   "outputs": [],
   "source": [
    "check_rectangle(annotations[0])"
   ],
   "metadata": {
    "collapsed": false,
    "pycharm": {
     "name": "#%%\n",
     "is_executing": false
    }
   }
  },
  {
   "cell_type": "code",
   "execution_count": 72,
   "outputs": [
    {
     "data": {
      "text/plain": "(31, 720, 38, 730, 10, 745, 3, 734)"
     },
     "metadata": {},
     "output_type": "execute_result",
     "execution_count": 72
    }
   ],
   "source": [
    "res = annotations[0]\n",
    "                \n",
    "result = [val for sublist in res for val in sublist]\n",
    "tuple(result)"
   ],
   "metadata": {
    "collapsed": false,
    "pycharm": {
     "name": "#%%\n",
     "is_executing": false
    }
   }
  },
  {
   "cell_type": "code",
   "execution_count": null,
   "outputs": [],
   "source": [
    "for box in annotations:\n",
    "    points = np.array(box, np.int32)\n",
    "    rect = cv2.boundingRect(points)\n",
    "    x,y,w,h = rect\n",
    "    cv2.rectangle(image,(x,y),(x+w,y+h),(0,255,0),2)"
   ],
   "metadata": {
    "collapsed": false,
    "pycharm": {
     "name": "#%%\n",
     "is_executing": false
    }
   }
  },
  {
   "cell_type": "code",
   "execution_count": null,
   "outputs": [],
   "source": [
    "x,y,w,h = rect\n",
    "cv2.rectangle(image,(x,y),(x+w,y+h),(0,255,0),2)"
   ],
   "metadata": {
    "collapsed": false,
    "pycharm": {
     "name": "#%%\n",
     "is_executing": false
    }
   }
  },
  {
   "cell_type": "code",
   "execution_count": null,
   "outputs": [],
   "source": [
    "plt.figure(figsize=(30,30))\n",
    "plt.imshow(image)"
   ],
   "metadata": {
    "collapsed": false,
    "pycharm": {
     "name": "#%%\n",
     "is_executing": false
    }
   }
  },
  {
   "cell_type": "code",
   "execution_count": null,
   "outputs": [],
   "source": [
    "\n"
   ],
   "metadata": {
    "collapsed": false,
    "pycharm": {
     "name": "#%%\n"
    }
   }
  }
 ],
 "metadata": {
  "kernelspec": {
   "display_name": "Python 3",
   "language": "python",
   "name": "python3"
  },
  "language_info": {
   "codemirror_mode": {
    "name": "ipython",
    "version": 2
   },
   "file_extension": ".py",
   "mimetype": "text/x-python",
   "name": "python",
   "nbconvert_exporter": "python",
   "pygments_lexer": "ipython2",
   "version": "2.7.6"
  },
  "pycharm": {
   "stem_cell": {
    "cell_type": "raw",
    "source": [],
    "metadata": {
     "collapsed": false
    }
   }
  }
 },
 "nbformat": 4,
 "nbformat_minor": 0
}