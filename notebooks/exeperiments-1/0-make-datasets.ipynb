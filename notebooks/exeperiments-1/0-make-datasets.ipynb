{
 "metadata": {
  "language_info": {
   "codemirror_mode": {
    "name": "ipython",
    "version": 3
   },
   "file_extension": ".py",
   "mimetype": "text/x-python",
   "name": "python",
   "nbconvert_exporter": "python",
   "pygments_lexer": "ipython3",
   "version": "3.8.5-final"
  },
  "orig_nbformat": 2,
  "kernelspec": {
   "name": "python38564bitvenvcvvenv6cf5d49a40c1440a9f0299998fa89af2",
   "display_name": "Python 3.8.5 64-bit ('venv_cv': venv)",
   "language": "python"
  }
 },
 "nbformat": 4,
 "nbformat_minor": 2,
 "cells": [
  {
   "cell_type": "code",
   "execution_count": 1,
   "metadata": {},
   "outputs": [],
   "source": [
    "from src.data.make_dataset import make_dataset\n",
    "from src.data.image_loaders import AerialCarsSquareImageLoader, AerialCarsFixedSizeImageLoader, DOTASquareImageLoader\n",
    "from src.data.dataset_loaders import AerialCarsDatasetLoader, DOTADatasetLoader\n",
    "from src.features.pipelines import RawImageToImage\n",
    "from src.features.processors import NormImage, Resize"
   ]
  },
  {
   "source": [
    "## Aerial cars dataset"
   ],
   "cell_type": "markdown",
   "metadata": {}
  },
  {
   "cell_type": "code",
   "execution_count": 3,
   "metadata": {},
   "outputs": [],
   "source": [
    "dataset_loader = AerialCarsDatasetLoader(\n",
    "    image_loader=AerialCarsSquareImageLoader()\n",
    ")\n",
    "\n",
    "process_pipeline=RawImageToImage(\n",
    "    processors=[\n",
    "        Resize((100, 100)),\n",
    "        NormImage()\n",
    "    ]\n",
    ")"
   ]
  },
  {
   "cell_type": "code",
   "execution_count": 4,
   "metadata": {},
   "outputs": [
    {
     "output_type": "stream",
     "name": "stderr",
     "text": [
      "100%|██████████| 71/71 [00:01<00:00, 50.91it/s]\n",
      "100%|██████████| 22/22 [00:00<00:00, 303.29it/s]\n",
      "100%|██████████| 328/328 [00:00<00:00, 4879.59it/s]\n",
      "100%|██████████| 656/656 [00:01<00:00, 455.01it/s]\n"
     ]
    }
   ],
   "source": [
    "data = make_dataset(\n",
    "    input_folder_filepath='../../data/raw/aerial-cars-dataset/',\n",
    "    output_filepath='../../data/processed/aerial-cars-dataset/data.pickle',\n",
    "    dataset_loader=dataset_loader,\n",
    "    images_files_types=('jpg', 'JPG', 'png'),\n",
    "    annotations_files_types=('txt',),\n",
    "    process_pipeline=process_pipeline,\n",
    "    negative_images_size=(120, 120),\n",
    "    negative_examples_size=0.5,\n",
    "    workers=0,\n",
    "    verbose=True\n",
    ")"
   ]
  },
  {
   "cell_type": "code",
   "execution_count": 6,
   "metadata": {},
   "outputs": [],
   "source": [
    "BND_BOX_SIZE = (100, 100)\n",
    "\n",
    "dataset_loader = AerialCarsDatasetLoader(\n",
    "    image_loader=AerialCarsFixedSizeImageLoader(\n",
    "        bnd_box_size=BND_BOX_SIZE\n",
    "    )\n",
    ")\n",
    "\n",
    "process_pipeline=RawImageToImage(\n",
    "    processors=[\n",
    "        # Resize((100, 100)),\n",
    "        NormImage()\n",
    "    ]\n",
    ")"
   ]
  },
  {
   "cell_type": "code",
   "execution_count": 7,
   "metadata": {},
   "outputs": [
    {
     "output_type": "stream",
     "name": "stderr",
     "text": [
      "100%|██████████| 72/72 [00:01<00:00, 57.78it/s]\n",
      "100%|██████████| 22/22 [00:00<00:00, 389.98it/s]\n",
      "100%|██████████| 328/328 [00:00<00:00, 5714.48it/s]\n",
      "100%|██████████| 656/656 [00:00<00:00, 11545.64it/s]\n"
     ]
    }
   ],
   "source": [
    "data = make_dataset(\n",
    "    input_folder_filepath='../../data/raw/aerial-cars-dataset/',\n",
    "    output_filepath='../../data/processed/aerial-cars-dataset/data_fixed_norm.pickle',\n",
    "    dataset_loader=dataset_loader,\n",
    "    images_files_types=('jpg', 'JPG', 'png'),\n",
    "    annotations_files_types=('txt',),\n",
    "    process_pipeline=process_pipeline,\n",
    "    negative_images_size=BND_BOX_SIZE,\n",
    "    negative_examples_size=0.5,\n",
    "    workers=0,\n",
    "    verbose=True\n",
    ")"
   ]
  },
  {
   "source": [
    "## DOTA"
   ],
   "cell_type": "markdown",
   "metadata": {}
  },
  {
   "cell_type": "code",
   "execution_count": 5,
   "metadata": {},
   "outputs": [],
   "source": [
    "dataset_loader = DOTADatasetLoader(\n",
    "    image_loader=DOTASquareImageLoader(min_side_of_box=40)\n",
    ")\n",
    "\n",
    "process_pipeline=RawImageToImage(\n",
    "    processors=[\n",
    "        Resize((100, 100)),\n",
    "        NormImage()\n",
    "    ]\n",
    ")"
   ]
  },
  {
   "cell_type": "code",
   "execution_count": 4,
   "metadata": {},
   "outputs": [
    {
     "output_type": "stream",
     "name": "stderr",
     "text": [
      "100%|██████████| 528/528 [00:22<00:00, 23.36it/s]\n",
      "100%|██████████| 146/146 [00:00<00:00, 940.74it/s]\n",
      "100%|██████████| 3011/3011 [00:00<00:00, 4449.17it/s]\n"
     ]
    }
   ],
   "source": [
    "data1 = make_dataset(\n",
    "    input_folder_filepath='../../data/raw/dota/part1',\n",
    "    output_filepath='../../data/processed/dota/data1.pickle',\n",
    "    dataset_loader=dataset_loader,\n",
    "    images_files_types=('jpg', 'JPG', 'png'),\n",
    "    annotations_files_types=('txt',),\n",
    "    process_pipeline=process_pipeline,\n",
    "    negative_images_size=(120, 120),\n",
    "    negative_examples_size=0.5,\n",
    "    workers=7,\n",
    "    verbose=True\n",
    ")"
   ]
  },
  {
   "cell_type": "code",
   "execution_count": 5,
   "metadata": {},
   "outputs": [
    {
     "output_type": "stream",
     "name": "stderr",
     "text": [
      "100%|██████████| 509/509 [01:19<00:00,  6.41it/s]\n",
      "100%|██████████| 73/73 [00:00<00:00, 326.23it/s]\n",
      "100%|██████████| 4261/4261 [00:00<00:00, 4532.87it/s]\n"
     ]
    }
   ],
   "source": [
    "data2 = make_dataset(\n",
    "    input_folder_filepath='../../data/raw/dota/part2',\n",
    "    output_filepath='../../data/processed/dota/data2.pickle',\n",
    "    dataset_loader=dataset_loader,\n",
    "    images_files_types=('jpg', 'JPG', 'png'),\n",
    "    annotations_files_types=('txt',),\n",
    "    process_pipeline=process_pipeline,\n",
    "    negative_images_size=(120, 120),\n",
    "    negative_examples_size=0.5,\n",
    "    workers=7,\n",
    "    verbose=True\n",
    ")"
   ]
  },
  {
   "cell_type": "code",
   "execution_count": 6,
   "metadata": {},
   "outputs": [
    {
     "output_type": "stream",
     "name": "stderr",
     "text": [
      "100%|██████████| 513/513 [00:22<00:00, 22.46it/s]\n",
      "100%|██████████| 31/31 [00:00<00:00, 231.09it/s]\n",
      "100%|██████████| 1795/1795 [00:00<00:00, 4942.42it/s]\n"
     ]
    }
   ],
   "source": [
    "data3 = make_dataset(\n",
    "    input_folder_filepath='../../data/raw/dota/part3',\n",
    "    output_filepath='../../data/processed/dota/data3.pickle',\n",
    "    dataset_loader=dataset_loader,\n",
    "    images_files_types=('jpg', 'JPG', 'png'),\n",
    "    annotations_files_types=('txt',),\n",
    "    process_pipeline=process_pipeline,\n",
    "    negative_images_size=(120, 120),\n",
    "    negative_examples_size=0.5,\n",
    "    workers=7,\n",
    "    verbose=True\n",
    ")"
   ]
  },
  {
   "cell_type": "code",
   "execution_count": 7,
   "metadata": {},
   "outputs": [
    {
     "output_type": "stream",
     "name": "stderr",
     "text": [
      "100%|██████████| 508/508 [00:16<00:00, 30.51it/s]\n",
      "100%|██████████| 113/113 [00:00<00:00, 1938.70it/s]\n",
      "100%|██████████| 1295/1295 [00:00<00:00, 5342.71it/s]\n"
     ]
    }
   ],
   "source": [
    "data4 = make_dataset(\n",
    "    input_folder_filepath='../../data/raw/dota/part4',\n",
    "    output_filepath='../../data/processed/dota/data4.pickle',\n",
    "    dataset_loader=dataset_loader,\n",
    "    images_files_types=('jpg', 'JPG', 'png'),\n",
    "    annotations_files_types=('txt',),\n",
    "    process_pipeline=process_pipeline,\n",
    "    negative_images_size=(120, 120),\n",
    "    negative_examples_size=0.5,\n",
    "    workers=7,\n",
    "    verbose=True\n",
    ")"
   ]
  },
  {
   "cell_type": "code",
   "execution_count": 8,
   "metadata": {},
   "outputs": [
    {
     "output_type": "stream",
     "name": "stderr",
     "text": [
      "100%|██████████| 441/441 [00:43<00:00, 10.17it/s]\n",
      " 61%|██████▏   | 38/62 [00:00<00:00, 378.64it/s]No file ../../data/raw/dota/part5/P1991.txt\n",
      "100%|██████████| 62/62 [00:00<00:00, 285.86it/s]\n",
      "100%|██████████| 4302/4302 [00:00<00:00, 4522.40it/s]\n"
     ]
    }
   ],
   "source": [
    "data5 = make_dataset(\n",
    "    input_folder_filepath='../../data/raw/dota/part5',\n",
    "    output_filepath='../../data/processed/dota/data5.pickle',\n",
    "    dataset_loader=dataset_loader,\n",
    "    images_files_types=('jpg', 'JPG', 'png'),\n",
    "    annotations_files_types=('txt',),\n",
    "    process_pipeline=process_pipeline,\n",
    "    negative_images_size=(120, 120),\n",
    "    negative_examples_size=0.5,\n",
    "    workers=7,\n",
    "    verbose=True\n",
    ")"
   ]
  },
  {
   "cell_type": "code",
   "execution_count": 9,
   "metadata": {},
   "outputs": [
    {
     "output_type": "stream",
     "name": "stderr",
     "text": [
      " 18%|█▊        | 59/323 [00:04<00:19, 13.84it/s]No file ../../data/raw/dota/part6/P2804.txt\n",
      "100%|██████████| 323/323 [00:36<00:00,  8.94it/s]\n",
      "100%|██████████| 44/44 [00:00<00:00, 441.33it/s]\n",
      "100%|██████████| 1948/1948 [00:00<00:00, 4814.97it/s]\n"
     ]
    }
   ],
   "source": [
    "data6 = make_dataset(\n",
    "    input_folder_filepath='../../data/raw/dota/part6',\n",
    "    output_filepath='../../data/processed/dota/data6.pickle',\n",
    "    dataset_loader=dataset_loader,\n",
    "    images_files_types=('jpg', 'JPG', 'png'),\n",
    "    annotations_files_types=('txt',),\n",
    "    process_pipeline=process_pipeline,\n",
    "    negative_images_size=(120, 120),\n",
    "    negative_examples_size=0.5,\n",
    "    workers=7,\n",
    "    verbose=True\n",
    ")"
   ]
  },
  {
   "cell_type": "code",
   "execution_count": null,
   "metadata": {},
   "outputs": [],
   "source": []
  }
 ]
}