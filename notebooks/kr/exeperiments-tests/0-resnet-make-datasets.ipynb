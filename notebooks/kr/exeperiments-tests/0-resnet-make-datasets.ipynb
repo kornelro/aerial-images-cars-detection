{
 "metadata": {
  "language_info": {
   "codemirror_mode": {
    "name": "ipython",
    "version": 3
   },
   "file_extension": ".py",
   "mimetype": "text/x-python",
   "name": "python",
   "nbconvert_exporter": "python",
   "pygments_lexer": "ipython3",
   "version": "3.8.5-final"
  },
  "orig_nbformat": 2,
  "kernelspec": {
   "name": "python38564bitvenvcvvenv6cf5d49a40c1440a9f0299998fa89af2",
   "display_name": "Python 3.8.5 64-bit ('venv_cv': venv)",
   "language": "python"
  }
 },
 "nbformat": 4,
 "nbformat_minor": 2,
 "cells": [
  {
   "cell_type": "code",
   "execution_count": 1,
   "metadata": {},
   "outputs": [],
   "source": [
    "from src.data.make_dataset import make_dataset\n",
    "from src.data.image_loaders import AerialCarsSquareImageLoader, AerialCarsFixedSizeImageLoader, DOTASquareImageLoader\n",
    "from src.data.dataset_loaders import AerialCarsDatasetLoader, DOTADatasetLoader\n",
    "from src.features.pipelines import RawImageToImage\n",
    "from src.features.processors import NormImage, Resize"
   ]
  },
  {
   "source": [
    "## Aerial cars dataset"
   ],
   "cell_type": "markdown",
   "metadata": {}
  },
  {
   "cell_type": "code",
   "execution_count": 3,
   "metadata": {},
   "outputs": [],
   "source": [
    "dataset_loader = AerialCarsDatasetLoader(\n",
    "    image_loader=AerialCarsSquareImageLoader()\n",
    ")\n",
    "\n",
    "process_pipeline=RawImageToImage(\n",
    "    processors=[\n",
    "        Resize((100, 100)),\n",
    "        NormImage()\n",
    "    ]\n",
    ")"
   ]
  },
  {
   "cell_type": "code",
   "execution_count": 4,
   "metadata": {},
   "outputs": [
    {
     "output_type": "stream",
     "name": "stderr",
     "text": [
      "100%|██████████| 71/71 [00:01<00:00, 50.91it/s]\n",
      "100%|██████████| 22/22 [00:00<00:00, 303.29it/s]\n",
      "100%|██████████| 328/328 [00:00<00:00, 4879.59it/s]\n",
      "100%|██████████| 656/656 [00:01<00:00, 455.01it/s]\n"
     ]
    }
   ],
   "source": [
    "data = make_dataset(\n",
    "    input_folder_filepath='../../data/raw/aerial-cars-dataset/',\n",
    "    output_filepath='../../data/processed/aerial-cars-dataset/data.pickle',\n",
    "    dataset_loader=dataset_loader,\n",
    "    images_files_types=('jpg', 'JPG', 'png'),\n",
    "    annotations_files_types=('txt',),\n",
    "    process_pipeline=process_pipeline,\n",
    "    negative_images_size=(120, 120),\n",
    "    negative_examples_size=0.5,\n",
    "    workers=0,\n",
    "    verbose=True\n",
    ")"
   ]
  },
  {
   "cell_type": "code",
   "execution_count": 6,
   "metadata": {},
   "outputs": [],
   "source": [
    "BND_BOX_SIZE = (100, 100)\n",
    "\n",
    "dataset_loader = AerialCarsDatasetLoader(\n",
    "    image_loader=AerialCarsFixedSizeImageLoader(\n",
    "        bnd_box_size=BND_BOX_SIZE\n",
    "    )\n",
    ")\n",
    "\n",
    "process_pipeline=RawImageToImage(\n",
    "    processors=[\n",
    "        # Resize((100, 100)),\n",
    "        NormImage()\n",
    "    ]\n",
    ")"
   ]
  },
  {
   "cell_type": "code",
   "execution_count": 7,
   "metadata": {},
   "outputs": [
    {
     "output_type": "stream",
     "name": "stderr",
     "text": [
      "100%|██████████| 72/72 [00:01<00:00, 57.78it/s]\n",
      "100%|██████████| 22/22 [00:00<00:00, 389.98it/s]\n",
      "100%|██████████| 328/328 [00:00<00:00, 5714.48it/s]\n",
      "100%|██████████| 656/656 [00:00<00:00, 11545.64it/s]\n"
     ]
    }
   ],
   "source": [
    "data = make_dataset(\n",
    "    input_folder_filepath='../../data/raw/aerial-cars-dataset/',\n",
    "    output_filepath='../../data/processed/aerial-cars-dataset/data_fixed_norm.pickle',\n",
    "    dataset_loader=dataset_loader,\n",
    "    images_files_types=('jpg', 'JPG', 'png'),\n",
    "    annotations_files_types=('txt',),\n",
    "    process_pipeline=process_pipeline,\n",
    "    negative_images_size=BND_BOX_SIZE,\n",
    "    negative_examples_size=0.5,\n",
    "    workers=0,\n",
    "    verbose=True\n",
    ")"
   ]
  },
  {
   "source": [
    "## DOTA"
   ],
   "cell_type": "markdown",
   "metadata": {}
  },
  {
   "cell_type": "code",
   "execution_count": 2,
   "metadata": {},
   "outputs": [],
   "source": [
    "dataset_loader = DOTADatasetLoader(\n",
    "    image_loader=DOTASquareImageLoader(min_side_of_box=40)\n",
    ")\n",
    "\n",
    "process_pipeline=RawImageToImage(\n",
    "    processors=[\n",
    "        Resize((100, 100)),\n",
    "        NormImage()\n",
    "    ]\n",
    ")"
   ]
  },
  {
   "cell_type": "code",
   "execution_count": 4,
   "metadata": {},
   "outputs": [
    {
     "output_type": "stream",
     "name": "stderr",
     "text": [
      "100%|██████████| 528/528 [00:21<00:00, 24.12it/s]\n",
      "100%|██████████| 146/146 [00:00<00:00, 670.72it/s]\n",
      "100%|██████████| 28102/28102 [00:03<00:00, 8191.15it/s]\n"
     ]
    }
   ],
   "source": [
    "_ = make_dataset(\n",
    "    input_folder_filepath='../../data/raw/dota/part1',\n",
    "    output_filepath='../../data/processed/dota/data1_2.pickle',\n",
    "    dataset_loader=dataset_loader,\n",
    "    images_files_types=('jpg', 'JPG', 'png'),\n",
    "    annotations_files_types=('txt',),\n",
    "    process_pipeline=process_pipeline,\n",
    "    negative_images_size=(80, 80),\n",
    "    negative_examples_size=0.7,\n",
    "    rotate_positive_examples=True,\n",
    "    workers=6,\n",
    "    verbose=True\n",
    ")"
   ]
  },
  {
   "cell_type": "code",
   "execution_count": 3,
   "metadata": {},
   "outputs": [
    {
     "output_type": "stream",
     "name": "stderr",
     "text": [
      "100%|██████████| 509/509 [01:26<00:00,  5.86it/s]\n",
      "100%|██████████| 73/73 [00:00<00:00, 230.07it/s]\n",
      "100%|██████████| 39769/39769 [00:05<00:00, 7500.46it/s]\n"
     ]
    }
   ],
   "source": [
    "_ = make_dataset(\n",
    "    input_folder_filepath='../../data/raw/dota/part2',\n",
    "    output_filepath='../../data/processed/dota/data2_2.pickle',\n",
    "    dataset_loader=dataset_loader,\n",
    "    images_files_types=('jpg', 'JPG', 'png'),\n",
    "    annotations_files_types=('txt',),\n",
    "    process_pipeline=process_pipeline,\n",
    "    negative_images_size=(80, 80),\n",
    "    negative_examples_size=0.7,\n",
    "    rotate_positive_examples=True,\n",
    "    workers=6,\n",
    "    verbose=True\n",
    ")"
   ]
  },
  {
   "cell_type": "code",
   "execution_count": null,
   "metadata": {},
   "outputs": [],
   "source": [
    "_ = make_dataset(\n",
    "    input_folder_filepath='../../data/raw/dota/part3',\n",
    "    output_filepath='../../data/processed/dota/data3_2.pickle',\n",
    "    dataset_loader=dataset_loader,\n",
    "    images_files_types=('jpg', 'JPG', 'png'),\n",
    "    annotations_files_types=('txt',),\n",
    "    process_pipeline=process_pipeline,\n",
    "    negative_images_size=(80, 80),\n",
    "    negative_examples_size=0.7,\n",
    "    rotate_positive_examples=True,\n",
    "    workers=7,\n",
    "    verbose=True\n",
    ")"
   ]
  },
  {
   "cell_type": "code",
   "execution_count": null,
   "metadata": {},
   "outputs": [],
   "source": [
    "_ = make_dataset(\n",
    "    input_folder_filepath='../../data/raw/dota/part4',\n",
    "    output_filepath='../../data/processed/dota/data4.pickle',\n",
    "    dataset_loader=dataset_loader,\n",
    "    images_files_types=('jpg', 'JPG', 'png'),\n",
    "    annotations_files_types=('txt',),\n",
    "    process_pipeline=process_pipeline,\n",
    "    negative_images_size=(80, 80),\n",
    "    negative_examples_size=0.7,\n",
    "    rotate_positive_examples=True,\n",
    "    workers=7,\n",
    "    verbose=True\n",
    ")"
   ]
  },
  {
   "cell_type": "code",
   "execution_count": null,
   "metadata": {},
   "outputs": [],
   "source": [
    "_ = make_dataset(\n",
    "    input_folder_filepath='../../data/raw/dota/part5',\n",
    "    output_filepath='../../data/processed/dota/data5.pickle',\n",
    "    dataset_loader=dataset_loader,\n",
    "    images_files_types=('jpg', 'JPG', 'png'),\n",
    "    annotations_files_types=('txt',),\n",
    "    process_pipeline=process_pipeline,\n",
    "    negative_images_size=(80, 80),\n",
    "    negative_examples_size=0.7,\n",
    "    rotate_positive_examples=True,\n",
    "    workers=7,\n",
    "    verbose=True\n",
    ")"
   ]
  },
  {
   "cell_type": "code",
   "execution_count": null,
   "metadata": {},
   "outputs": [],
   "source": [
    "_ = make_dataset(\n",
    "    input_folder_filepath='../../data/raw/dota/part6',\n",
    "    output_filepath='../../data/processed/dota/data6.pickle',\n",
    "    dataset_loader=dataset_loader,\n",
    "    images_files_types=('jpg', 'JPG', 'png'),\n",
    "    annotations_files_types=('txt',),\n",
    "    process_pipeline=process_pipeline,\n",
    "    negative_images_size=(80, 80),\n",
    "    negative_examples_size=0.7,\n",
    "    rotate_positive_examples=True,\n",
    "    workers=7,\n",
    "    verbose=True\n",
    ")"
   ]
  },
  {
   "cell_type": "code",
   "execution_count": null,
   "metadata": {},
   "outputs": [],
   "source": []
  }
 ]
}