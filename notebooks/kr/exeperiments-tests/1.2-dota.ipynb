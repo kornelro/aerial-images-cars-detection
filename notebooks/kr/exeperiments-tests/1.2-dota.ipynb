{
 "metadata": {
  "language_info": {
   "codemirror_mode": {
    "name": "ipython",
    "version": 3
   },
   "file_extension": ".py",
   "mimetype": "text/x-python",
   "name": "python",
   "nbconvert_exporter": "python",
   "pygments_lexer": "ipython3",
   "version": "3.8.5-final"
  },
  "orig_nbformat": 2,
  "kernelspec": {
   "name": "python38564bitvenvcvvenv6cf5d49a40c1440a9f0299998fa89af2",
   "display_name": "Python 3.8.5 64-bit ('venv_cv': venv)",
   "language": "python"
  }
 },
 "nbformat": 4,
 "nbformat_minor": 2,
 "cells": [
  {
   "cell_type": "code",
   "execution_count": 1,
   "metadata": {},
   "outputs": [],
   "source": [
    "import pickle\n",
    "import numpy as np\n",
    "from sklearn.model_selection import train_test_split\n",
    "import tensorflow.keras as K\n",
    "import tensorflow as tf\n",
    "from src.models.train_model import train_resnet\n",
    "from src.models.detectors import Detector\n",
    "from tqdm import tqdm\n",
    "from copy import deepcopy\n",
    "from src.data.dataset_loaders import DatasetLoader, DOTADatasetLoader, AerialCarsDatasetLoader\n",
    "from typing import Tuple\n",
    "from src.features.pipelines import RawImageToImage\n",
    "from src.features.processors import NormImage, Resize\n",
    "from src.data.image_loaders import DOTASquareImageLoader, AerialCarsSquareImageLoader\n",
    "from src.models.classifiers import ResnetModelWrapper\n",
    "from src.models.detectors import SliderProbDetector\n",
    "from src.data.sliders import SlidingWindow\n",
    "import matplotlib.pyplot as plt\n",
    "from src.data.make_dataset import make_dataset\n",
    "from src.features.descriptors import LBPDescriptor"
   ]
  },
  {
   "source": [
    "## DOTA"
   ],
   "cell_type": "markdown",
   "metadata": {}
  },
  {
   "cell_type": "code",
   "execution_count": 2,
   "metadata": {},
   "outputs": [],
   "source": [
    "EPOCHS=2"
   ]
  },
  {
   "cell_type": "code",
   "execution_count": 3,
   "metadata": {},
   "outputs": [],
   "source": [
    "with open('../../data/processed/dota/data1_2.pickle', 'rb') as f:\n",
    "    data = pickle.load(f)\n",
    "# model, history = train_resnet(data, epochs=EPOCHS)"
   ]
  },
  {
   "cell_type": "code",
   "execution_count": 4,
   "metadata": {},
   "outputs": [
    {
     "output_type": "execute_result",
     "data": {
      "text/plain": [
       "40146"
      ]
     },
     "metadata": {},
     "execution_count": 4
    }
   ],
   "source": [
    "len(data)"
   ]
  },
  {
   "cell_type": "code",
   "execution_count": 5,
   "metadata": {},
   "outputs": [],
   "source": [
    "pos_images = [d[0] for d in data if d[2] == 1]"
   ]
  },
  {
   "cell_type": "code",
   "execution_count": 14,
   "metadata": {},
   "outputs": [
    {
     "output_type": "execute_result",
     "data": {
      "text/plain": [
       "<matplotlib.image.AxesImage at 0x7f80687c79a0>"
      ]
     },
     "metadata": {},
     "execution_count": 14
    },
    {
     "output_type": "display_data",
     "data": {
      "text/plain": "<Figure size 432x288 with 1 Axes>",
      "image/svg+xml": "<?xml version=\"1.0\" encoding=\"utf-8\" standalone=\"no\"?>\n<!DOCTYPE svg PUBLIC \"-//W3C//DTD SVG 1.1//EN\"\n  \"http://www.w3.org/Graphics/SVG/1.1/DTD/svg11.dtd\">\n<!-- Created with matplotlib (https://matplotlib.org/) -->\n<svg height=\"250.052344pt\" version=\"1.1\" viewBox=\"0 0 251.565 250.052344\" width=\"251.565pt\" xmlns=\"http://www.w3.org/2000/svg\" xmlns:xlink=\"http://www.w3.org/1999/xlink\">\n <metadata>\n  <rdf:RDF xmlns:cc=\"http://creativecommons.org/ns#\" xmlns:dc=\"http://purl.org/dc/elements/1.1/\" xmlns:rdf=\"http://www.w3.org/1999/02/22-rdf-syntax-ns#\">\n   <cc:Work>\n    <dc:type rdf:resource=\"http://purl.org/dc/dcmitype/StillImage\"/>\n    <dc:date>2021-01-14T13:20:24.779999</dc:date>\n    <dc:format>image/svg+xml</dc:format>\n    <dc:creator>\n     <cc:Agent>\n      <dc:title>Matplotlib v3.3.3, https://matplotlib.org/</dc:title>\n     </cc:Agent>\n    </dc:creator>\n   </cc:Work>\n  </rdf:RDF>\n </metadata>\n <defs>\n  <style type=\"text/css\">*{stroke-linecap:butt;stroke-linejoin:round;}</style>\n </defs>\n <g id=\"figure_1\">\n  <g id=\"patch_1\">\n   <path d=\"M 0 250.052344 \nL 251.565 250.052344 \nL 251.565 0 \nL 0 0 \nz\n\" style=\"fill:none;\"/>\n  </g>\n  <g id=\"axes_1\">\n   <g id=\"patch_2\">\n    <path d=\"M 26.925 226.174219 \nL 244.365 226.174219 \nL 244.365 8.734219 \nL 26.925 8.734219 \nz\n\" style=\"fill:#ffffff;\"/>\n   </g>\n   <g clip-path=\"url(#p39de78704b)\">\n    <image height=\"218\" id=\"image138371cc1f\" transform=\"scale(1 -1)translate(0 -218)\" width=\"218\" x=\"26.925\" xlink:href=\"data:image/png;base64,\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\" y=\"-8.174219\"/>\n   </g>\n   <g id=\"matplotlib.axis_1\">\n    <g id=\"xtick_1\">\n     <g id=\"line2d_1\">\n      <defs>\n       <path d=\"M 0 0 \nL 0 3.5 \n\" id=\"m9a58c164e2\" style=\"stroke:#000000;stroke-width:0.8;\"/>\n      </defs>\n      <g>\n       <use style=\"stroke:#000000;stroke-width:0.8;\" x=\"29.19\" xlink:href=\"#m9a58c164e2\" y=\"226.174219\"/>\n      </g>\n     </g>\n     <g id=\"text_1\">\n      <!-- 0 -->\n      <g transform=\"translate(26.00875 240.772656)scale(0.1 -0.1)\">\n       <defs>\n        <path d=\"M 31.78125 66.40625 \nQ 24.171875 66.40625 20.328125 58.90625 \nQ 16.5 51.421875 16.5 36.375 \nQ 16.5 21.390625 20.328125 13.890625 \nQ 24.171875 6.390625 31.78125 6.390625 \nQ 39.453125 6.390625 43.28125 13.890625 \nQ 47.125 21.390625 47.125 36.375 \nQ 47.125 51.421875 43.28125 58.90625 \nQ 39.453125 66.40625 31.78125 66.40625 \nz\nM 31.78125 74.21875 \nQ 44.046875 74.21875 50.515625 64.515625 \nQ 56.984375 54.828125 56.984375 36.375 \nQ 56.984375 17.96875 50.515625 8.265625 \nQ 44.046875 -1.421875 31.78125 -1.421875 \nQ 19.53125 -1.421875 13.0625 8.265625 \nQ 6.59375 17.96875 6.59375 36.375 \nQ 6.59375 54.828125 13.0625 64.515625 \nQ 19.53125 74.21875 31.78125 74.21875 \nz\n\" id=\"DejaVuSans-48\"/>\n       </defs>\n       <use xlink:href=\"#DejaVuSans-48\"/>\n      </g>\n     </g>\n    </g>\n    <g id=\"xtick_2\">\n     <g id=\"line2d_2\">\n      <g>\n       <use style=\"stroke:#000000;stroke-width:0.8;\" x=\"74.49\" xlink:href=\"#m9a58c164e2\" y=\"226.174219\"/>\n      </g>\n     </g>\n     <g id=\"text_2\">\n      <!-- 10 -->\n      <g transform=\"translate(68.1275 240.772656)scale(0.1 -0.1)\">\n       <defs>\n        <path d=\"M 12.40625 8.296875 \nL 28.515625 8.296875 \nL 28.515625 63.921875 \nL 10.984375 60.40625 \nL 10.984375 69.390625 \nL 28.421875 72.90625 \nL 38.28125 72.90625 \nL 38.28125 8.296875 \nL 54.390625 8.296875 \nL 54.390625 0 \nL 12.40625 0 \nz\n\" id=\"DejaVuSans-49\"/>\n       </defs>\n       <use xlink:href=\"#DejaVuSans-49\"/>\n       <use x=\"63.623047\" xlink:href=\"#DejaVuSans-48\"/>\n      </g>\n     </g>\n    </g>\n    <g id=\"xtick_3\">\n     <g id=\"line2d_3\">\n      <g>\n       <use style=\"stroke:#000000;stroke-width:0.8;\" x=\"119.79\" xlink:href=\"#m9a58c164e2\" y=\"226.174219\"/>\n      </g>\n     </g>\n     <g id=\"text_3\">\n      <!-- 20 -->\n      <g transform=\"translate(113.4275 240.772656)scale(0.1 -0.1)\">\n       <defs>\n        <path d=\"M 19.1875 8.296875 \nL 53.609375 8.296875 \nL 53.609375 0 \nL 7.328125 0 \nL 7.328125 8.296875 \nQ 12.9375 14.109375 22.625 23.890625 \nQ 32.328125 33.6875 34.8125 36.53125 \nQ 39.546875 41.84375 41.421875 45.53125 \nQ 43.3125 49.21875 43.3125 52.78125 \nQ 43.3125 58.59375 39.234375 62.25 \nQ 35.15625 65.921875 28.609375 65.921875 \nQ 23.96875 65.921875 18.8125 64.3125 \nQ 13.671875 62.703125 7.8125 59.421875 \nL 7.8125 69.390625 \nQ 13.765625 71.78125 18.9375 73 \nQ 24.125 74.21875 28.421875 74.21875 \nQ 39.75 74.21875 46.484375 68.546875 \nQ 53.21875 62.890625 53.21875 53.421875 \nQ 53.21875 48.921875 51.53125 44.890625 \nQ 49.859375 40.875 45.40625 35.40625 \nQ 44.1875 33.984375 37.640625 27.21875 \nQ 31.109375 20.453125 19.1875 8.296875 \nz\n\" id=\"DejaVuSans-50\"/>\n       </defs>\n       <use xlink:href=\"#DejaVuSans-50\"/>\n       <use x=\"63.623047\" xlink:href=\"#DejaVuSans-48\"/>\n      </g>\n     </g>\n    </g>\n    <g id=\"xtick_4\">\n     <g id=\"line2d_4\">\n      <g>\n       <use style=\"stroke:#000000;stroke-width:0.8;\" x=\"165.09\" xlink:href=\"#m9a58c164e2\" y=\"226.174219\"/>\n      </g>\n     </g>\n     <g id=\"text_4\">\n      <!-- 30 -->\n      <g transform=\"translate(158.7275 240.772656)scale(0.1 -0.1)\">\n       <defs>\n        <path d=\"M 40.578125 39.3125 \nQ 47.65625 37.796875 51.625 33 \nQ 55.609375 28.21875 55.609375 21.1875 \nQ 55.609375 10.40625 48.1875 4.484375 \nQ 40.765625 -1.421875 27.09375 -1.421875 \nQ 22.515625 -1.421875 17.65625 -0.515625 \nQ 12.796875 0.390625 7.625 2.203125 \nL 7.625 11.71875 \nQ 11.71875 9.328125 16.59375 8.109375 \nQ 21.484375 6.890625 26.8125 6.890625 \nQ 36.078125 6.890625 40.9375 10.546875 \nQ 45.796875 14.203125 45.796875 21.1875 \nQ 45.796875 27.640625 41.28125 31.265625 \nQ 36.765625 34.90625 28.71875 34.90625 \nL 20.21875 34.90625 \nL 20.21875 43.015625 \nL 29.109375 43.015625 \nQ 36.375 43.015625 40.234375 45.921875 \nQ 44.09375 48.828125 44.09375 54.296875 \nQ 44.09375 59.90625 40.109375 62.90625 \nQ 36.140625 65.921875 28.71875 65.921875 \nQ 24.65625 65.921875 20.015625 65.03125 \nQ 15.375 64.15625 9.8125 62.3125 \nL 9.8125 71.09375 \nQ 15.4375 72.65625 20.34375 73.4375 \nQ 25.25 74.21875 29.59375 74.21875 \nQ 40.828125 74.21875 47.359375 69.109375 \nQ 53.90625 64.015625 53.90625 55.328125 \nQ 53.90625 49.265625 50.4375 45.09375 \nQ 46.96875 40.921875 40.578125 39.3125 \nz\n\" id=\"DejaVuSans-51\"/>\n       </defs>\n       <use xlink:href=\"#DejaVuSans-51\"/>\n       <use x=\"63.623047\" xlink:href=\"#DejaVuSans-48\"/>\n      </g>\n     </g>\n    </g>\n    <g id=\"xtick_5\">\n     <g id=\"line2d_5\">\n      <g>\n       <use style=\"stroke:#000000;stroke-width:0.8;\" x=\"210.39\" xlink:href=\"#m9a58c164e2\" y=\"226.174219\"/>\n      </g>\n     </g>\n     <g id=\"text_5\">\n      <!-- 40 -->\n      <g transform=\"translate(204.0275 240.772656)scale(0.1 -0.1)\">\n       <defs>\n        <path d=\"M 37.796875 64.3125 \nL 12.890625 25.390625 \nL 37.796875 25.390625 \nz\nM 35.203125 72.90625 \nL 47.609375 72.90625 \nL 47.609375 25.390625 \nL 58.015625 25.390625 \nL 58.015625 17.1875 \nL 47.609375 17.1875 \nL 47.609375 0 \nL 37.796875 0 \nL 37.796875 17.1875 \nL 4.890625 17.1875 \nL 4.890625 26.703125 \nz\n\" id=\"DejaVuSans-52\"/>\n       </defs>\n       <use xlink:href=\"#DejaVuSans-52\"/>\n       <use x=\"63.623047\" xlink:href=\"#DejaVuSans-48\"/>\n      </g>\n     </g>\n    </g>\n   </g>\n   <g id=\"matplotlib.axis_2\">\n    <g id=\"ytick_1\">\n     <g id=\"line2d_6\">\n      <defs>\n       <path d=\"M 0 0 \nL -3.5 0 \n\" id=\"m65b7689ed5\" style=\"stroke:#000000;stroke-width:0.8;\"/>\n      </defs>\n      <g>\n       <use style=\"stroke:#000000;stroke-width:0.8;\" x=\"26.925\" xlink:href=\"#m65b7689ed5\" y=\"10.999219\"/>\n      </g>\n     </g>\n     <g id=\"text_6\">\n      <!-- 0 -->\n      <g transform=\"translate(13.5625 14.798437)scale(0.1 -0.1)\">\n       <use xlink:href=\"#DejaVuSans-48\"/>\n      </g>\n     </g>\n    </g>\n    <g id=\"ytick_2\">\n     <g id=\"line2d_7\">\n      <g>\n       <use style=\"stroke:#000000;stroke-width:0.8;\" x=\"26.925\" xlink:href=\"#m65b7689ed5\" y=\"56.299219\"/>\n      </g>\n     </g>\n     <g id=\"text_7\">\n      <!-- 10 -->\n      <g transform=\"translate(7.2 60.098437)scale(0.1 -0.1)\">\n       <use xlink:href=\"#DejaVuSans-49\"/>\n       <use x=\"63.623047\" xlink:href=\"#DejaVuSans-48\"/>\n      </g>\n     </g>\n    </g>\n    <g id=\"ytick_3\">\n     <g id=\"line2d_8\">\n      <g>\n       <use style=\"stroke:#000000;stroke-width:0.8;\" x=\"26.925\" xlink:href=\"#m65b7689ed5\" y=\"101.599219\"/>\n      </g>\n     </g>\n     <g id=\"text_8\">\n      <!-- 20 -->\n      <g transform=\"translate(7.2 105.398437)scale(0.1 -0.1)\">\n       <use xlink:href=\"#DejaVuSans-50\"/>\n       <use x=\"63.623047\" xlink:href=\"#DejaVuSans-48\"/>\n      </g>\n     </g>\n    </g>\n    <g id=\"ytick_4\">\n     <g id=\"line2d_9\">\n      <g>\n       <use style=\"stroke:#000000;stroke-width:0.8;\" x=\"26.925\" xlink:href=\"#m65b7689ed5\" y=\"146.899219\"/>\n      </g>\n     </g>\n     <g id=\"text_9\">\n      <!-- 30 -->\n      <g transform=\"translate(7.2 150.698437)scale(0.1 -0.1)\">\n       <use xlink:href=\"#DejaVuSans-51\"/>\n       <use x=\"63.623047\" xlink:href=\"#DejaVuSans-48\"/>\n      </g>\n     </g>\n    </g>\n    <g id=\"ytick_5\">\n     <g id=\"line2d_10\">\n      <g>\n       <use style=\"stroke:#000000;stroke-width:0.8;\" x=\"26.925\" xlink:href=\"#m65b7689ed5\" y=\"192.199219\"/>\n      </g>\n     </g>\n     <g id=\"text_10\">\n      <!-- 40 -->\n      <g transform=\"translate(7.2 195.998437)scale(0.1 -0.1)\">\n       <use xlink:href=\"#DejaVuSans-52\"/>\n       <use x=\"63.623047\" xlink:href=\"#DejaVuSans-48\"/>\n      </g>\n     </g>\n    </g>\n   </g>\n   <g id=\"patch_3\">\n    <path d=\"M 26.925 226.174219 \nL 26.925 8.734219 \n\" style=\"fill:none;stroke:#000000;stroke-linecap:square;stroke-linejoin:miter;stroke-width:0.8;\"/>\n   </g>\n   <g id=\"patch_4\">\n    <path d=\"M 244.365 226.174219 \nL 244.365 8.734219 \n\" style=\"fill:none;stroke:#000000;stroke-linecap:square;stroke-linejoin:miter;stroke-width:0.8;\"/>\n   </g>\n   <g id=\"patch_5\">\n    <path d=\"M 26.925 226.174219 \nL 244.365 226.174219 \n\" style=\"fill:none;stroke:#000000;stroke-linecap:square;stroke-linejoin:miter;stroke-width:0.8;\"/>\n   </g>\n   <g id=\"patch_6\">\n    <path d=\"M 26.925 8.734219 \nL 244.365 8.734219 \n\" style=\"fill:none;stroke:#000000;stroke-linecap:square;stroke-linejoin:miter;stroke-width:0.8;\"/>\n   </g>\n  </g>\n </g>\n <defs>\n  <clipPath id=\"p39de78704b\">\n   <rect height=\"217.44\" width=\"217.44\" x=\"26.925\" y=\"8.734219\"/>\n  </clipPath>\n </defs>\n</svg>\n",
      "image/png": "[encoded data removed]"
     },
     "metadata": {
      "needs_background": "light"
     }
    }
   ],
   "source": [
    "plt.imshow(pos_images[120])"
   ]
  },
  {
   "cell_type": "code",
   "execution_count": 4,
   "metadata": {},
   "outputs": [
    {
     "output_type": "error",
     "ename": "EOFError",
     "evalue": "Ran out of input",
     "traceback": [
      "\u001b[0;31m---------------------------------------------------------------------------\u001b[0m",
      "\u001b[0;31mEOFError\u001b[0m                                  Traceback (most recent call last)",
      "\u001b[0;32m<ipython-input-4-bd020b281541>\u001b[0m in \u001b[0;36m<module>\u001b[0;34m\u001b[0m\n\u001b[1;32m      1\u001b[0m \u001b[0;32mwith\u001b[0m \u001b[0mopen\u001b[0m\u001b[0;34m(\u001b[0m\u001b[0;34m'../../data/processed/dota/data2_2.pickle'\u001b[0m\u001b[0;34m,\u001b[0m \u001b[0;34m'rb'\u001b[0m\u001b[0;34m)\u001b[0m \u001b[0;32mas\u001b[0m \u001b[0mf\u001b[0m\u001b[0;34m:\u001b[0m\u001b[0;34m\u001b[0m\u001b[0;34m\u001b[0m\u001b[0m\n\u001b[0;32m----> 2\u001b[0;31m     \u001b[0mdata\u001b[0m \u001b[0;34m=\u001b[0m \u001b[0mdata\u001b[0m \u001b[0;34m+\u001b[0m \u001b[0mpickle\u001b[0m\u001b[0;34m.\u001b[0m\u001b[0mload\u001b[0m\u001b[0;34m(\u001b[0m\u001b[0mf\u001b[0m\u001b[0;34m)\u001b[0m\u001b[0;34m\u001b[0m\u001b[0;34m\u001b[0m\u001b[0m\n\u001b[0m\u001b[1;32m      3\u001b[0m \u001b[0;31m#     data = pickle.load(f)\u001b[0m\u001b[0;34m\u001b[0m\u001b[0;34m\u001b[0m\u001b[0;34m\u001b[0m\u001b[0m\n\u001b[1;32m      4\u001b[0m \u001b[0;31m# model, history = train_resnet(data, epochs=EPOCHS, pretrained_model=model)\u001b[0m\u001b[0;34m\u001b[0m\u001b[0;34m\u001b[0m\u001b[0;34m\u001b[0m\u001b[0m\n",
      "\u001b[0;31mEOFError\u001b[0m: Ran out of input"
     ]
    }
   ],
   "source": [
    "with open('../../data/processed/dota/data2_2.pickle', 'rb') as f:\n",
    "    data = data + pickle.load(f)\n",
    "#     data = pickle.load(f)\n",
    "# model, history = train_resnet(data, epochs=EPOCHS, pretrained_model=model)"
   ]
  },
  {
   "cell_type": "code",
   "execution_count": 5,
   "metadata": {},
   "outputs": [],
   "source": [
    "with open('../../data/processed/dota/data3.pickle', 'rb') as f:\n",
    "    data = data + pickle.load(f)"
   ]
  },
  {
   "cell_type": "code",
   "execution_count": 15,
   "metadata": {},
   "outputs": [],
   "source": [
    "model, history = train_resnet(data, epochs=EPOCHS, batch_size=1000, lr=0.001)"
   ]
  },
  {
   "cell_type": "code",
   "execution_count": 7,
   "metadata": {},
   "outputs": [],
   "source": [
    "with open('../../data/processed/dota/data4.pickle', 'rb') as f:\n",
    "    # data = data + pickle.load(f)\n",
    "    data = pickle.load(f)"
   ]
  },
  {
   "cell_type": "code",
   "execution_count": 8,
   "metadata": {},
   "outputs": [],
   "source": [
    "with open('../../data/processed/dota/data5.pickle', 'rb') as f:\n",
    "    data = data + pickle.load(f)"
   ]
  },
  {
   "cell_type": "code",
   "execution_count": 9,
   "metadata": {},
   "outputs": [],
   "source": [
    "with open('../../data/processed/dota/data6.pickle', 'rb') as f:\n",
    "    data = data + pickle.load(f)"
   ]
  },
  {
   "cell_type": "code",
   "execution_count": 10,
   "metadata": {},
   "outputs": [
    {
     "output_type": "stream",
     "name": "stdout",
     "text": [
      "Epoch 1/2\n",
      "14/14 [==============================] - 159s 11s/step - loss: 0.4738 - accuracy: 0.7527 - val_loss: 0.4221 - val_accuracy: 0.7601\n",
      "Epoch 2/2\n",
      "14/14 [==============================] - 160s 11s/step - loss: 0.3417 - accuracy: 0.8600 - val_loss: 0.3159 - val_accuracy: 0.8940\n"
     ]
    }
   ],
   "source": [
    "model, history = train_resnet(data, epochs=EPOCHS, batch_size=1000, lr=0.001, pretrained_model=model)"
   ]
  },
  {
   "source": [
    "### ResNet training"
   ],
   "cell_type": "markdown",
   "metadata": {}
  },
  {
   "cell_type": "code",
   "execution_count": 11,
   "metadata": {},
   "outputs": [],
   "source": [
    "# model, history = train_resnet(data, epochs=3, batch_size=1000, lr=0.001)"
   ]
  },
  {
   "source": [
    "### Validation"
   ],
   "cell_type": "markdown",
   "metadata": {}
  },
  {
   "cell_type": "code",
   "execution_count": null,
   "metadata": {},
   "outputs": [],
   "source": [
    "data = None"
   ]
  },
  {
   "cell_type": "code",
   "execution_count": null,
   "metadata": {},
   "outputs": [],
   "source": [
    "def validate_model(\n",
    "    dataset_loader: DatasetLoader,\n",
    "    input_folder_filepath: str,\n",
    "    images_files_types: Tuple[str],\n",
    "    annotations_files_types: Tuple[str],\n",
    "    detector: Detector,\n",
    "    workers: int = 0\n",
    "):\n",
    "\n",
    "    images = dataset_loader.load_dataset(\n",
    "        input_folder_filepath,\n",
    "        images_files_types,\n",
    "        annotations_files_types,\n",
    "        False\n",
    "    )\n",
    "\n",
    "    processed_images = []\n",
    "\n",
    "    for image in tqdm(images):\n",
    "        processed_images.append(\n",
    "            detector(deepcopy(image), workers, False)\n",
    "        )\n",
    "\n",
    "    return processed_images"
   ]
  },
  {
   "cell_type": "code",
   "execution_count": null,
   "metadata": {},
   "outputs": [],
   "source": [
    "class LBPWrapper:\n",
    "    def __init__(self, lbp):\n",
    "        self.lbl = slf.lbp\n",
    "\n",
    "    def process(self, image):\n",
    "        return self.lbl.process(image)[1]\n",
    "\n"
   ]
  },
  {
   "cell_type": "code",
   "execution_count": null,
   "metadata": {},
   "outputs": [],
   "source": [
    "dataset_loader = DOTADatasetLoader(\n",
    "    image_loader=DOTASquareImageLoader()\n",
    ")\n",
    "\n",
    "process_pipeline=RawImageToImage(\n",
    "    processors=[\n",
    "        Resize((100, 100)),\n",
    "        # LBPWrapper(LBPDescriptor(\n",
    "        #     bins = 256,\n",
    "        #     range = (0, 256)\n",
    "        # )),\n",
    "        NormImage()\n",
    "    ]\n",
    ")\n",
    "\n",
    "sliding_window = SlidingWindow(\n",
    "    step_size=25,\n",
    "    window_size=(50, 50)\n",
    ")\n",
    "\n",
    "slider_detector = NNSliderDetector(\n",
    "    sliding_window=sliding_window,\n",
    "    process_pipeline=process_pipeline,\n",
    "    classifier=ResnetModelWrapper(model),\n",
    "    treshold=0.95,\n",
    "    nms_overlap=0.4\n",
    ")"
   ]
  },
  {
   "cell_type": "code",
   "execution_count": null,
   "metadata": {
    "tags": []
   },
   "outputs": [],
   "source": [
    "processed_images = validate_model(\n",
    "    dataset_loader=dataset_loader,\n",
    "    input_folder_filepath='../../data/raw/dota/val_dev',\n",
    "    images_files_types=('jpg', 'JPG', 'png'),\n",
    "    annotations_files_types=('txt',),\n",
    "    detector=slider_detector\n",
    ")"
   ]
  },
  {
   "cell_type": "code",
   "execution_count": null,
   "metadata": {},
   "outputs": [],
   "source": [
    "plt.figure(figsize=(20,10))\n",
    "plt.imshow(processed_images[0][0])"
   ]
  },
  {
   "cell_type": "code",
   "execution_count": null,
   "metadata": {},
   "outputs": [],
   "source": [
    "plt.figure(figsize=(20,10))\n",
    "plt.imshow(processed_images[1][0])"
   ]
  },
  {
   "cell_type": "code",
   "execution_count": null,
   "metadata": {},
   "outputs": [],
   "source": [
    "plt.figure(figsize=(20,10))\n",
    "plt.imshow(processed_images[2][0])"
   ]
  },
  {
   "cell_type": "code",
   "execution_count": null,
   "metadata": {},
   "outputs": [],
   "source": [
    "plt.figure(figsize=(20,10))\n",
    "plt.imshow(processed_images[3][0])"
   ]
  },
  {
   "cell_type": "code",
   "execution_count": null,
   "metadata": {},
   "outputs": [],
   "source": [
    "plt.figure(figsize=(20,10))\n",
    "plt.imshow(processed_images[4][0])"
   ]
  },
  {
   "cell_type": "code",
   "execution_count": null,
   "metadata": {},
   "outputs": [],
   "source": []
  }
 ]
}