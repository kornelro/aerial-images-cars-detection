{
 "metadata": {
  "language_info": {
   "codemirror_mode": {
    "name": "ipython",
    "version": 3
   },
   "file_extension": ".py",
   "mimetype": "text/x-python",
   "name": "python",
   "nbconvert_exporter": "python",
   "pygments_lexer": "ipython3",
   "version": "3.8.5-final"
  },
  "orig_nbformat": 2,
  "kernelspec": {
   "name": "python38564bitvenvcvvenv6cf5d49a40c1440a9f0299998fa89af2",
   "display_name": "Python 3.8.5 64-bit ('venv_cv': venv)",
   "language": "python"
  }
 },
 "nbformat": 4,
 "nbformat_minor": 2,
 "cells": [
  {
   "cell_type": "code",
   "execution_count": 13,
   "metadata": {},
   "outputs": [],
   "source": [
    "from src.data.make_dataset import make_dataset\n",
    "from src.data.image_loaders import AerialCarsSquareImageLoader, AerialCarsFixedSizeImageLoader, DOTASquareImageLoader\n",
    "from src.data.dataset_loaders import AerialCarsDatasetLoader, DOTADatasetLoader\n",
    "from src.features.pipelines import RawImageToImage\n",
    "from src.features.processors import NormImage, Resize\n",
    "from src.features.pipelines import RawImageToFeatures\n",
    "from src.features.processors import RotateToHorizontal, Resize\n",
    "from src.features.descriptors import HOGDescriptor, LBPDescriptor"
   ]
  },
  {
   "source": [
    "## Aerial cars dataset"
   ],
   "cell_type": "markdown",
   "metadata": {}
  },
  {
   "cell_type": "code",
   "execution_count": 14,
   "metadata": {},
   "outputs": [],
   "source": [
    "BND_BOX_SIZE = (80, 80)\n",
    "\n",
    "dataset_loader = AerialCarsDatasetLoader(\n",
    "    image_loader=AerialCarsFixedSizeImageLoader(\n",
    "        bnd_box_size=BND_BOX_SIZE\n",
    "    )\n",
    ")\n",
    "\n",
    "process_pipeline = RawImageToFeatures(\n",
    "    processors=[\n",
    "        # RotateToHorizontal(),\n",
    "        # Resize(\n",
    "        #     output_size=(64, 64)\n",
    "        # )\n",
    "    ],\n",
    "    descriptors=[\n",
    "        HOGDescriptor(\n",
    "            orientations = 9,\n",
    "            cells_per_block = (2, 2),\n",
    "            pixels_per_cell = (4, 4),\n",
    "            multichannel = True,\n",
    "            visualize = True\n",
    "        ),\n",
    "        LBPDescriptor(\n",
    "            bins = 256,\n",
    "            range = (0, 256)\n",
    "        )\n",
    "    ]\n",
    ")"
   ]
  },
  {
   "cell_type": "code",
   "execution_count": 15,
   "metadata": {},
   "outputs": [
    {
     "output_type": "stream",
     "name": "stderr",
     "text": [
      "100%|██████████| 72/72 [00:01<00:00, 54.68it/s]\n",
      "100%|██████████| 22/22 [00:00<00:00, 276.33it/s]\n",
      "100%|██████████| 1312/1312 [00:00<00:00, 4918.23it/s]\n"
     ]
    }
   ],
   "source": [
    "data = make_dataset(\n",
    "    input_folder_filepath='../../data/raw/aerial-cars-dataset/',\n",
    "    output_filepath='../../data/processed/aerial-cars-dataset/data_features_fixed_rotated.pickle',\n",
    "    dataset_loader=dataset_loader,\n",
    "    images_files_types=('jpg', 'JPG', 'png'),\n",
    "    annotations_files_types=('txt',),\n",
    "    process_pipeline=process_pipeline,\n",
    "    rotate_positive_examples=True,\n",
    "    negative_images_size=(100, 100),\n",
    "    negative_examples_size=0.5,\n",
    "    workers=7,\n",
    "    verbose=True\n",
    ")"
   ]
  },
  {
   "source": [
    "## DOTA"
   ],
   "cell_type": "markdown",
   "metadata": {}
  },
  {
   "cell_type": "code",
   "execution_count": null,
   "metadata": {},
   "outputs": [],
   "source": []
  }
 ]
}