{
 "metadata": {
  "language_info": {
   "codemirror_mode": {
    "name": "ipython",
    "version": 3
   },
   "file_extension": ".py",
   "mimetype": "text/x-python",
   "name": "python",
   "nbconvert_exporter": "python",
   "pygments_lexer": "ipython3",
   "version": "3.8.5-final"
  },
  "orig_nbformat": 2,
  "kernelspec": {
   "name": "python38564bitvenvcvvenv04d7b874b92044e78fa30336a91fb345",
   "display_name": "Python 3.8.5 64-bit ('venv_cv': venv)"
  }
 },
 "nbformat": 4,
 "nbformat_minor": 2,
 "cells": [
  {
   "cell_type": "code",
   "execution_count": 14,
   "metadata": {},
   "outputs": [
    {
     "output_type": "stream",
     "name": "stderr",
     "text": [
      "DEBUG:root:test\n"
     ]
    }
   ],
   "source": [
    "import logging\n",
    "logger = logging.getLogger()\n",
    "logger.setLevel(logging.DEBUG)\n",
    "logging.debug(\"test\")"
   ]
  },
  {
   "cell_type": "code",
   "execution_count": 15,
   "metadata": {},
   "outputs": [],
   "source": [
    "from sklearn.model_selection import train_test_split\n",
    "from sklearn.svm import SVC\n",
    "from sklearn.metrics import classification_report\n",
    "from sklearn.preprocessing import StandardScaler\n",
    "from sklearn.pipeline import make_pipeline\n",
    "import time"
   ]
  },
  {
   "cell_type": "code",
   "execution_count": 16,
   "metadata": {},
   "outputs": [],
   "source": [
    "from src.data.make_dataset import make_dataset\n",
    "from src.data.dataset_loaders import AerialCarsDatasetLoader\n",
    "from src.data.image_loaders import AerialCarsImageLoader\n",
    "from src.features.pipelines import RawImageToFeatures\n",
    "from src.features.processors import RotateToHorizontal, Resize\n",
    "from src.features.descriptors import HOGDescriptor, LBPDescriptor"
   ]
  },
  {
   "source": [
    "## Synchronous approach"
   ],
   "cell_type": "markdown",
   "metadata": {}
  },
  {
   "cell_type": "code",
   "execution_count": 17,
   "metadata": {},
   "outputs": [
    {
     "output_type": "stream",
     "name": "stderr",
     "text": [
      "INFO:src.data.make_dataset:Reading images...\n",
      "100%|██████████| 31/31 [00:00<00:00, 38.63it/s]\n",
      "INFO:src.data.make_dataset:Croping cars...\n",
      "100%|██████████| 15/15 [00:00<00:00, 506.57it/s]\n",
      "INFO:src.data.make_dataset:Cropping random boxes...\n",
      "100%|██████████| 314/314 [00:00<00:00, 15210.62it/s]\n",
      "INFO:src.data.make_dataset:Processing images...\n",
      "100%|██████████| 628/628 [00:26<00:00, 23.90it/s]\n",
      "--- 27.144628763198853 seconds ---\n",
      "\n"
     ]
    }
   ],
   "source": [
    "start_time = time.time()\n",
    "\n",
    "data = make_dataset(\n",
    "    input_folder_filepath='../data/interim/aerial-cars-dataset/',\n",
    "    output_filepath='output_path',\n",
    "    dataset_loader=AerialCarsDatasetLoader(\n",
    "        image_loader=AerialCarsImageLoader()\n",
    "    ),\n",
    "    images_files_types=('jpg', 'JPG', 'png'),\n",
    "    annotations_files_types=('txt',),\n",
    "    process_pipeline=RawImageToFeatures(\n",
    "        processors=[\n",
    "            RotateToHorizontal(),\n",
    "            Resize(\n",
    "                output_size=(32, 64)\n",
    "            )\n",
    "        ],\n",
    "        descriptors=[\n",
    "            HOGDescriptor(\n",
    "                orientations = 9,\n",
    "                cells_per_block = (2, 2),\n",
    "                pixels_per_cell = (4, 4),\n",
    "                multichannel = True,\n",
    "                visualize = True\n",
    "            ),\n",
    "            LBPDescriptor(\n",
    "                bins = 256,\n",
    "                range = (0, 256)\n",
    "            )\n",
    "        ]\n",
    "    ),\n",
    "    negative_images_size=(32, 64),\n",
    "    negative_examples_size=0.5,\n",
    "    workers=0,\n",
    "    verbose=True\n",
    ")\n",
    "\n",
    "print()\n",
    "print(\"--- %s seconds ---\" % (time.time() - start_time))"
   ]
  },
  {
   "cell_type": "code",
   "execution_count": 18,
   "metadata": {},
   "outputs": [
    {
     "output_type": "stream",
     "name": "stdout",
     "text": [
      "              precision    recall  f1-score   support\n",
      "\n",
      "           0       0.84      0.91      0.87        96\n",
      "           1       0.91      0.85      0.88       112\n",
      "\n",
      "    accuracy                           0.88       208\n",
      "   macro avg       0.88      0.88      0.87       208\n",
      "weighted avg       0.88      0.88      0.88       208\n",
      "\n",
      "              precision    recall  f1-score   support\n",
      "\n",
      "           0       0.95      0.98      0.96        96\n",
      "           1       0.98      0.96      0.97       112\n",
      "\n",
      "    accuracy                           0.97       208\n",
      "   macro avg       0.97      0.97      0.97       208\n",
      "weighted avg       0.97      0.97      0.97       208\n",
      "\n"
     ]
    }
   ],
   "source": [
    "X = list(map(lambda x: x[1], data))\n",
    "y = list(map(lambda x: x[2], data))\n",
    "X_train, X_test, y_train, y_test = train_test_split(X, y, test_size=0.33, random_state=42)\n",
    "clf = make_pipeline(SVC(gamma='auto'))\n",
    "clf.fit(X_train, y_train)\n",
    "y_pred = clf.predict(X_test)\n",
    "print(classification_report(y_test, y_pred))\n",
    "clf = make_pipeline(StandardScaler(), SVC(gamma='auto'))\n",
    "clf.fit(X_train, y_train)\n",
    "y_pred = clf.predict(X_test)\n",
    "print(classification_report(y_test, y_pred))"
   ]
  },
  {
   "source": [
    "## Parallel approach"
   ],
   "cell_type": "markdown",
   "metadata": {}
  },
  {
   "cell_type": "code",
   "execution_count": 21,
   "metadata": {},
   "outputs": [
    {
     "output_type": "stream",
     "name": "stderr",
     "text": [
      "INFO:src.data.make_dataset:Reading images...\n",
      "100%|██████████| 31/31 [00:00<00:00, 41.20it/s]\n",
      "INFO:src.data.make_dataset:Croping cars...\n",
      "100%|██████████| 15/15 [00:00<00:00, 589.59it/s]\n",
      "INFO:src.data.make_dataset:Cropping random boxes...\n",
      "100%|██████████| 314/314 [00:00<00:00, 14922.46it/s]\n",
      "INFO:src.data.make_dataset:Processing images...\n",
      "\n",
      "--- 14.50227427482605 seconds ---\n"
     ]
    }
   ],
   "source": [
    "start_time = time.time()\n",
    "\n",
    "data = make_dataset(\n",
    "    input_folder_filepath='../data/interim/aerial-cars-dataset/',\n",
    "    output_filepath='output_path',\n",
    "    dataset_loader=AerialCarsDatasetLoader(\n",
    "        image_loader=AerialCarsImageLoader()\n",
    "    ),\n",
    "    images_files_types=('jpg', 'JPG', 'png'),\n",
    "    annotations_files_types=('txt',),\n",
    "    process_pipeline=RawImageToFeatures(\n",
    "        processors=[\n",
    "            RotateToHorizontal(),\n",
    "            Resize(\n",
    "                output_size=(32, 64)\n",
    "            )\n",
    "        ],\n",
    "        descriptors=[\n",
    "            HOGDescriptor(\n",
    "                orientations = 9,\n",
    "                cells_per_block = (2, 2),\n",
    "                pixels_per_cell = (4, 4),\n",
    "                multichannel = True,\n",
    "                visualize = True\n",
    "            ),\n",
    "            LBPDescriptor(\n",
    "                bins = 256,\n",
    "                range = (0, 256)\n",
    "            )\n",
    "        ]\n",
    "    ),\n",
    "    negative_images_size=(32, 64),\n",
    "    negative_examples_size=0.5,\n",
    "    workers=7,\n",
    "    verbose=True\n",
    ")\n",
    "\n",
    "print()\n",
    "print(\"--- %s seconds ---\" % (time.time() - start_time))"
   ]
  },
  {
   "cell_type": "code",
   "execution_count": 22,
   "metadata": {},
   "outputs": [
    {
     "output_type": "stream",
     "name": "stdout",
     "text": [
      "              precision    recall  f1-score   support\n",
      "\n",
      "           0       0.77      0.98      0.86        96\n",
      "           1       0.98      0.75      0.85       112\n",
      "\n",
      "    accuracy                           0.86       208\n",
      "   macro avg       0.87      0.86      0.86       208\n",
      "weighted avg       0.88      0.86      0.85       208\n",
      "\n",
      "              precision    recall  f1-score   support\n",
      "\n",
      "           0       0.95      0.98      0.96        96\n",
      "           1       0.98      0.96      0.97       112\n",
      "\n",
      "    accuracy                           0.97       208\n",
      "   macro avg       0.97      0.97      0.97       208\n",
      "weighted avg       0.97      0.97      0.97       208\n",
      "\n"
     ]
    }
   ],
   "source": [
    "X = list(map(lambda x: x[1], data))\n",
    "y = list(map(lambda x: x[2], data))\n",
    "X_train, X_test, y_train, y_test = train_test_split(X, y, test_size=0.33, random_state=42)\n",
    "clf = make_pipeline(SVC(gamma='auto'))\n",
    "clf.fit(X_train, y_train)\n",
    "y_pred = clf.predict(X_test)\n",
    "print(classification_report(y_test, y_pred))\n",
    "clf = make_pipeline(StandardScaler(), SVC(gamma='auto'))\n",
    "clf.fit(X_train, y_train)\n",
    "y_pred = clf.predict(X_test)\n",
    "print(classification_report(y_test, y_pred))"
   ]
  },
  {
   "cell_type": "code",
   "execution_count": null,
   "metadata": {},
   "outputs": [],
   "source": []
  }
 ]
}