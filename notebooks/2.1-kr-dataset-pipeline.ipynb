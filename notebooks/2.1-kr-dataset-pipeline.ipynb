{
 "metadata": {
  "language_info": {
   "codemirror_mode": {
    "name": "ipython",
    "version": 3
   },
   "file_extension": ".py",
   "mimetype": "text/x-python",
   "name": "python",
   "nbconvert_exporter": "python",
   "pygments_lexer": "ipython3",
   "version": "3.8.5-final"
  },
  "orig_nbformat": 2,
  "kernelspec": {
   "name": "python38564bitvenvcvvenv04d7b874b92044e78fa30336a91fb345",
   "display_name": "Python 3.8.5 64-bit ('venv_cv': venv)"
  }
 },
 "nbformat": 4,
 "nbformat_minor": 2,
 "cells": [
  {
   "cell_type": "code",
   "execution_count": 1,
   "metadata": {},
   "outputs": [],
   "source": [
    "from src.data.make_dataset import make_dataset\n",
    "from src.data.dataset_loaders import AerialCarsDatasetLoader\n",
    "from src.data.image_loaders import AerialCarsImageLoader\n",
    "from src.features.pipelines import RawImageToFeatures\n",
    "from src.features.processors import RotateToHorizontal, Resize\n",
    "from src.features.descriptors import HOGDescriptor, LBPDescriptor"
   ]
  },
  {
   "cell_type": "code",
   "execution_count": 2,
   "metadata": {},
   "outputs": [
    {
     "output_type": "stream",
     "name": "stderr",
     "text": [
      "100%|██████████| 31/31 [00:00<00:00, 38.63it/s]\n",
      "100%|██████████| 15/15 [00:00<00:00, 538.80it/s]\n",
      "  0%|          | 0/314 [00:00<?, ?it/s]\n"
     ]
    },
    {
     "output_type": "error",
     "ename": "error",
     "evalue": "OpenCV(4.4.0) /tmp/pip-req-build-vu_aq9yd/opencv/modules/imgproc/src/convhull.cpp:143: error: (-215:Assertion failed) total >= 0 && (depth == CV_32F || depth == CV_32S) in function 'convexHull'\n",
     "traceback": [
      "\u001b[0;31m---------------------------------------------------------------------------\u001b[0m",
      "\u001b[0;31merror\u001b[0m                                     Traceback (most recent call last)",
      "\u001b[0;32m<ipython-input-2-4ace29176704>\u001b[0m in \u001b[0;36m<module>\u001b[0;34m\u001b[0m\n\u001b[0;32m----> 1\u001b[0;31m data = make_dataset(\n\u001b[0m\u001b[1;32m      2\u001b[0m     \u001b[0minput_folder_filepath\u001b[0m\u001b[0;34m=\u001b[0m\u001b[0;34m'../data/interim/aerial-cars-dataset/'\u001b[0m\u001b[0;34m,\u001b[0m\u001b[0;34m\u001b[0m\u001b[0;34m\u001b[0m\u001b[0m\n\u001b[1;32m      3\u001b[0m     \u001b[0moutput_filepath\u001b[0m\u001b[0;34m=\u001b[0m\u001b[0;34m'output_path'\u001b[0m\u001b[0;34m,\u001b[0m\u001b[0;34m\u001b[0m\u001b[0;34m\u001b[0m\u001b[0m\n\u001b[1;32m      4\u001b[0m     dataset_loader=AerialCarsDatasetLoader(\n\u001b[1;32m      5\u001b[0m         \u001b[0mimage_loader\u001b[0m\u001b[0;34m=\u001b[0m\u001b[0mAerialCarsImageLoader\u001b[0m\u001b[0;34m(\u001b[0m\u001b[0;34m)\u001b[0m\u001b[0;34m\u001b[0m\u001b[0;34m\u001b[0m\u001b[0m\n",
      "\u001b[0;32m~/Projects/CV/cv_project/venv_cv/lib/python3.8/site-packages/src-0.1.0-py3.8.egg/src/data/make_dataset.py\u001b[0m in \u001b[0;36mmake_dataset\u001b[0;34m(input_folder_filepath, output_filepath, dataset_loader, images_files_types, annotations_files_types, process_pipeline, negative_examples_size, workers, verbose)\u001b[0m\n\u001b[1;32m     66\u001b[0m         \u001b[0mimage\u001b[0m \u001b[0;34m=\u001b[0m \u001b[0mrandom\u001b[0m\u001b[0;34m.\u001b[0m\u001b[0mchoice\u001b[0m\u001b[0;34m(\u001b[0m\u001b[0mimages\u001b[0m\u001b[0;34m)\u001b[0m\u001b[0;34m\u001b[0m\u001b[0;34m\u001b[0m\u001b[0m\n\u001b[1;32m     67\u001b[0m         data.append(\n\u001b[0;32m---> 68\u001b[0;31m             \u001b[0mimage\u001b[0m\u001b[0;34m.\u001b[0m\u001b[0mget_car\u001b[0m\u001b[0;34m(\u001b[0m\u001b[0mimage\u001b[0m\u001b[0;34m.\u001b[0m\u001b[0mget_random_box\u001b[0m\u001b[0;34m(\u001b[0m\u001b[0;34m)\u001b[0m\u001b[0;34m)\u001b[0m\u001b[0;34m,\u001b[0m\u001b[0;34m\u001b[0m\u001b[0;34m\u001b[0m\u001b[0m\n\u001b[0m\u001b[1;32m     69\u001b[0m             \u001b[0;36m0\u001b[0m\u001b[0;34m\u001b[0m\u001b[0;34m\u001b[0m\u001b[0m\n\u001b[1;32m     70\u001b[0m         )\n",
      "\u001b[0;32m~/Projects/CV/cv_project/venv_cv/lib/python3.8/site-packages/src-0.1.0-py3.8.egg/src/data/image.py\u001b[0m in \u001b[0;36mget_car\u001b[0;34m(self, bnd_box)\u001b[0m\n\u001b[1;32m     32\u001b[0m             ])\n\u001b[1;32m     33\u001b[0m \u001b[0;34m\u001b[0m\u001b[0m\n\u001b[0;32m---> 34\u001b[0;31m         \u001b[0mrect\u001b[0m \u001b[0;34m=\u001b[0m \u001b[0mcv2\u001b[0m\u001b[0;34m.\u001b[0m\u001b[0mminAreaRect\u001b[0m\u001b[0;34m(\u001b[0m\u001b[0mcnt\u001b[0m\u001b[0;34m)\u001b[0m\u001b[0;34m\u001b[0m\u001b[0;34m\u001b[0m\u001b[0m\n\u001b[0m\u001b[1;32m     35\u001b[0m         \u001b[0mbox\u001b[0m \u001b[0;34m=\u001b[0m \u001b[0mcv2\u001b[0m\u001b[0;34m.\u001b[0m\u001b[0mboxPoints\u001b[0m\u001b[0;34m(\u001b[0m\u001b[0mrect\u001b[0m\u001b[0;34m)\u001b[0m\u001b[0;34m\u001b[0m\u001b[0;34m\u001b[0m\u001b[0m\n\u001b[1;32m     36\u001b[0m         \u001b[0mbox\u001b[0m \u001b[0;34m=\u001b[0m \u001b[0mnp\u001b[0m\u001b[0;34m.\u001b[0m\u001b[0mint0\u001b[0m\u001b[0;34m(\u001b[0m\u001b[0mbox\u001b[0m\u001b[0;34m)\u001b[0m\u001b[0;34m\u001b[0m\u001b[0;34m\u001b[0m\u001b[0m\n",
      "\u001b[0;31merror\u001b[0m: OpenCV(4.4.0) /tmp/pip-req-build-vu_aq9yd/opencv/modules/imgproc/src/convhull.cpp:143: error: (-215:Assertion failed) total >= 0 && (depth == CV_32F || depth == CV_32S) in function 'convexHull'\n"
     ]
    }
   ],
   "source": [
    "data = make_dataset(\n",
    "    input_folder_filepath='../data/interim/aerial-cars-dataset/',\n",
    "    output_filepath='output_path',\n",
    "    dataset_loader=AerialCarsDatasetLoader(\n",
    "        image_loader=AerialCarsImageLoader()\n",
    "    ),\n",
    "    images_files_types=('jpg', 'JPG', 'png'),\n",
    "    annotations_files_types=('txt',),\n",
    "    process_pipeline=RawImageToFeatures(\n",
    "        processors=[\n",
    "            RotateToHorizontal(),\n",
    "            Resize(\n",
    "                output_size=(32, 64)\n",
    "            )\n",
    "        ],\n",
    "        descriptors=[\n",
    "            HOGDescriptor(\n",
    "                orientations = 9,\n",
    "                cells_per_block = (2, 2),\n",
    "                pixels_per_cell = (4, 4),\n",
    "                multichannel = True,\n",
    "                visualize = True\n",
    "            ),\n",
    "            LBPDescriptor(\n",
    "                bins = 256,\n",
    "                range = (0, 256)\n",
    "            )\n",
    "        ]\n",
    "    ),\n",
    "    negative_examples_size=0.5,\n",
    "    workers=0,\n",
    "    verbose=True\n",
    ")"
   ]
  },
  {
   "cell_type": "code",
   "execution_count": null,
   "metadata": {},
   "outputs": [],
   "source": []
  }
 ]
}