{
  "nbformat": 4,
  "nbformat_minor": 0,
  "metadata": {
    "colab": {
      "name": "cv_test_nn_3.ipynb",
      "provenance": [],
      "collapsed_sections": []
    },
    "kernelspec": {
      "name": "python38564bitvenvcvfef54e1fd70743369b74101f6bc0a79a",
      "display_name": "Python 3.8.5 64-bit ('venv_cv')",
      "language": "python"
    }
  },
  "cells": [
    {
      "cell_type": "markdown",
      "metadata": {
        "id": "SbXxpsGbKSqW"
      },
      "source": [
        "### Install project"
      ]
    },
    {
      "cell_type": "code",
      "metadata": {
        "id": "SgKVumW3KcJy",
        "colab": {
          "base_uri": "https://localhost:8080/"
        },
        "outputId": "6d34d0da-4be8-42ef-86b8-bd6c22d72223"
      },
      "source": [
        "!git clone https://github.com/kornelro/cv_project.git"
      ],
      "execution_count": 1,
      "outputs": [
        {
          "output_type": "stream",
          "text": [
            "Cloning into 'cv_project'...\n",
            "remote: Enumerating objects: 500, done.\u001b[K\n",
            "remote: Counting objects: 100% (500/500), done.\u001b[K\n",
            "remote: Compressing objects: 100% (353/353), done.\u001b[K\n",
            "remote: Total 778 (delta 186), reused 287 (delta 79), pack-reused 278\n",
            "Receiving objects: 100% (778/778), 103.92 MiB | 30.67 MiB/s, done.\n",
            "Resolving deltas: 100% (332/332), done.\n"
          ],
          "name": "stdout"
        }
      ]
    },
    {
      "cell_type": "code",
      "metadata": {
        "id": "N0d2qzOIKeX9",
        "colab": {
          "base_uri": "https://localhost:8080/"
        },
        "outputId": "56f09c5f-7495-409c-a5cc-96707e85d966"
      },
      "source": [
        "!pip install cv_project/."
      ],
      "execution_count": 2,
      "outputs": [
        {
          "output_type": "stream",
          "text": [
            "Processing ./cv_project\n",
            "Building wheels for collected packages: src\n",
            "  Building wheel for src (setup.py) ... \u001b[?25l\u001b[?25hdone\n",
            "  Created wheel for src: filename=src-0.1.0-cp36-none-any.whl size=16556 sha256=a4c39e11c292f15034b992d47016be0155465b629edfb769a48db11dee89dfb3\n",
            "  Stored in directory: /tmp/pip-ephem-wheel-cache-8rzpodnb/wheels/fc/1b/40/72379bece2bafba26136079aeac87421c9221abafeb9c66746\n",
            "Successfully built src\n",
            "Installing collected packages: src\n",
            "Successfully installed src-0.1.0\n"
          ],
          "name": "stdout"
        }
      ]
    },
    {
      "cell_type": "markdown",
      "metadata": {
        "id": "l6W9ODL0KlRF"
      },
      "source": [
        "### Mount drive"
      ]
    },
    {
      "cell_type": "code",
      "metadata": {
        "id": "Qg0nQrTvKnze",
        "colab": {
          "base_uri": "https://localhost:8080/"
        },
        "outputId": "318983c2-fb62-4ad3-bd65-2cebc7998915"
      },
      "source": [
        "from google.colab import drive\n",
        "drive.mount('/content/drive')"
      ],
      "execution_count": 3,
      "outputs": [
        {
          "output_type": "stream",
          "text": [
            "Mounted at /content/drive\n"
          ],
          "name": "stdout"
        }
      ]
    },
    {
      "cell_type": "code",
      "metadata": {
        "id": "TQUA9-lWKs22"
      },
      "source": [
        "DRIVE_PATH = '/content/drive/Shareddrives/CV-PROJECT/'"
      ],
      "execution_count": 5,
      "outputs": []
    },
    {
      "cell_type": "markdown",
      "metadata": {
        "id": "Tug2lOM_K870"
      },
      "source": [
        "### Imports"
      ]
    },
    {
      "cell_type": "code",
      "metadata": {
        "id": "A34Or4RpcPEZ"
      },
      "source": [
        "from src.data.make_dataset import make_dataset\n",
        "from src.data.image_loaders import AerialCarsFixedSizeImageLoader\n",
        "from src.data.dataset_loaders import AerialCarsDatasetLoader\n",
        "from src.features.pipelines import RawImageToImage\n",
        "from src.features.processors import NormImage\n",
        "from src.models.classifiers import ResnetModelWrapper\n",
        "from src.models.detectors import SliderProbDetector\n",
        "from src.data.sliders import SlidingWindow\n",
        "from src.evaluation import validate_model, precision, recall, f1_score"
      ],
      "execution_count": 6,
      "outputs": []
    },
    {
      "cell_type": "code",
      "metadata": {
        "id": "EONCOFMZgGpa"
      },
      "source": [
        "from sklearn.model_selection import train_test_split\n",
        "from sklearn.svm import SVC\n",
        "from sklearn.metrics import classification_report\n",
        "from sklearn.preprocessing import StandardScaler\n",
        "from sklearn.pipeline import make_pipeline\n",
        "from copy import deepcopy\n",
        "import time\n",
        "import matplotlib.pyplot as plt\n",
        "import random\n",
        "from datetime import datetime\n",
        "import tensorflow as tf\n",
        "import tensorflow.keras as K\n",
        "import numpy as np\n",
        "import pandas as pd\n",
        "from sklearn.cluster import DBSCAN\n",
        "from sklearn.cluster import KMeans\n",
        "import cv2\n",
        "from tqdm import tqdm\n",
        "import pickle\n",
        "import pandas as pd\n",
        "import json\n",
        "from copy import deepcopy\n",
        "import tensorflow as tf"
      ],
      "execution_count": 7,
      "outputs": []
    },
    {
      "cell_type": "code",
      "metadata": {
        "id": "ogG1smNMWADo"
      },
      "source": [
        "tf.random.set_seed(1234)"
      ],
      "execution_count": 8,
      "outputs": []
    },
    {
      "cell_type": "code",
      "metadata": {
        "id": "ceBy0e9JNWkR"
      },
      "source": [
        "import os\n",
        "# from shutil import copyfile\n",
        "\n",
        "# for i in range(1,21):\n",
        "#   copyfile(DRIVE_PATH+'data/orto_detection/map1_1.txt', DRIVE_PATH+'data/orto_detection/'+str(i)+'/map'+str(i)+'_1.txt')\n",
        "#   copyfile(DRIVE_PATH+'data/orto_detection/map1_2.txt', DRIVE_PATH+'data/orto_detection/'+str(i)+'/map'+str(i)+'_2.txt')\n",
        "#   copyfile(DRIVE_PATH+'data/orto_detection/map1_3.txt', DRIVE_PATH+'data/orto_detection/'+str(i)+'/map'+str(i)+'_3.txt')\n",
        "\n",
        "# for i in range(1,21):\n",
        "#   copyfile(DRIVE_PATH+'data/raw/orto_parkings/map'+str(i)+'_1.png', DRIVE_PATH+'data/orto_detection/'+str(i)+'/map'+str(i)+'_1.png')\n",
        "#   copyfile(DRIVE_PATH+'data/raw/orto_parkings/map'+str(i)+'_2.png', DRIVE_PATH+'data/orto_detection/'+str(i)+'/map'+str(i)+'_2.png')\n",
        "#   copyfile(DRIVE_PATH+'data/raw/orto_parkings/map'+str(i)+'_3.png', DRIVE_PATH+'data/orto_detection/'+str(i)+'/map'+str(i)+'_3.png')"
      ],
      "execution_count": 9,
      "outputs": []
    },
    {
      "cell_type": "markdown",
      "metadata": {
        "id": "SUklYAb-MsqK"
      },
      "source": [
        "# Parkings"
      ]
    },
    {
      "cell_type": "markdown",
      "metadata": {
        "id": "RYAiZ5ZeP0wk"
      },
      "source": [
        "### Train ResNet50"
      ]
    },
    {
      "cell_type": "code",
      "metadata": {
        "id": "c1eVwYBzQOO8"
      },
      "source": [
        "DATA_PATH = DRIVE_PATH+'data/processed/aerial-cars-dataset/resnet/data_resnet.pickle'\n",
        "with open(DATA_PATH, 'rb') as f:\n",
        "    data = pickle.load(f)"
      ],
      "execution_count": 9,
      "outputs": []
    },
    {
      "cell_type": "code",
      "metadata": {
        "id": "1INERVuAPxL2"
      },
      "source": [
        "TEST_SIZE = 0.1\n",
        "BATCH_SIZE = 100\n",
        "EPOCHS = 1"
      ],
      "execution_count": 10,
      "outputs": []
    },
    {
      "cell_type": "code",
      "metadata": {
        "id": "pj-00DohQWd7",
        "colab": {
          "base_uri": "https://localhost:8080/"
        },
        "outputId": "6c96916b-2e51-455a-e784-6e4d33899d38"
      },
      "source": [
        "X = np.array(list(map(lambda x: x[1], data)))\n",
        "y = np.array(list(map(lambda x: x[2], data)))\n",
        "X_train, X_test, y_train, y_test = train_test_split(\n",
        "    X, y,\n",
        "    test_size=TEST_SIZE,\n",
        "    random_state=42\n",
        "  )\n",
        "\n",
        "\n",
        "input_t = K.Input(shape=(X[0].shape))\n",
        "res_model = K.applications.ResNet50V2(\n",
        "    include_top=False,\n",
        "    weights='imagenet',\n",
        "    input_tensor=input_t\n",
        ")\n",
        "\n",
        "for layer in res_model.layers:\n",
        "    layer.trainable = False\n",
        "\n",
        "model = K.models.Sequential()\n",
        "model.add(res_model)\n",
        "model.add(K.layers.Flatten())\n",
        "model.add(K.layers.Dense(2, activation='softmax'))\n",
        "\n",
        "\n",
        "model.compile(\n",
        "    optimizer=K.optimizers.Adam(0.001),\n",
        "    loss=K.losses.SparseCategoricalCrossentropy(),\n",
        "    metrics=['accuracy']\n",
        ")\n",
        "\n",
        "history = model.fit(X_train, y_train,\n",
        "            batch_size=BATCH_SIZE,\n",
        "            epochs=EPOCHS, \n",
        "            validation_data=(X_test, y_test)\n",
        ")"
      ],
      "execution_count": 11,
      "outputs": [
        {
          "output_type": "stream",
          "text": [
            "Downloading data from https://storage.googleapis.com/tensorflow/keras-applications/resnet/resnet50v2_weights_tf_dim_ordering_tf_kernels_notop.h5\n",
            "94674944/94668760 [==============================] - 1s 0us/step\n",
            "43/43 [==============================] - 13s 90ms/step - loss: 0.4740 - accuracy: 0.8926 - val_loss: 0.1319 - val_accuracy: 0.9746\n"
          ],
          "name": "stdout"
        }
      ]
    },
    {
      "cell_type": "markdown",
      "metadata": {
        "id": "WuQtgQEGQjTb"
      },
      "source": [
        "### Detection"
      ]
    },
    {
      "cell_type": "code",
      "metadata": {
        "id": "uBIETi0AQidj"
      },
      "source": [
        "del data"
      ],
      "execution_count": 12,
      "outputs": []
    },
    {
      "cell_type": "code",
      "metadata": {
        "id": "ZZecL8ckduhu"
      },
      "source": [
        "BND_BOX_SIZE = (80, 80)\n",
        "STEP_SIZE = 20\n",
        "\n",
        "dataset_loader = AerialCarsDatasetLoader(\n",
        "    image_loader=AerialCarsFixedSizeImageLoader(\n",
        "        bnd_box_size=BND_BOX_SIZE\n",
        "    )\n",
        ")\n",
        "\n",
        "process_pipeline=RawImageToImage(\n",
        "    processors=[\n",
        "        NormImage()\n",
        "    ]\n",
        ")\n",
        "\n",
        "sliding_window = SlidingWindow(\n",
        "    step_size=STEP_SIZE,\n",
        "    window_size=BND_BOX_SIZE\n",
        ")\n",
        "\n",
        "slider_detector = SliderProbDetector(\n",
        "    sliding_window=sliding_window,\n",
        "    process_pipeline=process_pipeline,\n",
        "    classifier=ResnetModelWrapper(model),\n",
        "    treshold=0.9,\n",
        "    nms_overlap=0.4\n",
        ")"
      ],
      "execution_count": 13,
      "outputs": []
    },
    {
      "cell_type": "code",
      "metadata": {
        "id": "qRhH8-66f5yU",
        "colab": {
          "base_uri": "https://localhost:8080/"
        },
        "outputId": "a1d6a861-941a-4aa9-8fc7-ec31d78a78b1"
      },
      "source": [
        "processed_images_dict = {}\n",
        "\n",
        "for i in range(1, 21):\n",
        "  true_positives, false_positives, false_negatives, processed_images = validate_model(\n",
        "    dataset_loader=dataset_loader,\n",
        "    input_folder_filepath=DRIVE_PATH+'data/orto_parkings/'+str(i),\n",
        "    output_folder_filepath=DRIVE_PATH+'data/orto_parkings/'+str(i),\n",
        "    images_files_types=('png',),\n",
        "    annotations_files_types=('txt',),\n",
        "    detector=slider_detector,\n",
        "    workers=0\n",
        "  )\n",
        "\n",
        "  processed_images_dict[i] = processed_images"
      ],
      "execution_count": 14,
      "outputs": [
        {
          "output_type": "stream",
          "text": [
            "\r  0%|          | 0/3 [00:00<?, ?it/s]"
          ],
          "name": "stderr"
        },
        {
          "output_type": "stream",
          "text": [
            "84\n"
          ],
          "name": "stdout"
        },
        {
          "output_type": "stream",
          "text": [
            " 67%|██████▋   | 2/3 [00:29<00:15, 15.57s/it]"
          ],
          "name": "stderr"
        },
        {
          "output_type": "stream",
          "text": [
            "10\n",
            "564\n"
          ],
          "name": "stdout"
        },
        {
          "output_type": "stream",
          "text": [
            "100%|██████████| 3/3 [00:42<00:00, 14.28s/it]\n",
            "  0%|          | 0/3 [00:00<?, ?it/s]"
          ],
          "name": "stderr"
        },
        {
          "output_type": "stream",
          "text": [
            "413\n"
          ],
          "name": "stdout"
        },
        {
          "output_type": "stream",
          "text": [
            " 67%|██████▋   | 2/3 [00:26<00:13, 13.14s/it]"
          ],
          "name": "stderr"
        },
        {
          "output_type": "stream",
          "text": [
            "64\n",
            "413\n"
          ],
          "name": "stdout"
        },
        {
          "output_type": "stream",
          "text": [
            "100%|██████████| 3/3 [00:39<00:00, 13.26s/it]\n",
            " 33%|███▎      | 1/3 [00:13<00:26, 13.32s/it]"
          ],
          "name": "stderr"
        },
        {
          "output_type": "stream",
          "text": [
            "61\n",
            "239\n"
          ],
          "name": "stdout"
        },
        {
          "output_type": "stream",
          "text": [
            "\r 67%|██████▋   | 2/3 [00:26<00:13, 13.37s/it]"
          ],
          "name": "stderr"
        },
        {
          "output_type": "stream",
          "text": [
            "440\n"
          ],
          "name": "stdout"
        },
        {
          "output_type": "stream",
          "text": [
            "100%|██████████| 3/3 [00:40<00:00, 13.50s/it]\n",
            " 33%|███▎      | 1/3 [00:13<00:26, 13.26s/it]"
          ],
          "name": "stderr"
        },
        {
          "output_type": "stream",
          "text": [
            "17\n"
          ],
          "name": "stdout"
        },
        {
          "output_type": "stream",
          "text": [
            "\r 67%|██████▋   | 2/3 [00:26<00:13, 13.27s/it]"
          ],
          "name": "stderr"
        },
        {
          "output_type": "stream",
          "text": [
            "119\n"
          ],
          "name": "stdout"
        },
        {
          "output_type": "stream",
          "text": [
            "100%|██████████| 3/3 [00:39<00:00, 13.26s/it]"
          ],
          "name": "stderr"
        },
        {
          "output_type": "stream",
          "text": [
            "95\n"
          ],
          "name": "stdout"
        },
        {
          "output_type": "stream",
          "text": [
            "\n",
            " 33%|███▎      | 1/3 [00:13<00:26, 13.27s/it]"
          ],
          "name": "stderr"
        },
        {
          "output_type": "stream",
          "text": [
            "26\n"
          ],
          "name": "stdout"
        },
        {
          "output_type": "stream",
          "text": [
            "\r 67%|██████▋   | 2/3 [00:26<00:13, 13.29s/it]"
          ],
          "name": "stderr"
        },
        {
          "output_type": "stream",
          "text": [
            "88\n"
          ],
          "name": "stdout"
        },
        {
          "output_type": "stream",
          "text": [
            "100%|██████████| 3/3 [00:40<00:00, 13.33s/it]"
          ],
          "name": "stderr"
        },
        {
          "output_type": "stream",
          "text": [
            "103\n"
          ],
          "name": "stdout"
        },
        {
          "output_type": "stream",
          "text": [
            "\n",
            " 33%|███▎      | 1/3 [00:13<00:26, 13.48s/it]"
          ],
          "name": "stderr"
        },
        {
          "output_type": "stream",
          "text": [
            "77\n"
          ],
          "name": "stdout"
        },
        {
          "output_type": "stream",
          "text": [
            "\r 67%|██████▋   | 2/3 [00:26<00:13, 13.46s/it]"
          ],
          "name": "stderr"
        },
        {
          "output_type": "stream",
          "text": [
            "184\n"
          ],
          "name": "stdout"
        },
        {
          "output_type": "stream",
          "text": [
            "100%|██████████| 3/3 [00:40<00:00, 13.45s/it]"
          ],
          "name": "stderr"
        },
        {
          "output_type": "stream",
          "text": [
            "174\n"
          ],
          "name": "stdout"
        },
        {
          "output_type": "stream",
          "text": [
            "\n",
            " 33%|███▎      | 1/3 [00:13<00:26, 13.37s/it]"
          ],
          "name": "stderr"
        },
        {
          "output_type": "stream",
          "text": [
            "38\n",
            "203\n"
          ],
          "name": "stdout"
        },
        {
          "output_type": "stream",
          "text": [
            "100%|██████████| 3/3 [00:40<00:00, 13.62s/it]"
          ],
          "name": "stderr"
        },
        {
          "output_type": "stream",
          "text": [
            "299\n"
          ],
          "name": "stdout"
        },
        {
          "output_type": "stream",
          "text": [
            "\n",
            " 33%|███▎      | 1/3 [00:13<00:26, 13.35s/it]"
          ],
          "name": "stderr"
        },
        {
          "output_type": "stream",
          "text": [
            "97\n",
            "368\n"
          ],
          "name": "stdout"
        },
        {
          "output_type": "stream",
          "text": [
            "\r 67%|██████▋   | 2/3 [00:26<00:13, 13.38s/it]"
          ],
          "name": "stderr"
        },
        {
          "output_type": "stream",
          "text": [
            "326\n"
          ],
          "name": "stdout"
        },
        {
          "output_type": "stream",
          "text": [
            "100%|██████████| 3/3 [00:40<00:00, 13.43s/it]\n",
            " 33%|███▎      | 1/3 [00:13<00:26, 13.41s/it]"
          ],
          "name": "stderr"
        },
        {
          "output_type": "stream",
          "text": [
            "43\n"
          ],
          "name": "stdout"
        },
        {
          "output_type": "stream",
          "text": [
            "\r 67%|██████▋   | 2/3 [00:26<00:13, 13.43s/it]"
          ],
          "name": "stderr"
        },
        {
          "output_type": "stream",
          "text": [
            "129\n"
          ],
          "name": "stdout"
        },
        {
          "output_type": "stream",
          "text": [
            "100%|██████████| 3/3 [00:40<00:00, 13.48s/it]"
          ],
          "name": "stderr"
        },
        {
          "output_type": "stream",
          "text": [
            "332\n"
          ],
          "name": "stdout"
        },
        {
          "output_type": "stream",
          "text": [
            "\n",
            " 33%|███▎      | 1/3 [00:13<00:26, 13.42s/it]"
          ],
          "name": "stderr"
        },
        {
          "output_type": "stream",
          "text": [
            "42\n"
          ],
          "name": "stdout"
        },
        {
          "output_type": "stream",
          "text": [
            "\r 67%|██████▋   | 2/3 [00:26<00:13, 13.42s/it]"
          ],
          "name": "stderr"
        },
        {
          "output_type": "stream",
          "text": [
            "178\n",
            "667\n"
          ],
          "name": "stdout"
        },
        {
          "output_type": "stream",
          "text": [
            "100%|██████████| 3/3 [00:40<00:00, 13.51s/it]\n",
            " 33%|███▎      | 1/3 [00:13<00:27, 13.87s/it]"
          ],
          "name": "stderr"
        },
        {
          "output_type": "stream",
          "text": [
            "10\n"
          ],
          "name": "stdout"
        },
        {
          "output_type": "stream",
          "text": [
            "\r 67%|██████▋   | 2/3 [00:27<00:13, 13.74s/it]"
          ],
          "name": "stderr"
        },
        {
          "output_type": "stream",
          "text": [
            "156\n",
            "473\n"
          ],
          "name": "stdout"
        },
        {
          "output_type": "stream",
          "text": [
            "100%|██████████| 3/3 [00:40<00:00, 13.60s/it]\n",
            " 33%|███▎      | 1/3 [00:13<00:26, 13.40s/it]"
          ],
          "name": "stderr"
        },
        {
          "output_type": "stream",
          "text": [
            "55\n"
          ],
          "name": "stdout"
        },
        {
          "output_type": "stream",
          "text": [
            "\r 67%|██████▋   | 2/3 [00:26<00:13, 13.41s/it]"
          ],
          "name": "stderr"
        },
        {
          "output_type": "stream",
          "text": [
            "110\n"
          ],
          "name": "stdout"
        },
        {
          "output_type": "stream",
          "text": [
            "100%|██████████| 3/3 [00:40<00:00, 13.43s/it]"
          ],
          "name": "stderr"
        },
        {
          "output_type": "stream",
          "text": [
            "313\n"
          ],
          "name": "stdout"
        },
        {
          "output_type": "stream",
          "text": [
            "\n",
            "  0%|          | 0/3 [00:00<?, ?it/s]"
          ],
          "name": "stderr"
        },
        {
          "output_type": "stream",
          "text": [
            "432\n"
          ],
          "name": "stdout"
        },
        {
          "output_type": "stream",
          "text": [
            "\r 33%|███▎      | 1/3 [00:13<00:27, 13.53s/it]"
          ],
          "name": "stderr"
        },
        {
          "output_type": "stream",
          "text": [
            "422\n"
          ],
          "name": "stdout"
        },
        {
          "output_type": "stream",
          "text": [
            "\r 67%|██████▋   | 2/3 [00:27<00:13, 13.52s/it]"
          ],
          "name": "stderr"
        },
        {
          "output_type": "stream",
          "text": [
            "431\n"
          ],
          "name": "stdout"
        },
        {
          "output_type": "stream",
          "text": [
            "100%|██████████| 3/3 [00:40<00:00, 13.46s/it]\n",
            " 33%|███▎      | 1/3 [00:13<00:26, 13.27s/it]"
          ],
          "name": "stderr"
        },
        {
          "output_type": "stream",
          "text": [
            "52\n",
            "634\n"
          ],
          "name": "stdout"
        },
        {
          "output_type": "stream",
          "text": [
            "\r 67%|██████▋   | 2/3 [00:26<00:13, 13.33s/it]"
          ],
          "name": "stderr"
        },
        {
          "output_type": "stream",
          "text": [
            "463\n"
          ],
          "name": "stdout"
        },
        {
          "output_type": "stream",
          "text": [
            "100%|██████████| 3/3 [00:40<00:00, 13.54s/it]\n",
            " 33%|███▎      | 1/3 [00:13<00:26, 13.43s/it]"
          ],
          "name": "stderr"
        },
        {
          "output_type": "stream",
          "text": [
            "146\n",
            "508\n"
          ],
          "name": "stdout"
        },
        {
          "output_type": "stream",
          "text": [
            "\r 67%|██████▋   | 2/3 [00:26<00:13, 13.44s/it]"
          ],
          "name": "stderr"
        },
        {
          "output_type": "stream",
          "text": [
            "672\n"
          ],
          "name": "stdout"
        },
        {
          "output_type": "stream",
          "text": [
            "100%|██████████| 3/3 [00:40<00:00, 13.48s/it]\n",
            " 33%|███▎      | 1/3 [00:13<00:26, 13.38s/it]"
          ],
          "name": "stderr"
        },
        {
          "output_type": "stream",
          "text": [
            "34\n"
          ],
          "name": "stdout"
        },
        {
          "output_type": "stream",
          "text": [
            "\r 67%|██████▋   | 2/3 [00:26<00:13, 13.40s/it]"
          ],
          "name": "stderr"
        },
        {
          "output_type": "stream",
          "text": [
            "73\n"
          ],
          "name": "stdout"
        },
        {
          "output_type": "stream",
          "text": [
            "100%|██████████| 3/3 [00:40<00:00, 13.42s/it]"
          ],
          "name": "stderr"
        },
        {
          "output_type": "stream",
          "text": [
            "169\n"
          ],
          "name": "stdout"
        },
        {
          "output_type": "stream",
          "text": [
            "\n",
            " 33%|███▎      | 1/3 [00:13<00:26, 13.35s/it]"
          ],
          "name": "stderr"
        },
        {
          "output_type": "stream",
          "text": [
            "42\n"
          ],
          "name": "stdout"
        },
        {
          "output_type": "stream",
          "text": [
            "\r 67%|██████▋   | 2/3 [00:26<00:13, 13.35s/it]"
          ],
          "name": "stderr"
        },
        {
          "output_type": "stream",
          "text": [
            "134\n"
          ],
          "name": "stdout"
        },
        {
          "output_type": "stream",
          "text": [
            "100%|██████████| 3/3 [00:40<00:00, 13.36s/it]"
          ],
          "name": "stderr"
        },
        {
          "output_type": "stream",
          "text": [
            "354\n"
          ],
          "name": "stdout"
        },
        {
          "output_type": "stream",
          "text": [
            "\n",
            " 33%|███▎      | 1/3 [00:13<00:26, 13.50s/it]"
          ],
          "name": "stderr"
        },
        {
          "output_type": "stream",
          "text": [
            "54\n"
          ],
          "name": "stdout"
        },
        {
          "output_type": "stream",
          "text": [
            "\r 67%|██████▋   | 2/3 [00:27<00:13, 13.56s/it]"
          ],
          "name": "stderr"
        },
        {
          "output_type": "stream",
          "text": [
            "136\n",
            "257\n"
          ],
          "name": "stdout"
        },
        {
          "output_type": "stream",
          "text": [
            "100%|██████████| 3/3 [00:40<00:00, 13.65s/it]\n",
            " 33%|███▎      | 1/3 [00:13<00:26, 13.42s/it]"
          ],
          "name": "stderr"
        },
        {
          "output_type": "stream",
          "text": [
            "33\n"
          ],
          "name": "stdout"
        },
        {
          "output_type": "stream",
          "text": [
            "\r 67%|██████▋   | 2/3 [00:26<00:13, 13.42s/it]"
          ],
          "name": "stderr"
        },
        {
          "output_type": "stream",
          "text": [
            "140\n"
          ],
          "name": "stdout"
        },
        {
          "output_type": "stream",
          "text": [
            "100%|██████████| 3/3 [00:40<00:00, 13.43s/it]"
          ],
          "name": "stderr"
        },
        {
          "output_type": "stream",
          "text": [
            "319\n"
          ],
          "name": "stdout"
        },
        {
          "output_type": "stream",
          "text": [
            "\n",
            " 33%|███▎      | 1/3 [00:13<00:26, 13.35s/it]"
          ],
          "name": "stderr"
        },
        {
          "output_type": "stream",
          "text": [
            "102\n"
          ],
          "name": "stdout"
        },
        {
          "output_type": "stream",
          "text": [
            "\r 67%|██████▋   | 2/3 [00:26<00:13, 13.34s/it]"
          ],
          "name": "stderr"
        },
        {
          "output_type": "stream",
          "text": [
            "213\n",
            "513\n"
          ],
          "name": "stdout"
        },
        {
          "output_type": "stream",
          "text": [
            "100%|██████████| 3/3 [00:40<00:00, 13.38s/it]\n"
          ],
          "name": "stderr"
        }
      ]
    },
    {
      "cell_type": "code",
      "metadata": {
        "id": "95IJYUZtW_gs"
      },
      "source": [
        "with open(DRIVE_PATH+'data/orto_parkings/processed_images_dict.pickle', 'wb') as f:\n",
        "  pickle.dump(processed_images_dict, f)"
      ],
      "execution_count": 15,
      "outputs": []
    },
    {
      "cell_type": "markdown",
      "metadata": {
        "id": "WjPOs8bPVZ5U"
      },
      "source": [
        "### Parkings"
      ]
    },
    {
      "cell_type": "markdown",
      "metadata": {
        "id": "1TjD5t1VUACd"
      },
      "source": [
        "#### Load processed images"
      ]
    },
    {
      "cell_type": "code",
      "metadata": {
        "id": "p5P_l7GGXQoI"
      },
      "source": [
        "with open(DRIVE_PATH+'data/orto_parkings/processed_images_dict.pickle', 'rb') as f:\n",
        "  processed_images_dict = pickle.load(f)"
      ],
      "execution_count": 10,
      "outputs": []
    },
    {
      "cell_type": "markdown",
      "metadata": {
        "id": "nkGpXzxZUFLd"
      },
      "source": [
        "#### Code"
      ]
    },
    {
      "cell_type": "code",
      "metadata": {
        "id": "83sf7Zh1VcLd"
      },
      "source": [
        "def add_points(row):\n",
        "    c = row['box']\n",
        "    row['points'] = [\n",
        "        (c[0], c[1]),\n",
        "        (c[2], c[3]),\n",
        "        (c[4], c[5]),\n",
        "        (c[6], c[7])\n",
        "        ]\n",
        "\n",
        "    return row\n",
        "\n",
        "def validate_parkings(\n",
        "    eps, min_samples,\n",
        "    processed_images_dict,\n",
        "    draw_show_points,\n",
        "    show_polygons,\n",
        "    save_polygons,\n",
        "    show_image_with_mask,\n",
        "    save_image_with_mask,\n",
        "    postfix\n",
        "):\n",
        "\n",
        "  ious = []\n",
        "\n",
        "  for kp in range(1, 21):\n",
        "    print()\n",
        "    print('Loop', kp)\n",
        "\n",
        "    masks = []\n",
        "\n",
        "    for lp in range(3):\n",
        "\n",
        "      image = processed_images_dict[kp][lp][0]\n",
        "      bnd_boxes = processed_images_dict[kp][lp][1]\n",
        "\n",
        "      points_x = list(map(lambda x: x[0] + 40, bnd_boxes))\n",
        "      points_y = list(map(lambda x: x[5] + 40, bnd_boxes))\n",
        "\n",
        "\n",
        "      # make clusters\n",
        "\n",
        "      clustering = DBSCAN(eps=eps, min_samples=min_samples).fit(list(zip(points_x, points_y)))\n",
        "\n",
        "\n",
        "      if draw_show_points:\n",
        "\n",
        "        # draw points\n",
        "\n",
        "        colors = clustering.labels_\n",
        "\n",
        "        x_to_plot = []\n",
        "        y_to_plot = []\n",
        "        c_to_plot = []\n",
        "\n",
        "        for i in range(len(colors)):\n",
        "            if colors[i] != -1:\n",
        "                x_to_plot.append(points_x[i])\n",
        "                y_to_plot.append(points_y[i])\n",
        "                c_to_plot.append(colors[i])\n",
        "\n",
        "        plt.figure(figsize=(20,10))\n",
        "        plt.imshow(image)\n",
        "        plt.scatter(x_to_plot, y_to_plot, c=c_to_plot, s=100)\n",
        "        plt.show()\n",
        "\n",
        "\n",
        "      # draw polygons\n",
        "\n",
        "      colors = clustering.labels_\n",
        "\n",
        "      df = pd.DataFrame(list(zip(points_x, points_y, colors, bnd_boxes)), columns=['x', 'y', 'c', 'box'])\n",
        "      df = df[df['c'] != -1]\n",
        "\n",
        "      df = df.apply(add_points, axis=1)\n",
        "\n",
        "      c_points = {}\n",
        "      try:\n",
        "        for c in range(int(df['c'].max()+1)):\n",
        "            p_lists = df[df['c'] == c]['points'].to_list()\n",
        "            if len(p_lists) > 0:\n",
        "              c_points[c] = []\n",
        "              for l in p_lists:\n",
        "                  c_points[c] = c_points[c] + l\n",
        "      except ValueError:\n",
        "        pass\n",
        "\n",
        "      image2 = image\n",
        "      hulls = []\n",
        "      for k, v in c_points.items():\n",
        "          hull = cv2.convexHull(np.array(v))\n",
        "          hulls.append(hull)\n",
        "          image2 = cv2.drawContours(image2, [hull], -1, (0, 0, 255), 5)\n",
        "\n",
        "      if show_polygons:\n",
        "\n",
        "        # show image\n",
        "        plt.figure(figsize=(20,10))\n",
        "        plt.imshow(image2)\n",
        "        plt.scatter(x_to_plot, y_to_plot, c=c_to_plot, s=70)\n",
        "        plt.show()\n",
        "\n",
        "      if save_polygons:\n",
        "\n",
        "        # save image\n",
        "        output_full_path = DRIVE_PATH+'data/orto_parkings/'+str(kp)+'/clusters_'+str(lp)+'_eps_'+str(EPS)+'_min_'+str(MIN_SAMPLES)+postfix+'.jpg'\n",
        "        cv2.imwrite(output_full_path, cv2.cvtColor(image2, cv2.COLOR_RGB2BGR))\n",
        "\n",
        "\n",
        "      # masks\n",
        "      mask = np.zeros_like(image)\n",
        "      cv2.fillPoly(mask, hulls, (0, 0, 255))\n",
        "      masks.append(mask)\n",
        "\n",
        "\n",
        "    # ground truth mask\n",
        "\n",
        "    with open(DRIVE_PATH+'data/orto_parkings/parking-polygon/map'+str(kp)+'_3.json', 'rb') as f:\n",
        "      p = json.load(f)\n",
        "\n",
        "    hulls = []\n",
        "\n",
        "    for annotation in p['items'][0]['annotations']:\n",
        "      annotated_points = annotation['points']\n",
        "      processed_points = []\n",
        "      for i in range(0, len(annotated_points), 2):\n",
        "        processed_points.append((annotated_points[i], annotated_points[i+1]))\n",
        "      hull = cv2.convexHull(np.array(processed_points).astype(int))\n",
        "      hulls.append(hull)\n",
        "\n",
        "    gt_mask = np.zeros_like(image)\n",
        "    cv2.fillPoly(gt_mask, hulls, (0, 0, 255))\n",
        "\n",
        "    \n",
        "    # masks union\n",
        "\n",
        "    union = masks[0] & masks[1] & masks[2]\n",
        "    image_with_mask = cv2.cvtColor(cv2.imread(DRIVE_PATH+'data/orto_parkings/'+str(kp)+'/map'+str(kp)+'_3.png'), cv2.COLOR_RGB2BGR)\n",
        "    t = [0, 0, 255]\n",
        "\n",
        "\n",
        "    # count metrics and draw found mask\n",
        "\n",
        "    gt_points = 0\n",
        "    mask_points = 0\n",
        "    common_points = 0\n",
        "\n",
        "    for i in tqdm(range(union.shape[0])):\n",
        "        for j in range(union.shape[1]):\n",
        "\n",
        "            if union[i][j][2]:\n",
        "              image_with_mask[i][j] = np.array(t)\n",
        "              mask_points += 1\n",
        "            \n",
        "            if gt_mask[i][j][2]:\n",
        "              gt_points += 1\n",
        "\n",
        "            if union[i][j][2] and gt_mask[i][j][2]:\n",
        "              common_points += 1\n",
        "              mask_points -= 1\n",
        "\n",
        "    ious.append(common_points / (mask_points + gt_points))\n",
        "\n",
        "    if show_image_with_mask:\n",
        "\n",
        "      # show image with mask\n",
        "      plt.figure(figsize=(20,10))\n",
        "      plt.imshow(image_with_mask)\n",
        "      plt.show()\n",
        "\n",
        "    if save_image_with_mask:\n",
        "\n",
        "      # save image with mask\n",
        "      output_full_path = DRIVE_PATH+'data/orto_parkings/'+str(kp)+'/image_with_mask_eps_'+str(EPS)+'_min_'+str(MIN_SAMPLES)+postfix+'.jpg'\n",
        "      cv2.imwrite(output_full_path, cv2.cvtColor(image_with_mask, cv2.COLOR_RGB2BGR))\n",
        "    \n",
        "  return ious"
      ],
      "execution_count": 15,
      "outputs": []
    },
    {
      "cell_type": "markdown",
      "metadata": {
        "id": "7RyjvAmMUI06"
      },
      "source": [
        "#### Experiments"
      ]
    },
    {
      "cell_type": "code",
      "metadata": {
        "colab": {
          "base_uri": "https://localhost:8080/"
        },
        "id": "u5w7XOJFP5CG",
        "outputId": "671c188f-b2f2-44e6-9ae6-043a29e44754"
      },
      "source": [
        "with open(DRIVE_PATH+'data/orto_parkings/processed_images_dict.pickle', 'rb') as f:\n",
        "  processed_images_dict = pickle.load(f)\n",
        "\n",
        "EPS = 150\n",
        "MIN_SAMPLES = 3\n",
        "POSTFIX = '_t9nms4_1e'\n",
        "\n",
        "ious = validate_parkings(\n",
        "    eps=EPS,\n",
        "    min_samples=MIN_SAMPLES,\n",
        "    processed_images_dict=processed_images_dict,\n",
        "    draw_show_points=False,\n",
        "    show_polygons=False,\n",
        "    save_polygons=True,\n",
        "    show_image_with_mask=False,\n",
        "    save_image_with_mask=True,\n",
        "    postfix=POSTFIX\n",
        ")\n",
        "\n",
        "print(ious)\n",
        "ious_array = np.array(ious)\n",
        "print('Mean: ', ious_array.mean())\n",
        "print('Min', ious_array.min())\n",
        "print('Max', ious_array.max())"
      ],
      "execution_count": 16,
      "outputs": [
        {
          "output_type": "stream",
          "text": [
            "\n",
            "Loop 1\n"
          ],
          "name": "stdout"
        },
        {
          "output_type": "stream",
          "text": [
            "100%|██████████| 1758/1758 [00:10<00:00, 163.74it/s]\n"
          ],
          "name": "stderr"
        },
        {
          "output_type": "stream",
          "text": [
            "\n",
            "Loop 2\n"
          ],
          "name": "stdout"
        },
        {
          "output_type": "stream",
          "text": [
            "100%|██████████| 1758/1758 [00:11<00:00, 154.78it/s]\n"
          ],
          "name": "stderr"
        },
        {
          "output_type": "stream",
          "text": [
            "\n",
            "Loop 3\n"
          ],
          "name": "stdout"
        },
        {
          "output_type": "stream",
          "text": [
            "100%|██████████| 1758/1758 [00:10<00:00, 165.40it/s]\n"
          ],
          "name": "stderr"
        },
        {
          "output_type": "stream",
          "text": [
            "\n",
            "Loop 4\n"
          ],
          "name": "stdout"
        },
        {
          "output_type": "stream",
          "text": [
            "100%|██████████| 1758/1758 [00:10<00:00, 162.57it/s]\n"
          ],
          "name": "stderr"
        },
        {
          "output_type": "stream",
          "text": [
            "\n",
            "Loop 5\n"
          ],
          "name": "stdout"
        },
        {
          "output_type": "stream",
          "text": [
            "100%|██████████| 1758/1758 [00:10<00:00, 163.74it/s]\n"
          ],
          "name": "stderr"
        },
        {
          "output_type": "stream",
          "text": [
            "\n",
            "Loop 6\n"
          ],
          "name": "stdout"
        },
        {
          "output_type": "stream",
          "text": [
            "100%|██████████| 1758/1758 [00:11<00:00, 158.26it/s]\n"
          ],
          "name": "stderr"
        },
        {
          "output_type": "stream",
          "text": [
            "\n",
            "Loop 7\n"
          ],
          "name": "stdout"
        },
        {
          "output_type": "stream",
          "text": [
            "100%|██████████| 1758/1758 [00:10<00:00, 162.00it/s]\n"
          ],
          "name": "stderr"
        },
        {
          "output_type": "stream",
          "text": [
            "\n",
            "Loop 8\n"
          ],
          "name": "stdout"
        },
        {
          "output_type": "stream",
          "text": [
            "100%|██████████| 1758/1758 [00:11<00:00, 159.32it/s]\n"
          ],
          "name": "stderr"
        },
        {
          "output_type": "stream",
          "text": [
            "\n",
            "Loop 9\n"
          ],
          "name": "stdout"
        },
        {
          "output_type": "stream",
          "text": [
            "100%|██████████| 1758/1758 [00:10<00:00, 165.77it/s]\n"
          ],
          "name": "stderr"
        },
        {
          "output_type": "stream",
          "text": [
            "\n",
            "Loop 10\n"
          ],
          "name": "stdout"
        },
        {
          "output_type": "stream",
          "text": [
            "100%|██████████| 1758/1758 [00:10<00:00, 166.09it/s]\n"
          ],
          "name": "stderr"
        },
        {
          "output_type": "stream",
          "text": [
            "\n",
            "Loop 11\n"
          ],
          "name": "stdout"
        },
        {
          "output_type": "stream",
          "text": [
            "100%|██████████| 1758/1758 [00:10<00:00, 160.30it/s]\n"
          ],
          "name": "stderr"
        },
        {
          "output_type": "stream",
          "text": [
            "\n",
            "Loop 12\n"
          ],
          "name": "stdout"
        },
        {
          "output_type": "stream",
          "text": [
            "100%|██████████| 1758/1758 [00:10<00:00, 164.31it/s]\n"
          ],
          "name": "stderr"
        },
        {
          "output_type": "stream",
          "text": [
            "\n",
            "Loop 13\n"
          ],
          "name": "stdout"
        },
        {
          "output_type": "stream",
          "text": [
            "100%|██████████| 1758/1758 [00:12<00:00, 137.42it/s]\n"
          ],
          "name": "stderr"
        },
        {
          "output_type": "stream",
          "text": [
            "\n",
            "Loop 14\n"
          ],
          "name": "stdout"
        },
        {
          "output_type": "stream",
          "text": [
            "100%|██████████| 1758/1758 [00:10<00:00, 160.08it/s]\n"
          ],
          "name": "stderr"
        },
        {
          "output_type": "stream",
          "text": [
            "\n",
            "Loop 15\n"
          ],
          "name": "stdout"
        },
        {
          "output_type": "stream",
          "text": [
            "100%|██████████| 1758/1758 [00:12<00:00, 145.13it/s]\n"
          ],
          "name": "stderr"
        },
        {
          "output_type": "stream",
          "text": [
            "\n",
            "Loop 16\n"
          ],
          "name": "stdout"
        },
        {
          "output_type": "stream",
          "text": [
            "100%|██████████| 1758/1758 [00:10<00:00, 164.82it/s]\n"
          ],
          "name": "stderr"
        },
        {
          "output_type": "stream",
          "text": [
            "\n",
            "Loop 17\n"
          ],
          "name": "stdout"
        },
        {
          "output_type": "stream",
          "text": [
            "100%|██████████| 1758/1758 [00:10<00:00, 168.17it/s]\n"
          ],
          "name": "stderr"
        },
        {
          "output_type": "stream",
          "text": [
            "\n",
            "Loop 18\n"
          ],
          "name": "stdout"
        },
        {
          "output_type": "stream",
          "text": [
            "100%|██████████| 1758/1758 [00:10<00:00, 166.40it/s]\n"
          ],
          "name": "stderr"
        },
        {
          "output_type": "stream",
          "text": [
            "\n",
            "Loop 19\n"
          ],
          "name": "stdout"
        },
        {
          "output_type": "stream",
          "text": [
            "100%|██████████| 1758/1758 [00:10<00:00, 171.95it/s]\n"
          ],
          "name": "stderr"
        },
        {
          "output_type": "stream",
          "text": [
            "\n",
            "Loop 20\n"
          ],
          "name": "stdout"
        },
        {
          "output_type": "stream",
          "text": [
            "100%|██████████| 1758/1758 [00:11<00:00, 155.15it/s]\n"
          ],
          "name": "stderr"
        },
        {
          "output_type": "stream",
          "text": [
            "[0.02134960817864852, 0.16873181467757578, 0.08350786727179614, 0.02136222212201831, 0.0, 0.08379253536329034, 0.005443345019690038, 0.01576599338752292, 0.005213355030239746, 0.0032094346588205824, 0.0, 0.0, 0.005931697468583953, 0.03301592899547405, 0.12624205136616812, 0.0, 0.0, 0.0, 0.0, 0.09426487792333854]\n",
            "Mean:  0.033391536573158354\n",
            "Min 0.0\n",
            "Max 0.16873181467757578\n"
          ],
          "name": "stdout"
        }
      ]
    },
    {
      "cell_type": "code",
      "metadata": {
        "colab": {
          "base_uri": "https://localhost:8080/"
        },
        "id": "G_q7zcFHcjIT",
        "outputId": "4d639b75-a7f4-4fc3-9c4b-50ab25f4597f"
      },
      "source": [
        "with open(DRIVE_PATH+'data/orto_parkings/processed_images_dict.pickle', 'rb') as f:\n",
        "  processed_images_dict = pickle.load(f)\n",
        "\n",
        "EPS = 100\n",
        "MIN_SAMPLES = 3\n",
        "POSTFIX = '_t9nms4_1e'\n",
        "\n",
        "ious = validate_parkings(\n",
        "    eps=EPS,\n",
        "    min_samples=MIN_SAMPLES,\n",
        "    processed_images_dict=processed_images_dict,\n",
        "    draw_show_points=False,\n",
        "    show_polygons=False,\n",
        "    save_polygons=True,\n",
        "    show_image_with_mask=False,\n",
        "    save_image_with_mask=True,\n",
        "    postfix=POSTFIX\n",
        ")\n",
        "\n",
        "print(ious)\n",
        "ious_array = np.array(ious)\n",
        "print('Mean: ', ious_array.mean())\n",
        "print('Min', ious_array.min())\n",
        "print('Max', ious_array.max())"
      ],
      "execution_count": 17,
      "outputs": [
        {
          "output_type": "stream",
          "text": [
            "\n",
            "Loop 1\n"
          ],
          "name": "stdout"
        },
        {
          "output_type": "stream",
          "text": [
            "100%|██████████| 1758/1758 [00:10<00:00, 163.88it/s]\n"
          ],
          "name": "stderr"
        },
        {
          "output_type": "stream",
          "text": [
            "\n",
            "Loop 2\n"
          ],
          "name": "stdout"
        },
        {
          "output_type": "stream",
          "text": [
            "100%|██████████| 1758/1758 [00:10<00:00, 163.80it/s]\n"
          ],
          "name": "stderr"
        },
        {
          "output_type": "stream",
          "text": [
            "\n",
            "Loop 3\n"
          ],
          "name": "stdout"
        },
        {
          "output_type": "stream",
          "text": [
            "100%|██████████| 1758/1758 [00:10<00:00, 163.00it/s]\n"
          ],
          "name": "stderr"
        },
        {
          "output_type": "stream",
          "text": [
            "\n",
            "Loop 4\n"
          ],
          "name": "stdout"
        },
        {
          "output_type": "stream",
          "text": [
            "100%|██████████| 1758/1758 [00:10<00:00, 165.64it/s]\n"
          ],
          "name": "stderr"
        },
        {
          "output_type": "stream",
          "text": [
            "\n",
            "Loop 5\n"
          ],
          "name": "stdout"
        },
        {
          "output_type": "stream",
          "text": [
            "100%|██████████| 1758/1758 [00:10<00:00, 164.75it/s]\n"
          ],
          "name": "stderr"
        },
        {
          "output_type": "stream",
          "text": [
            "\n",
            "Loop 6\n"
          ],
          "name": "stdout"
        },
        {
          "output_type": "stream",
          "text": [
            "100%|██████████| 1758/1758 [00:10<00:00, 164.00it/s]\n"
          ],
          "name": "stderr"
        },
        {
          "output_type": "stream",
          "text": [
            "\n",
            "Loop 7\n"
          ],
          "name": "stdout"
        },
        {
          "output_type": "stream",
          "text": [
            "100%|██████████| 1758/1758 [00:10<00:00, 167.67it/s]\n"
          ],
          "name": "stderr"
        },
        {
          "output_type": "stream",
          "text": [
            "\n",
            "Loop 8\n"
          ],
          "name": "stdout"
        },
        {
          "output_type": "stream",
          "text": [
            "100%|██████████| 1758/1758 [00:10<00:00, 162.79it/s]\n"
          ],
          "name": "stderr"
        },
        {
          "output_type": "stream",
          "text": [
            "\n",
            "Loop 9\n"
          ],
          "name": "stdout"
        },
        {
          "output_type": "stream",
          "text": [
            "100%|██████████| 1758/1758 [00:10<00:00, 165.08it/s]\n"
          ],
          "name": "stderr"
        },
        {
          "output_type": "stream",
          "text": [
            "\n",
            "Loop 10\n"
          ],
          "name": "stdout"
        },
        {
          "output_type": "stream",
          "text": [
            "100%|██████████| 1758/1758 [00:10<00:00, 162.64it/s]\n"
          ],
          "name": "stderr"
        },
        {
          "output_type": "stream",
          "text": [
            "\n",
            "Loop 11\n"
          ],
          "name": "stdout"
        },
        {
          "output_type": "stream",
          "text": [
            "100%|██████████| 1758/1758 [00:10<00:00, 162.51it/s]\n"
          ],
          "name": "stderr"
        },
        {
          "output_type": "stream",
          "text": [
            "\n",
            "Loop 12\n"
          ],
          "name": "stdout"
        },
        {
          "output_type": "stream",
          "text": [
            "100%|██████████| 1758/1758 [00:10<00:00, 165.66it/s]\n"
          ],
          "name": "stderr"
        },
        {
          "output_type": "stream",
          "text": [
            "\n",
            "Loop 13\n"
          ],
          "name": "stdout"
        },
        {
          "output_type": "stream",
          "text": [
            "100%|██████████| 1758/1758 [00:12<00:00, 144.81it/s]\n"
          ],
          "name": "stderr"
        },
        {
          "output_type": "stream",
          "text": [
            "\n",
            "Loop 14\n"
          ],
          "name": "stdout"
        },
        {
          "output_type": "stream",
          "text": [
            "100%|██████████| 1758/1758 [00:10<00:00, 171.52it/s]\n"
          ],
          "name": "stderr"
        },
        {
          "output_type": "stream",
          "text": [
            "\n",
            "Loop 15\n"
          ],
          "name": "stdout"
        },
        {
          "output_type": "stream",
          "text": [
            "100%|██████████| 1758/1758 [00:10<00:00, 161.60it/s]\n"
          ],
          "name": "stderr"
        },
        {
          "output_type": "stream",
          "text": [
            "\n",
            "Loop 16\n"
          ],
          "name": "stdout"
        },
        {
          "output_type": "stream",
          "text": [
            "100%|██████████| 1758/1758 [00:10<00:00, 164.32it/s]\n"
          ],
          "name": "stderr"
        },
        {
          "output_type": "stream",
          "text": [
            "\n",
            "Loop 17\n"
          ],
          "name": "stdout"
        },
        {
          "output_type": "stream",
          "text": [
            "100%|██████████| 1758/1758 [00:10<00:00, 167.47it/s]\n"
          ],
          "name": "stderr"
        },
        {
          "output_type": "stream",
          "text": [
            "\n",
            "Loop 18\n"
          ],
          "name": "stdout"
        },
        {
          "output_type": "stream",
          "text": [
            "100%|██████████| 1758/1758 [00:10<00:00, 164.91it/s]\n"
          ],
          "name": "stderr"
        },
        {
          "output_type": "stream",
          "text": [
            "\n",
            "Loop 19\n"
          ],
          "name": "stdout"
        },
        {
          "output_type": "stream",
          "text": [
            "100%|██████████| 1758/1758 [00:10<00:00, 169.22it/s]\n"
          ],
          "name": "stderr"
        },
        {
          "output_type": "stream",
          "text": [
            "\n",
            "Loop 20\n"
          ],
          "name": "stdout"
        },
        {
          "output_type": "stream",
          "text": [
            "100%|██████████| 1758/1758 [00:10<00:00, 161.54it/s]\n"
          ],
          "name": "stderr"
        },
        {
          "output_type": "stream",
          "text": [
            "[0.01585087481978326, 0.0379485925834144, 0.051355183946488296, 0.0, 0.0, 0.10160962745157477, 0.0, 0.0, 0.0, 0.0, 0.0, 0.0, 0.007458756171740728, 0.032150930963527766, 0.038856688211818396, 0.0, 0.0, 0.0, 0.0, 0.029652221798619052]\n",
            "Mean:  0.015744143797348332\n",
            "Min 0.0\n",
            "Max 0.10160962745157477\n"
          ],
          "name": "stdout"
        }
      ]
    },
    {
      "cell_type": "code",
      "metadata": {
        "colab": {
          "base_uri": "https://localhost:8080/"
        },
        "id": "USrf5kJ0c8TQ",
        "outputId": "c84dfc80-3c31-4dd5-c9fb-960c9a0c1955"
      },
      "source": [
        "with open(DRIVE_PATH+'data/orto_parkings/processed_images_dict.pickle', 'rb') as f:\n",
        "  processed_images_dict = pickle.load(f)\n",
        "\n",
        "EPS = 200\n",
        "MIN_SAMPLES = 3\n",
        "POSTFIX = '_t9nms4_1e'\n",
        "\n",
        "ious = validate_parkings(\n",
        "    eps=EPS,\n",
        "    min_samples=MIN_SAMPLES,\n",
        "    processed_images_dict=processed_images_dict,\n",
        "    draw_show_points=False,\n",
        "    show_polygons=False,\n",
        "    save_polygons=True,\n",
        "    show_image_with_mask=False,\n",
        "    save_image_with_mask=True,\n",
        "    postfix=POSTFIX\n",
        ")\n",
        "\n",
        "print(ious)\n",
        "ious_array = np.array(ious)\n",
        "print('Mean: ', ious_array.mean())\n",
        "print('Min', ious_array.min())\n",
        "print('Max', ious_array.max())"
      ],
      "execution_count": 18,
      "outputs": [
        {
          "output_type": "stream",
          "text": [
            "\n",
            "Loop 1\n"
          ],
          "name": "stdout"
        },
        {
          "output_type": "stream",
          "text": [
            "100%|██████████| 1758/1758 [00:11<00:00, 151.68it/s]\n"
          ],
          "name": "stderr"
        },
        {
          "output_type": "stream",
          "text": [
            "\n",
            "Loop 2\n"
          ],
          "name": "stdout"
        },
        {
          "output_type": "stream",
          "text": [
            "100%|██████████| 1758/1758 [00:11<00:00, 153.40it/s]\n"
          ],
          "name": "stderr"
        },
        {
          "output_type": "stream",
          "text": [
            "\n",
            "Loop 3\n"
          ],
          "name": "stdout"
        },
        {
          "output_type": "stream",
          "text": [
            "100%|██████████| 1758/1758 [00:10<00:00, 160.25it/s]\n"
          ],
          "name": "stderr"
        },
        {
          "output_type": "stream",
          "text": [
            "\n",
            "Loop 4\n"
          ],
          "name": "stdout"
        },
        {
          "output_type": "stream",
          "text": [
            "100%|██████████| 1758/1758 [00:10<00:00, 166.76it/s]\n"
          ],
          "name": "stderr"
        },
        {
          "output_type": "stream",
          "text": [
            "\n",
            "Loop 5\n"
          ],
          "name": "stdout"
        },
        {
          "output_type": "stream",
          "text": [
            "100%|██████████| 1758/1758 [00:10<00:00, 165.23it/s]\n"
          ],
          "name": "stderr"
        },
        {
          "output_type": "stream",
          "text": [
            "\n",
            "Loop 6\n"
          ],
          "name": "stdout"
        },
        {
          "output_type": "stream",
          "text": [
            "100%|██████████| 1758/1758 [00:10<00:00, 159.89it/s]\n"
          ],
          "name": "stderr"
        },
        {
          "output_type": "stream",
          "text": [
            "\n",
            "Loop 7\n"
          ],
          "name": "stdout"
        },
        {
          "output_type": "stream",
          "text": [
            "100%|██████████| 1758/1758 [00:10<00:00, 171.75it/s]\n"
          ],
          "name": "stderr"
        },
        {
          "output_type": "stream",
          "text": [
            "\n",
            "Loop 8\n"
          ],
          "name": "stdout"
        },
        {
          "output_type": "stream",
          "text": [
            "100%|██████████| 1758/1758 [00:11<00:00, 150.36it/s]\n"
          ],
          "name": "stderr"
        },
        {
          "output_type": "stream",
          "text": [
            "\n",
            "Loop 9\n"
          ],
          "name": "stdout"
        },
        {
          "output_type": "stream",
          "text": [
            "100%|██████████| 1758/1758 [00:10<00:00, 163.77it/s]\n"
          ],
          "name": "stderr"
        },
        {
          "output_type": "stream",
          "text": [
            "\n",
            "Loop 10\n"
          ],
          "name": "stdout"
        },
        {
          "output_type": "stream",
          "text": [
            "100%|██████████| 1758/1758 [00:11<00:00, 159.37it/s]\n"
          ],
          "name": "stderr"
        },
        {
          "output_type": "stream",
          "text": [
            "\n",
            "Loop 11\n"
          ],
          "name": "stdout"
        },
        {
          "output_type": "stream",
          "text": [
            "100%|██████████| 1758/1758 [00:10<00:00, 165.36it/s]\n"
          ],
          "name": "stderr"
        },
        {
          "output_type": "stream",
          "text": [
            "\n",
            "Loop 12\n"
          ],
          "name": "stdout"
        },
        {
          "output_type": "stream",
          "text": [
            "100%|██████████| 1758/1758 [00:10<00:00, 160.64it/s]\n"
          ],
          "name": "stderr"
        },
        {
          "output_type": "stream",
          "text": [
            "\n",
            "Loop 13\n"
          ],
          "name": "stdout"
        },
        {
          "output_type": "stream",
          "text": [
            "100%|██████████| 1758/1758 [00:13<00:00, 126.98it/s]\n"
          ],
          "name": "stderr"
        },
        {
          "output_type": "stream",
          "text": [
            "\n",
            "Loop 14\n"
          ],
          "name": "stdout"
        },
        {
          "output_type": "stream",
          "text": [
            "100%|██████████| 1758/1758 [00:11<00:00, 156.49it/s]\n"
          ],
          "name": "stderr"
        },
        {
          "output_type": "stream",
          "text": [
            "\n",
            "Loop 15\n"
          ],
          "name": "stdout"
        },
        {
          "output_type": "stream",
          "text": [
            "100%|██████████| 1758/1758 [00:12<00:00, 141.23it/s]\n"
          ],
          "name": "stderr"
        },
        {
          "output_type": "stream",
          "text": [
            "\n",
            "Loop 16\n"
          ],
          "name": "stdout"
        },
        {
          "output_type": "stream",
          "text": [
            "100%|██████████| 1758/1758 [00:10<00:00, 170.71it/s]\n"
          ],
          "name": "stderr"
        },
        {
          "output_type": "stream",
          "text": [
            "\n",
            "Loop 17\n"
          ],
          "name": "stdout"
        },
        {
          "output_type": "stream",
          "text": [
            "100%|██████████| 1758/1758 [00:10<00:00, 166.27it/s]\n"
          ],
          "name": "stderr"
        },
        {
          "output_type": "stream",
          "text": [
            "\n",
            "Loop 18\n"
          ],
          "name": "stdout"
        },
        {
          "output_type": "stream",
          "text": [
            "100%|██████████| 1758/1758 [00:10<00:00, 162.97it/s]\n"
          ],
          "name": "stderr"
        },
        {
          "output_type": "stream",
          "text": [
            "\n",
            "Loop 19\n"
          ],
          "name": "stdout"
        },
        {
          "output_type": "stream",
          "text": [
            "100%|██████████| 1758/1758 [00:10<00:00, 159.88it/s]\n"
          ],
          "name": "stderr"
        },
        {
          "output_type": "stream",
          "text": [
            "\n",
            "Loop 20\n"
          ],
          "name": "stdout"
        },
        {
          "output_type": "stream",
          "text": [
            "100%|██████████| 1758/1758 [00:11<00:00, 158.19it/s]\n"
          ],
          "name": "stderr"
        },
        {
          "output_type": "stream",
          "text": [
            "[0.02134960817864852, 0.19094319801905904, 0.13304140931718345, 0.03113586147810795, 0.0, 0.16564251426273593, 0.014407394470268963, 0.01768919680008439, 0.03690419317100328, 0.01906745739846381, 0.0, 0.0, 0.004550838577834471, 0.10695180688842146, 0.22694038010500045, 0.0, 0.0, 0.05929685701443778, 0.0841016295025729, 0.1853233905669766]\n",
            "Mean:  0.06486728678753996\n",
            "Min 0.0\n",
            "Max 0.22694038010500045\n"
          ],
          "name": "stdout"
        }
      ]
    },
    {
      "cell_type": "code",
      "metadata": {
        "id": "09hMa8eyjc3s",
        "outputId": "ad42f145-e782-42fb-dec6-9ca8a71bc58e",
        "colab": {
          "base_uri": "https://localhost:8080/"
        }
      },
      "source": [
        "with open(DRIVE_PATH+'data/orto_parkings/processed_images_dict.pickle', 'rb') as f:\n",
        "  processed_images_dict = pickle.load(f)\n",
        "\n",
        "EPS = 250\n",
        "MIN_SAMPLES = 3\n",
        "POSTFIX = '_t9nms4_1e'\n",
        "\n",
        "ious = validate_parkings(\n",
        "    eps=EPS,\n",
        "    min_samples=MIN_SAMPLES,\n",
        "    processed_images_dict=processed_images_dict,\n",
        "    draw_show_points=False,\n",
        "    show_polygons=False,\n",
        "    save_polygons=True,\n",
        "    show_image_with_mask=False,\n",
        "    save_image_with_mask=True,\n",
        "    postfix=POSTFIX\n",
        ")\n",
        "\n",
        "print(ious)\n",
        "ious_array = np.array(ious)\n",
        "print('Mean: ', ious_array.mean())\n",
        "print('Min', ious_array.min())\n",
        "print('Max', ious_array.max())"
      ],
      "execution_count": 19,
      "outputs": [
        {
          "output_type": "stream",
          "text": [
            "\n",
            "Loop 1\n"
          ],
          "name": "stdout"
        },
        {
          "output_type": "stream",
          "text": [
            "100%|██████████| 1758/1758 [00:10<00:00, 166.92it/s]\n"
          ],
          "name": "stderr"
        },
        {
          "output_type": "stream",
          "text": [
            "\n",
            "Loop 2\n"
          ],
          "name": "stdout"
        },
        {
          "output_type": "stream",
          "text": [
            "100%|██████████| 1758/1758 [00:11<00:00, 156.24it/s]\n"
          ],
          "name": "stderr"
        },
        {
          "output_type": "stream",
          "text": [
            "\n",
            "Loop 3\n"
          ],
          "name": "stdout"
        },
        {
          "output_type": "stream",
          "text": [
            "100%|██████████| 1758/1758 [00:10<00:00, 161.54it/s]\n"
          ],
          "name": "stderr"
        },
        {
          "output_type": "stream",
          "text": [
            "\n",
            "Loop 4\n"
          ],
          "name": "stdout"
        },
        {
          "output_type": "stream",
          "text": [
            "100%|██████████| 1758/1758 [00:10<00:00, 173.23it/s]\n"
          ],
          "name": "stderr"
        },
        {
          "output_type": "stream",
          "text": [
            "\n",
            "Loop 5\n"
          ],
          "name": "stdout"
        },
        {
          "output_type": "stream",
          "text": [
            "100%|██████████| 1758/1758 [00:09<00:00, 176.83it/s]\n"
          ],
          "name": "stderr"
        },
        {
          "output_type": "stream",
          "text": [
            "\n",
            "Loop 6\n"
          ],
          "name": "stdout"
        },
        {
          "output_type": "stream",
          "text": [
            "100%|██████████| 1758/1758 [00:11<00:00, 151.35it/s]\n"
          ],
          "name": "stderr"
        },
        {
          "output_type": "stream",
          "text": [
            "\n",
            "Loop 7\n"
          ],
          "name": "stdout"
        },
        {
          "output_type": "stream",
          "text": [
            "100%|██████████| 1758/1758 [00:11<00:00, 150.12it/s]\n"
          ],
          "name": "stderr"
        },
        {
          "output_type": "stream",
          "text": [
            "\n",
            "Loop 8\n"
          ],
          "name": "stdout"
        },
        {
          "output_type": "stream",
          "text": [
            "100%|██████████| 1758/1758 [00:12<00:00, 140.73it/s]\n"
          ],
          "name": "stderr"
        },
        {
          "output_type": "stream",
          "text": [
            "\n",
            "Loop 9\n"
          ],
          "name": "stdout"
        },
        {
          "output_type": "stream",
          "text": [
            "100%|██████████| 1758/1758 [00:10<00:00, 166.36it/s]\n"
          ],
          "name": "stderr"
        },
        {
          "output_type": "stream",
          "text": [
            "\n",
            "Loop 10\n"
          ],
          "name": "stdout"
        },
        {
          "output_type": "stream",
          "text": [
            "100%|██████████| 1758/1758 [00:11<00:00, 156.36it/s]\n"
          ],
          "name": "stderr"
        },
        {
          "output_type": "stream",
          "text": [
            "\n",
            "Loop 11\n"
          ],
          "name": "stdout"
        },
        {
          "output_type": "stream",
          "text": [
            "100%|██████████| 1758/1758 [00:11<00:00, 159.54it/s]\n"
          ],
          "name": "stderr"
        },
        {
          "output_type": "stream",
          "text": [
            "\n",
            "Loop 12\n"
          ],
          "name": "stdout"
        },
        {
          "output_type": "stream",
          "text": [
            "100%|██████████| 1758/1758 [00:10<00:00, 163.82it/s]\n"
          ],
          "name": "stderr"
        },
        {
          "output_type": "stream",
          "text": [
            "\n",
            "Loop 13\n"
          ],
          "name": "stdout"
        },
        {
          "output_type": "stream",
          "text": [
            "100%|██████████| 1758/1758 [00:13<00:00, 130.06it/s]\n"
          ],
          "name": "stderr"
        },
        {
          "output_type": "stream",
          "text": [
            "\n",
            "Loop 14\n"
          ],
          "name": "stdout"
        },
        {
          "output_type": "stream",
          "text": [
            "100%|██████████| 1758/1758 [00:11<00:00, 148.01it/s]\n"
          ],
          "name": "stderr"
        },
        {
          "output_type": "stream",
          "text": [
            "\n",
            "Loop 15\n"
          ],
          "name": "stdout"
        },
        {
          "output_type": "stream",
          "text": [
            "100%|██████████| 1758/1758 [00:14<00:00, 123.23it/s]\n"
          ],
          "name": "stderr"
        },
        {
          "output_type": "stream",
          "text": [
            "\n",
            "Loop 16\n"
          ],
          "name": "stdout"
        },
        {
          "output_type": "stream",
          "text": [
            "100%|██████████| 1758/1758 [00:10<00:00, 165.95it/s]\n"
          ],
          "name": "stderr"
        },
        {
          "output_type": "stream",
          "text": [
            "\n",
            "Loop 17\n"
          ],
          "name": "stdout"
        },
        {
          "output_type": "stream",
          "text": [
            "100%|██████████| 1758/1758 [00:10<00:00, 162.54it/s]\n"
          ],
          "name": "stderr"
        },
        {
          "output_type": "stream",
          "text": [
            "\n",
            "Loop 18\n"
          ],
          "name": "stdout"
        },
        {
          "output_type": "stream",
          "text": [
            "100%|██████████| 1758/1758 [00:10<00:00, 160.72it/s]\n"
          ],
          "name": "stderr"
        },
        {
          "output_type": "stream",
          "text": [
            "\n",
            "Loop 19\n"
          ],
          "name": "stdout"
        },
        {
          "output_type": "stream",
          "text": [
            "100%|██████████| 1758/1758 [00:10<00:00, 161.52it/s]\n"
          ],
          "name": "stderr"
        },
        {
          "output_type": "stream",
          "text": [
            "\n",
            "Loop 20\n"
          ],
          "name": "stdout"
        },
        {
          "output_type": "stream",
          "text": [
            "100%|██████████| 1758/1758 [00:13<00:00, 128.96it/s]\n"
          ],
          "name": "stderr"
        },
        {
          "output_type": "stream",
          "text": [
            "[0.02134960817864852, 0.19094319801905904, 0.14581460992057946, 0.26725780690642725, 0.0, 0.14481101263679105, 0.11705694671417019, 0.0887803440637884, 0.04462267551390386, 0.02116477378828666, 0.0, 0.0, 0.005870486951449465, 0.1844642486145402, 0.4925346712392487, 0.0, 0.0, 0.06616651022524828, 0.16495051281977055, 0.32947904281233104]\n",
            "Mean:  0.11426332242021213\n",
            "Min 0.0\n",
            "Max 0.4925346712392487\n"
          ],
          "name": "stdout"
        }
      ]
    },
    {
      "cell_type": "code",
      "metadata": {
        "colab": {
          "base_uri": "https://localhost:8080/"
        },
        "id": "t0hvY5lDc-NZ",
        "outputId": "c0001a29-ae79-4b23-9326-134750762dfe"
      },
      "source": [
        "with open(DRIVE_PATH+'data/orto_parkings/processed_images_dict.pickle', 'rb') as f:\n",
        "  processed_images_dict = pickle.load(f)\n",
        "\n",
        "EPS = 300\n",
        "MIN_SAMPLES = 3\n",
        "POSTFIX = '_t9nms4_1e'\n",
        "\n",
        "ious = validate_parkings(\n",
        "    eps=EPS,\n",
        "    min_samples=MIN_SAMPLES,\n",
        "    processed_images_dict=processed_images_dict,\n",
        "    draw_show_points=False,\n",
        "    show_polygons=False,\n",
        "    save_polygons=True,\n",
        "    show_image_with_mask=False,\n",
        "    save_image_with_mask=True,\n",
        "    postfix=POSTFIX\n",
        ")\n",
        "\n",
        "print(ious)\n",
        "ious_array = np.array(ious)\n",
        "print('Mean: ', ious_array.mean())\n",
        "print('Min', ious_array.min())\n",
        "print('Max', ious_array.max())"
      ],
      "execution_count": 20,
      "outputs": [
        {
          "output_type": "stream",
          "text": [
            "\n",
            "Loop 1\n"
          ],
          "name": "stdout"
        },
        {
          "output_type": "stream",
          "text": [
            "100%|██████████| 1758/1758 [00:11<00:00, 153.17it/s]\n"
          ],
          "name": "stderr"
        },
        {
          "output_type": "stream",
          "text": [
            "\n",
            "Loop 2\n"
          ],
          "name": "stdout"
        },
        {
          "output_type": "stream",
          "text": [
            "100%|██████████| 1758/1758 [00:11<00:00, 155.81it/s]\n"
          ],
          "name": "stderr"
        },
        {
          "output_type": "stream",
          "text": [
            "\n",
            "Loop 3\n"
          ],
          "name": "stdout"
        },
        {
          "output_type": "stream",
          "text": [
            "100%|██████████| 1758/1758 [00:11<00:00, 146.64it/s]\n"
          ],
          "name": "stderr"
        },
        {
          "output_type": "stream",
          "text": [
            "\n",
            "Loop 4\n"
          ],
          "name": "stdout"
        },
        {
          "output_type": "stream",
          "text": [
            "100%|██████████| 1758/1758 [00:11<00:00, 155.71it/s]\n"
          ],
          "name": "stderr"
        },
        {
          "output_type": "stream",
          "text": [
            "\n",
            "Loop 5\n"
          ],
          "name": "stdout"
        },
        {
          "output_type": "stream",
          "text": [
            "100%|██████████| 1758/1758 [00:10<00:00, 163.33it/s]\n"
          ],
          "name": "stderr"
        },
        {
          "output_type": "stream",
          "text": [
            "\n",
            "Loop 6\n"
          ],
          "name": "stdout"
        },
        {
          "output_type": "stream",
          "text": [
            "100%|██████████| 1758/1758 [00:12<00:00, 141.25it/s]\n"
          ],
          "name": "stderr"
        },
        {
          "output_type": "stream",
          "text": [
            "\n",
            "Loop 7\n"
          ],
          "name": "stdout"
        },
        {
          "output_type": "stream",
          "text": [
            "100%|██████████| 1758/1758 [00:11<00:00, 149.65it/s]\n"
          ],
          "name": "stderr"
        },
        {
          "output_type": "stream",
          "text": [
            "\n",
            "Loop 8\n"
          ],
          "name": "stdout"
        },
        {
          "output_type": "stream",
          "text": [
            "100%|██████████| 1758/1758 [00:16<00:00, 106.46it/s]\n"
          ],
          "name": "stderr"
        },
        {
          "output_type": "stream",
          "text": [
            "\n",
            "Loop 9\n"
          ],
          "name": "stdout"
        },
        {
          "output_type": "stream",
          "text": [
            "100%|██████████| 1758/1758 [00:11<00:00, 157.74it/s]\n"
          ],
          "name": "stderr"
        },
        {
          "output_type": "stream",
          "text": [
            "\n",
            "Loop 10\n"
          ],
          "name": "stdout"
        },
        {
          "output_type": "stream",
          "text": [
            "100%|██████████| 1758/1758 [00:11<00:00, 148.99it/s]\n"
          ],
          "name": "stderr"
        },
        {
          "output_type": "stream",
          "text": [
            "\n",
            "Loop 11\n"
          ],
          "name": "stdout"
        },
        {
          "output_type": "stream",
          "text": [
            "100%|██████████| 1758/1758 [00:10<00:00, 160.82it/s]\n"
          ],
          "name": "stderr"
        },
        {
          "output_type": "stream",
          "text": [
            "\n",
            "Loop 12\n"
          ],
          "name": "stdout"
        },
        {
          "output_type": "stream",
          "text": [
            "100%|██████████| 1758/1758 [00:11<00:00, 156.63it/s]\n"
          ],
          "name": "stderr"
        },
        {
          "output_type": "stream",
          "text": [
            "\n",
            "Loop 13\n"
          ],
          "name": "stdout"
        },
        {
          "output_type": "stream",
          "text": [
            "100%|██████████| 1758/1758 [00:14<00:00, 121.01it/s]\n"
          ],
          "name": "stderr"
        },
        {
          "output_type": "stream",
          "text": [
            "\n",
            "Loop 14\n"
          ],
          "name": "stdout"
        },
        {
          "output_type": "stream",
          "text": [
            "100%|██████████| 1758/1758 [00:13<00:00, 129.59it/s]\n"
          ],
          "name": "stderr"
        },
        {
          "output_type": "stream",
          "text": [
            "\n",
            "Loop 15\n"
          ],
          "name": "stdout"
        },
        {
          "output_type": "stream",
          "text": [
            "100%|██████████| 1758/1758 [00:15<00:00, 115.40it/s]\n"
          ],
          "name": "stderr"
        },
        {
          "output_type": "stream",
          "text": [
            "\n",
            "Loop 16\n"
          ],
          "name": "stdout"
        },
        {
          "output_type": "stream",
          "text": [
            "100%|██████████| 1758/1758 [00:11<00:00, 159.78it/s]\n"
          ],
          "name": "stderr"
        },
        {
          "output_type": "stream",
          "text": [
            "\n",
            "Loop 17\n"
          ],
          "name": "stdout"
        },
        {
          "output_type": "stream",
          "text": [
            "100%|██████████| 1758/1758 [00:10<00:00, 162.89it/s]\n"
          ],
          "name": "stderr"
        },
        {
          "output_type": "stream",
          "text": [
            "\n",
            "Loop 18\n"
          ],
          "name": "stdout"
        },
        {
          "output_type": "stream",
          "text": [
            "100%|██████████| 1758/1758 [00:10<00:00, 160.22it/s]\n"
          ],
          "name": "stderr"
        },
        {
          "output_type": "stream",
          "text": [
            "\n",
            "Loop 19\n"
          ],
          "name": "stdout"
        },
        {
          "output_type": "stream",
          "text": [
            "100%|██████████| 1758/1758 [00:11<00:00, 157.67it/s]\n"
          ],
          "name": "stderr"
        },
        {
          "output_type": "stream",
          "text": [
            "\n",
            "Loop 20\n"
          ],
          "name": "stdout"
        },
        {
          "output_type": "stream",
          "text": [
            "100%|██████████| 1758/1758 [00:14<00:00, 124.18it/s]\n"
          ],
          "name": "stderr"
        },
        {
          "output_type": "stream",
          "text": [
            "[0.02134960817864852, 0.1881305872967456, 0.1807309894954901, 0.43909758319489844, 0.0, 0.07242641890851646, 0.16524881296600516, 0.07178423348303649, 0.05280006717432262, 0.05813660188961552, 0.0, 0.006910051544946183, 0.00767876661105678, 0.1719761905670967, 0.5980505754256547, 0.12147231828862412, 0.0, 0.08689563679245282, 0.1635993160444571, 0.5031981035678316]\n",
            "Mean:  0.14547429307146992\n",
            "Min 0.0\n",
            "Max 0.5980505754256547\n"
          ],
          "name": "stdout"
        }
      ]
    },
    {
      "cell_type": "code",
      "metadata": {
        "id": "9KjTjflnjiAh",
        "outputId": "c37e8f6f-2f0c-4a2b-afff-38dce7d642d7",
        "colab": {
          "base_uri": "https://localhost:8080/"
        }
      },
      "source": [
        "with open(DRIVE_PATH+'data/orto_parkings/processed_images_dict.pickle', 'rb') as f:\n",
        "  processed_images_dict = pickle.load(f)\n",
        "\n",
        "EPS = 350\n",
        "MIN_SAMPLES = 3\n",
        "POSTFIX = '_t9nms4_1e'\n",
        "\n",
        "ious = validate_parkings(\n",
        "    eps=EPS,\n",
        "    min_samples=MIN_SAMPLES,\n",
        "    processed_images_dict=processed_images_dict,\n",
        "    draw_show_points=False,\n",
        "    show_polygons=False,\n",
        "    save_polygons=True,\n",
        "    show_image_with_mask=False,\n",
        "    save_image_with_mask=True,\n",
        "    postfix=POSTFIX\n",
        ")\n",
        "\n",
        "print(ious)\n",
        "ious_array = np.array(ious)\n",
        "print('Mean: ', ious_array.mean())\n",
        "print('Min', ious_array.min())\n",
        "print('Max', ious_array.max())"
      ],
      "execution_count": 21,
      "outputs": [
        {
          "output_type": "stream",
          "text": [
            "\n",
            "Loop 1\n"
          ],
          "name": "stdout"
        },
        {
          "output_type": "stream",
          "text": [
            "100%|██████████| 1758/1758 [00:10<00:00, 163.31it/s]\n"
          ],
          "name": "stderr"
        },
        {
          "output_type": "stream",
          "text": [
            "\n",
            "Loop 2\n"
          ],
          "name": "stdout"
        },
        {
          "output_type": "stream",
          "text": [
            "100%|██████████| 1758/1758 [00:11<00:00, 146.79it/s]\n"
          ],
          "name": "stderr"
        },
        {
          "output_type": "stream",
          "text": [
            "\n",
            "Loop 3\n"
          ],
          "name": "stdout"
        },
        {
          "output_type": "stream",
          "text": [
            "100%|██████████| 1758/1758 [00:12<00:00, 143.96it/s]\n"
          ],
          "name": "stderr"
        },
        {
          "output_type": "stream",
          "text": [
            "\n",
            "Loop 4\n"
          ],
          "name": "stdout"
        },
        {
          "output_type": "stream",
          "text": [
            "100%|██████████| 1758/1758 [00:10<00:00, 161.29it/s]\n"
          ],
          "name": "stderr"
        },
        {
          "output_type": "stream",
          "text": [
            "\n",
            "Loop 5\n"
          ],
          "name": "stdout"
        },
        {
          "output_type": "stream",
          "text": [
            "100%|██████████| 1758/1758 [00:10<00:00, 162.86it/s]\n"
          ],
          "name": "stderr"
        },
        {
          "output_type": "stream",
          "text": [
            "\n",
            "Loop 6\n"
          ],
          "name": "stdout"
        },
        {
          "output_type": "stream",
          "text": [
            "100%|██████████| 1758/1758 [00:13<00:00, 130.24it/s]\n"
          ],
          "name": "stderr"
        },
        {
          "output_type": "stream",
          "text": [
            "\n",
            "Loop 7\n"
          ],
          "name": "stdout"
        },
        {
          "output_type": "stream",
          "text": [
            "100%|██████████| 1758/1758 [00:12<00:00, 143.41it/s]\n"
          ],
          "name": "stderr"
        },
        {
          "output_type": "stream",
          "text": [
            "\n",
            "Loop 8\n"
          ],
          "name": "stdout"
        },
        {
          "output_type": "stream",
          "text": [
            "100%|██████████| 1758/1758 [00:17<00:00, 99.47it/s] \n"
          ],
          "name": "stderr"
        },
        {
          "output_type": "stream",
          "text": [
            "\n",
            "Loop 9\n"
          ],
          "name": "stdout"
        },
        {
          "output_type": "stream",
          "text": [
            "100%|██████████| 1758/1758 [00:11<00:00, 152.93it/s]\n"
          ],
          "name": "stderr"
        },
        {
          "output_type": "stream",
          "text": [
            "\n",
            "Loop 10\n"
          ],
          "name": "stdout"
        },
        {
          "output_type": "stream",
          "text": [
            "100%|██████████| 1758/1758 [00:12<00:00, 139.64it/s]\n"
          ],
          "name": "stderr"
        },
        {
          "output_type": "stream",
          "text": [
            "\n",
            "Loop 11\n"
          ],
          "name": "stdout"
        },
        {
          "output_type": "stream",
          "text": [
            "100%|██████████| 1758/1758 [00:10<00:00, 162.22it/s]\n"
          ],
          "name": "stderr"
        },
        {
          "output_type": "stream",
          "text": [
            "\n",
            "Loop 12\n"
          ],
          "name": "stdout"
        },
        {
          "output_type": "stream",
          "text": [
            "100%|██████████| 1758/1758 [00:12<00:00, 145.45it/s]\n"
          ],
          "name": "stderr"
        },
        {
          "output_type": "stream",
          "text": [
            "\n",
            "Loop 13\n"
          ],
          "name": "stdout"
        },
        {
          "output_type": "stream",
          "text": [
            "100%|██████████| 1758/1758 [00:14<00:00, 118.97it/s]\n"
          ],
          "name": "stderr"
        },
        {
          "output_type": "stream",
          "text": [
            "\n",
            "Loop 14\n"
          ],
          "name": "stdout"
        },
        {
          "output_type": "stream",
          "text": [
            "100%|██████████| 1758/1758 [00:14<00:00, 118.72it/s]\n"
          ],
          "name": "stderr"
        },
        {
          "output_type": "stream",
          "text": [
            "\n",
            "Loop 15\n"
          ],
          "name": "stdout"
        },
        {
          "output_type": "stream",
          "text": [
            "100%|██████████| 1758/1758 [00:15<00:00, 109.94it/s]\n"
          ],
          "name": "stderr"
        },
        {
          "output_type": "stream",
          "text": [
            "\n",
            "Loop 16\n"
          ],
          "name": "stdout"
        },
        {
          "output_type": "stream",
          "text": [
            "100%|██████████| 1758/1758 [00:12<00:00, 143.58it/s]\n"
          ],
          "name": "stderr"
        },
        {
          "output_type": "stream",
          "text": [
            "\n",
            "Loop 17\n"
          ],
          "name": "stdout"
        },
        {
          "output_type": "stream",
          "text": [
            "100%|██████████| 1758/1758 [00:10<00:00, 164.42it/s]\n"
          ],
          "name": "stderr"
        },
        {
          "output_type": "stream",
          "text": [
            "\n",
            "Loop 18\n"
          ],
          "name": "stdout"
        },
        {
          "output_type": "stream",
          "text": [
            "100%|██████████| 1758/1758 [00:12<00:00, 145.74it/s]\n"
          ],
          "name": "stderr"
        },
        {
          "output_type": "stream",
          "text": [
            "\n",
            "Loop 19\n"
          ],
          "name": "stdout"
        },
        {
          "output_type": "stream",
          "text": [
            "100%|██████████| 1758/1758 [00:11<00:00, 158.39it/s]\n"
          ],
          "name": "stderr"
        },
        {
          "output_type": "stream",
          "text": [
            "\n",
            "Loop 20\n"
          ],
          "name": "stdout"
        },
        {
          "output_type": "stream",
          "text": [
            "100%|██████████| 1758/1758 [00:14<00:00, 119.73it/s]\n"
          ],
          "name": "stderr"
        },
        {
          "output_type": "stream",
          "text": [
            "[0.02134960817864852, 0.16250625973736924, 0.15680592641398203, 0.43909758319489844, 0.0, 0.05144486615182179, 0.16524881296600516, 0.08792732391530307, 0.05094231991907607, 0.12853438860406619, 0.0, 0.07635285396590066, 0.015897494801775686, 0.2377753594001735, 0.5889557190080565, 0.11540035989322599, 0.0, 0.08461971497140826, 0.13463730070861737, 0.4871740972909663]\n",
            "Mean:  0.15023349945606473\n",
            "Min 0.0\n",
            "Max 0.5889557190080565\n"
          ],
          "name": "stdout"
        }
      ]
    },
    {
      "cell_type": "code",
      "metadata": {
        "id": "txEXMOe7nNUb"
      },
      "source": [
        "with open(DRIVE_PATH+'data/orto_parkings/processed_images_dict.pickle', 'rb') as f:\n",
        "  processed_images_dict = pickle.load(f)\n",
        "\n",
        "EPS = 300\n",
        "MIN_SAMPLES = 1\n",
        "POSTFIX = '_t9nms4_1e'\n",
        "\n",
        "ious = validate_parkings(\n",
        "    eps=EPS,\n",
        "    min_samples=MIN_SAMPLES,\n",
        "    processed_images_dict=processed_images_dict,\n",
        "    draw_show_points=False,\n",
        "    show_polygons=False,\n",
        "    save_polygons=True,\n",
        "    show_image_with_mask=False,\n",
        "    save_image_with_mask=True,\n",
        "    postfix=POSTFIX\n",
        ")\n",
        "\n",
        "print(ious)\n",
        "ious_array = np.array(ious)\n",
        "print('Mean: ', ious_array.mean())\n",
        "print('Min', ious_array.min())\n",
        "print('Max', ious_array.max())"
      ],
      "execution_count": null,
      "outputs": []
    },
    {
      "cell_type": "code",
      "metadata": {
        "id": "5BlNPd6vl8iS"
      },
      "source": [
        "with open(DRIVE_PATH+'data/orto_parkings/processed_images_dict.pickle', 'rb') as f:\n",
        "  processed_images_dict = pickle.load(f)\n",
        "\n",
        "EPS = 300\n",
        "MIN_SAMPLES = 5\n",
        "POSTFIX = '_t9nms4_1e'\n",
        "\n",
        "ious = validate_parkings(\n",
        "    eps=EPS,\n",
        "    min_samples=MIN_SAMPLES,\n",
        "    processed_images_dict=processed_images_dict,\n",
        "    draw_show_points=False,\n",
        "    show_polygons=False,\n",
        "    save_polygons=True,\n",
        "    show_image_with_mask=False,\n",
        "    save_image_with_mask=True,\n",
        "    postfix=POSTFIX\n",
        ")\n",
        "\n",
        "print(ious)\n",
        "ious_array = np.array(ious)\n",
        "print('Mean: ', ious_array.mean())\n",
        "print('Min', ious_array.min())\n",
        "print('Max', ious_array.max())"
      ],
      "execution_count": null,
      "outputs": []
    }
  ]
}