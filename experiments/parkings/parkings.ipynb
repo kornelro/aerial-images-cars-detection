{
  "nbformat": 4,
  "nbformat_minor": 0,
  "metadata": {
    "colab": {
      "name": "cv_test_nn_3.ipynb",
      "provenance": [],
      "collapsed_sections": []
    },
    "kernelspec": {
      "name": "python38564bitvenvcvfef54e1fd70743369b74101f6bc0a79a",
      "display_name": "Python 3.8.5 64-bit ('venv_cv')",
      "language": "python"
    }
  },
  "cells": [
    {
      "cell_type": "markdown",
      "metadata": {
        "id": "SbXxpsGbKSqW"
      },
      "source": [
        "### Install project"
      ]
    },
    {
      "cell_type": "code",
      "metadata": {
        "id": "SgKVumW3KcJy",
        "colab": {
          "base_uri": "https://localhost:8080/"
        },
        "outputId": "6c09f4cf-21a0-4b55-a3e2-c5a8287bfbfb"
      },
      "source": [
        "!git clone https://github.com/kornelro/cv_project.git"
      ],
      "execution_count": 1,
      "outputs": [
        {
          "output_type": "stream",
          "text": [
            "Cloning into 'cv_project'...\n",
            "remote: Enumerating objects: 374, done.\u001b[K\n",
            "remote: Counting objects: 100% (374/374), done.\u001b[K\n",
            "remote: Compressing objects: 100% (259/259), done.\u001b[K\n",
            "remote: Total 652 (delta 130), reused 234 (delta 61), pack-reused 278\u001b[K\n",
            "Receiving objects: 100% (652/652), 103.84 MiB | 22.93 MiB/s, done.\n",
            "Resolving deltas: 100% (276/276), done.\n"
          ],
          "name": "stdout"
        }
      ]
    },
    {
      "cell_type": "code",
      "metadata": {
        "id": "N0d2qzOIKeX9",
        "colab": {
          "base_uri": "https://localhost:8080/"
        },
        "outputId": "0f1323ef-bc09-4536-aeca-a05fe3a61581"
      },
      "source": [
        "!pip install cv_project/."
      ],
      "execution_count": 2,
      "outputs": [
        {
          "output_type": "stream",
          "text": [
            "Processing ./cv_project\n",
            "Building wheels for collected packages: src\n",
            "  Building wheel for src (setup.py) ... \u001b[?25l\u001b[?25hdone\n",
            "  Created wheel for src: filename=src-0.1.0-cp36-none-any.whl size=16310 sha256=c855b4ddceff272ad33d34eec2ce44734f7b58c40204f9761339d6ca0a1eeaeb\n",
            "  Stored in directory: /tmp/pip-ephem-wheel-cache-nqdhiyqj/wheels/fc/1b/40/72379bece2bafba26136079aeac87421c9221abafeb9c66746\n",
            "Successfully built src\n",
            "Installing collected packages: src\n",
            "Successfully installed src-0.1.0\n"
          ],
          "name": "stdout"
        }
      ]
    },
    {
      "cell_type": "markdown",
      "metadata": {
        "id": "l6W9ODL0KlRF"
      },
      "source": [
        "### Mount drive"
      ]
    },
    {
      "cell_type": "code",
      "metadata": {
        "id": "Qg0nQrTvKnze",
        "colab": {
          "base_uri": "https://localhost:8080/"
        },
        "outputId": "cb52169f-8c25-4f9b-91bb-30f2331bb83e"
      },
      "source": [
        "from google.colab import drive\n",
        "drive.mount('/content/drive')"
      ],
      "execution_count": 3,
      "outputs": [
        {
          "output_type": "stream",
          "text": [
            "Mounted at /content/drive\n"
          ],
          "name": "stdout"
        }
      ]
    },
    {
      "cell_type": "code",
      "metadata": {
        "id": "TQUA9-lWKs22"
      },
      "source": [
        "DRIVE_PATH = '/content/drive/Shareddrives/CV-PROJECT/'"
      ],
      "execution_count": 5,
      "outputs": []
    },
    {
      "cell_type": "markdown",
      "metadata": {
        "id": "Tug2lOM_K870"
      },
      "source": [
        "### Imports"
      ]
    },
    {
      "cell_type": "code",
      "metadata": {
        "id": "A34Or4RpcPEZ"
      },
      "source": [
        "from src.data.make_dataset import make_dataset\n",
        "from src.data.image_loaders import AerialCarsFixedSizeImageLoader\n",
        "from src.data.dataset_loaders import AerialCarsDatasetLoader\n",
        "from src.features.pipelines import RawImageToImage\n",
        "from src.features.processors import NormImage, EqualHist\n",
        "from src.models.classifiers import ResnetModelWrapper\n",
        "from src.models.detectors import SliderProbDetector\n",
        "from src.data.sliders import SlidingWindow\n",
        "from src.evaluation import validate_model, precision, recall, f1_score"
      ],
      "execution_count": 6,
      "outputs": []
    },
    {
      "cell_type": "code",
      "metadata": {
        "id": "EONCOFMZgGpa"
      },
      "source": [
        "from sklearn.model_selection import train_test_split\n",
        "from sklearn.svm import SVC\n",
        "from sklearn.metrics import classification_report\n",
        "from sklearn.preprocessing import StandardScaler\n",
        "from sklearn.pipeline import make_pipeline\n",
        "from copy import deepcopy\n",
        "import time\n",
        "import matplotlib.pyplot as plt\n",
        "import random\n",
        "from datetime import datetime\n",
        "import tensorflow as tf\n",
        "import tensorflow.keras as K\n",
        "import numpy as np\n",
        "import pandas as pd\n",
        "from sklearn.cluster import DBSCAN\n",
        "from sklearn.cluster import KMeans\n",
        "import cv2\n",
        "from tqdm import tqdm\n",
        "import pickle\n",
        "import pandas as pd\n",
        "import json\n",
        "from copy import deepcopy"
      ],
      "execution_count": 98,
      "outputs": []
    },
    {
      "cell_type": "code",
      "metadata": {
        "id": "ceBy0e9JNWkR"
      },
      "source": [
        "import os\n",
        "# from shutil import copyfile\n",
        "\n",
        "# for i in range(1,21):\n",
        "#   copyfile(DRIVE_PATH+'data/orto_detection/map1_1.txt', DRIVE_PATH+'data/orto_detection/'+str(i)+'/map'+str(i)+'_1.txt')\n",
        "#   copyfile(DRIVE_PATH+'data/orto_detection/map1_2.txt', DRIVE_PATH+'data/orto_detection/'+str(i)+'/map'+str(i)+'_2.txt')\n",
        "#   copyfile(DRIVE_PATH+'data/orto_detection/map1_3.txt', DRIVE_PATH+'data/orto_detection/'+str(i)+'/map'+str(i)+'_3.txt')\n",
        "\n",
        "# for i in range(1,21):\n",
        "#   copyfile(DRIVE_PATH+'data/raw/orto_parkings/map'+str(i)+'_1.png', DRIVE_PATH+'data/orto_detection/'+str(i)+'/map'+str(i)+'_1.png')\n",
        "#   copyfile(DRIVE_PATH+'data/raw/orto_parkings/map'+str(i)+'_2.png', DRIVE_PATH+'data/orto_detection/'+str(i)+'/map'+str(i)+'_2.png')\n",
        "#   copyfile(DRIVE_PATH+'data/raw/orto_parkings/map'+str(i)+'_3.png', DRIVE_PATH+'data/orto_detection/'+str(i)+'/map'+str(i)+'_3.png')"
      ],
      "execution_count": 53,
      "outputs": []
    },
    {
      "cell_type": "markdown",
      "metadata": {
        "id": "SUklYAb-MsqK"
      },
      "source": [
        "# Parkings"
      ]
    },
    {
      "cell_type": "markdown",
      "metadata": {
        "id": "RYAiZ5ZeP0wk"
      },
      "source": [
        "### Train ResNet50"
      ]
    },
    {
      "cell_type": "code",
      "metadata": {
        "id": "c1eVwYBzQOO8"
      },
      "source": [
        "DATA_PATH = DRIVE_PATH+'data/processed/aerial-cars-dataset/resnet/data_resnet.pickle'\n",
        "with open(DATA_PATH, 'rb') as f:\n",
        "    data = pickle.load(f)"
      ],
      "execution_count": null,
      "outputs": []
    },
    {
      "cell_type": "code",
      "metadata": {
        "id": "1INERVuAPxL2"
      },
      "source": [
        "TEST_SIZE = 0.1\n",
        "BATCH_SIZE = 100\n",
        "EPOCHS = 5"
      ],
      "execution_count": null,
      "outputs": []
    },
    {
      "cell_type": "code",
      "metadata": {
        "id": "pj-00DohQWd7",
        "colab": {
          "base_uri": "https://localhost:8080/"
        },
        "outputId": "2268f9df-725e-4b57-d703-cbbac9685a0c"
      },
      "source": [
        "X = np.array(list(map(lambda x: x[1], data)))\n",
        "y = np.array(list(map(lambda x: x[2], data)))\n",
        "X_train, X_test, y_train, y_test = train_test_split(\n",
        "    X, y,\n",
        "    test_size=TEST_SIZE,\n",
        "    random_state=42\n",
        "  )\n",
        "\n",
        "\n",
        "input_t = K.Input(shape=(X[0].shape))\n",
        "res_model = K.applications.ResNet50V2(\n",
        "    include_top=False,\n",
        "    weights='imagenet',\n",
        "    input_tensor=input_t\n",
        ")\n",
        "\n",
        "for layer in res_model.layers:\n",
        "    layer.trainable = False\n",
        "\n",
        "model = K.models.Sequential()\n",
        "model.add(res_model)\n",
        "model.add(K.layers.Flatten())\n",
        "model.add(K.layers.Dense(2, activation='softmax'))\n",
        "\n",
        "\n",
        "model.compile(\n",
        "    optimizer=K.optimizers.Adam(0.001),\n",
        "    loss=K.losses.SparseCategoricalCrossentropy(),\n",
        "    metrics=['accuracy']\n",
        ")\n",
        "\n",
        "history = model.fit(X_train, y_train,\n",
        "            batch_size=BATCH_SIZE,\n",
        "            epochs=EPOCHS, \n",
        "            validation_data=(X_test, y_test)\n",
        ")"
      ],
      "execution_count": null,
      "outputs": [
        {
          "output_type": "stream",
          "text": [
            "Epoch 1/5\n",
            "43/43 [==============================] - 8s 88ms/step - loss: 0.3689 - accuracy: 0.8935 - val_loss: 0.1205 - val_accuracy: 0.9767\n",
            "Epoch 2/5\n",
            "43/43 [==============================] - 2s 51ms/step - loss: 0.0348 - accuracy: 0.9929 - val_loss: 0.1070 - val_accuracy: 0.9852\n",
            "Epoch 3/5\n",
            "43/43 [==============================] - 2s 51ms/step - loss: 0.0050 - accuracy: 0.9981 - val_loss: 0.1052 - val_accuracy: 0.9809\n",
            "Epoch 4/5\n",
            "43/43 [==============================] - 2s 50ms/step - loss: 0.0039 - accuracy: 0.9989 - val_loss: 0.0921 - val_accuracy: 0.9831\n",
            "Epoch 5/5\n",
            "43/43 [==============================] - 2s 51ms/step - loss: 0.0011 - accuracy: 1.0000 - val_loss: 0.0942 - val_accuracy: 0.9873\n"
          ],
          "name": "stdout"
        }
      ]
    },
    {
      "cell_type": "markdown",
      "metadata": {
        "id": "WuQtgQEGQjTb"
      },
      "source": [
        "### Detection"
      ]
    },
    {
      "cell_type": "code",
      "metadata": {
        "id": "uBIETi0AQidj"
      },
      "source": [
        "del data"
      ],
      "execution_count": null,
      "outputs": []
    },
    {
      "cell_type": "code",
      "metadata": {
        "id": "ZZecL8ckduhu"
      },
      "source": [
        "BND_BOX_SIZE = (80, 80)\n",
        "STEP_SIZE = 20\n",
        "\n",
        "dataset_loader = AerialCarsDatasetLoader(\n",
        "    image_loader=AerialCarsFixedSizeImageLoader(\n",
        "        bnd_box_size=BND_BOX_SIZE\n",
        "    )\n",
        ")\n",
        "\n",
        "process_pipeline=RawImageToImage(\n",
        "    processors=[\n",
        "        EqualHist(),\n",
        "        NormImage()\n",
        "    ]\n",
        ")\n",
        "\n",
        "sliding_window = SlidingWindow(\n",
        "    step_size=STEP_SIZE,\n",
        "    window_size=BND_BOX_SIZE\n",
        ")\n",
        "\n",
        "slider_detector = SliderProbDetector(\n",
        "    sliding_window=sliding_window,\n",
        "    process_pipeline=process_pipeline,\n",
        "    classifier=ResnetModelWrapper(model),\n",
        "    treshold=0.9,\n",
        "    nms_overlap=0.4\n",
        ")"
      ],
      "execution_count": null,
      "outputs": []
    },
    {
      "cell_type": "code",
      "metadata": {
        "id": "qRhH8-66f5yU",
        "colab": {
          "base_uri": "https://localhost:8080/"
        },
        "outputId": "eec0df45-2641-4201-e3bc-eeeb721f65fc"
      },
      "source": [
        "processed_images_dict = {}\n",
        "\n",
        "for i in range(1, 21):\n",
        "  true_positives, false_positives, false_negatives, processed_images = validate_model(\n",
        "    dataset_loader=dataset_loader,\n",
        "    input_folder_filepath=DRIVE_PATH+'data/orto_detection/'+str(i),\n",
        "    output_folder_filepath=DRIVE_PATH+'data/orto_detection/'+str(i),\n",
        "    images_files_types=('png',),\n",
        "    annotations_files_types=('txt',),\n",
        "    detector=slider_detector,\n",
        "    workers=0\n",
        "  )\n",
        "\n",
        "  processed_images_dict[i] = processed_images"
      ],
      "execution_count": null,
      "outputs": [
        {
          "output_type": "stream",
          "text": [
            "\n",
            "  0%|          | 0/3 [00:00<?, ?it/s]\u001b[A"
          ],
          "name": "stderr"
        },
        {
          "output_type": "stream",
          "text": [
            "346\n"
          ],
          "name": "stdout"
        },
        {
          "output_type": "stream",
          "text": [
            "\n",
            " 33%|███▎      | 1/3 [00:15<00:30, 15.35s/it]\u001b[A\n",
            " 67%|██████▋   | 2/3 [00:29<00:14, 14.97s/it]\u001b[A"
          ],
          "name": "stderr"
        },
        {
          "output_type": "stream",
          "text": [
            "61\n",
            "1150\n"
          ],
          "name": "stdout"
        },
        {
          "output_type": "stream",
          "text": [
            "\n",
            "100%|██████████| 3/3 [00:44<00:00, 14.70s/it]\n",
            "\n",
            "  0%|          | 0/3 [00:00<?, ?it/s]\u001b[A"
          ],
          "name": "stderr"
        },
        {
          "output_type": "stream",
          "text": [
            "681\n"
          ],
          "name": "stdout"
        },
        {
          "output_type": "stream",
          "text": [
            "\n",
            " 33%|███▎      | 1/3 [00:14<00:29, 14.58s/it]\u001b[A\n",
            " 67%|██████▋   | 2/3 [00:29<00:14, 14.55s/it]\u001b[A"
          ],
          "name": "stderr"
        },
        {
          "output_type": "stream",
          "text": [
            "242\n",
            "994\n"
          ],
          "name": "stdout"
        },
        {
          "output_type": "stream",
          "text": [
            "\n",
            "100%|██████████| 3/3 [00:43<00:00, 14.59s/it]\n",
            "\n",
            "  0%|          | 0/3 [00:00<?, ?it/s]\u001b[A\n",
            " 33%|███▎      | 1/3 [00:14<00:29, 14.75s/it]\u001b[A"
          ],
          "name": "stderr"
        },
        {
          "output_type": "stream",
          "text": [
            "199\n",
            "558\n"
          ],
          "name": "stdout"
        },
        {
          "output_type": "stream",
          "text": [
            "\n",
            " 67%|██████▋   | 2/3 [00:29<00:14, 14.69s/it]\u001b[A"
          ],
          "name": "stderr"
        },
        {
          "output_type": "stream",
          "text": [
            "1091\n"
          ],
          "name": "stdout"
        },
        {
          "output_type": "stream",
          "text": [
            "\n",
            "100%|██████████| 3/3 [00:44<00:00, 14.70s/it]\n",
            "\n",
            "  0%|          | 0/3 [00:00<?, ?it/s]\u001b[A\n",
            " 33%|███▎      | 1/3 [00:14<00:28, 14.38s/it]\u001b[A"
          ],
          "name": "stderr"
        },
        {
          "output_type": "stream",
          "text": [
            "45\n"
          ],
          "name": "stdout"
        },
        {
          "output_type": "stream",
          "text": [
            "\n",
            " 67%|██████▋   | 2/3 [00:28<00:14, 14.39s/it]\u001b[A"
          ],
          "name": "stderr"
        },
        {
          "output_type": "stream",
          "text": [
            "310\n"
          ],
          "name": "stdout"
        },
        {
          "output_type": "stream",
          "text": [
            "\n",
            "100%|██████████| 3/3 [00:43<00:00, 14.43s/it]"
          ],
          "name": "stderr"
        },
        {
          "output_type": "stream",
          "text": [
            "297\n"
          ],
          "name": "stdout"
        },
        {
          "output_type": "stream",
          "text": [
            "\n",
            "\n",
            "  0%|          | 0/3 [00:00<?, ?it/s]\u001b[A\n",
            " 33%|███▎      | 1/3 [00:14<00:28, 14.35s/it]\u001b[A"
          ],
          "name": "stderr"
        },
        {
          "output_type": "stream",
          "text": [
            "85\n"
          ],
          "name": "stdout"
        },
        {
          "output_type": "stream",
          "text": [
            "\n",
            " 67%|██████▋   | 2/3 [00:28<00:14, 14.34s/it]\u001b[A"
          ],
          "name": "stderr"
        },
        {
          "output_type": "stream",
          "text": [
            "254\n",
            "464\n"
          ],
          "name": "stdout"
        },
        {
          "output_type": "stream",
          "text": [
            "\n",
            "100%|██████████| 3/3 [00:43<00:00, 14.42s/it]\n",
            "\n",
            "  0%|          | 0/3 [00:00<?, ?it/s]\u001b[A\n",
            " 33%|███▎      | 1/3 [00:14<00:29, 14.53s/it]\u001b[A"
          ],
          "name": "stderr"
        },
        {
          "output_type": "stream",
          "text": [
            "274\n",
            "568\n"
          ],
          "name": "stdout"
        },
        {
          "output_type": "stream",
          "text": [
            "\n",
            " 67%|██████▋   | 2/3 [00:29<00:14, 14.54s/it]\u001b[A"
          ],
          "name": "stderr"
        },
        {
          "output_type": "stream",
          "text": [
            "708\n"
          ],
          "name": "stdout"
        },
        {
          "output_type": "stream",
          "text": [
            "\n",
            "100%|██████████| 3/3 [00:43<00:00, 14.66s/it]\n",
            "\n",
            "  0%|          | 0/3 [00:00<?, ?it/s]\u001b[A\n",
            " 33%|███▎      | 1/3 [00:14<00:28, 14.41s/it]\u001b[A"
          ],
          "name": "stderr"
        },
        {
          "output_type": "stream",
          "text": [
            "111\n",
            "432\n"
          ],
          "name": "stdout"
        },
        {
          "output_type": "stream",
          "text": [
            "\n",
            " 67%|██████▋   | 2/3 [00:29<00:14, 14.46s/it]\u001b[A"
          ],
          "name": "stderr"
        },
        {
          "output_type": "stream",
          "text": [
            "806\n"
          ],
          "name": "stdout"
        },
        {
          "output_type": "stream",
          "text": [
            "\n",
            "100%|██████████| 3/3 [00:43<00:00, 14.55s/it]\n",
            "\n",
            "  0%|          | 0/3 [00:00<?, ?it/s]\u001b[A"
          ],
          "name": "stderr"
        },
        {
          "output_type": "stream",
          "text": [
            "374\n"
          ],
          "name": "stdout"
        },
        {
          "output_type": "stream",
          "text": [
            "\n",
            " 33%|███▎      | 1/3 [00:14<00:28, 14.42s/it]\u001b[A"
          ],
          "name": "stderr"
        },
        {
          "output_type": "stream",
          "text": [
            "906\n"
          ],
          "name": "stdout"
        },
        {
          "output_type": "stream",
          "text": [
            "\n",
            " 67%|██████▋   | 2/3 [00:29<00:14, 14.51s/it]\u001b[A"
          ],
          "name": "stderr"
        },
        {
          "output_type": "stream",
          "text": [
            "967\n"
          ],
          "name": "stdout"
        },
        {
          "output_type": "stream",
          "text": [
            "\n",
            "100%|██████████| 3/3 [00:43<00:00, 14.62s/it]\n",
            "\n",
            "  0%|          | 0/3 [00:00<?, ?it/s]\u001b[A\n",
            " 33%|███▎      | 1/3 [00:14<00:28, 14.43s/it]\u001b[A"
          ],
          "name": "stderr"
        },
        {
          "output_type": "stream",
          "text": [
            "221\n",
            "558\n"
          ],
          "name": "stdout"
        },
        {
          "output_type": "stream",
          "text": [
            "\n",
            " 67%|██████▋   | 2/3 [00:29<00:14, 14.49s/it]\u001b[A"
          ],
          "name": "stderr"
        },
        {
          "output_type": "stream",
          "text": [
            "1178\n"
          ],
          "name": "stdout"
        },
        {
          "output_type": "stream",
          "text": [
            "\n",
            "100%|██████████| 3/3 [00:43<00:00, 14.63s/it]\n",
            "\n",
            "  0%|          | 0/3 [00:00<?, ?it/s]\u001b[A\n",
            " 33%|███▎      | 1/3 [00:14<00:28, 14.34s/it]\u001b[A"
          ],
          "name": "stderr"
        },
        {
          "output_type": "stream",
          "text": [
            "156\n",
            "637\n"
          ],
          "name": "stdout"
        },
        {
          "output_type": "stream",
          "text": [
            "\n",
            " 67%|██████▋   | 2/3 [00:28<00:14, 14.41s/it]\u001b[A"
          ],
          "name": "stderr"
        },
        {
          "output_type": "stream",
          "text": [
            "1606\n"
          ],
          "name": "stdout"
        },
        {
          "output_type": "stream",
          "text": [
            "\n",
            "100%|██████████| 3/3 [00:44<00:00, 14.79s/it]\n",
            "\n",
            "  0%|          | 0/3 [00:00<?, ?it/s]\u001b[A\n",
            " 33%|███▎      | 1/3 [00:14<00:28, 14.25s/it]\u001b[A"
          ],
          "name": "stderr"
        },
        {
          "output_type": "stream",
          "text": [
            "121\n"
          ],
          "name": "stdout"
        },
        {
          "output_type": "stream",
          "text": [
            "\n",
            " 67%|██████▋   | 2/3 [00:28<00:14, 14.32s/it]\u001b[A"
          ],
          "name": "stderr"
        },
        {
          "output_type": "stream",
          "text": [
            "382\n",
            "1078\n"
          ],
          "name": "stdout"
        },
        {
          "output_type": "stream",
          "text": [
            "\n",
            "100%|██████████| 3/3 [00:43<00:00, 14.47s/it]\n",
            "\n",
            "  0%|          | 0/3 [00:00<?, ?it/s]\u001b[A\n",
            " 33%|███▎      | 1/3 [00:14<00:28, 14.39s/it]\u001b[A"
          ],
          "name": "stderr"
        },
        {
          "output_type": "stream",
          "text": [
            "271\n"
          ],
          "name": "stdout"
        },
        {
          "output_type": "stream",
          "text": [
            "\n",
            " 67%|██████▋   | 2/3 [00:28<00:14, 14.43s/it]\u001b[A"
          ],
          "name": "stderr"
        },
        {
          "output_type": "stream",
          "text": [
            "301\n",
            "628\n"
          ],
          "name": "stdout"
        },
        {
          "output_type": "stream",
          "text": [
            "\n",
            "100%|██████████| 3/3 [00:43<00:00, 14.50s/it]\n",
            "\n",
            "  0%|          | 0/3 [00:00<?, ?it/s]\u001b[A"
          ],
          "name": "stderr"
        },
        {
          "output_type": "stream",
          "text": [
            "837\n"
          ],
          "name": "stdout"
        },
        {
          "output_type": "stream",
          "text": [
            "\n",
            " 33%|███▎      | 1/3 [00:14<00:29, 14.71s/it]\u001b[A"
          ],
          "name": "stderr"
        },
        {
          "output_type": "stream",
          "text": [
            "690\n"
          ],
          "name": "stdout"
        },
        {
          "output_type": "stream",
          "text": [
            "\n",
            " 67%|██████▋   | 2/3 [00:29<00:14, 14.67s/it]\u001b[A"
          ],
          "name": "stderr"
        },
        {
          "output_type": "stream",
          "text": [
            "790\n"
          ],
          "name": "stdout"
        },
        {
          "output_type": "stream",
          "text": [
            "\n",
            "100%|██████████| 3/3 [00:43<00:00, 14.64s/it]\n",
            "\n",
            "  0%|          | 0/3 [00:00<?, ?it/s]\u001b[A\n",
            " 33%|███▎      | 1/3 [00:14<00:28, 14.46s/it]\u001b[A"
          ],
          "name": "stderr"
        },
        {
          "output_type": "stream",
          "text": [
            "276\n",
            "1293\n"
          ],
          "name": "stdout"
        },
        {
          "output_type": "stream",
          "text": [
            "\n",
            " 67%|██████▋   | 2/3 [00:29<00:14, 14.70s/it]\u001b[A"
          ],
          "name": "stderr"
        },
        {
          "output_type": "stream",
          "text": [
            "821\n"
          ],
          "name": "stdout"
        },
        {
          "output_type": "stream",
          "text": [
            "\n",
            "100%|██████████| 3/3 [00:44<00:00, 14.79s/it]\n",
            "\n",
            "  0%|          | 0/3 [00:00<?, ?it/s]\u001b[A"
          ],
          "name": "stderr"
        },
        {
          "output_type": "stream",
          "text": [
            "438\n"
          ],
          "name": "stdout"
        },
        {
          "output_type": "stream",
          "text": [
            "\n",
            " 33%|███▎      | 1/3 [00:14<00:28, 14.48s/it]\u001b[A"
          ],
          "name": "stderr"
        },
        {
          "output_type": "stream",
          "text": [
            "820\n"
          ],
          "name": "stdout"
        },
        {
          "output_type": "stream",
          "text": [
            "\n",
            " 67%|██████▋   | 2/3 [00:29<00:14, 14.54s/it]\u001b[A"
          ],
          "name": "stderr"
        },
        {
          "output_type": "stream",
          "text": [
            "1319\n"
          ],
          "name": "stdout"
        },
        {
          "output_type": "stream",
          "text": [
            "\n",
            "100%|██████████| 3/3 [00:44<00:00, 14.68s/it]\n",
            "\n",
            "  0%|          | 0/3 [00:00<?, ?it/s]\u001b[A\n",
            " 33%|███▎      | 1/3 [00:14<00:28, 14.33s/it]\u001b[A"
          ],
          "name": "stderr"
        },
        {
          "output_type": "stream",
          "text": [
            "138\n"
          ],
          "name": "stdout"
        },
        {
          "output_type": "stream",
          "text": [
            "\n",
            " 67%|██████▋   | 2/3 [00:28<00:14, 14.36s/it]\u001b[A"
          ],
          "name": "stderr"
        },
        {
          "output_type": "stream",
          "text": [
            "305\n",
            "476\n"
          ],
          "name": "stdout"
        },
        {
          "output_type": "stream",
          "text": [
            "\n",
            "100%|██████████| 3/3 [00:43<00:00, 14.42s/it]\n",
            "\n",
            "  0%|          | 0/3 [00:00<?, ?it/s]\u001b[A\n",
            " 33%|███▎      | 1/3 [00:14<00:28, 14.44s/it]\u001b[A"
          ],
          "name": "stderr"
        },
        {
          "output_type": "stream",
          "text": [
            "189\n",
            "474\n"
          ],
          "name": "stdout"
        },
        {
          "output_type": "stream",
          "text": [
            "\n",
            " 67%|██████▋   | 2/3 [00:28<00:14, 14.45s/it]\u001b[A"
          ],
          "name": "stderr"
        },
        {
          "output_type": "stream",
          "text": [
            "736\n"
          ],
          "name": "stdout"
        },
        {
          "output_type": "stream",
          "text": [
            "\n",
            "100%|██████████| 3/3 [00:43<00:00, 14.50s/it]\n",
            "\n",
            "  0%|          | 0/3 [00:00<?, ?it/s]\u001b[A\n",
            " 33%|███▎      | 1/3 [00:14<00:28, 14.50s/it]\u001b[A"
          ],
          "name": "stderr"
        },
        {
          "output_type": "stream",
          "text": [
            "184\n",
            "626\n"
          ],
          "name": "stdout"
        },
        {
          "output_type": "stream",
          "text": [
            "\n",
            " 67%|██████▋   | 2/3 [00:29<00:14, 14.61s/it]\u001b[A"
          ],
          "name": "stderr"
        },
        {
          "output_type": "stream",
          "text": [
            "838\n"
          ],
          "name": "stdout"
        },
        {
          "output_type": "stream",
          "text": [
            "\n",
            "100%|██████████| 3/3 [00:44<00:00, 14.70s/it]\n",
            "\n",
            "  0%|          | 0/3 [00:00<?, ?it/s]\u001b[A\n",
            " 33%|███▎      | 1/3 [00:14<00:28, 14.38s/it]\u001b[A"
          ],
          "name": "stderr"
        },
        {
          "output_type": "stream",
          "text": [
            "198\n",
            "664\n"
          ],
          "name": "stdout"
        },
        {
          "output_type": "stream",
          "text": [
            "\n",
            " 67%|██████▋   | 2/3 [00:28<00:14, 14.45s/it]\u001b[A"
          ],
          "name": "stderr"
        },
        {
          "output_type": "stream",
          "text": [
            "916\n"
          ],
          "name": "stdout"
        },
        {
          "output_type": "stream",
          "text": [
            "\n",
            "100%|██████████| 3/3 [00:43<00:00, 14.57s/it]\n",
            "\n",
            "  0%|          | 0/3 [00:00<?, ?it/s]\u001b[A\n",
            " 33%|███▎      | 1/3 [00:14<00:28, 14.37s/it]\u001b[A"
          ],
          "name": "stderr"
        },
        {
          "output_type": "stream",
          "text": [
            "268\n",
            "557\n"
          ],
          "name": "stdout"
        },
        {
          "output_type": "stream",
          "text": [
            "\n",
            " 67%|██████▋   | 2/3 [00:28<00:14, 14.43s/it]\u001b[A"
          ],
          "name": "stderr"
        },
        {
          "output_type": "stream",
          "text": [
            "880\n"
          ],
          "name": "stdout"
        },
        {
          "output_type": "stream",
          "text": [
            "\n",
            "100%|██████████| 3/3 [00:43<00:00, 14.51s/it]\n"
          ],
          "name": "stderr"
        }
      ]
    },
    {
      "cell_type": "code",
      "metadata": {
        "id": "95IJYUZtW_gs"
      },
      "source": [
        "# with open(DRIVE_PATH+'data/orto_parkings/processed_images_dict.pickle', 'wb') as f:\n",
        "#   pickle.dump(processed_images_dict, f)"
      ],
      "execution_count": null,
      "outputs": []
    },
    {
      "cell_type": "markdown",
      "metadata": {
        "id": "WjPOs8bPVZ5U"
      },
      "source": [
        "### Parkings"
      ]
    },
    {
      "cell_type": "markdown",
      "metadata": {
        "id": "1TjD5t1VUACd"
      },
      "source": [
        "#### Load processed images"
      ]
    },
    {
      "cell_type": "code",
      "metadata": {
        "id": "p5P_l7GGXQoI"
      },
      "source": [
        "with open(DRIVE_PATH+'data/orto_parkings/processed_images_dict.pickle', 'rb') as f:\n",
        "  processed_images_dict = pickle.load(f)"
      ],
      "execution_count": 97,
      "outputs": []
    },
    {
      "cell_type": "markdown",
      "metadata": {
        "id": "nkGpXzxZUFLd"
      },
      "source": [
        "#### Code"
      ]
    },
    {
      "cell_type": "code",
      "metadata": {
        "id": "83sf7Zh1VcLd"
      },
      "source": [
        "def add_points(row):\n",
        "    c = row['box']\n",
        "    row['points'] = [\n",
        "        (c[0], c[1]),\n",
        "        (c[2], c[3]),\n",
        "        (c[4], c[5]),\n",
        "        (c[6], c[7])\n",
        "        ]\n",
        "\n",
        "    return row\n",
        "\n",
        "def validate_parkings(\n",
        "    eps, min_samples,\n",
        "    processed_images_dict,\n",
        "    draw_show_points,\n",
        "    show_polygons,\n",
        "    save_polygons,\n",
        "    show_image_with_mask,\n",
        "    save_image_with_mask,\n",
        "    postfix\n",
        "):\n",
        "\n",
        "  ious = []\n",
        "\n",
        "  for kp in range(1, 21):\n",
        "    print()\n",
        "    print('Loop', kp)\n",
        "\n",
        "    masks = []\n",
        "\n",
        "    for lp in range(3):\n",
        "\n",
        "      image = processed_images_dict[kp][lp][0]\n",
        "      bnd_boxes = processed_images_dict[kp][lp][1]\n",
        "\n",
        "      points_x = list(map(lambda x: x[0] + 40, bnd_boxes))\n",
        "      points_y = list(map(lambda x: x[5] + 40, bnd_boxes))\n",
        "\n",
        "\n",
        "      # make clusters\n",
        "\n",
        "      clustering = DBSCAN(eps=eps, min_samples=min_samples).fit(list(zip(points_x, points_y)))\n",
        "\n",
        "\n",
        "      if draw_show_points:\n",
        "\n",
        "        # draw points\n",
        "\n",
        "        colors = clustering.labels_\n",
        "\n",
        "        x_to_plot = []\n",
        "        y_to_plot = []\n",
        "        c_to_plot = []\n",
        "\n",
        "        for i in range(len(colors)):\n",
        "            if colors[i] != -1:\n",
        "                x_to_plot.append(points_x[i])\n",
        "                y_to_plot.append(points_y[i])\n",
        "                c_to_plot.append(colors[i])\n",
        "\n",
        "        plt.figure(figsize=(20,10))\n",
        "        plt.imshow(image)\n",
        "        plt.scatter(x_to_plot, y_to_plot, c=c_to_plot, s=100)\n",
        "        plt.show()\n",
        "\n",
        "\n",
        "      # draw polygons\n",
        "\n",
        "      colors = clustering.labels_\n",
        "\n",
        "      df = pd.DataFrame(list(zip(points_x, points_y, colors, bnd_boxes)), columns=['x', 'y', 'c', 'box'])\n",
        "      df = df[df['c'] != -1]\n",
        "\n",
        "      df = df.apply(add_points, axis=1)\n",
        "\n",
        "      c_points = {}\n",
        "      for c in range(df['c'].max()+1):\n",
        "          p_lists = df[df['c'] == c]['points'].to_list()\n",
        "          if len(p_lists) > 0:\n",
        "            c_points[c] = []\n",
        "            for l in p_lists:\n",
        "                c_points[c] = c_points[c] + l\n",
        "\n",
        "      image2 = image\n",
        "      hulls = []\n",
        "      for k, v in c_points.items():\n",
        "          hull = cv2.convexHull(np.array(v))\n",
        "          hulls.append(hull)\n",
        "          image2 = cv2.drawContours(image2, [hull], -1, (0, 0, 255), 5)\n",
        "\n",
        "      if show_polygons:\n",
        "\n",
        "        # show image\n",
        "        plt.figure(figsize=(20,10))\n",
        "        plt.imshow(image2)\n",
        "        plt.scatter(x_to_plot, y_to_plot, c=c_to_plot, s=70)\n",
        "        plt.show()\n",
        "\n",
        "      if save_polygons:\n",
        "\n",
        "        # save image\n",
        "        output_full_path = DRIVE_PATH+'data/orto_parkings/'+str(kp)+'/clusters_'+str(lp)+'_eps_'+str(EPS)+'_min_'+str(MIN_SAMPLES)+posfix+'.jpg'\n",
        "        cv2.imwrite(output_full_path, cv2.cvtColor(image2, cv2.COLOR_RGB2BGR))\n",
        "\n",
        "\n",
        "      # masks\n",
        "      mask = np.zeros_like(image)\n",
        "      cv2.fillPoly(mask, hulls, (0, 0, 255))\n",
        "      masks.append(mask)\n",
        "\n",
        "\n",
        "    # ground truth mask\n",
        "\n",
        "    with open(DRIVE_PATH+'data/orto_parkings/parking-polygon/map'+str(kp)+'_3.json', 'rb') as f:\n",
        "      p = json.load(f)\n",
        "\n",
        "    hulls = []\n",
        "\n",
        "    for annotation in p['items'][0]['annotations']:\n",
        "      annotated_points = annotation['points']\n",
        "      processed_points = []\n",
        "      for i in range(0, len(annotated_points), 2):\n",
        "        processed_points.append((annotated_points[i], annotated_points[i+1]))\n",
        "      hull = cv2.convexHull(np.array(processed_points).astype(int))\n",
        "      hulls.append(hull)\n",
        "\n",
        "    gt_mask = np.zeros_like(image)\n",
        "    cv2.fillPoly(gt_mask, hulls, (0, 0, 255))\n",
        "\n",
        "    \n",
        "    # masks union\n",
        "\n",
        "    union = masks[0] & masks[1] & masks[2]\n",
        "    image_with_mask = cv2.cvtColor(cv2.imread(DRIVE_PATH+'data/orto_parkings/'+str(kp)+'/map'+str(kp)+'_3.png'), cv2.COLOR_RGB2BGR)\n",
        "    t = [0, 0, 255]\n",
        "\n",
        "\n",
        "    # count metrics and draw found mask\n",
        "\n",
        "    gt_points = 0\n",
        "    mask_points = 0\n",
        "    common_points = 0\n",
        "\n",
        "    for i in tqdm(range(union.shape[0])):\n",
        "        for j in range(union.shape[1]):\n",
        "\n",
        "            if union[i][j][2]:\n",
        "              image_with_mask[i][j] = np.array(t)\n",
        "              mask_points += 1\n",
        "            \n",
        "            if gt_mask[i][j][2]:\n",
        "              gt_points += 1\n",
        "\n",
        "            if union[i][j][2] and gt_mask[i][j][2]:\n",
        "              common_points += 1\n",
        "              mask_points -= 1\n",
        "\n",
        "    ious.append(common_points / (mask_points + gt_points))\n",
        "\n",
        "    if show_image_with_mask:\n",
        "\n",
        "      # show image with mask\n",
        "      plt.figure(figsize=(20,10))\n",
        "      plt.imshow(image_with_mask)\n",
        "      plt.show()\n",
        "\n",
        "    if save_image_with_mask:\n",
        "\n",
        "      # save image with mask\n",
        "      output_full_path = DRIVE_PATH+'data/orto_parkings/'+str(kp)+'/image_with_mask_eps_'+str(EPS)+'_min_'+str(MIN_SAMPLES)+posfix+'.jpg'\n",
        "      cv2.imwrite(output_full_path, cv2.cvtColor(image_with_mask, cv2.COLOR_RGB2BGR))\n",
        "    \n",
        "  return ious"
      ],
      "execution_count": 124,
      "outputs": []
    },
    {
      "cell_type": "markdown",
      "metadata": {
        "id": "7RyjvAmMUI06"
      },
      "source": [
        "#### Experiments"
      ]
    },
    {
      "cell_type": "code",
      "metadata": {
        "colab": {
          "base_uri": "https://localhost:8080/"
        },
        "id": "u5w7XOJFP5CG",
        "outputId": "374d7d54-37f6-45db-be8c-9e0a9f8de3d9"
      },
      "source": [
        "EPS = 150\n",
        "MIN_SAMPLES = 3\n",
        "POSTFIX = ''\n",
        "\n",
        "ious = validate_parkings(\n",
        "    eps=EPS,\n",
        "    min_samples=MIN_SAMPLES,\n",
        "    processed_images_dict=processed_images_dict,\n",
        "    draw_show_points=False,\n",
        "    show_polygons=False,\n",
        "    save_polygons=False,\n",
        "    show_image_with_mask=False,\n",
        "    save_image_with_mask=False,\n",
        "    posfix=POSTFIX\n",
        ")\n",
        "\n",
        "print(ious)\n",
        "ious_array = np.array(ious)\n",
        "print('Mean: ', ious_array.mean())\n",
        "print('Min', ious_array.min())\n",
        "print('Max', ious_array.max())"
      ],
      "execution_count": 123,
      "outputs": [
        {
          "output_type": "stream",
          "text": [
            "[0.057662329753007904, 0.32631643857815024, 0.27334036970024017, 0.0760374109464159, 0.0, 0.06466926133535685, 0.03178284034777655, 0.054081630602197034, 0.07586691673897437, 0.0539604249394965, 0.13261535236056474, 0.079440966027818, 0.044356904316101176, 0.2579655729706972, 0.3856896875683435, 0.082374319820467, 0.1488169012793024, 0.13136534649374207, 0.1399539550351022, 0.24235121248514788]\n",
            "Mean:  0.1329323920649451\n",
            "Min 0.0\n",
            "Max 0.3856896875683435\n"
          ],
          "name": "stdout"
        }
      ]
    }
  ]
}