{
 "metadata": {
  "language_info": {
   "codemirror_mode": {
    "name": "ipython",
    "version": 3
   },
   "file_extension": ".py",
   "mimetype": "text/x-python",
   "name": "python",
   "nbconvert_exporter": "python",
   "pygments_lexer": "ipython3",
   "version": "3.8.5-final"
  },
  "orig_nbformat": 2,
  "kernelspec": {
   "name": "python38564bitvenvcvvenv6cf5d49a40c1440a9f0299998fa89af2",
   "display_name": "Python 3.8.5 64-bit ('venv_cv': venv)",
   "language": "python"
  }
 },
 "nbformat": 4,
 "nbformat_minor": 2,
 "cells": [
  {
   "cell_type": "code",
   "execution_count": 4,
   "metadata": {},
   "outputs": [],
   "source": [
    "from src.data.make_dataset import make_dataset\n",
    "from src.data.image_loaders import DOTAFixedSizeImageLoader\n",
    "from src.data.dataset_loaders import DOTADatasetLoader\n",
    "from src.features.pipelines import RawImageToImage\n",
    "from src.features.processors import NormImage"
   ]
  },
  {
   "source": [
    "# DOTA  \n",
    "# ResNet dataset preparation\n",
    "# Pipeline: Norm"
   ],
   "cell_type": "markdown",
   "metadata": {}
  },
  {
   "cell_type": "code",
   "execution_count": 5,
   "metadata": {},
   "outputs": [],
   "source": [
    "BND_BOX_SIZE = (50, 50)\n",
    "MIN_SIDE_OF_BOX = 40\n",
    "\n",
    "dataset_loader = DOTADatasetLoader(\n",
    "    image_loader=DOTAFixedSizeImageLoader(\n",
    "        bnd_box_size=BND_BOX_SIZE,\n",
    "        min_side_of_box=MIN_SIDE_OF_BOX\n",
    "    )\n",
    ")\n",
    "\n",
    "process_pipeline=RawImageToImage(\n",
    "    processors=[\n",
    "        NormImage()\n",
    "    ]\n",
    ")"
   ]
  },
  {
   "cell_type": "code",
   "execution_count": 6,
   "metadata": {},
   "outputs": [
    {
     "output_type": "stream",
     "name": "stderr",
     "text": [
      "100%|██████████| 256/256 [00:21<00:00, 11.76it/s]\n",
      "100%|██████████| 62/62 [00:00<00:00, 521.75it/s]\n",
      "100%|██████████| 6104/6104 [00:00<00:00, 13301.97it/s]\n",
      "100%|██████████| 256/256 [00:44<00:00,  5.71it/s]\n",
      "100%|██████████| 33/33 [00:00<00:00, 647.47it/s]\n",
      "100%|██████████| 2460/2460 [00:00<00:00, 14831.28it/s]\n",
      "100%|██████████| 256/256 [00:08<00:00, 30.54it/s]\n",
      "100%|██████████| 29/29 [00:00<00:00, 220.02it/s]\n",
      "100%|██████████| 7172/7172 [00:00<00:00, 12225.69it/s]\n",
      "100%|██████████| 288/288 [00:08<00:00, 33.40it/s]\n",
      "100%|██████████| 63/63 [00:00<00:00, 1230.44it/s]\n",
      "100%|██████████| 2876/2876 [00:00<00:00, 15730.74it/s]\n",
      "100%|██████████| 230/230 [00:27<00:00,  8.25it/s]\n",
      "100%|██████████| 4/4 [00:00<00:00, 123.09it/s]\n",
      "100%|██████████| 1140/1140 [00:00<00:00, 11117.25it/s]\n",
      "100%|██████████| 188/188 [00:17<00:00, 10.53it/s]\n",
      "100%|██████████| 33/33 [00:00<00:00, 282.93it/s]\n",
      "100%|██████████| 5884/5884 [00:00<00:00, 13690.18it/s]\n",
      "100%|██████████| 272/272 [00:07<00:00, 35.23it/s]\n",
      "100%|██████████| 84/84 [00:00<00:00, 728.15it/s]\n",
      "100%|██████████| 5940/5940 [00:00<00:00, 13696.06it/s]\n",
      "100%|██████████| 253/253 [00:59<00:00,  4.25it/s]\n",
      "100%|██████████| 40/40 [00:00<00:00, 135.75it/s]\n",
      "100%|██████████| 14584/14584 [00:01<00:00, 11650.47it/s]\n",
      "100%|██████████| 257/257 [00:19<00:00, 13.45it/s]\n",
      "100%|██████████| 2/2 [00:00<00:00, 2160.34it/s]\n",
      "100%|██████████| 8/8 [00:00<00:00, 4544.82it/s]\n",
      "100%|██████████| 220/220 [00:10<00:00, 20.69it/s]\n",
      "100%|██████████| 50/50 [00:00<00:00, 989.45it/s]\n",
      "100%|██████████| 2304/2304 [00:00<00:00, 14247.39it/s]\n",
      "  2%|▏         | 4/211 [00:00<00:18, 11.17it/s]No file ../../../../data/raw/dota/part11/P1980.txt\n",
      " 16%|█▌        | 34/211 [00:02<00:10, 16.90it/s]No file ../../../../data/raw/dota/part11/P1989.txt\n",
      " 25%|██▌       | 53/211 [00:02<00:07, 22.31it/s]No file ../../../../data/raw/dota/part11/P1990.txt\n",
      " 32%|███▏      | 67/211 [00:03<00:05, 24.75it/s]No file ../../../../data/raw/dota/part11/P1987.txt\n",
      " 50%|█████     | 106/211 [00:05<00:05, 19.42it/s]No file ../../../../data/raw/dota/part11/P1981.txt\n",
      "No file ../../../../data/raw/dota/part11/P1986.txt\n",
      " 59%|█████▉    | 125/211 [00:06<00:04, 20.14it/s]No file ../../../../data/raw/dota/part11/P1977.txt\n",
      " 85%|████████▍ | 179/211 [00:10<00:01, 16.58it/s]No file ../../../../data/raw/dota/part11/P1984.txt\n",
      "100%|██████████| 211/211 [00:13<00:00, 15.63it/s]\n",
      " 49%|████▉     | 27/55 [00:00<00:00, 245.41it/s]No file ../../../../data/raw/dota/part11/P1991.txt\n",
      "100%|██████████| 55/55 [00:00<00:00, 193.25it/s]\n",
      "100%|██████████| 15616/15616 [00:01<00:00, 12000.95it/s]\n",
      " 19%|█▉        | 26/135 [00:07<00:20,  5.25it/s]No file ../../../../data/raw/dota/part12/P2804.txt\n",
      "100%|██████████| 135/135 [00:26<00:00,  5.01it/s]\n",
      "100%|██████████| 11/11 [00:00<00:00, 234.24it/s]\n",
      "100%|██████████| 1908/1908 [00:00<00:00, 13820.52it/s]\n"
     ]
    }
   ],
   "source": [
    "for i in range(1, 13):\n",
    "    data = make_dataset(\n",
    "        input_folder_filepath='../../../../data/raw/dota/part'+str(i),\n",
    "        output_filepath='../../../../data/processed/dota/resnet/data_resnet_'+str(i)+'.pickle',\n",
    "        dataset_loader=dataset_loader,\n",
    "        images_files_types=('png',),\n",
    "        annotations_files_types=('txt',),\n",
    "        process_pipeline=process_pipeline,\n",
    "        rotate_positive_examples=True,\n",
    "        negative_images_size=BND_BOX_SIZE,\n",
    "        negative_examples_size=0.5,\n",
    "        workers=7,\n",
    "        verbose=True\n",
    "    )"
   ]
  }
 ]
}