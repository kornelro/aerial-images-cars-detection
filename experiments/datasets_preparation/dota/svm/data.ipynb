{
 "metadata": {
  "language_info": {
   "codemirror_mode": {
    "name": "ipython",
    "version": 3
   },
   "file_extension": ".py",
   "mimetype": "text/x-python",
   "name": "python",
   "nbconvert_exporter": "python",
   "pygments_lexer": "ipython3",
   "version": "3.8.5-final"
  },
  "orig_nbformat": 2,
  "kernelspec": {
   "name": "python38564bitvenvcvvenv6cf5d49a40c1440a9f0299998fa89af2",
   "display_name": "Python 3.8.5 64-bit ('venv_cv': venv)",
   "language": "python"
  }
 },
 "nbformat": 4,
 "nbformat_minor": 2,
 "cells": [
  {
   "cell_type": "code",
   "execution_count": 1,
   "metadata": {},
   "outputs": [],
   "source": [
    "from src.data.make_dataset import make_dataset\n",
    "from src.data.image_loaders import DOTAFixedSizeImageLoader\n",
    "from src.data.dataset_loaders import DOTADatasetLoader\n",
    "from src.features.pipelines import RawImageToFeatures\n",
    "from src.features.descriptors import HOGDescriptor, LBPDescriptor"
   ]
  },
  {
   "source": [
    "# DOTA  \n",
    "# SVM datasets preparation"
   ],
   "cell_type": "markdown",
   "metadata": {}
  },
  {
   "cell_type": "code",
   "execution_count": 2,
   "metadata": {},
   "outputs": [],
   "source": [
    "BND_BOX_SIZE = (50, 50)\n",
    "MIN_SIDE_OF_BOX = 40\n",
    "\n",
    "dataset_loader = DOTADatasetLoader(\n",
    "    image_loader=DOTAFixedSizeImageLoader(\n",
    "        bnd_box_size=BND_BOX_SIZE,\n",
    "        min_side_of_box=MIN_SIDE_OF_BOX\n",
    "    )\n",
    ")\n",
    "\n",
    "process_pipeline = RawImageToFeatures(\n",
    "    processors=[],\n",
    "    descriptors=[\n",
    "        HOGDescriptor(\n",
    "            orientations = 9,\n",
    "            cells_per_block = (2, 2),\n",
    "            pixels_per_cell = (4, 4),\n",
    "            multichannel = True,\n",
    "            visualize = True\n",
    "        ),\n",
    "        LBPDescriptor(\n",
    "            bins = 256,\n",
    "            range = (0, 256)\n",
    "        )\n",
    "    ]\n",
    ")"
   ]
  },
  {
   "cell_type": "code",
   "execution_count": 5,
   "metadata": {},
   "outputs": [
    {
     "output_type": "stream",
     "name": "stderr",
     "text": [
      "100%|██████████| 509/509 [01:34<00:00,  5.37it/s]\n",
      "100%|██████████| 73/73 [00:00<00:00, 198.72it/s]\n",
      "100%|██████████| 17044/17044 [00:01<00:00, 12408.82it/s]\n",
      "100%|██████████| 256/256 [00:09<00:00, 27.11it/s]\n",
      "100%|██████████| 29/29 [00:00<00:00, 208.25it/s]\n",
      "100%|██████████| 7172/7172 [00:00<00:00, 12456.27it/s]\n",
      "100%|██████████| 288/288 [00:07<00:00, 36.32it/s]\n",
      "100%|██████████| 63/63 [00:00<00:00, 1118.15it/s]\n",
      "100%|██████████| 2876/2876 [00:00<00:00, 14084.72it/s]\n"
     ]
    }
   ],
   "source": [
    "for i in range(1, 13):\n",
    "    data = make_dataset(\n",
    "    input_folder_filepath='../../../../data/raw/dota/part'+str(i),\n",
    "    output_filepath='../../../../data/processed/dota/svm/data_svm_'+str(i)+'.pickle',\n",
    "    dataset_loader=dataset_loader,\n",
    "    images_files_types=('png',),\n",
    "    annotations_files_types=('txt',),\n",
    "    process_pipeline=process_pipeline,\n",
    "    rotate_positive_examples=True,\n",
    "    negative_images_size=BND_BOX_SIZE,\n",
    "    negative_examples_size=0.5,\n",
    "    workers=7,\n",
    "    verbose=True\n",
    ")"
   ]
  },
  {
   "cell_type": "code",
   "execution_count": null,
   "metadata": {},
   "outputs": [],
   "source": []
  }
 ]
}