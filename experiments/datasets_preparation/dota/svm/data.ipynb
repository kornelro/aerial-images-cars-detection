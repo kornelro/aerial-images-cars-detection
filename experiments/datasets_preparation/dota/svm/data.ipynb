{
 "metadata": {
  "language_info": {
   "codemirror_mode": {
    "name": "ipython",
    "version": 3
   },
   "file_extension": ".py",
   "mimetype": "text/x-python",
   "name": "python",
   "nbconvert_exporter": "python",
   "pygments_lexer": "ipython3",
   "version": "3.8.5-final"
  },
  "orig_nbformat": 2,
  "kernelspec": {
   "name": "python38564bitvenvcvvenv6cf5d49a40c1440a9f0299998fa89af2",
   "display_name": "Python 3.8.5 64-bit ('venv_cv': venv)",
   "language": "python"
  }
 },
 "nbformat": 4,
 "nbformat_minor": 2,
 "cells": [
  {
   "cell_type": "code",
   "execution_count": 1,
   "metadata": {},
   "outputs": [],
   "source": [
    "from src.data.make_dataset import make_dataset\n",
    "from src.data.image_loaders import DOTAFixedSizeImageLoader\n",
    "from src.data.dataset_loaders import DOTADatasetLoader\n",
    "from src.features.pipelines import RawImageToFeatures\n",
    "from src.features.descriptors import HOGDescriptor, LBPDescriptor"
   ]
  },
  {
   "source": [
    "# DOTA  \n",
    "# SVM datasets preparation"
   ],
   "cell_type": "markdown",
   "metadata": {}
  },
  {
   "cell_type": "code",
   "execution_count": 2,
   "metadata": {},
   "outputs": [],
   "source": [
    "BND_BOX_SIZE = (50, 50)\n",
    "MIN_SIDE_OF_BOX = 40\n",
    "\n",
    "dataset_loader = DOTADatasetLoader(\n",
    "    image_loader=DOTAFixedSizeImageLoader(\n",
    "        bnd_box_size=BND_BOX_SIZE,\n",
    "        min_side_of_box=MIN_SIDE_OF_BOX\n",
    "    )\n",
    ")\n",
    "\n",
    "process_pipeline = RawImageToFeatures(\n",
    "    processors=[],\n",
    "    descriptors=[\n",
    "        HOGDescriptor(\n",
    "            orientations = 9,\n",
    "            cells_per_block = (2, 2),\n",
    "            pixels_per_cell = (4, 4),\n",
    "            multichannel = True,\n",
    "            visualize = True\n",
    "        ),\n",
    "        LBPDescriptor(\n",
    "            bins = 256,\n",
    "            range = (0, 256)\n",
    "        )\n",
    "    ]\n",
    ")"
   ]
  },
  {
   "cell_type": "code",
   "execution_count": 3,
   "metadata": {},
   "outputs": [
    {
     "output_type": "stream",
     "name": "stderr",
     "text": [
      "100%|██████████| 256/256 [00:17<00:00, 14.65it/s]\n",
      "100%|██████████| 62/62 [00:00<00:00, 415.90it/s]\n",
      "100%|██████████| 6104/6104 [00:00<00:00, 14404.75it/s]\n",
      "100%|██████████| 256/256 [00:38<00:00,  6.61it/s]\n",
      "100%|██████████| 33/33 [00:00<00:00, 440.67it/s]\n",
      "100%|██████████| 2460/2460 [00:00<00:00, 14903.41it/s]\n",
      "100%|██████████| 256/256 [00:08<00:00, 31.58it/s]\n",
      "100%|██████████| 29/29 [00:00<00:00, 221.05it/s]\n",
      "100%|██████████| 7172/7172 [00:00<00:00, 12817.16it/s]\n",
      "100%|██████████| 288/288 [00:06<00:00, 45.39it/s]\n",
      "100%|██████████| 63/63 [00:00<00:00, 1216.45it/s]\n",
      "100%|██████████| 2876/2876 [00:00<00:00, 16366.79it/s]\n",
      "100%|██████████| 230/230 [00:27<00:00,  8.23it/s]\n",
      "100%|██████████| 4/4 [00:00<00:00, 164.75it/s]\n",
      "100%|██████████| 1140/1140 [00:00<00:00, 13210.08it/s]\n",
      "100%|██████████| 188/188 [00:17<00:00, 10.60it/s]\n",
      "100%|██████████| 33/33 [00:00<00:00, 289.45it/s]\n",
      "100%|██████████| 5884/5884 [00:00<00:00, 14326.34it/s]\n",
      "100%|██████████| 272/272 [00:05<00:00, 50.59it/s]\n",
      "100%|██████████| 84/84 [00:00<00:00, 793.63it/s]\n",
      "100%|██████████| 5940/5940 [00:00<00:00, 15120.74it/s]\n",
      "100%|██████████| 253/253 [00:45<00:00,  5.50it/s]\n",
      "100%|██████████| 40/40 [00:00<00:00, 145.45it/s]\n",
      "100%|██████████| 14584/14584 [00:01<00:00, 12836.61it/s]\n",
      "100%|██████████| 257/257 [00:13<00:00, 19.09it/s]\n",
      "100%|██████████| 2/2 [00:00<00:00, 6274.20it/s]\n",
      "100%|██████████| 8/8 [00:00<00:00, 5485.44it/s]\n",
      "100%|██████████| 220/220 [00:09<00:00, 22.22it/s]\n",
      "100%|██████████| 50/50 [00:00<00:00, 1020.92it/s]\n",
      "100%|██████████| 2304/2304 [00:00<00:00, 13287.29it/s]\n",
      "  2%|▏         | 4/211 [00:00<00:17, 11.76it/s]No file ../../../../data/raw/dota/part11/P1980.txt\n",
      " 16%|█▌        | 34/211 [00:02<00:10, 16.60it/s]No file ../../../../data/raw/dota/part11/P1989.txt\n",
      " 25%|██▌       | 53/211 [00:02<00:07, 22.33it/s]No file ../../../../data/raw/dota/part11/P1990.txt\n",
      " 32%|███▏      | 67/211 [00:03<00:05, 25.05it/s]No file ../../../../data/raw/dota/part11/P1987.txt\n",
      " 49%|████▉     | 103/211 [00:05<00:05, 20.37it/s]No file ../../../../data/raw/dota/part11/P1981.txt\n",
      " 52%|█████▏    | 109/211 [00:05<00:04, 25.28it/s]No file ../../../../data/raw/dota/part11/P1986.txt\n",
      " 60%|██████    | 127/211 [00:06<00:03, 23.90it/s]No file ../../../../data/raw/dota/part11/P1977.txt\n",
      " 84%|████████▍ | 178/211 [00:09<00:02, 15.51it/s]No file ../../../../data/raw/dota/part11/P1984.txt\n",
      "100%|██████████| 211/211 [00:13<00:00, 16.20it/s]\n",
      " 42%|████▏     | 23/55 [00:00<00:00, 229.71it/s]No file ../../../../data/raw/dota/part11/P1991.txt\n",
      "100%|██████████| 55/55 [00:00<00:00, 160.59it/s]\n",
      "100%|██████████| 15616/15616 [00:01<00:00, 13628.99it/s]\n",
      " 19%|█▉        | 26/135 [00:03<00:12,  8.97it/s]No file ../../../../data/raw/dota/part12/P2804.txt\n",
      "100%|██████████| 135/135 [00:17<00:00,  7.81it/s]\n",
      "100%|██████████| 11/11 [00:00<00:00, 223.38it/s]\n",
      "100%|██████████| 1908/1908 [00:00<00:00, 14103.62it/s]\n"
     ]
    }
   ],
   "source": [
    "for i in range(1, 13):\n",
    "    data = make_dataset(\n",
    "    input_folder_filepath='../../../../data/raw/dota/part'+str(i),\n",
    "    output_filepath='../../../../data/processed/dota/svm/data_svm_'+str(i)+'.pickle',\n",
    "    dataset_loader=dataset_loader,\n",
    "    images_files_types=('png',),\n",
    "    annotations_files_types=('txt',),\n",
    "    process_pipeline=process_pipeline,\n",
    "    rotate_positive_examples=True,\n",
    "    negative_images_size=BND_BOX_SIZE,\n",
    "    negative_examples_size=0.5,\n",
    "    workers=7,\n",
    "    verbose=True\n",
    ")"
   ]
  }
 ]
}