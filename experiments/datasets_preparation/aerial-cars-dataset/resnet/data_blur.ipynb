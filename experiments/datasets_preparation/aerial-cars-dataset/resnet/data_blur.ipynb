{
 "metadata": {
  "language_info": {
   "codemirror_mode": {
    "name": "ipython",
    "version": 3
   },
   "file_extension": ".py",
   "mimetype": "text/x-python",
   "name": "python",
   "nbconvert_exporter": "python",
   "pygments_lexer": "ipython3",
   "version": "3.8.5-final"
  },
  "orig_nbformat": 2,
  "kernelspec": {
   "name": "python38564bitvenvcvvenv6cf5d49a40c1440a9f0299998fa89af2",
   "display_name": "Python 3.8.5 64-bit ('venv_cv': venv)",
   "language": "python"
  }
 },
 "nbformat": 4,
 "nbformat_minor": 2,
 "cells": [
  {
   "cell_type": "code",
   "execution_count": 1,
   "metadata": {},
   "outputs": [],
   "source": [
    "from src.data.make_dataset import make_dataset\n",
    "from src.data.image_loaders import AerialCarsFixedSizeImageLoader\n",
    "from src.data.dataset_loaders import AerialCarsDatasetLoader\n",
    "from src.features.pipelines import RawImageToImage\n",
    "from src.features.processors import NormImage, Blur"
   ]
  },
  {
   "source": [
    "# Aerial-Cars-Dataset\n",
    "# ResNet dataset preparation\n",
    "# Pipeline: Blur, Norm"
   ],
   "cell_type": "markdown",
   "metadata": {}
  },
  {
   "cell_type": "code",
   "execution_count": 2,
   "metadata": {},
   "outputs": [],
   "source": [
    "BND_BOX_SIZE = (80, 80)\n",
    "\n",
    "dataset_loader = AerialCarsDatasetLoader(\n",
    "    image_loader=AerialCarsFixedSizeImageLoader(\n",
    "        bnd_box_size=BND_BOX_SIZE\n",
    "    )\n",
    ")\n",
    "\n",
    "process_pipeline=RawImageToImage(\n",
    "    processors=[\n",
    "        Blur(),\n",
    "        NormImage()\n",
    "    ]\n",
    ")"
   ]
  },
  {
   "cell_type": "code",
   "execution_count": 3,
   "metadata": {},
   "outputs": [
    {
     "output_type": "stream",
     "name": "stderr",
     "text": [
      "100%|██████████| 83/83 [00:02<00:00, 29.45it/s]\n",
      "100%|██████████| 40/40 [00:00<00:00, 290.08it/s]\n",
      "100%|██████████| 2360/2360 [00:00<00:00, 7593.88it/s]\n"
     ]
    }
   ],
   "source": [
    "data = make_dataset(\n",
    "    input_folder_filepath='../../../../data/raw/aerial-cars-dataset/',\n",
    "    output_filepath='../../../../data/processed/aerial-cars-dataset/resnet/data_resnet_blur.pickle',\n",
    "    dataset_loader=dataset_loader,\n",
    "    images_files_types=('jpg', 'JPG', 'png'),\n",
    "    annotations_files_types=('txt',),\n",
    "    process_pipeline=process_pipeline,\n",
    "    rotate_positive_examples=True,\n",
    "    negative_images_size=BND_BOX_SIZE,\n",
    "    negative_examples_size=0.5,\n",
    "    workers=7,\n",
    "    verbose=True\n",
    ")"
   ]
  },
  {
   "cell_type": "code",
   "execution_count": null,
   "metadata": {},
   "outputs": [],
   "source": []
  }
 ]
}