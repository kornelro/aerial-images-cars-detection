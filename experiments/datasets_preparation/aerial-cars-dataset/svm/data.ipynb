{
 "cells": [
  {
   "cell_type": "code",
   "execution_count": 1,
   "metadata": {
    "pycharm": {
     "is_executing": false
    }
   },
   "outputs": [],
   "source": [
    "from src.data.make_dataset import make_dataset\n",
    "from src.data.image_loaders import AerialCarsFixedSizeImageLoader\n",
    "from src.data.dataset_loaders import AerialCarsDatasetLoader\n",
    "from src.features.pipelines import RawImageToFeatures\n",
    "from src.features.descriptors import HOGDescriptor, LBPDescriptor"
   ]
  },
  {
   "cell_type": "markdown",
   "metadata": {},
   "source": [
    "# Aerial-Cars-Dataset  \n",
    "# SVM datasets preparation"
   ]
  },
  {
   "cell_type": "code",
   "execution_count": 2,
   "metadata": {
    "pycharm": {
     "is_executing": false
    }
   },
   "outputs": [],
   "source": [
    "BND_BOX_SIZE = (80, 80)\n",
    "\n",
    "dataset_loader = AerialCarsDatasetLoader(\n",
    "    image_loader=AerialCarsFixedSizeImageLoader(\n",
    "        bnd_box_size=BND_BOX_SIZE\n",
    "    )\n",
    ")\n",
    "\n",
    "process_pipeline = RawImageToFeatures(\n",
    "    processors=[],\n",
    "    descriptors=[\n",
    "        HOGDescriptor(\n",
    "            orientations = 9,\n",
    "            cells_per_block = (2, 2),\n",
    "            pixels_per_cell = (4, 4),\n",
    "            multichannel = True,\n",
    "            visualize = True\n",
    "        ),\n",
    "        LBPDescriptor(\n",
    "            bins = 256,\n",
    "            range = (0, 256)\n",
    "        )\n",
    "    ]\n",
    ")"
   ]
  },
  {
   "cell_type": "code",
   "execution_count": 3,
   "metadata": {
    "pycharm": {
     "is_executing": false
    }
   },
   "outputs": [
    {
     "name": "stderr",
     "output_type": "stream",
     "text": [
      "100%|█████████████████████████████████████████████████████████████████████████████████████████████████████████████████████████████████████████████████████████████████████████████████████████████████████████████████████████████████████| 7/7 [00:00<00:00, 56.00it/s]\n",
      "100%|████████████████████████████████████████████████████████████████████████████████████████████████████████████████████████████████████████████████████████████████████████████████████████████████████████████████████████████████████| 3/3 [00:00<00:00, 119.80it/s]\n",
      "100%|███████████████████████████████████████████████████████████████████████████████████████████████████████████████████████████████████████████████████████████████████████████████████████████████████████████████████████████████| 276/276 [00:00<00:00, 5207.64it/s]\n"
     ]
    }
   ],
   "source": [
    "data = make_dataset(\n",
    "    input_folder_filepath='../../../../data/raw/aerial_subset/',\n",
    "    output_filepath='../../../../data/processed/aerial-cars-dataset/svm/data_svm.pickle',\n",
    "    dataset_loader=dataset_loader,\n",
    "    images_files_types=('jpg', 'JPG', 'png'),\n",
    "    annotations_files_types=('txt',),\n",
    "    process_pipeline=process_pipeline,\n",
    "    rotate_positive_examples=True,\n",
    "    negative_images_size=BND_BOX_SIZE,\n",
    "    negative_examples_size=0.5,\n",
    "    workers=7,\n",
    "    verbose=True\n",
    ")"
   ]
  },
  {
   "cell_type": "code",
   "execution_count": 2,
   "metadata": {},
   "outputs": [
    {
     "name": "stdout",
     "output_type": "stream",
     "text": [
      "Package                       Version     \n",
      "----------------------------- ------------\n",
      "alabaster                     0.7.12      \n",
      "altair                        4.1.0       \n",
      "appdirs                       1.4.3       \n",
      "astor                         0.8.1       \n",
      "astroid                       2.3.3       \n",
      "atomicwrites                  1.3.0       \n",
      "atpublic                      1.0         \n",
      "attrs                         19.3.0      \n",
      "awscli                        1.18.218    \n",
      "Babel                         2.9.0       \n",
      "backcall                      0.1.0       \n",
      "base58                        2.0.0       \n",
      "beautifulsoup4                4.8.2       \n",
      "bleach                        3.1.1       \n",
      "blinker                       1.4         \n",
      "boto                          2.49.0      \n",
      "boto3                         1.12.48     \n",
      "botocore                      1.19.58     \n",
      "cachetools                    4.1.0       \n",
      "certifi                       2019.11.28  \n",
      "cffi                          1.14.0      \n",
      "chardet                       3.0.4       \n",
      "click                         7.1.2       \n",
      "colorama                      0.4.3       \n",
      "configobj                     5.0.6       \n",
      "coverage                      5.3.1       \n",
      "cryptography                  2.9.1       \n",
      "cycler                        0.10.0      \n",
      "Cython                        0.29.14     \n",
      "decorator                     4.4.2       \n",
      "defusedxml                    0.6.0       \n",
      "distlib                       0.3.0       \n",
      "distro                        1.5.0       \n",
      "docutils                      0.15.2      \n",
      "dpath                         2.0.1       \n",
      "dvc                           0.93.0      \n",
      "entrypoints                   0.3         \n",
      "enum-compat                   0.0.3       \n",
      "filelock                      3.0.12      \n",
      "flake8                        3.7.9       \n",
      "flatten-json                  0.1.7       \n",
      "flufl.lock                    3.2         \n",
      "funcy                         1.14        \n",
      "future                        0.18.2      \n",
      "gensim                        3.8.3       \n",
      "gitdb                         4.0.4       \n",
      "GitPython                     3.1.1       \n",
      "google-api-core               1.17.0      \n",
      "google-api-python-client      1.8.2       \n",
      "google-auth                   1.14.1      \n",
      "google-auth-httplib2          0.0.3       \n",
      "googleapis-common-protos      1.51.0      \n",
      "grandalf                      0.6         \n",
      "httplib2                      0.17.3      \n",
      "humanize                      2.3.0       \n",
      "idna                          2.9         \n",
      "imagesize                     1.2.0       \n",
      "imbalanced-learn              0.6.2       \n",
      "importlib-metadata            1.5.0       \n",
      "inflect                       3.0.2       \n",
      "ipykernel                     5.1.4       \n",
      "ipython                       7.13.0      \n",
      "ipython-genutils              0.2.0       \n",
      "ipywidgets                    7.5.1       \n",
      "isort                         4.3.4       \n",
      "jedi                          0.16.0      \n",
      "Jinja2                        2.11.1      \n",
      "jmespath                      0.9.5       \n",
      "joblib                        0.14.1      \n",
      "json5                         0.9.4       \n",
      "jsonpath-ng                   1.5.1       \n",
      "jsonschema                    3.2.0       \n",
      "jupyter                       1.0.0       \n",
      "jupyter-client                6.0.0       \n",
      "jupyter-console               6.1.0       \n",
      "jupyter-core                  4.6.3       \n",
      "jupyterlab                    2.1.2       \n",
      "jupyterlab-server             1.1.4       \n",
      "kiwisolver                    1.0.1       \n",
      "lazy-object-proxy             1.4.3       \n",
      "MarkupSafe                    1.1.1       \n",
      "matplotlib                    3.2.0       \n",
      "mccabe                        0.6.1       \n",
      "mistune                       0.8.4       \n",
      "more-itertools                8.2.0       \n",
      "mypy                          0.761       \n",
      "mypy-extensions               0.4.3       \n",
      "nanotime                      0.5.2       \n",
      "nbconvert                     5.6.1       \n",
      "nbformat                      5.0.4       \n",
      "networkx                      2.4         \n",
      "nltk                          3.5         \n",
      "notebook                      6.0.3       \n",
      "numpy                         1.19.3      \n",
      "oauth2client                  4.1.3       \n",
      "opt-einsum                    3.2.0       \n",
      "packaging                     20.1        \n",
      "pandas                        1.0.1       \n",
      "pandocfilters                 1.4.2       \n",
      "parso                         0.6.2       \n",
      "path.py                       7.7.1       \n",
      "pathspec                      0.8.0       \n",
      "pathtools                     0.1.2       \n",
      "pickleshare                   0.7.5       \n",
      "Pillow                        7.0.0       \n",
      "pip                           20.0.2      \n",
      "pluggy                        0.13.1      \n",
      "ply                           3.11        \n",
      "prometheus-client             0.7.1       \n",
      "prompt-toolkit                3.0.3       \n",
      "protobuf                      3.11.3      \n",
      "py                            1.8.1       \n",
      "pyasn1                        0.4.8       \n",
      "pyasn1-modules                0.2.8       \n",
      "pycodestyle                   2.5.0       \n",
      "pycparser                     2.20        \n",
      "pydeck                        0.3.1       \n",
      "pydot                         1.4.1       \n",
      "PyDrive2                      1.4.10      \n",
      "pyflakes                      2.1.1       \n",
      "Pygments                      2.5.2       \n",
      "pygtrie                       2.3.2       \n",
      "pylint                        2.4.4       \n",
      "pyOpenSSL                     19.1.0      \n",
      "pyparsing                     2.3.0       \n",
      "pyro-api                      0.1.1       \n",
      "pyro-ppl                      1.3.0       \n",
      "pyrsistent                    0.15.7      \n",
      "pytest                        5.3.5       \n",
      "python-dateutil               2.7.5       \n",
      "python-dotenv                 0.15.0      \n",
      "pytz                          2019.3      \n",
      "pywin32                       227         \n",
      "pywinpty                      0.5.7       \n",
      "PyYAML                        5.3.1       \n",
      "pyzmq                         19.0.0      \n",
      "qtconsole                     4.7.0       \n",
      "QtPy                          1.9.0       \n",
      "regex                         2020.6.8    \n",
      "requests                      2.23.0      \n"
     ]
    },
    {
     "name": "stderr",
     "output_type": "stream",
     "text": [
      "WARNING: You are using pip version 20.0.2; however, version 20.3.3 is available.\n",
      "You should consider upgrading via the 'c:\\users\\askib\\appdata\\local\\programs\\python\\python37\\python.exe -m pip install --upgrade pip' command.\n"
     ]
    },
    {
     "name": "stdout",
     "output_type": "stream",
     "text": [
      "rsa                           4.0         \n",
      "ruamel.yaml                   0.16.10     \n",
      "ruamel.yaml.clib              0.2.0       \n",
      "s3transfer                    0.3.3       \n",
      "scikit-learn                  0.22.2.post1\n",
      "scipy                         1.4.1       \n",
      "seaborn                       0.10.0      \n",
      "seaborn-qqplot                0.3.2       \n",
      "Send2Trash                    1.5.0       \n",
      "setuptools                    39.0.1      \n",
      "shortuuid                     1.0.1       \n",
      "six                           1.14.0      \n",
      "smart-open                    2.0.0       \n",
      "smmap                         3.0.2       \n",
      "snowballstemmer               2.1.0       \n",
      "soupsieve                     2.0         \n",
      "speedcopy                     2.0.1       \n",
      "Sphinx                        3.4.3       \n",
      "sphinxcontrib-applehelp       1.0.2       \n",
      "sphinxcontrib-devhelp         1.0.2       \n",
      "sphinxcontrib-htmlhelp        1.0.3       \n",
      "sphinxcontrib-jsmath          1.0.1       \n",
      "sphinxcontrib-qthelp          1.0.3       \n",
      "sphinxcontrib-serializinghtml 1.1.4       \n",
      "src                           0.1.0       \n",
      "streamlit                     0.58.0      \n",
      "tabulate                      0.8.7       \n",
      "terminado                     0.8.3       \n",
      "testpath                      0.4.4       \n",
      "texttable                     1.6.2       \n",
      "toml                          0.10.0      \n",
      "toolz                         0.10.0      \n",
      "torch                         1.4.0       \n",
      "torchvision                   0.5.0       \n",
      "tornado                       5.1.1       \n",
      "tox                           3.14.5      \n",
      "tqdm                          4.45.0      \n",
      "traitlets                     4.3.3       \n",
      "treelib                       1.6.1       \n",
      "typed-ast                     1.4.1       \n",
      "typing-extensions             3.7.4.1     \n",
      "tzlocal                       2.0.0       \n",
      "uritemplate                   3.0.1       \n",
      "urllib3                       1.25.8      \n",
      "validators                    0.14.3      \n",
      "virtualenv                    20.0.7      \n",
      "voluptuous                    0.11.7      \n",
      "watchdog                      0.10.2      \n",
      "wcwidth                       0.1.8       \n",
      "webencodings                  0.5.1       \n",
      "wheel                         0.34.2      \n",
      "widgetsnbextension            3.5.1       \n",
      "win-unicode-console           0.5         \n",
      "wrapt                         1.11.2      \n",
      "zc.lockfile                   2.0         \n",
      "zipp                          3.0.0       \n"
     ]
    }
   ],
   "source": []
  },
  {
   "cell_type": "code",
   "execution_count": null,
   "metadata": {
    "pycharm": {
     "name": "#%%\n"
    }
   },
   "outputs": [],
   "source": []
  },
  {
   "cell_type": "code",
   "execution_count": null,
   "metadata": {
    "pycharm": {
     "name": "#%%\n"
    }
   },
   "outputs": [],
   "source": []
  },
  {
   "cell_type": "code",
   "execution_count": null,
   "metadata": {},
   "outputs": [],
   "source": []
  }
 ],
 "metadata": {
  "kernelspec": {
   "display_name": "Python 3",
   "language": "python",
   "name": "python3"
  },
  "language_info": {
   "codemirror_mode": {
    "name": "ipython",
    "version": 3
   },
   "file_extension": ".py",
   "mimetype": "text/x-python",
   "name": "python",
   "nbconvert_exporter": "python",
   "pygments_lexer": "ipython3",
   "version": "3.7.1"
  },
  "pycharm": {
   "stem_cell": {
    "cell_type": "raw",
    "metadata": {
     "collapsed": false
    },
    "source": []
   }
  }
 },
 "nbformat": 4,
 "nbformat_minor": 2
}
