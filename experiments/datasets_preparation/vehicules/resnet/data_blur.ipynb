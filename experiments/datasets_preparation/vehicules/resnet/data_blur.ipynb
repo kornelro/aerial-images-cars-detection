{
 "metadata": {
  "language_info": {
   "codemirror_mode": {
    "name": "ipython",
    "version": 3
   },
   "file_extension": ".py",
   "mimetype": "text/x-python",
   "name": "python",
   "nbconvert_exporter": "python",
   "pygments_lexer": "ipython3",
   "version": "3.8.5-final"
  },
  "orig_nbformat": 2,
  "kernelspec": {
   "name": "python38564bitvenvcvvenv6cf5d49a40c1440a9f0299998fa89af2",
   "display_name": "Python 3.8.5 64-bit ('venv_cv': venv)",
   "language": "python"
  }
 },
 "nbformat": 4,
 "nbformat_minor": 2,
 "cells": [
  {
   "cell_type": "code",
   "execution_count": 1,
   "metadata": {},
   "outputs": [],
   "source": [
    "from src.data.make_dataset import make_dataset\n",
    "from src.data.image_loaders import VehiculesFixedSizeImageLoader\n",
    "from src.data.dataset_loaders import VehiculesDatasetLoader\n",
    "from src.features.pipelines import RawImageToImage\n",
    "from src.features.processors import NormImage, Blur"
   ]
  },
  {
   "source": [
    "# Vehicules\n",
    "# ResNet dataset preparation\n",
    "# Pipeline: Blur, Norm"
   ],
   "cell_type": "markdown",
   "metadata": {}
  },
  {
   "cell_type": "code",
   "execution_count": 2,
   "metadata": {},
   "outputs": [],
   "source": [
    "BND_BOX_SIZE = (50, 50)\n",
    "\n",
    "dataset_loader = VehiculesDatasetLoader(\n",
    "    image_loader=VehiculesFixedSizeImageLoader(\n",
    "        bnd_box_size=BND_BOX_SIZE\n",
    "    )\n",
    ")\n",
    "\n",
    "process_pipeline=RawImageToImage(\n",
    "    processors=[\n",
    "        Blur(),\n",
    "        NormImage()\n",
    "    ]\n",
    ")"
   ]
  },
  {
   "cell_type": "code",
   "execution_count": 3,
   "metadata": {},
   "outputs": [
    {
     "output_type": "stream",
     "name": "stderr",
     "text": [
      "  3%|▎         | 102/3301 [00:01<00:54, 58.83it/s]No file ../../../../data/raw/vehicules/00000424.txt\n",
      "  7%|▋         | 216/3301 [00:03<00:59, 52.07it/s]No file ../../../../data/raw/vehicules/00000560.txt\n",
      " 13%|█▎        | 437/3301 [00:06<00:43, 66.29it/s]No file ../../../../data/raw/vehicules/00000887.txt\n",
      " 19%|█▉        | 634/3301 [00:09<00:35, 75.63it/s]No file ../../../../data/raw/vehicules/00000878.txt\n",
      " 37%|███▋      | 1205/3301 [00:17<00:28, 73.59it/s]No file ../../../../data/raw/vehicules/00000028.txt\n",
      " 68%|██████▊   | 2255/3301 [00:31<00:11, 90.01it/s]No file ../../../../data/raw/vehicules/00000600.txt\n",
      " 77%|███████▋  | 2535/3301 [00:35<00:12, 59.91it/s]Cannot read file ../../../../data/raw/vehicules/00000305.txt\n",
      " 78%|███████▊  | 2560/3301 [00:35<00:12, 60.32it/s]No file ../../../../data/raw/vehicules/00000024.txt\n",
      " 80%|████████  | 2650/3301 [00:36<00:09, 67.32it/s]No file ../../../../data/raw/vehicules/00000717.txt\n",
      " 89%|████████▉ | 2948/3301 [00:41<00:05, 63.94it/s]No file ../../../../data/raw/vehicules/00000039.txt\n",
      " 90%|████████▉ | 2966/3301 [00:41<00:05, 62.33it/s]No file ../../../../data/raw/vehicules/00000606.txt\n",
      " 93%|█████████▎| 3057/3301 [00:42<00:02, 85.79it/s]No file ../../../../data/raw/vehicules/00000425.txt\n",
      " 94%|█████████▍| 3110/3301 [00:43<00:02, 76.06it/s]No file ../../../../data/raw/vehicules/00000522.txt\n",
      "100%|██████████| 3301/3301 [00:45<00:00, 71.87it/s]\n",
      "100%|██████████| 601/601 [00:00<00:00, 5563.30it/s]\n",
      "100%|██████████| 4708/4708 [00:00<00:00, 12269.24it/s]\n"
     ]
    }
   ],
   "source": [
    "data = make_dataset(\n",
    "    input_folder_filepath='../../../../data/raw/vehicules/',\n",
    "    output_filepath='../../../../data/processed/vehicules/resnet/data_resnet_blur.pickle',\n",
    "    dataset_loader=dataset_loader,\n",
    "    images_files_types=('png',),\n",
    "    annotations_files_types=('txt',),\n",
    "    process_pipeline=process_pipeline,\n",
    "    rotate_positive_examples=True,\n",
    "    negative_images_size=BND_BOX_SIZE,\n",
    "    negative_examples_size=0.5,\n",
    "    workers=7,\n",
    "    verbose=True\n",
    ")"
   ]
  }
 ]
}