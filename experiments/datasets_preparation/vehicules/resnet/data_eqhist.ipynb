{
 "metadata": {
  "language_info": {
   "codemirror_mode": {
    "name": "ipython",
    "version": 3
   },
   "file_extension": ".py",
   "mimetype": "text/x-python",
   "name": "python",
   "nbconvert_exporter": "python",
   "pygments_lexer": "ipython3",
   "version": "3.8.5-final"
  },
  "orig_nbformat": 2,
  "kernelspec": {
   "name": "python38564bitvenvcvvenv6cf5d49a40c1440a9f0299998fa89af2",
   "display_name": "Python 3.8.5 64-bit ('venv_cv': venv)",
   "language": "python"
  }
 },
 "nbformat": 4,
 "nbformat_minor": 2,
 "cells": [
  {
   "cell_type": "code",
   "execution_count": 1,
   "metadata": {},
   "outputs": [],
   "source": [
    "from src.data.make_dataset import make_dataset\n",
    "from src.data.image_loaders import VehiculesFixedSizeImageLoader\n",
    "from src.data.dataset_loaders import VehiculesDatasetLoader\n",
    "from src.features.pipelines import RawImageToImage\n",
    "from src.features.processors import NormImage, EqualHist"
   ]
  },
  {
   "source": [
    "# Vehicules\n",
    "# ResNet dataset preparation\n",
    "# Pipeline: EqualHist, Norm"
   ],
   "cell_type": "markdown",
   "metadata": {}
  },
  {
   "cell_type": "code",
   "execution_count": 2,
   "metadata": {},
   "outputs": [],
   "source": [
    "BND_BOX_SIZE = (50, 50)\n",
    "\n",
    "dataset_loader = VehiculesDatasetLoader(\n",
    "    image_loader=VehiculesFixedSizeImageLoader(\n",
    "        bnd_box_size=BND_BOX_SIZE\n",
    "    )\n",
    ")\n",
    "\n",
    "process_pipeline=RawImageToImage(\n",
    "    processors=[\n",
    "        EqualHist(),\n",
    "        NormImage()\n",
    "    ]\n",
    ")"
   ]
  },
  {
   "cell_type": "code",
   "execution_count": 3,
   "metadata": {},
   "outputs": [
    {
     "output_type": "stream",
     "name": "stderr",
     "text": [
      "  3%|▎         | 102/3301 [00:01<00:53, 59.56it/s]No file ../../../../data/raw/vehicules/00000424.txt\n",
      "  6%|▋         | 209/3301 [00:03<00:52, 58.46it/s]No file ../../../../data/raw/vehicules/00000560.txt\n",
      " 13%|█▎        | 437/3301 [00:06<00:44, 64.23it/s]No file ../../../../data/raw/vehicules/00000887.txt\n",
      " 20%|█▉        | 646/3301 [00:09<00:32, 81.22it/s]No file ../../../../data/raw/vehicules/00000878.txt\n",
      " 37%|███▋      | 1205/3301 [00:17<00:23, 89.13it/s]No file ../../../../data/raw/vehicules/00000028.txt\n",
      " 68%|██████▊   | 2255/3301 [00:30<00:11, 93.32it/s] No file ../../../../data/raw/vehicules/00000600.txt\n",
      " 77%|███████▋  | 2534/3301 [00:34<00:12, 59.16it/s]Cannot read file ../../../../data/raw/vehicules/00000305.txt\n",
      " 78%|███████▊  | 2560/3301 [00:35<00:13, 53.15it/s]No file ../../../../data/raw/vehicules/00000024.txt\n",
      " 80%|████████  | 2653/3301 [00:36<00:10, 64.40it/s]No file ../../../../data/raw/vehicules/00000717.txt\n",
      " 89%|████████▉ | 2948/3301 [00:40<00:05, 68.81it/s]No file ../../../../data/raw/vehicules/00000039.txt\n",
      " 90%|████████▉ | 2966/3301 [00:41<00:05, 66.44it/s]No file ../../../../data/raw/vehicules/00000606.txt\n",
      " 93%|█████████▎| 3072/3301 [00:42<00:02, 97.03it/s]No file ../../../../data/raw/vehicules/00000425.txt\n",
      " 94%|█████████▍| 3113/3301 [00:42<00:02, 79.24it/s]No file ../../../../data/raw/vehicules/00000522.txt\n",
      "100%|██████████| 3301/3301 [00:45<00:00, 73.03it/s]\n",
      "100%|██████████| 601/601 [00:00<00:00, 5719.68it/s]\n",
      "100%|██████████| 4708/4708 [00:00<00:00, 14017.44it/s]\n"
     ]
    }
   ],
   "source": [
    "data = make_dataset(\n",
    "    input_folder_filepath='../../../../data/raw/vehicules/',\n",
    "    output_filepath='../../../../data/processed/vehicules/resnet/data_resnet_eqhist.pickle',\n",
    "    dataset_loader=dataset_loader,\n",
    "    images_files_types=('png',),\n",
    "    annotations_files_types=('txt',),\n",
    "    process_pipeline=process_pipeline,\n",
    "    rotate_positive_examples=True,\n",
    "    negative_images_size=BND_BOX_SIZE,\n",
    "    negative_examples_size=0.5,\n",
    "    workers=7,\n",
    "    verbose=True\n",
    ")"
   ]
  },
  {
   "cell_type": "code",
   "execution_count": null,
   "metadata": {},
   "outputs": [],
   "source": []
  }
 ]
}