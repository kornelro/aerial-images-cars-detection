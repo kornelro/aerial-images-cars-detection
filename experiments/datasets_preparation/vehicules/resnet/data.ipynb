{
 "metadata": {
  "language_info": {
   "codemirror_mode": {
    "name": "ipython",
    "version": 3
   },
   "file_extension": ".py",
   "mimetype": "text/x-python",
   "name": "python",
   "nbconvert_exporter": "python",
   "pygments_lexer": "ipython3",
   "version": "3.8.5-final"
  },
  "orig_nbformat": 2,
  "kernelspec": {
   "name": "python38564bitvenvcvvenv6cf5d49a40c1440a9f0299998fa89af2",
   "display_name": "Python 3.8.5 64-bit ('venv_cv': venv)",
   "language": "python"
  }
 },
 "nbformat": 4,
 "nbformat_minor": 2,
 "cells": [
  {
   "cell_type": "code",
   "execution_count": 1,
   "metadata": {},
   "outputs": [],
   "source": [
    "from src.data.make_dataset import make_dataset\n",
    "from src.data.image_loaders import VehiculesFixedSizeImageLoader\n",
    "from src.data.dataset_loaders import VehiculesDatasetLoader\n",
    "from src.features.pipelines import RawImageToImage\n",
    "from src.features.processors import NormImage"
   ]
  },
  {
   "source": [
    "# Vehicules\n",
    "# ResNet dataset preparation\n",
    "# Pipeline: Norm"
   ],
   "cell_type": "markdown",
   "metadata": {}
  },
  {
   "cell_type": "code",
   "execution_count": 2,
   "metadata": {},
   "outputs": [],
   "source": [
    "BND_BOX_SIZE = (50, 50)\n",
    "\n",
    "dataset_loader = VehiculesDatasetLoader(\n",
    "    image_loader=VehiculesFixedSizeImageLoader(\n",
    "        bnd_box_size=BND_BOX_SIZE\n",
    "    )\n",
    ")\n",
    "\n",
    "process_pipeline=RawImageToImage(\n",
    "    processors=[\n",
    "        NormImage()\n",
    "    ]\n",
    ")"
   ]
  },
  {
   "cell_type": "code",
   "execution_count": 3,
   "metadata": {},
   "outputs": [
    {
     "output_type": "stream",
     "name": "stderr",
     "text": [
      "  3%|▎         | 98/3301 [00:01<00:59, 54.11it/s]No file ../../../../data/raw/vehicules/00000424.txt\n",
      "  6%|▋         | 214/3301 [00:03<01:02, 49.77it/s]No file ../../../../data/raw/vehicules/00000560.txt\n",
      " 13%|█▎        | 439/3301 [00:07<00:53, 53.33it/s]No file ../../../../data/raw/vehicules/00000887.txt\n",
      " 20%|█▉        | 646/3301 [00:09<00:36, 72.88it/s]No file ../../../../data/raw/vehicules/00000878.txt\n",
      " 37%|███▋      | 1205/3301 [00:17<00:25, 83.76it/s]No file ../../../../data/raw/vehicules/00000028.txt\n",
      " 68%|██████▊   | 2256/3301 [00:32<00:11, 87.65it/s]No file ../../../../data/raw/vehicules/00000600.txt\n",
      " 77%|███████▋  | 2535/3301 [00:36<00:12, 62.55it/s]Cannot read file ../../../../data/raw/vehicules/00000305.txt\n",
      " 78%|███████▊  | 2560/3301 [00:36<00:11, 63.68it/s]No file ../../../../data/raw/vehicules/00000024.txt\n",
      " 80%|████████  | 2645/3301 [00:37<00:08, 80.35it/s]No file ../../../../data/raw/vehicules/00000717.txt\n",
      " 89%|████████▉ | 2952/3301 [00:42<00:05, 66.60it/s]No file ../../../../data/raw/vehicules/00000039.txt\n",
      " 90%|████████▉ | 2968/3301 [00:42<00:06, 54.50it/s]No file ../../../../data/raw/vehicules/00000606.txt\n",
      " 93%|█████████▎| 3062/3301 [00:43<00:02, 89.15it/s]No file ../../../../data/raw/vehicules/00000425.txt\n",
      " 94%|█████████▍| 3112/3301 [00:44<00:02, 73.60it/s]No file ../../../../data/raw/vehicules/00000522.txt\n",
      "100%|██████████| 3301/3301 [00:46<00:00, 70.46it/s]\n",
      "100%|██████████| 601/601 [00:00<00:00, 4967.73it/s]\n",
      "100%|██████████| 4708/4708 [00:00<00:00, 12928.40it/s]\n"
     ]
    }
   ],
   "source": [
    "data = make_dataset(\n",
    "    input_folder_filepath='../../../../data/raw/vehicules/',\n",
    "    output_filepath='../../../../data/processed/vehicules/resnet/data_resnet.pickle',\n",
    "    dataset_loader=dataset_loader,\n",
    "    images_files_types=('png',),\n",
    "    annotations_files_types=('txt',),\n",
    "    process_pipeline=process_pipeline,\n",
    "    rotate_positive_examples=True,\n",
    "    negative_images_size=BND_BOX_SIZE,\n",
    "    negative_examples_size=0.5,\n",
    "    workers=7,\n",
    "    verbose=True\n",
    ")"
   ]
  }
 ]
}