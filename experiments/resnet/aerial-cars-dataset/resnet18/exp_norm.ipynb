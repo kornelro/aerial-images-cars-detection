{
  "nbformat": 4,
  "nbformat_minor": 0,
  "metadata": {
    "orig_nbformat": 2,
    "colab": {
      "name": "exp_norm.ipynb",
      "provenance": []
    },
    "kernelspec": {
      "name": "python3",
      "display_name": "Python 3"
    },
    "accelerator": "GPU"
  },
  "cells": [
    {
      "cell_type": "markdown",
      "metadata": {
        "id": "iNiK4PBIg7f6"
      },
      "source": [
        "### Install project"
      ]
    },
    {
      "cell_type": "code",
      "metadata": {
        "id": "ue6kujHogll1",
        "colab": {
          "base_uri": "https://localhost:8080/"
        },
        "outputId": "7bfa2359-fe2f-4553-f751-79de1c07557a"
      },
      "source": [
        "!git clone https://github.com/kornelro/cv_project.git"
      ],
      "execution_count": 1,
      "outputs": [
        {
          "output_type": "stream",
          "text": [
            "Cloning into 'cv_project'...\n",
            "remote: Enumerating objects: 220, done.\u001b[K\n",
            "remote: Counting objects: 100% (220/220), done.\u001b[K\n",
            "remote: Compressing objects: 100% (140/140), done.\u001b[K\n",
            "remote: Total 498 (delta 79), reused 168 (delta 48), pack-reused 278\u001b[K\n",
            "Receiving objects: 100% (498/498), 96.99 MiB | 36.74 MiB/s, done.\n",
            "Resolving deltas: 100% (225/225), done.\n"
          ],
          "name": "stdout"
        }
      ]
    },
    {
      "cell_type": "code",
      "metadata": {
        "id": "p-fdixcqhBY7",
        "colab": {
          "base_uri": "https://localhost:8080/"
        },
        "outputId": "6d5b8bc1-1a7c-4483-ff2a-858ec5a70a04"
      },
      "source": [
        "!pip install cv_project/."
      ],
      "execution_count": 2,
      "outputs": [
        {
          "output_type": "stream",
          "text": [
            "Processing ./cv_project\n",
            "Building wheels for collected packages: src\n",
            "  Building wheel for src (setup.py) ... \u001b[?25l\u001b[?25hdone\n",
            "  Created wheel for src: filename=src-0.1.0-cp36-none-any.whl size=16310 sha256=91c3c9799ddf6d1933f471c2bf028a5f649ef10c9e04b749fdc0c2e02657b55b\n",
            "  Stored in directory: /tmp/pip-ephem-wheel-cache-phpq6b6z/wheels/fc/1b/40/72379bece2bafba26136079aeac87421c9221abafeb9c66746\n",
            "Successfully built src\n",
            "Installing collected packages: src\n",
            "Successfully installed src-0.1.0\n"
          ],
          "name": "stdout"
        }
      ]
    },
    {
      "cell_type": "markdown",
      "metadata": {
        "id": "nZFmuLCDhIg4"
      },
      "source": [
        "### Mount drive"
      ]
    },
    {
      "cell_type": "code",
      "metadata": {
        "id": "LQMkyz7zhF5z",
        "colab": {
          "base_uri": "https://localhost:8080/"
        },
        "outputId": "fac564e9-b7c3-4364-ebe8-f5753f7ec951"
      },
      "source": [
        "from google.colab import drive\n",
        "drive.mount('/content/drive')"
      ],
      "execution_count": 3,
      "outputs": [
        {
          "output_type": "stream",
          "text": [
            "Mounted at /content/drive\n"
          ],
          "name": "stdout"
        }
      ]
    },
    {
      "cell_type": "code",
      "metadata": {
        "id": "UF_E38x9hWmT"
      },
      "source": [
        "DRIVE_PATH = '/content/drive/Shareddrives/CV-PROJECT/'"
      ],
      "execution_count": 5,
      "outputs": []
    },
    {
      "cell_type": "markdown",
      "metadata": {
        "id": "KCKNtAVZh48s"
      },
      "source": [
        "### Imports"
      ]
    },
    {
      "cell_type": "code",
      "metadata": {
        "id": "OWVwSQbjjdJX",
        "colab": {
          "base_uri": "https://localhost:8080/"
        },
        "outputId": "c24e69da-748e-4638-94af-51f001bad787"
      },
      "source": [
        "pip install git+https://github.com/qubvel/classification_models.git"
      ],
      "execution_count": 6,
      "outputs": [
        {
          "output_type": "stream",
          "text": [
            "Collecting git+https://github.com/qubvel/classification_models.git\n",
            "  Cloning https://github.com/qubvel/classification_models.git to /tmp/pip-req-build-64qty8kj\n",
            "  Running command git clone -q https://github.com/qubvel/classification_models.git /tmp/pip-req-build-64qty8kj\n",
            "  Running command git submodule update --init --recursive -q\n",
            "Collecting keras_applications<=1.0.8,>=1.0.7\n",
            "\u001b[?25l  Downloading https://files.pythonhosted.org/packages/71/e3/19762fdfc62877ae9102edf6342d71b28fbfd9dea3d2f96a882ce099b03f/Keras_Applications-1.0.8-py3-none-any.whl (50kB)\n",
            "\u001b[K     |████████████████████████████████| 51kB 7.2MB/s \n",
            "\u001b[?25hRequirement already satisfied: h5py in /usr/local/lib/python3.6/dist-packages (from keras_applications<=1.0.8,>=1.0.7->image-classifiers==1.0.0) (2.10.0)\n",
            "Requirement already satisfied: numpy>=1.9.1 in /usr/local/lib/python3.6/dist-packages (from keras_applications<=1.0.8,>=1.0.7->image-classifiers==1.0.0) (1.19.5)\n",
            "Requirement already satisfied: six in /usr/local/lib/python3.6/dist-packages (from h5py->keras_applications<=1.0.8,>=1.0.7->image-classifiers==1.0.0) (1.15.0)\n",
            "Building wheels for collected packages: image-classifiers\n",
            "  Building wheel for image-classifiers (setup.py) ... \u001b[?25l\u001b[?25hdone\n",
            "  Created wheel for image-classifiers: filename=image_classifiers-1.0.0-cp36-none-any.whl size=20030 sha256=0d411d05373cd975ff4ad7176f4fe1cfaab9185a11e79fd025822fa9b7881aa3\n",
            "  Stored in directory: /tmp/pip-ephem-wheel-cache-_8d0jnok/wheels/de/2b/fd/29a6d33edb8c28bc7d94e95ea1d39c9a218ac500a3cfb1b197\n",
            "Successfully built image-classifiers\n",
            "Installing collected packages: keras-applications, image-classifiers\n",
            "Successfully installed image-classifiers-1.0.0 keras-applications-1.0.8\n"
          ],
          "name": "stdout"
        }
      ]
    },
    {
      "cell_type": "code",
      "metadata": {
        "id": "u_FgmD1QmKny",
        "colab": {
          "base_uri": "https://localhost:8080/"
        },
        "outputId": "52c67b40-0ed3-48a3-e3d8-01134d943726"
      },
      "source": [
        "pip install stellargraph"
      ],
      "execution_count": 7,
      "outputs": [
        {
          "output_type": "stream",
          "text": [
            "Collecting stellargraph\n",
            "\u001b[?25l  Downloading https://files.pythonhosted.org/packages/74/78/16b23ef04cf6fb24a7dea9fd0e03c8308a56681cc5efe29f16186210ba04/stellargraph-1.2.1-py3-none-any.whl (435kB)\n",
            "\r\u001b[K     |▊                               | 10kB 24.6MB/s eta 0:00:01\r\u001b[K     |█▌                              | 20kB 31.8MB/s eta 0:00:01\r\u001b[K     |██▎                             | 30kB 22.7MB/s eta 0:00:01\r\u001b[K     |███                             | 40kB 21.0MB/s eta 0:00:01\r\u001b[K     |███▊                            | 51kB 21.4MB/s eta 0:00:01\r\u001b[K     |████▌                           | 61kB 16.1MB/s eta 0:00:01\r\u001b[K     |█████▎                          | 71kB 16.0MB/s eta 0:00:01\r\u001b[K     |██████                          | 81kB 15.3MB/s eta 0:00:01\r\u001b[K     |██████▊                         | 92kB 15.3MB/s eta 0:00:01\r\u001b[K     |███████▌                        | 102kB 15.8MB/s eta 0:00:01\r\u001b[K     |████████▎                       | 112kB 15.8MB/s eta 0:00:01\r\u001b[K     |█████████                       | 122kB 15.8MB/s eta 0:00:01\r\u001b[K     |█████████▉                      | 133kB 15.8MB/s eta 0:00:01\r\u001b[K     |██████████▌                     | 143kB 15.8MB/s eta 0:00:01\r\u001b[K     |███████████▎                    | 153kB 15.8MB/s eta 0:00:01\r\u001b[K     |████████████                    | 163kB 15.8MB/s eta 0:00:01\r\u001b[K     |████████████▉                   | 174kB 15.8MB/s eta 0:00:01\r\u001b[K     |█████████████▌                  | 184kB 15.8MB/s eta 0:00:01\r\u001b[K     |██████████████▎                 | 194kB 15.8MB/s eta 0:00:01\r\u001b[K     |███████████████                 | 204kB 15.8MB/s eta 0:00:01\r\u001b[K     |███████████████▉                | 215kB 15.8MB/s eta 0:00:01\r\u001b[K     |████████████████▋               | 225kB 15.8MB/s eta 0:00:01\r\u001b[K     |█████████████████▎              | 235kB 15.8MB/s eta 0:00:01\r\u001b[K     |██████████████████              | 245kB 15.8MB/s eta 0:00:01\r\u001b[K     |██████████████████▉             | 256kB 15.8MB/s eta 0:00:01\r\u001b[K     |███████████████████▋            | 266kB 15.8MB/s eta 0:00:01\r\u001b[K     |████████████████████▎           | 276kB 15.8MB/s eta 0:00:01\r\u001b[K     |█████████████████████           | 286kB 15.8MB/s eta 0:00:01\r\u001b[K     |█████████████████████▉          | 296kB 15.8MB/s eta 0:00:01\r\u001b[K     |██████████████████████▋         | 307kB 15.8MB/s eta 0:00:01\r\u001b[K     |███████████████████████▍        | 317kB 15.8MB/s eta 0:00:01\r\u001b[K     |████████████████████████        | 327kB 15.8MB/s eta 0:00:01\r\u001b[K     |████████████████████████▉       | 337kB 15.8MB/s eta 0:00:01\r\u001b[K     |█████████████████████████▋      | 348kB 15.8MB/s eta 0:00:01\r\u001b[K     |██████████████████████████▍     | 358kB 15.8MB/s eta 0:00:01\r\u001b[K     |███████████████████████████     | 368kB 15.8MB/s eta 0:00:01\r\u001b[K     |███████████████████████████▉    | 378kB 15.8MB/s eta 0:00:01\r\u001b[K     |████████████████████████████▋   | 389kB 15.8MB/s eta 0:00:01\r\u001b[K     |█████████████████████████████▍  | 399kB 15.8MB/s eta 0:00:01\r\u001b[K     |██████████████████████████████▏ | 409kB 15.8MB/s eta 0:00:01\r\u001b[K     |██████████████████████████████▉ | 419kB 15.8MB/s eta 0:00:01\r\u001b[K     |███████████████████████████████▋| 430kB 15.8MB/s eta 0:00:01\r\u001b[K     |████████████████████████████████| 440kB 15.8MB/s \n",
            "\u001b[?25hRequirement already satisfied: networkx>=2.2 in /usr/local/lib/python3.6/dist-packages (from stellargraph) (2.5)\n",
            "Requirement already satisfied: numpy>=1.14 in /usr/local/lib/python3.6/dist-packages (from stellargraph) (1.19.5)\n",
            "Requirement already satisfied: gensim>=3.4.0 in /usr/local/lib/python3.6/dist-packages (from stellargraph) (3.6.0)\n",
            "Requirement already satisfied: tensorflow>=2.1.0 in /usr/local/lib/python3.6/dist-packages (from stellargraph) (2.4.0)\n",
            "Requirement already satisfied: matplotlib>=2.2 in /usr/local/lib/python3.6/dist-packages (from stellargraph) (3.2.2)\n",
            "Requirement already satisfied: scipy>=1.1.0 in /usr/local/lib/python3.6/dist-packages (from stellargraph) (1.4.1)\n",
            "Requirement already satisfied: scikit-learn>=0.20 in /usr/local/lib/python3.6/dist-packages (from stellargraph) (0.22.2.post1)\n",
            "Requirement already satisfied: pandas>=0.24 in /usr/local/lib/python3.6/dist-packages (from stellargraph) (1.1.5)\n",
            "Requirement already satisfied: decorator>=4.3.0 in /usr/local/lib/python3.6/dist-packages (from networkx>=2.2->stellargraph) (4.4.2)\n",
            "Requirement already satisfied: six>=1.5.0 in /usr/local/lib/python3.6/dist-packages (from gensim>=3.4.0->stellargraph) (1.15.0)\n",
            "Requirement already satisfied: smart-open>=1.2.1 in /usr/local/lib/python3.6/dist-packages (from gensim>=3.4.0->stellargraph) (4.1.0)\n",
            "Requirement already satisfied: protobuf>=3.9.2 in /usr/local/lib/python3.6/dist-packages (from tensorflow>=2.1.0->stellargraph) (3.12.4)\n",
            "Requirement already satisfied: absl-py~=0.10 in /usr/local/lib/python3.6/dist-packages (from tensorflow>=2.1.0->stellargraph) (0.10.0)\n",
            "Requirement already satisfied: tensorboard~=2.4 in /usr/local/lib/python3.6/dist-packages (from tensorflow>=2.1.0->stellargraph) (2.4.0)\n",
            "Requirement already satisfied: termcolor~=1.1.0 in /usr/local/lib/python3.6/dist-packages (from tensorflow>=2.1.0->stellargraph) (1.1.0)\n",
            "Requirement already satisfied: flatbuffers~=1.12.0 in /usr/local/lib/python3.6/dist-packages (from tensorflow>=2.1.0->stellargraph) (1.12)\n",
            "Requirement already satisfied: wrapt~=1.12.1 in /usr/local/lib/python3.6/dist-packages (from tensorflow>=2.1.0->stellargraph) (1.12.1)\n",
            "Requirement already satisfied: google-pasta~=0.2 in /usr/local/lib/python3.6/dist-packages (from tensorflow>=2.1.0->stellargraph) (0.2.0)\n",
            "Requirement already satisfied: typing-extensions~=3.7.4 in /usr/local/lib/python3.6/dist-packages (from tensorflow>=2.1.0->stellargraph) (3.7.4.3)\n",
            "Requirement already satisfied: wheel~=0.35 in /usr/local/lib/python3.6/dist-packages (from tensorflow>=2.1.0->stellargraph) (0.36.2)\n",
            "Requirement already satisfied: tensorflow-estimator<2.5.0,>=2.4.0rc0 in /usr/local/lib/python3.6/dist-packages (from tensorflow>=2.1.0->stellargraph) (2.4.0)\n",
            "Requirement already satisfied: grpcio~=1.32.0 in /usr/local/lib/python3.6/dist-packages (from tensorflow>=2.1.0->stellargraph) (1.32.0)\n",
            "Requirement already satisfied: astunparse~=1.6.3 in /usr/local/lib/python3.6/dist-packages (from tensorflow>=2.1.0->stellargraph) (1.6.3)\n",
            "Requirement already satisfied: gast==0.3.3 in /usr/local/lib/python3.6/dist-packages (from tensorflow>=2.1.0->stellargraph) (0.3.3)\n",
            "Requirement already satisfied: keras-preprocessing~=1.1.2 in /usr/local/lib/python3.6/dist-packages (from tensorflow>=2.1.0->stellargraph) (1.1.2)\n",
            "Requirement already satisfied: opt-einsum~=3.3.0 in /usr/local/lib/python3.6/dist-packages (from tensorflow>=2.1.0->stellargraph) (3.3.0)\n",
            "Requirement already satisfied: h5py~=2.10.0 in /usr/local/lib/python3.6/dist-packages (from tensorflow>=2.1.0->stellargraph) (2.10.0)\n",
            "Requirement already satisfied: pyparsing!=2.0.4,!=2.1.2,!=2.1.6,>=2.0.1 in /usr/local/lib/python3.6/dist-packages (from matplotlib>=2.2->stellargraph) (2.4.7)\n",
            "Requirement already satisfied: cycler>=0.10 in /usr/local/lib/python3.6/dist-packages (from matplotlib>=2.2->stellargraph) (0.10.0)\n",
            "Requirement already satisfied: kiwisolver>=1.0.1 in /usr/local/lib/python3.6/dist-packages (from matplotlib>=2.2->stellargraph) (1.3.1)\n",
            "Requirement already satisfied: python-dateutil>=2.1 in /usr/local/lib/python3.6/dist-packages (from matplotlib>=2.2->stellargraph) (2.8.1)\n",
            "Requirement already satisfied: joblib>=0.11 in /usr/local/lib/python3.6/dist-packages (from scikit-learn>=0.20->stellargraph) (1.0.0)\n",
            "Requirement already satisfied: pytz>=2017.2 in /usr/local/lib/python3.6/dist-packages (from pandas>=0.24->stellargraph) (2018.9)\n",
            "Requirement already satisfied: setuptools in /usr/local/lib/python3.6/dist-packages (from protobuf>=3.9.2->tensorflow>=2.1.0->stellargraph) (51.3.3)\n",
            "Requirement already satisfied: google-auth-oauthlib<0.5,>=0.4.1 in /usr/local/lib/python3.6/dist-packages (from tensorboard~=2.4->tensorflow>=2.1.0->stellargraph) (0.4.2)\n",
            "Requirement already satisfied: markdown>=2.6.8 in /usr/local/lib/python3.6/dist-packages (from tensorboard~=2.4->tensorflow>=2.1.0->stellargraph) (3.3.3)\n",
            "Requirement already satisfied: requests<3,>=2.21.0 in /usr/local/lib/python3.6/dist-packages (from tensorboard~=2.4->tensorflow>=2.1.0->stellargraph) (2.23.0)\n",
            "Requirement already satisfied: werkzeug>=0.11.15 in /usr/local/lib/python3.6/dist-packages (from tensorboard~=2.4->tensorflow>=2.1.0->stellargraph) (1.0.1)\n",
            "Requirement already satisfied: google-auth<2,>=1.6.3 in /usr/local/lib/python3.6/dist-packages (from tensorboard~=2.4->tensorflow>=2.1.0->stellargraph) (1.17.2)\n",
            "Requirement already satisfied: tensorboard-plugin-wit>=1.6.0 in /usr/local/lib/python3.6/dist-packages (from tensorboard~=2.4->tensorflow>=2.1.0->stellargraph) (1.7.0)\n",
            "Requirement already satisfied: requests-oauthlib>=0.7.0 in /usr/local/lib/python3.6/dist-packages (from google-auth-oauthlib<0.5,>=0.4.1->tensorboard~=2.4->tensorflow>=2.1.0->stellargraph) (1.3.0)\n",
            "Requirement already satisfied: importlib-metadata; python_version < \"3.8\" in /usr/local/lib/python3.6/dist-packages (from markdown>=2.6.8->tensorboard~=2.4->tensorflow>=2.1.0->stellargraph) (3.3.0)\n",
            "Requirement already satisfied: idna<3,>=2.5 in /usr/local/lib/python3.6/dist-packages (from requests<3,>=2.21.0->tensorboard~=2.4->tensorflow>=2.1.0->stellargraph) (2.10)\n",
            "Requirement already satisfied: certifi>=2017.4.17 in /usr/local/lib/python3.6/dist-packages (from requests<3,>=2.21.0->tensorboard~=2.4->tensorflow>=2.1.0->stellargraph) (2020.12.5)\n",
            "Requirement already satisfied: chardet<4,>=3.0.2 in /usr/local/lib/python3.6/dist-packages (from requests<3,>=2.21.0->tensorboard~=2.4->tensorflow>=2.1.0->stellargraph) (3.0.4)\n",
            "Requirement already satisfied: urllib3!=1.25.0,!=1.25.1,<1.26,>=1.21.1 in /usr/local/lib/python3.6/dist-packages (from requests<3,>=2.21.0->tensorboard~=2.4->tensorflow>=2.1.0->stellargraph) (1.24.3)\n",
            "Requirement already satisfied: pyasn1-modules>=0.2.1 in /usr/local/lib/python3.6/dist-packages (from google-auth<2,>=1.6.3->tensorboard~=2.4->tensorflow>=2.1.0->stellargraph) (0.2.8)\n",
            "Requirement already satisfied: cachetools<5.0,>=2.0.0 in /usr/local/lib/python3.6/dist-packages (from google-auth<2,>=1.6.3->tensorboard~=2.4->tensorflow>=2.1.0->stellargraph) (4.2.0)\n",
            "Requirement already satisfied: rsa<5,>=3.1.4; python_version >= \"3\" in /usr/local/lib/python3.6/dist-packages (from google-auth<2,>=1.6.3->tensorboard~=2.4->tensorflow>=2.1.0->stellargraph) (4.6)\n",
            "Requirement already satisfied: oauthlib>=3.0.0 in /usr/local/lib/python3.6/dist-packages (from requests-oauthlib>=0.7.0->google-auth-oauthlib<0.5,>=0.4.1->tensorboard~=2.4->tensorflow>=2.1.0->stellargraph) (3.1.0)\n",
            "Requirement already satisfied: zipp>=0.5 in /usr/local/lib/python3.6/dist-packages (from importlib-metadata; python_version < \"3.8\"->markdown>=2.6.8->tensorboard~=2.4->tensorflow>=2.1.0->stellargraph) (3.4.0)\n",
            "Requirement already satisfied: pyasn1<0.5.0,>=0.4.6 in /usr/local/lib/python3.6/dist-packages (from pyasn1-modules>=0.2.1->google-auth<2,>=1.6.3->tensorboard~=2.4->tensorflow>=2.1.0->stellargraph) (0.4.8)\n",
            "Installing collected packages: stellargraph\n",
            "Successfully installed stellargraph-1.2.1\n"
          ],
          "name": "stdout"
        }
      ]
    },
    {
      "cell_type": "code",
      "metadata": {
        "id": "5MTMxcE_h70p"
      },
      "source": [
        "import pickle\n",
        "import numpy as np\n",
        "import tensorflow.keras as K\n",
        "import matplotlib.pyplot as plt\n",
        "from sklearn.model_selection import train_test_split\n",
        "from classification_models.keras import Classifiers\n",
        "from stellargraph.utils.history import plot_history\n",
        "\n",
        "from src.data.make_dataset import make_dataset\n",
        "from src.data.image_loaders import AerialCarsFixedSizeImageLoader\n",
        "from src.data.dataset_loaders import AerialCarsDatasetLoader\n",
        "from src.features.pipelines import RawImageToImage\n",
        "from src.features.processors import NormImage\n",
        "from src.models.classifiers import ResnetModelWrapper\n",
        "from src.models.detectors import SliderProbDetector\n",
        "from src.data.sliders import SlidingWindow\n",
        "from src.evaluation import validate_model, precision, recall, f1_score"
      ],
      "execution_count": 8,
      "outputs": []
    },
    {
      "cell_type": "markdown",
      "metadata": {
        "id": "mbthzXT7hrs6"
      },
      "source": [
        "# Aerial-Cars-Dataset\n",
        "# ResNet18\n",
        "# Pipeline: Norm"
      ]
    },
    {
      "cell_type": "markdown",
      "metadata": {
        "id": "K3tcWdG2iRT3"
      },
      "source": [
        "### Load dataset"
      ]
    },
    {
      "cell_type": "code",
      "metadata": {
        "id": "Nx2tVuUnhpuJ"
      },
      "source": [
        "DATA_PATH = DRIVE_PATH+'data/processed/aerial-cars-dataset/resnet/data_resnet.pickle'"
      ],
      "execution_count": 9,
      "outputs": []
    },
    {
      "cell_type": "code",
      "metadata": {
        "id": "A9f4T5tjimxx"
      },
      "source": [
        "with open(DATA_PATH, 'rb') as f:\n",
        "    data = pickle.load(f)"
      ],
      "execution_count": 10,
      "outputs": []
    },
    {
      "cell_type": "markdown",
      "metadata": {
        "id": "YC3lSUMwirgA"
      },
      "source": [
        "### Train ResNet18"
      ]
    },
    {
      "cell_type": "code",
      "metadata": {
        "id": "KffShuL7k8ON"
      },
      "source": [
        "TEST_SIZE = 0.1\n",
        "BATCH_SIZE = 100\n",
        "EPOCHS = 50"
      ],
      "execution_count": 11,
      "outputs": []
    },
    {
      "cell_type": "code",
      "metadata": {
        "id": "WqYmUKQiioX0",
        "colab": {
          "base_uri": "https://localhost:8080/"
        },
        "outputId": "51f44e4b-d2cc-4dc2-f098-95c73da5dbce"
      },
      "source": [
        "X = np.array(list(map(lambda x: x[1], data)))\n",
        "y = np.array(list(map(lambda x: x[2], data)))\n",
        "X_train, X_test, y_train, y_test = train_test_split(\n",
        "    X, y,\n",
        "    test_size=TEST_SIZE,\n",
        "    random_state=42\n",
        "  )\n",
        "\n",
        "\n",
        "ResNet18, preprocess_input = Classifiers.get('resnet18')\n",
        "base_model = ResNet18(\n",
        "    input_shape=X[0].shape,\n",
        "    weights='imagenet',\n",
        "    include_top=False\n",
        ")\n",
        "\n",
        "for layer in base_model.layers:\n",
        "    layer.trainable = False\n",
        "\n",
        "x = K.layers.GlobalAveragePooling2D()(base_model.output)\n",
        "output = K.layers.Dense(2, activation='softmax')(x)\n",
        "model = K.models.Model(inputs=[base_model.input], outputs=[output])\n",
        "\n",
        "\n",
        "model.compile(\n",
        "    optimizer=K.optimizers.Adam(0.01),\n",
        "    loss=K.losses.SparseCategoricalCrossentropy(),\n",
        "    metrics=['accuracy']\n",
        ")\n",
        "\n",
        "history = model.fit(X_train, y_train,\n",
        "            batch_size=BATCH_SIZE,\n",
        "            epochs=EPOCHS, \n",
        "            validation_data=(X_test, y_test)\n",
        ")"
      ],
      "execution_count": 12,
      "outputs": [
        {
          "output_type": "stream",
          "text": [
            "Downloading data from https://github.com/qubvel/classification_models/releases/download/0.0.1/resnet18_imagenet_1000_no_top.h5\n",
            "44924928/44920640 [==============================] - 1s 0us/step\n",
            "Epoch 1/50\n",
            "43/43 [==============================] - 10s 44ms/step - loss: 0.6980 - accuracy: 0.5324 - val_loss: 0.6661 - val_accuracy: 0.8178\n",
            "Epoch 2/50\n",
            "43/43 [==============================] - 1s 23ms/step - loss: 0.6614 - accuracy: 0.6727 - val_loss: 0.6450 - val_accuracy: 0.6144\n",
            "Epoch 3/50\n",
            "43/43 [==============================] - 1s 23ms/step - loss: 0.6350 - accuracy: 0.7008 - val_loss: 0.6174 - val_accuracy: 0.6822\n",
            "Epoch 4/50\n",
            "43/43 [==============================] - 1s 23ms/step - loss: 0.6153 - accuracy: 0.7114 - val_loss: 0.5952 - val_accuracy: 0.7309\n",
            "Epoch 5/50\n",
            "43/43 [==============================] - 1s 23ms/step - loss: 0.6004 - accuracy: 0.7309 - val_loss: 0.5898 - val_accuracy: 0.6758\n",
            "Epoch 6/50\n",
            "43/43 [==============================] - 1s 23ms/step - loss: 0.5955 - accuracy: 0.6956 - val_loss: 0.5947 - val_accuracy: 0.6483\n",
            "Epoch 7/50\n",
            "43/43 [==============================] - 1s 24ms/step - loss: 0.5745 - accuracy: 0.7527 - val_loss: 0.5498 - val_accuracy: 0.8051\n",
            "Epoch 8/50\n",
            "43/43 [==============================] - 1s 23ms/step - loss: 0.5466 - accuracy: 0.7975 - val_loss: 0.5501 - val_accuracy: 0.7267\n",
            "Epoch 9/50\n",
            "43/43 [==============================] - 1s 23ms/step - loss: 0.5540 - accuracy: 0.7685 - val_loss: 0.5304 - val_accuracy: 0.8114\n",
            "Epoch 10/50\n",
            "43/43 [==============================] - 1s 23ms/step - loss: 0.5433 - accuracy: 0.7696 - val_loss: 0.5351 - val_accuracy: 0.7331\n",
            "Epoch 11/50\n",
            "43/43 [==============================] - 1s 23ms/step - loss: 0.5281 - accuracy: 0.7839 - val_loss: 0.5257 - val_accuracy: 0.7966\n",
            "Epoch 12/50\n",
            "43/43 [==============================] - 1s 23ms/step - loss: 0.5356 - accuracy: 0.7614 - val_loss: 0.5025 - val_accuracy: 0.8136\n",
            "Epoch 13/50\n",
            "43/43 [==============================] - 1s 23ms/step - loss: 0.5194 - accuracy: 0.7827 - val_loss: 0.5014 - val_accuracy: 0.8114\n",
            "Epoch 14/50\n",
            "43/43 [==============================] - 1s 23ms/step - loss: 0.5244 - accuracy: 0.7639 - val_loss: 0.4905 - val_accuracy: 0.8008\n",
            "Epoch 15/50\n",
            "43/43 [==============================] - 1s 23ms/step - loss: 0.5045 - accuracy: 0.7903 - val_loss: 0.5209 - val_accuracy: 0.7860\n",
            "Epoch 16/50\n",
            "43/43 [==============================] - 1s 26ms/step - loss: 0.5083 - accuracy: 0.7853 - val_loss: 0.4819 - val_accuracy: 0.8136\n",
            "Epoch 17/50\n",
            "43/43 [==============================] - 1s 23ms/step - loss: 0.4851 - accuracy: 0.8077 - val_loss: 0.4779 - val_accuracy: 0.7903\n",
            "Epoch 18/50\n",
            "43/43 [==============================] - 1s 23ms/step - loss: 0.4920 - accuracy: 0.7919 - val_loss: 0.4765 - val_accuracy: 0.7775\n",
            "Epoch 19/50\n",
            "43/43 [==============================] - 1s 23ms/step - loss: 0.4934 - accuracy: 0.7829 - val_loss: 0.4738 - val_accuracy: 0.8093\n",
            "Epoch 20/50\n",
            "43/43 [==============================] - 1s 23ms/step - loss: 0.4853 - accuracy: 0.8009 - val_loss: 0.4656 - val_accuracy: 0.8072\n",
            "Epoch 21/50\n",
            "43/43 [==============================] - 1s 23ms/step - loss: 0.4890 - accuracy: 0.7928 - val_loss: 0.4625 - val_accuracy: 0.8114\n",
            "Epoch 22/50\n",
            "43/43 [==============================] - 1s 23ms/step - loss: 0.4796 - accuracy: 0.7837 - val_loss: 0.4597 - val_accuracy: 0.8093\n",
            "Epoch 23/50\n",
            "43/43 [==============================] - 1s 24ms/step - loss: 0.4777 - accuracy: 0.8009 - val_loss: 0.4806 - val_accuracy: 0.7542\n",
            "Epoch 24/50\n",
            "43/43 [==============================] - 1s 23ms/step - loss: 0.4803 - accuracy: 0.7893 - val_loss: 0.4542 - val_accuracy: 0.8114\n",
            "Epoch 25/50\n",
            "43/43 [==============================] - 1s 23ms/step - loss: 0.4822 - accuracy: 0.7924 - val_loss: 0.4525 - val_accuracy: 0.8157\n",
            "Epoch 26/50\n",
            "43/43 [==============================] - 1s 23ms/step - loss: 0.4745 - accuracy: 0.7932 - val_loss: 0.4570 - val_accuracy: 0.7775\n",
            "Epoch 27/50\n",
            "43/43 [==============================] - 1s 23ms/step - loss: 0.4807 - accuracy: 0.7902 - val_loss: 0.4501 - val_accuracy: 0.7987\n",
            "Epoch 28/50\n",
            "43/43 [==============================] - 1s 23ms/step - loss: 0.4797 - accuracy: 0.7881 - val_loss: 0.4606 - val_accuracy: 0.7691\n",
            "Epoch 29/50\n",
            "43/43 [==============================] - 1s 23ms/step - loss: 0.4843 - accuracy: 0.7743 - val_loss: 0.4536 - val_accuracy: 0.8199\n",
            "Epoch 30/50\n",
            "43/43 [==============================] - 1s 23ms/step - loss: 0.4736 - accuracy: 0.7915 - val_loss: 0.4538 - val_accuracy: 0.8242\n",
            "Epoch 31/50\n",
            "43/43 [==============================] - 1s 23ms/step - loss: 0.4622 - accuracy: 0.7984 - val_loss: 0.4415 - val_accuracy: 0.8178\n",
            "Epoch 32/50\n",
            "43/43 [==============================] - 1s 23ms/step - loss: 0.4672 - accuracy: 0.7973 - val_loss: 0.4503 - val_accuracy: 0.7691\n",
            "Epoch 33/50\n",
            "43/43 [==============================] - 1s 24ms/step - loss: 0.4644 - accuracy: 0.7935 - val_loss: 0.4556 - val_accuracy: 0.8178\n",
            "Epoch 34/50\n",
            "43/43 [==============================] - 1s 24ms/step - loss: 0.4522 - accuracy: 0.8049 - val_loss: 0.4367 - val_accuracy: 0.8093\n",
            "Epoch 35/50\n",
            "43/43 [==============================] - 1s 24ms/step - loss: 0.4662 - accuracy: 0.7931 - val_loss: 0.4381 - val_accuracy: 0.8178\n",
            "Epoch 36/50\n",
            "43/43 [==============================] - 1s 24ms/step - loss: 0.4601 - accuracy: 0.8018 - val_loss: 0.4577 - val_accuracy: 0.7627\n",
            "Epoch 37/50\n",
            "43/43 [==============================] - 1s 24ms/step - loss: 0.4599 - accuracy: 0.7936 - val_loss: 0.4329 - val_accuracy: 0.8157\n",
            "Epoch 38/50\n",
            "43/43 [==============================] - 1s 24ms/step - loss: 0.4593 - accuracy: 0.8068 - val_loss: 0.4356 - val_accuracy: 0.8051\n",
            "Epoch 39/50\n",
            "43/43 [==============================] - 1s 24ms/step - loss: 0.4616 - accuracy: 0.7903 - val_loss: 0.4572 - val_accuracy: 0.7606\n",
            "Epoch 40/50\n",
            "43/43 [==============================] - 1s 24ms/step - loss: 0.4612 - accuracy: 0.7907 - val_loss: 0.4359 - val_accuracy: 0.8178\n",
            "Epoch 41/50\n",
            "43/43 [==============================] - 1s 24ms/step - loss: 0.4576 - accuracy: 0.8010 - val_loss: 0.4298 - val_accuracy: 0.8199\n",
            "Epoch 42/50\n",
            "43/43 [==============================] - 1s 23ms/step - loss: 0.4603 - accuracy: 0.7965 - val_loss: 0.4405 - val_accuracy: 0.7797\n",
            "Epoch 43/50\n",
            "43/43 [==============================] - 1s 24ms/step - loss: 0.4573 - accuracy: 0.8004 - val_loss: 0.4307 - val_accuracy: 0.8199\n",
            "Epoch 44/50\n",
            "43/43 [==============================] - 1s 23ms/step - loss: 0.4692 - accuracy: 0.7960 - val_loss: 0.4297 - val_accuracy: 0.8199\n",
            "Epoch 45/50\n",
            "43/43 [==============================] - 1s 24ms/step - loss: 0.4505 - accuracy: 0.8054 - val_loss: 0.4385 - val_accuracy: 0.7797\n",
            "Epoch 46/50\n",
            "43/43 [==============================] - 1s 24ms/step - loss: 0.4564 - accuracy: 0.7920 - val_loss: 0.4278 - val_accuracy: 0.8178\n",
            "Epoch 47/50\n",
            "43/43 [==============================] - 1s 23ms/step - loss: 0.4479 - accuracy: 0.8099 - val_loss: 0.4328 - val_accuracy: 0.7924\n",
            "Epoch 48/50\n",
            "43/43 [==============================] - 1s 24ms/step - loss: 0.4502 - accuracy: 0.8041 - val_loss: 0.4260 - val_accuracy: 0.8178\n",
            "Epoch 49/50\n",
            "43/43 [==============================] - 1s 23ms/step - loss: 0.4486 - accuracy: 0.8108 - val_loss: 0.4231 - val_accuracy: 0.8220\n",
            "Epoch 50/50\n",
            "43/43 [==============================] - 1s 23ms/step - loss: 0.4389 - accuracy: 0.8041 - val_loss: 0.4223 - val_accuracy: 0.8157\n"
          ],
          "name": "stdout"
        }
      ]
    },
    {
      "cell_type": "code",
      "metadata": {
        "id": "ZaN7jVi-i1Ug",
        "colab": {
          "base_uri": "https://localhost:8080/",
          "height": 585
        },
        "outputId": "99faa6db-1632-4a3b-c143-413414ee735d"
      },
      "source": [
        "plot_history(history)"
      ],
      "execution_count": 13,
      "outputs": [
        {
          "output_type": "display_data",
          "data": {
            "image/png": "[encoded data removed]",
            "text/plain": [
              "<Figure size 504x576 with 2 Axes>"
            ]
          },
          "metadata": {
            "tags": [],
            "needs_background": "light"
          }
        }
      ]
    },
    {
      "cell_type": "markdown",
      "metadata": {
        "id": "RGQ6ddyWnCZN"
      },
      "source": [
        "### Validation"
      ]
    },
    {
      "cell_type": "code",
      "metadata": {
        "id": "vFTMk5xktFio"
      },
      "source": [
        "data = None"
      ],
      "execution_count": 14,
      "outputs": []
    },
    {
      "cell_type": "code",
      "metadata": {
        "id": "UlYFlnoVnBxh"
      },
      "source": [
        "BND_BOX_SIZE = (80, 80)\n",
        "STEP_SIZE = 20\n",
        "\n",
        "dataset_loader = AerialCarsDatasetLoader(\n",
        "    image_loader=AerialCarsFixedSizeImageLoader(\n",
        "        bnd_box_size=BND_BOX_SIZE\n",
        "    )\n",
        ")\n",
        "\n",
        "process_pipeline=RawImageToImage(\n",
        "    processors=[\n",
        "        NormImage()\n",
        "    ]\n",
        ")\n",
        "\n",
        "sliding_window = SlidingWindow(\n",
        "    step_size=STEP_SIZE,\n",
        "    window_size=BND_BOX_SIZE\n",
        ")"
      ],
      "execution_count": 15,
      "outputs": []
    },
    {
      "cell_type": "markdown",
      "metadata": {
        "id": "YLLJ6ZcFykgh"
      },
      "source": [
        "#### treshold = 0.7; nms_overlap=0.4"
      ]
    },
    {
      "cell_type": "code",
      "metadata": {
        "id": "UGLNfXRvoEga",
        "colab": {
          "base_uri": "https://localhost:8080/"
        },
        "outputId": "26142ae6-ec00-474c-a22b-027a58d399ef"
      },
      "source": [
        "processed_images = None\n",
        "\n",
        "slider_detector = SliderProbDetector(\n",
        "    sliding_window=sliding_window,\n",
        "    process_pipeline=process_pipeline,\n",
        "    classifier=ResnetModelWrapper(model),\n",
        "    treshold=0.7,\n",
        "    nms_overlap=0.4\n",
        ")\n",
        "\n",
        "true_positives, false_positives, false_negatives, processed_images = validate_model(\n",
        "    dataset_loader=dataset_loader,\n",
        "    input_folder_filepath=DRIVE_PATH+'data/raw/aerial-cars-dataset/val',\n",
        "    output_folder_filepath=DRIVE_PATH+'processed_images/resnet18/aerial-cars-dataset/t7nms4',\n",
        "    images_files_types=('jpg', 'JPG', 'png'),\n",
        "    annotations_files_types=('txt',),\n",
        "    detector=slider_detector,\n",
        "    workers=0\n",
        ")\n",
        "\n",
        "print()\n",
        "print('Precision:',  round(precision(true_positives, false_positives), 3))\n",
        "print('Recall:',  round(recall(true_positives, false_negatives), 3))\n",
        "print('F1Score:', round(f1_score(true_positives, false_positives, false_negatives), 3))"
      ],
      "execution_count": 16,
      "outputs": [
        {
          "output_type": "stream",
          "text": [
            " 11%|█         | 1/9 [00:03<00:31,  4.00s/it]"
          ],
          "name": "stderr"
        },
        {
          "output_type": "stream",
          "text": [
            "386\n",
            "912\n"
          ],
          "name": "stdout"
        },
        {
          "output_type": "stream",
          "text": [
            " 33%|███▎      | 3/9 [00:10<00:21,  3.59s/it]"
          ],
          "name": "stderr"
        },
        {
          "output_type": "stream",
          "text": [
            "267\n"
          ],
          "name": "stdout"
        },
        {
          "output_type": "stream",
          "text": [
            "\r 44%|████▍     | 4/9 [00:13<00:17,  3.47s/it]"
          ],
          "name": "stderr"
        },
        {
          "output_type": "stream",
          "text": [
            "226\n"
          ],
          "name": "stdout"
        },
        {
          "output_type": "stream",
          "text": [
            "\r 56%|█████▌    | 5/9 [00:16<00:13,  3.40s/it]"
          ],
          "name": "stderr"
        },
        {
          "output_type": "stream",
          "text": [
            "327\n",
            "223\n"
          ],
          "name": "stdout"
        },
        {
          "output_type": "stream",
          "text": [
            " 78%|███████▊  | 7/9 [00:39<00:13,  6.78s/it]"
          ],
          "name": "stderr"
        },
        {
          "output_type": "stream",
          "text": [
            "355\n"
          ],
          "name": "stdout"
        },
        {
          "output_type": "stream",
          "text": [
            "\r 89%|████████▉ | 8/9 [00:43<00:05,  5.76s/it]"
          ],
          "name": "stderr"
        },
        {
          "output_type": "stream",
          "text": [
            "372\n"
          ],
          "name": "stdout"
        },
        {
          "output_type": "stream",
          "text": [
            "100%|██████████| 9/9 [00:46<00:00,  5.17s/it]"
          ],
          "name": "stderr"
        },
        {
          "output_type": "stream",
          "text": [
            "746\n"
          ],
          "name": "stdout"
        },
        {
          "output_type": "stream",
          "text": [
            "\n"
          ],
          "name": "stderr"
        },
        {
          "output_type": "stream",
          "text": [
            "\n",
            "Precision: 0.069\n",
            "Recall: 0.504\n",
            "F1Score: 0.122\n"
          ],
          "name": "stdout"
        }
      ]
    },
    {
      "cell_type": "markdown",
      "metadata": {
        "id": "0KjRO_r8yoNn"
      },
      "source": [
        "#### treshold = 0.8; nms_overlap=0.4"
      ]
    },
    {
      "cell_type": "code",
      "metadata": {
        "id": "O5qyS-eyzwHS",
        "outputId": "1f690107-2281-468e-9116-8ece2d922ee3",
        "colab": {
          "base_uri": "https://localhost:8080/"
        }
      },
      "source": [
        "processed_images = None\n",
        "\n",
        "slider_detector = SliderProbDetector(\n",
        "    sliding_window=sliding_window,\n",
        "    process_pipeline=process_pipeline,\n",
        "    classifier=ResnetModelWrapper(model),\n",
        "    treshold=0.8,\n",
        "    nms_overlap=0.4\n",
        ")\n",
        "\n",
        "true_positives, false_positives, false_negatives, processed_images = validate_model(\n",
        "    dataset_loader=dataset_loader,\n",
        "    input_folder_filepath=DRIVE_PATH+'data/raw/aerial-cars-dataset/val',\n",
        "    output_folder_filepath=DRIVE_PATH+'processed_images/resnet18/aerial-cars-dataset/t8nms4',\n",
        "    images_files_types=('jpg', 'JPG', 'png'),\n",
        "    annotations_files_types=('txt',),\n",
        "    detector=slider_detector,\n",
        "    workers=0\n",
        ")\n",
        "\n",
        "print()\n",
        "print('Precision:',  round(precision(true_positives, false_positives), 3))\n",
        "print('Recall:',  round(recall(true_positives, false_negatives), 3))\n",
        "print('F1Score:', round(f1_score(true_positives, false_positives, false_negatives), 3))"
      ],
      "execution_count": 17,
      "outputs": [
        {
          "output_type": "stream",
          "text": [
            " 11%|█         | 1/9 [00:03<00:27,  3.44s/it]"
          ],
          "name": "stderr"
        },
        {
          "output_type": "stream",
          "text": [
            "243\n"
          ],
          "name": "stdout"
        },
        {
          "output_type": "stream",
          "text": [
            "\r 22%|██▏       | 2/9 [00:06<00:23,  3.43s/it]"
          ],
          "name": "stderr"
        },
        {
          "output_type": "stream",
          "text": [
            "567\n"
          ],
          "name": "stdout"
        },
        {
          "output_type": "stream",
          "text": [
            "\r 33%|███▎      | 3/9 [00:10<00:20,  3.39s/it]"
          ],
          "name": "stderr"
        },
        {
          "output_type": "stream",
          "text": [
            "154\n"
          ],
          "name": "stdout"
        },
        {
          "output_type": "stream",
          "text": [
            "\r 44%|████▍     | 4/9 [00:13<00:16,  3.37s/it]"
          ],
          "name": "stderr"
        },
        {
          "output_type": "stream",
          "text": [
            "129\n"
          ],
          "name": "stdout"
        },
        {
          "output_type": "stream",
          "text": [
            "\r 56%|█████▌    | 5/9 [00:16<00:13,  3.36s/it]"
          ],
          "name": "stderr"
        },
        {
          "output_type": "stream",
          "text": [
            "191\n"
          ],
          "name": "stdout"
        },
        {
          "output_type": "stream",
          "text": [
            "\r 67%|██████▋   | 6/9 [00:34<00:23,  7.72s/it]"
          ],
          "name": "stderr"
        },
        {
          "output_type": "stream",
          "text": [
            "91\n"
          ],
          "name": "stdout"
        },
        {
          "output_type": "stream",
          "text": [
            "\r 78%|███████▊  | 7/9 [00:38<00:12,  6.42s/it]"
          ],
          "name": "stderr"
        },
        {
          "output_type": "stream",
          "text": [
            "156\n"
          ],
          "name": "stdout"
        },
        {
          "output_type": "stream",
          "text": [
            "\r 89%|████████▉ | 8/9 [00:41<00:05,  5.49s/it]"
          ],
          "name": "stderr"
        },
        {
          "output_type": "stream",
          "text": [
            "250\n"
          ],
          "name": "stdout"
        },
        {
          "output_type": "stream",
          "text": [
            "100%|██████████| 9/9 [00:45<00:00,  5.01s/it]"
          ],
          "name": "stderr"
        },
        {
          "output_type": "stream",
          "text": [
            "435\n"
          ],
          "name": "stdout"
        },
        {
          "output_type": "stream",
          "text": [
            "\n"
          ],
          "name": "stderr"
        },
        {
          "output_type": "stream",
          "text": [
            "\n",
            "Precision: 0.092\n",
            "Recall: 0.398\n",
            "F1Score: 0.15\n"
          ],
          "name": "stdout"
        }
      ]
    },
    {
      "cell_type": "markdown",
      "metadata": {
        "id": "5oxfL6c9ypkt"
      },
      "source": [
        "#### treshold = 0.9; nms_overlap=0.4"
      ]
    },
    {
      "cell_type": "code",
      "metadata": {
        "id": "I2acWOj-qrPX",
        "colab": {
          "base_uri": "https://localhost:8080/"
        },
        "outputId": "b73fbb00-7af2-4cde-f2cd-f9266dc3b45b"
      },
      "source": [
        "processed_images = None\n",
        "\n",
        "slider_detector = SliderProbDetector(\n",
        "    sliding_window=sliding_window,\n",
        "    process_pipeline=process_pipeline,\n",
        "    classifier=ResnetModelWrapper(model),\n",
        "    treshold=0.9,\n",
        "    nms_overlap=0.4\n",
        ")\n",
        "\n",
        "true_positives, false_positives, false_negatives, processed_images = validate_model(\n",
        "    dataset_loader=dataset_loader,\n",
        "    input_folder_filepath=DRIVE_PATH+'data/raw/aerial-cars-dataset/val',\n",
        "    output_folder_filepath=DRIVE_PATH+'processed_images/resnet18/aerial-cars-dataset/t9nms4',\n",
        "    images_files_types=('jpg', 'JPG', 'png'),\n",
        "    annotations_files_types=('txt',),\n",
        "    detector=slider_detector,\n",
        "    workers=0\n",
        ")\n",
        "\n",
        "print()\n",
        "print('Precision:',  round(precision(true_positives, false_positives), 3))\n",
        "print('Recall:',  round(recall(true_positives, false_negatives), 3))\n",
        "print('F1Score:', round(f1_score(true_positives, false_positives, false_negatives), 3))"
      ],
      "execution_count": 18,
      "outputs": [
        {
          "output_type": "stream",
          "text": [
            " 11%|█         | 1/9 [00:03<00:27,  3.45s/it]"
          ],
          "name": "stderr"
        },
        {
          "output_type": "stream",
          "text": [
            "102\n"
          ],
          "name": "stdout"
        },
        {
          "output_type": "stream",
          "text": [
            "\r 22%|██▏       | 2/9 [00:06<00:23,  3.41s/it]"
          ],
          "name": "stderr"
        },
        {
          "output_type": "stream",
          "text": [
            "272\n"
          ],
          "name": "stdout"
        },
        {
          "output_type": "stream",
          "text": [
            "\r 33%|███▎      | 3/9 [00:10<00:20,  3.38s/it]"
          ],
          "name": "stderr"
        },
        {
          "output_type": "stream",
          "text": [
            "72\n"
          ],
          "name": "stdout"
        },
        {
          "output_type": "stream",
          "text": [
            "\r 44%|████▍     | 4/9 [00:13<00:16,  3.36s/it]"
          ],
          "name": "stderr"
        },
        {
          "output_type": "stream",
          "text": [
            "65\n"
          ],
          "name": "stdout"
        },
        {
          "output_type": "stream",
          "text": [
            "\r 56%|█████▌    | 5/9 [00:16<00:13,  3.35s/it]"
          ],
          "name": "stderr"
        },
        {
          "output_type": "stream",
          "text": [
            "87\n"
          ],
          "name": "stdout"
        },
        {
          "output_type": "stream",
          "text": [
            "\r 67%|██████▋   | 6/9 [00:31<00:20,  6.78s/it]"
          ],
          "name": "stderr"
        },
        {
          "output_type": "stream",
          "text": [
            "26\n"
          ],
          "name": "stdout"
        },
        {
          "output_type": "stream",
          "text": [
            "\r 78%|███████▊  | 7/9 [00:35<00:11,  5.83s/it]"
          ],
          "name": "stderr"
        },
        {
          "output_type": "stream",
          "text": [
            "31\n"
          ],
          "name": "stdout"
        },
        {
          "output_type": "stream",
          "text": [
            "\r 89%|████████▉ | 8/9 [00:38<00:05,  5.07s/it]"
          ],
          "name": "stderr"
        },
        {
          "output_type": "stream",
          "text": [
            "107\n"
          ],
          "name": "stdout"
        },
        {
          "output_type": "stream",
          "text": [
            "100%|██████████| 9/9 [00:41<00:00,  4.64s/it]"
          ],
          "name": "stderr"
        },
        {
          "output_type": "stream",
          "text": [
            "180\n"
          ],
          "name": "stdout"
        },
        {
          "output_type": "stream",
          "text": [
            "\n"
          ],
          "name": "stderr"
        },
        {
          "output_type": "stream",
          "text": [
            "\n",
            "Precision: 0.11\n",
            "Recall: 0.221\n",
            "F1Score: 0.147\n"
          ],
          "name": "stdout"
        }
      ]
    },
    {
      "cell_type": "code",
      "metadata": {
        "id": "shQFJU2BtfO5"
      },
      "source": [
        ""
      ],
      "execution_count": null,
      "outputs": []
    }
  ]
}