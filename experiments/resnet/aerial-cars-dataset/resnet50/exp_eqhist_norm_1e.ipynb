{
  "nbformat": 4,
  "nbformat_minor": 0,
  "metadata": {
    "orig_nbformat": 2,
    "colab": {
      "name": "exp_norm.ipynb",
      "provenance": []
    },
    "kernelspec": {
      "name": "python3",
      "display_name": "Python 3"
    },
    "accelerator": "GPU"
  },
  "cells": [
    {
      "cell_type": "markdown",
      "metadata": {
        "id": "iNiK4PBIg7f6"
      },
      "source": [
        "### Install project"
      ]
    },
    {
      "cell_type": "code",
      "metadata": {
        "id": "ue6kujHogll1",
        "colab": {
          "base_uri": "https://localhost:8080/"
        },
        "outputId": "55b0863c-1989-4986-b358-b115dc4cf96f"
      },
      "source": [
        "!git clone https://github.com/kornelro/cv_project.git"
      ],
      "execution_count": 1,
      "outputs": [
        {
          "output_type": "stream",
          "text": [
            "fatal: destination path 'cv_project' already exists and is not an empty directory.\n"
          ],
          "name": "stdout"
        }
      ]
    },
    {
      "cell_type": "code",
      "metadata": {
        "id": "p-fdixcqhBY7",
        "colab": {
          "base_uri": "https://localhost:8080/"
        },
        "outputId": "c861562f-88b9-4ca0-dbf4-31f2bbb14c2a"
      },
      "source": [
        "!pip install cv_project/."
      ],
      "execution_count": 1,
      "outputs": [
        {
          "output_type": "stream",
          "text": [
            "Processing ./cv_project\n",
            "Building wheels for collected packages: src\n",
            "  Building wheel for src (setup.py) ... \u001b[?25l\u001b[?25hdone\n",
            "  Created wheel for src: filename=src-0.1.0-cp36-none-any.whl size=16502 sha256=66ac15a5780cdcabe8b48ebb4454a0696ab1ebcede9a5a55d040070b630f0534\n",
            "  Stored in directory: /tmp/pip-ephem-wheel-cache-kxhootk6/wheels/fc/1b/40/72379bece2bafba26136079aeac87421c9221abafeb9c66746\n",
            "Successfully built src\n",
            "Installing collected packages: src\n",
            "  Found existing installation: src 0.1.0\n",
            "    Uninstalling src-0.1.0:\n",
            "      Successfully uninstalled src-0.1.0\n",
            "Successfully installed src-0.1.0\n"
          ],
          "name": "stdout"
        }
      ]
    },
    {
      "cell_type": "markdown",
      "metadata": {
        "id": "nZFmuLCDhIg4"
      },
      "source": [
        "### Mount drive"
      ]
    },
    {
      "cell_type": "code",
      "metadata": {
        "id": "LQMkyz7zhF5z",
        "colab": {
          "base_uri": "https://localhost:8080/"
        },
        "outputId": "36c25c52-9cf6-403f-cd8a-c3b0ae6388ae"
      },
      "source": [
        "from google.colab import drive\n",
        "drive.mount('/content/drive')"
      ],
      "execution_count": 2,
      "outputs": [
        {
          "output_type": "stream",
          "text": [
            "Drive already mounted at /content/drive; to attempt to forcibly remount, call drive.mount(\"/content/drive\", force_remount=True).\n"
          ],
          "name": "stdout"
        }
      ]
    },
    {
      "cell_type": "code",
      "metadata": {
        "id": "UF_E38x9hWmT"
      },
      "source": [
        "DRIVE_PATH = '/content/drive/Shareddrives/CV-PROJECT/'"
      ],
      "execution_count": 3,
      "outputs": []
    },
    {
      "cell_type": "markdown",
      "metadata": {
        "id": "KCKNtAVZh48s"
      },
      "source": [
        "### Imports"
      ]
    },
    {
      "cell_type": "code",
      "metadata": {
        "id": "5MTMxcE_h70p"
      },
      "source": [
        "import pickle\n",
        "import numpy as np\n",
        "import tensorflow.keras as K\n",
        "import matplotlib.pyplot as plt\n",
        "from sklearn.model_selection import train_test_split\n",
        "\n",
        "from src.data.make_dataset import make_dataset\n",
        "from src.data.image_loaders import AerialCarsFixedSizeImageLoader\n",
        "from src.data.dataset_loaders import AerialCarsDatasetLoader\n",
        "from src.features.pipelines import RawImageToImage\n",
        "from src.features.processors import NormImage, EqualHist\n",
        "from src.models.classifiers import ResnetModelWrapper\n",
        "from src.models.detectors import SliderProbDetector\n",
        "from src.data.sliders import SlidingWindow\n",
        "from src.evaluation import validate_model, precision, recall, f1_score"
      ],
      "execution_count": 4,
      "outputs": []
    },
    {
      "cell_type": "markdown",
      "metadata": {
        "id": "mbthzXT7hrs6"
      },
      "source": [
        "# Aerial-Cars-Dataset\n",
        "# ResNet50 1 epoch\n",
        "# Pipeline: EqualHist, Norm"
      ]
    },
    {
      "cell_type": "markdown",
      "metadata": {
        "id": "K3tcWdG2iRT3"
      },
      "source": [
        "### Load dataset"
      ]
    },
    {
      "cell_type": "code",
      "metadata": {
        "id": "Nx2tVuUnhpuJ"
      },
      "source": [
        "DATA_PATH = DRIVE_PATH+'data/processed/aerial-cars-dataset/resnet/data_resnet_eqhist.pickle'"
      ],
      "execution_count": 5,
      "outputs": []
    },
    {
      "cell_type": "code",
      "metadata": {
        "id": "A9f4T5tjimxx"
      },
      "source": [
        "with open(DATA_PATH, 'rb') as f:\n",
        "    data = pickle.load(f)"
      ],
      "execution_count": 6,
      "outputs": []
    },
    {
      "cell_type": "markdown",
      "metadata": {
        "id": "YC3lSUMwirgA"
      },
      "source": [
        "### Train ResNet50"
      ]
    },
    {
      "cell_type": "code",
      "metadata": {
        "id": "KffShuL7k8ON"
      },
      "source": [
        "TEST_SIZE = 0.1\n",
        "BATCH_SIZE = 100\n",
        "EPOCHS = 1"
      ],
      "execution_count": 7,
      "outputs": []
    },
    {
      "cell_type": "code",
      "metadata": {
        "id": "WqYmUKQiioX0",
        "colab": {
          "base_uri": "https://localhost:8080/"
        },
        "outputId": "4a5a7899-78f2-40d4-e5e3-e19893ba0f48"
      },
      "source": [
        "X = np.array(list(map(lambda x: x[1], data)))\n",
        "y = np.array(list(map(lambda x: x[2], data)))\n",
        "X_train, X_test, y_train, y_test = train_test_split(\n",
        "    X, y,\n",
        "    test_size=TEST_SIZE,\n",
        "    random_state=42\n",
        "  )\n",
        "\n",
        "\n",
        "input_t = K.Input(shape=(X[0].shape))\n",
        "res_model = K.applications.ResNet50V2(\n",
        "    include_top=False,\n",
        "    weights='imagenet',\n",
        "    input_tensor=input_t\n",
        ")\n",
        "\n",
        "for layer in res_model.layers:\n",
        "    layer.trainable = False\n",
        "\n",
        "model = K.models.Sequential()\n",
        "model.add(res_model)\n",
        "model.add(K.layers.Flatten())\n",
        "model.add(K.layers.Dense(2, activation='softmax'))\n",
        "\n",
        "\n",
        "model.compile(\n",
        "    optimizer=K.optimizers.Adam(0.001),\n",
        "    loss=K.losses.SparseCategoricalCrossentropy(),\n",
        "    metrics=['accuracy']\n",
        ")\n",
        "\n",
        "history = model.fit(X_train, y_train,\n",
        "            batch_size=BATCH_SIZE,\n",
        "            epochs=EPOCHS, \n",
        "            validation_data=(X_test, y_test)\n",
        ")"
      ],
      "execution_count": 8,
      "outputs": [
        {
          "output_type": "stream",
          "text": [
            "43/43 [==============================] - 13s 92ms/step - loss: 0.6811 - accuracy: 0.8471 - val_loss: 0.1617 - val_accuracy: 0.9788\n"
          ],
          "name": "stdout"
        }
      ]
    },
    {
      "cell_type": "markdown",
      "metadata": {
        "id": "RGQ6ddyWnCZN"
      },
      "source": [
        "### Validation"
      ]
    },
    {
      "cell_type": "code",
      "metadata": {
        "id": "vFTMk5xktFio"
      },
      "source": [
        "del data"
      ],
      "execution_count": 9,
      "outputs": []
    },
    {
      "cell_type": "code",
      "metadata": {
        "id": "UlYFlnoVnBxh"
      },
      "source": [
        "BND_BOX_SIZE = (80, 80)\n",
        "STEP_SIZE = 20\n",
        "\n",
        "dataset_loader = AerialCarsDatasetLoader(\n",
        "    image_loader=AerialCarsFixedSizeImageLoader(\n",
        "        bnd_box_size=BND_BOX_SIZE\n",
        "    )\n",
        ")\n",
        "\n",
        "process_pipeline=RawImageToImage(\n",
        "    processors=[\n",
        "        EqualHist(),\n",
        "        NormImage()\n",
        "    ]\n",
        ")\n",
        "\n",
        "sliding_window = SlidingWindow(\n",
        "    step_size=STEP_SIZE,\n",
        "    window_size=BND_BOX_SIZE\n",
        ")"
      ],
      "execution_count": 10,
      "outputs": []
    },
    {
      "cell_type": "markdown",
      "metadata": {
        "id": "uhxJGg9L_TGp"
      },
      "source": [
        "treshold = 0.8; nms_overlap=0.4"
      ]
    },
    {
      "cell_type": "code",
      "metadata": {
        "id": "0W2DL0oL_XJt",
        "outputId": "d5841530-d5d8-4237-d03f-e4ef18aa3c12",
        "colab": {
          "base_uri": "https://localhost:8080/"
        }
      },
      "source": [
        "slider_detector = SliderProbDetector(\n",
        "    sliding_window=sliding_window,\n",
        "    process_pipeline=process_pipeline,\n",
        "    classifier=ResnetModelWrapper(model),\n",
        "    treshold=0.8,\n",
        "    nms_overlap=0.4\n",
        ")\n",
        "\n",
        "true_positives, false_positives, false_negatives, processed_images = validate_model(\n",
        "    dataset_loader=dataset_loader,\n",
        "    input_folder_filepath=DRIVE_PATH+'data/raw/aerial-cars-dataset/val',\n",
        "    output_folder_filepath=DRIVE_PATH+'processed_images/resnet50/aerial-cars-dataset/eqhist/t8nms4_1e',\n",
        "    images_files_types=('jpg', 'JPG', 'png'),\n",
        "    annotations_files_types=('txt',),\n",
        "    detector=slider_detector,\n",
        "    workers=0\n",
        ")\n",
        "\n",
        "\n",
        "print()\n",
        "print('Precision:',  round(precision(true_positives, false_positives), 3))\n",
        "print('Recall:',  round(recall(true_positives, false_negatives), 3))\n",
        "print('F1Score:', round(f1_score(true_positives, false_positives, false_negatives), 3))"
      ],
      "execution_count": 13,
      "outputs": [
        {
          "output_type": "stream",
          "text": [
            " 11%|█         | 1/9 [00:06<00:55,  6.88s/it]"
          ],
          "name": "stderr"
        },
        {
          "output_type": "stream",
          "text": [
            "265\n"
          ],
          "name": "stdout"
        },
        {
          "output_type": "stream",
          "text": [
            "\r 22%|██▏       | 2/9 [00:11<00:43,  6.28s/it]"
          ],
          "name": "stderr"
        },
        {
          "output_type": "stream",
          "text": [
            "281\n"
          ],
          "name": "stdout"
        },
        {
          "output_type": "stream",
          "text": [
            "\r 33%|███▎      | 3/9 [00:16<00:35,  5.86s/it]"
          ],
          "name": "stderr"
        },
        {
          "output_type": "stream",
          "text": [
            "77\n"
          ],
          "name": "stdout"
        },
        {
          "output_type": "stream",
          "text": [
            "\r 44%|████▍     | 4/9 [00:21<00:27,  5.58s/it]"
          ],
          "name": "stderr"
        },
        {
          "output_type": "stream",
          "text": [
            "79\n"
          ],
          "name": "stdout"
        },
        {
          "output_type": "stream",
          "text": [
            "\r 56%|█████▌    | 5/9 [00:26<00:21,  5.37s/it]"
          ],
          "name": "stderr"
        },
        {
          "output_type": "stream",
          "text": [
            "265\n",
            "138\n"
          ],
          "name": "stdout"
        },
        {
          "output_type": "stream",
          "text": [
            " 78%|███████▊  | 7/9 [00:59<00:19,  9.98s/it]"
          ],
          "name": "stderr"
        },
        {
          "output_type": "stream",
          "text": [
            "263\n"
          ],
          "name": "stdout"
        },
        {
          "output_type": "stream",
          "text": [
            "\r 89%|████████▉ | 8/9 [01:04<00:08,  8.52s/it]"
          ],
          "name": "stderr"
        },
        {
          "output_type": "stream",
          "text": [
            "250\n"
          ],
          "name": "stdout"
        },
        {
          "output_type": "stream",
          "text": [
            "100%|██████████| 9/9 [01:09<00:00,  7.72s/it]"
          ],
          "name": "stderr"
        },
        {
          "output_type": "stream",
          "text": [
            "158\n"
          ],
          "name": "stdout"
        },
        {
          "output_type": "stream",
          "text": [
            "\n"
          ],
          "name": "stderr"
        },
        {
          "output_type": "stream",
          "text": [
            "\n",
            "Precision: 0.186\n",
            "Recall: 0.805\n",
            "F1Score: 0.302\n"
          ],
          "name": "stdout"
        }
      ]
    },
    {
      "cell_type": "markdown",
      "metadata": {
        "id": "jzbNrVoV_kDH"
      },
      "source": [
        "treshold = 0.9; nms_overlap=0.4"
      ]
    },
    {
      "cell_type": "code",
      "metadata": {
        "id": "7ebhOUzC_wz1"
      },
      "source": [
        "del processed_images"
      ],
      "execution_count": 17,
      "outputs": []
    },
    {
      "cell_type": "code",
      "metadata": {
        "id": "d5KKVKOq_mwZ",
        "colab": {
          "base_uri": "https://localhost:8080/"
        },
        "outputId": "85516fc1-49a7-494a-89f2-f0f361528db5"
      },
      "source": [
        "slider_detector = SliderProbDetector(\n",
        "    sliding_window=sliding_window,\n",
        "    process_pipeline=process_pipeline,\n",
        "    classifier=ResnetModelWrapper(model),\n",
        "    treshold=0.9,\n",
        "    nms_overlap=0.4\n",
        ")\n",
        "\n",
        "true_positives, false_positives, false_negatives, processed_images = validate_model(\n",
        "    dataset_loader=dataset_loader,\n",
        "    input_folder_filepath=DRIVE_PATH+'data/raw/aerial-cars-dataset/val',\n",
        "    output_folder_filepath=DRIVE_PATH+'processed_images/resnet50/aerial-cars-dataset/eqhist/t9nms4_1e',\n",
        "    images_files_types=('jpg', 'JPG', 'png'),\n",
        "    annotations_files_types=('txt',),\n",
        "    detector=slider_detector,\n",
        "    workers=0\n",
        ")\n",
        "\n",
        "\n",
        "print()\n",
        "print('Precision:',  round(precision(true_positives, false_positives), 3))\n",
        "print('Recall:',  round(recall(true_positives, false_negatives), 3))\n",
        "print('F1Score:', round(f1_score(true_positives, false_positives, false_negatives), 3))"
      ],
      "execution_count": 11,
      "outputs": [
        {
          "output_type": "stream",
          "text": [
            " 11%|█         | 1/9 [00:06<00:52,  6.59s/it]"
          ],
          "name": "stderr"
        },
        {
          "output_type": "stream",
          "text": [
            "255\n"
          ],
          "name": "stdout"
        },
        {
          "output_type": "stream",
          "text": [
            "\r 22%|██▏       | 2/9 [00:11<00:42,  6.09s/it]"
          ],
          "name": "stderr"
        },
        {
          "output_type": "stream",
          "text": [
            "243\n"
          ],
          "name": "stdout"
        },
        {
          "output_type": "stream",
          "text": [
            "\r 33%|███▎      | 3/9 [00:16<00:34,  5.73s/it]"
          ],
          "name": "stderr"
        },
        {
          "output_type": "stream",
          "text": [
            "63\n"
          ],
          "name": "stdout"
        },
        {
          "output_type": "stream",
          "text": [
            "\r 44%|████▍     | 4/9 [00:21<00:27,  5.48s/it]"
          ],
          "name": "stderr"
        },
        {
          "output_type": "stream",
          "text": [
            "57\n"
          ],
          "name": "stdout"
        },
        {
          "output_type": "stream",
          "text": [
            "\r 56%|█████▌    | 5/9 [00:26<00:21,  5.32s/it]"
          ],
          "name": "stderr"
        },
        {
          "output_type": "stream",
          "text": [
            "266\n"
          ],
          "name": "stdout"
        },
        {
          "output_type": "stream",
          "text": [
            "\r 67%|██████▋   | 6/9 [00:53<00:35, 11.89s/it]"
          ],
          "name": "stderr"
        },
        {
          "output_type": "stream",
          "text": [
            "107\n"
          ],
          "name": "stdout"
        },
        {
          "output_type": "stream",
          "text": [
            "\r 78%|███████▊  | 7/9 [00:58<00:19,  9.88s/it]"
          ],
          "name": "stderr"
        },
        {
          "output_type": "stream",
          "text": [
            "248\n"
          ],
          "name": "stdout"
        },
        {
          "output_type": "stream",
          "text": [
            "\r 89%|████████▉ | 8/9 [01:03<00:08,  8.43s/it]"
          ],
          "name": "stderr"
        },
        {
          "output_type": "stream",
          "text": [
            "242\n"
          ],
          "name": "stdout"
        },
        {
          "output_type": "stream",
          "text": [
            "100%|██████████| 9/9 [01:08<00:00,  7.63s/it]"
          ],
          "name": "stderr"
        },
        {
          "output_type": "stream",
          "text": [
            "145\n"
          ],
          "name": "stdout"
        },
        {
          "output_type": "stream",
          "text": [
            "\n"
          ],
          "name": "stderr"
        },
        {
          "output_type": "stream",
          "text": [
            "\n",
            "Precision: 0.208\n",
            "Recall: 0.752\n",
            "F1Score: 0.326\n"
          ],
          "name": "stdout"
        }
      ]
    },
    {
      "cell_type": "code",
      "metadata": {
        "id": "shQFJU2BtfO5"
      },
      "source": [
        ""
      ],
      "execution_count": null,
      "outputs": []
    }
  ]
}