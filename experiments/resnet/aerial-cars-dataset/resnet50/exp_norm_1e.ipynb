{
  "nbformat": 4,
  "nbformat_minor": 0,
  "metadata": {
    "orig_nbformat": 2,
    "colab": {
      "name": "exp_norm.ipynb",
      "provenance": []
    },
    "kernelspec": {
      "name": "python3",
      "display_name": "Python 3"
    },
    "accelerator": "GPU"
  },
  "cells": [
    {
      "cell_type": "markdown",
      "metadata": {
        "id": "iNiK4PBIg7f6"
      },
      "source": [
        "### Install project"
      ]
    },
    {
      "cell_type": "code",
      "metadata": {
        "id": "ue6kujHogll1",
        "colab": {
          "base_uri": "https://localhost:8080/"
        },
        "outputId": "fcda9efa-b119-40af-e901-3158edf9563c"
      },
      "source": [
        "!git clone https://github.com/kornelro/cv_project.git"
      ],
      "execution_count": 1,
      "outputs": [
        {
          "output_type": "stream",
          "text": [
            "fatal: destination path 'cv_project' already exists and is not an empty directory.\n"
          ],
          "name": "stdout"
        }
      ]
    },
    {
      "cell_type": "code",
      "metadata": {
        "id": "p-fdixcqhBY7",
        "colab": {
          "base_uri": "https://localhost:8080/"
        },
        "outputId": "04fd6b34-abf5-4138-845c-a57235bc8098"
      },
      "source": [
        "!pip install cv_project/."
      ],
      "execution_count": 2,
      "outputs": [
        {
          "output_type": "stream",
          "text": [
            "Processing ./cv_project\n",
            "Building wheels for collected packages: src\n",
            "  Building wheel for src (setup.py) ... \u001b[?25l\u001b[?25hdone\n",
            "  Created wheel for src: filename=src-0.1.0-cp36-none-any.whl size=16502 sha256=89717b2db194b5bca98ecded0aec15ea9d78577713651b4089a0f6e78b096f75\n",
            "  Stored in directory: /tmp/pip-ephem-wheel-cache-klvqtit7/wheels/fc/1b/40/72379bece2bafba26136079aeac87421c9221abafeb9c66746\n",
            "Successfully built src\n",
            "Installing collected packages: src\n",
            "  Found existing installation: src 0.1.0\n",
            "    Uninstalling src-0.1.0:\n",
            "      Successfully uninstalled src-0.1.0\n",
            "Successfully installed src-0.1.0\n"
          ],
          "name": "stdout"
        }
      ]
    },
    {
      "cell_type": "markdown",
      "metadata": {
        "id": "nZFmuLCDhIg4"
      },
      "source": [
        "### Mount drive"
      ]
    },
    {
      "cell_type": "code",
      "metadata": {
        "id": "LQMkyz7zhF5z",
        "colab": {
          "base_uri": "https://localhost:8080/"
        },
        "outputId": "0e89552b-90a0-4c47-8693-851b9753354d"
      },
      "source": [
        "from google.colab import drive\n",
        "drive.mount('/content/drive')"
      ],
      "execution_count": 3,
      "outputs": [
        {
          "output_type": "stream",
          "text": [
            "Drive already mounted at /content/drive; to attempt to forcibly remount, call drive.mount(\"/content/drive\", force_remount=True).\n"
          ],
          "name": "stdout"
        }
      ]
    },
    {
      "cell_type": "code",
      "metadata": {
        "id": "UF_E38x9hWmT"
      },
      "source": [
        "DRIVE_PATH = '/content/drive/Shareddrives/CV-PROJECT/'"
      ],
      "execution_count": 4,
      "outputs": []
    },
    {
      "cell_type": "markdown",
      "metadata": {
        "id": "KCKNtAVZh48s"
      },
      "source": [
        "### Imports"
      ]
    },
    {
      "cell_type": "code",
      "metadata": {
        "id": "5MTMxcE_h70p"
      },
      "source": [
        "import pickle\n",
        "import numpy as np\n",
        "import tensorflow.keras as K\n",
        "import matplotlib.pyplot as plt\n",
        "from sklearn.model_selection import train_test_split\n",
        "\n",
        "from src.data.make_dataset import make_dataset\n",
        "from src.data.image_loaders import AerialCarsFixedSizeImageLoader\n",
        "from src.data.dataset_loaders import AerialCarsDatasetLoader\n",
        "from src.features.pipelines import RawImageToImage\n",
        "from src.features.processors import NormImage\n",
        "from src.models.classifiers import ResnetModelWrapper\n",
        "from src.models.detectors import SliderProbDetector\n",
        "from src.data.sliders import SlidingWindow\n",
        "from src.evaluation import validate_model, precision, recall, f1_score"
      ],
      "execution_count": 5,
      "outputs": []
    },
    {
      "cell_type": "markdown",
      "metadata": {
        "id": "mbthzXT7hrs6"
      },
      "source": [
        "# Aerial-Cars-Dataset\n",
        "# ResNet50 1 epoch\n",
        "# Pipeline: Norm"
      ]
    },
    {
      "cell_type": "markdown",
      "metadata": {
        "id": "K3tcWdG2iRT3"
      },
      "source": [
        "### Load dataset"
      ]
    },
    {
      "cell_type": "code",
      "metadata": {
        "id": "Nx2tVuUnhpuJ"
      },
      "source": [
        "DATA_PATH = DRIVE_PATH+'data/processed/aerial-cars-dataset/resnet/data_resnet.pickle'"
      ],
      "execution_count": 6,
      "outputs": []
    },
    {
      "cell_type": "code",
      "metadata": {
        "id": "A9f4T5tjimxx"
      },
      "source": [
        "with open(DATA_PATH, 'rb') as f:\n",
        "    data = pickle.load(f)"
      ],
      "execution_count": 7,
      "outputs": []
    },
    {
      "cell_type": "markdown",
      "metadata": {
        "id": "YC3lSUMwirgA"
      },
      "source": [
        "### Train ResNet50"
      ]
    },
    {
      "cell_type": "code",
      "metadata": {
        "id": "KffShuL7k8ON"
      },
      "source": [
        "TEST_SIZE = 0.1\n",
        "BATCH_SIZE = 100\n",
        "EPOCHS = 1"
      ],
      "execution_count": 8,
      "outputs": []
    },
    {
      "cell_type": "code",
      "metadata": {
        "id": "WqYmUKQiioX0",
        "colab": {
          "base_uri": "https://localhost:8080/"
        },
        "outputId": "ffbb3a24-26de-4a42-dda0-f7f3e957dfef"
      },
      "source": [
        "X = np.array(list(map(lambda x: x[1], data)))\n",
        "y = np.array(list(map(lambda x: x[2], data)))\n",
        "X_train, X_test, y_train, y_test = train_test_split(\n",
        "    X, y,\n",
        "    test_size=TEST_SIZE,\n",
        "    random_state=42\n",
        "  )\n",
        "\n",
        "\n",
        "input_t = K.Input(shape=(X[0].shape))\n",
        "res_model = K.applications.ResNet50V2(\n",
        "    include_top=False,\n",
        "    weights='imagenet',\n",
        "    input_tensor=input_t\n",
        ")\n",
        "\n",
        "for layer in res_model.layers:\n",
        "    layer.trainable = False\n",
        "\n",
        "model = K.models.Sequential()\n",
        "model.add(res_model)\n",
        "model.add(K.layers.Flatten())\n",
        "model.add(K.layers.Dense(2, activation='softmax'))\n",
        "\n",
        "\n",
        "model.compile(\n",
        "    optimizer=K.optimizers.Adam(0.001),\n",
        "    loss=K.losses.SparseCategoricalCrossentropy(),\n",
        "    metrics=['accuracy']\n",
        ")\n",
        "\n",
        "history = model.fit(X_train, y_train,\n",
        "            batch_size=BATCH_SIZE,\n",
        "            epochs=EPOCHS, \n",
        "            validation_data=(X_test, y_test)\n",
        ")"
      ],
      "execution_count": 9,
      "outputs": [
        {
          "output_type": "stream",
          "text": [
            "43/43 [==============================] - 13s 91ms/step - loss: 0.2650 - accuracy: 0.9210 - val_loss: 0.0452 - val_accuracy: 0.9852\n"
          ],
          "name": "stdout"
        }
      ]
    },
    {
      "cell_type": "markdown",
      "metadata": {
        "id": "RGQ6ddyWnCZN"
      },
      "source": [
        "### Validation"
      ]
    },
    {
      "cell_type": "code",
      "metadata": {
        "id": "vFTMk5xktFio"
      },
      "source": [
        "del data"
      ],
      "execution_count": 10,
      "outputs": []
    },
    {
      "cell_type": "code",
      "metadata": {
        "id": "UlYFlnoVnBxh"
      },
      "source": [
        "BND_BOX_SIZE = (80, 80)\n",
        "STEP_SIZE = 20\n",
        "\n",
        "dataset_loader = AerialCarsDatasetLoader(\n",
        "    image_loader=AerialCarsFixedSizeImageLoader(\n",
        "        bnd_box_size=BND_BOX_SIZE\n",
        "    )\n",
        ")\n",
        "\n",
        "process_pipeline=RawImageToImage(\n",
        "    processors=[\n",
        "        NormImage()\n",
        "    ]\n",
        ")\n",
        "\n",
        "sliding_window = SlidingWindow(\n",
        "    step_size=STEP_SIZE,\n",
        "    window_size=BND_BOX_SIZE\n",
        ")"
      ],
      "execution_count": 11,
      "outputs": []
    },
    {
      "cell_type": "markdown",
      "metadata": {
        "id": "Wsdid-j-3fdf"
      },
      "source": [
        "treshold = 0.7; nms_overlap=0.4\n"
      ]
    },
    {
      "cell_type": "code",
      "metadata": {
        "id": "GjD512EZ3opZ",
        "colab": {
          "base_uri": "https://localhost:8080/"
        },
        "outputId": "4a9d973d-e29b-405f-c284-30a907f1a008"
      },
      "source": [
        "slider_detector = SliderProbDetector(\n",
        "    sliding_window=sliding_window,\n",
        "    process_pipeline=process_pipeline,\n",
        "    classifier=ResnetModelWrapper(model),\n",
        "    treshold=0.7,\n",
        "    nms_overlap=0.4\n",
        ")\n",
        "\n",
        "true_positives, false_positives, false_negatives, processed_images = validate_model(\n",
        "    dataset_loader=dataset_loader,\n",
        "    input_folder_filepath=DRIVE_PATH+'data/raw/aerial-cars-dataset/val',\n",
        "    output_folder_filepath=DRIVE_PATH+'processed_images/resnet50/aerial-cars-dataset/norm/t7nms4_1e',\n",
        "    images_files_types=('jpg', 'JPG', 'png'),\n",
        "    annotations_files_types=('txt',),\n",
        "    detector=slider_detector,\n",
        "    workers=0\n",
        ")\n",
        "\n",
        "\n",
        "print()\n",
        "print('Precision:',  round(precision(true_positives, false_positives), 3))\n",
        "print('Recall:',  round(recall(true_positives, false_negatives), 3))\n",
        "print('F1Score:', round(f1_score(true_positives, false_positives, false_negatives), 3))"
      ],
      "execution_count": 13,
      "outputs": [
        {
          "output_type": "stream",
          "text": [
            " 11%|█         | 1/9 [00:06<00:51,  6.47s/it]"
          ],
          "name": "stderr"
        },
        {
          "output_type": "stream",
          "text": [
            "201\n"
          ],
          "name": "stdout"
        },
        {
          "output_type": "stream",
          "text": [
            "\r 22%|██▏       | 2/9 [00:11<00:41,  5.96s/it]"
          ],
          "name": "stderr"
        },
        {
          "output_type": "stream",
          "text": [
            "219\n"
          ],
          "name": "stdout"
        },
        {
          "output_type": "stream",
          "text": [
            "\r 33%|███▎      | 3/9 [00:15<00:33,  5.56s/it]"
          ],
          "name": "stderr"
        },
        {
          "output_type": "stream",
          "text": [
            "57\n"
          ],
          "name": "stdout"
        },
        {
          "output_type": "stream",
          "text": [
            "\r 44%|████▍     | 4/9 [00:20<00:26,  5.27s/it]"
          ],
          "name": "stderr"
        },
        {
          "output_type": "stream",
          "text": [
            "58\n"
          ],
          "name": "stdout"
        },
        {
          "output_type": "stream",
          "text": [
            "\r 56%|█████▌    | 5/9 [00:25<00:20,  5.07s/it]"
          ],
          "name": "stderr"
        },
        {
          "output_type": "stream",
          "text": [
            "238\n"
          ],
          "name": "stdout"
        },
        {
          "output_type": "stream",
          "text": [
            "\r 67%|██████▋   | 6/9 [00:51<00:34, 11.44s/it]"
          ],
          "name": "stderr"
        },
        {
          "output_type": "stream",
          "text": [
            "112\n"
          ],
          "name": "stdout"
        },
        {
          "output_type": "stream",
          "text": [
            "\r 78%|███████▊  | 7/9 [00:56<00:18,  9.46s/it]"
          ],
          "name": "stderr"
        },
        {
          "output_type": "stream",
          "text": [
            "225\n",
            "204\n"
          ],
          "name": "stdout"
        },
        {
          "output_type": "stream",
          "text": [
            "100%|██████████| 9/9 [01:06<00:00,  7.34s/it]"
          ],
          "name": "stderr"
        },
        {
          "output_type": "stream",
          "text": [
            "143\n"
          ],
          "name": "stdout"
        },
        {
          "output_type": "stream",
          "text": [
            "\n"
          ],
          "name": "stderr"
        },
        {
          "output_type": "stream",
          "text": [
            "\n",
            "Precision: 0.259\n",
            "Recall: 0.867\n",
            "F1Score: 0.398\n"
          ],
          "name": "stdout"
        }
      ]
    },
    {
      "cell_type": "markdown",
      "metadata": {
        "id": "a6wMUHiB3fp5"
      },
      "source": [
        "treshold = 0.8; nms_overlap=0.4"
      ]
    },
    {
      "cell_type": "code",
      "metadata": {
        "id": "LfrhnqcS6vFv"
      },
      "source": [
        "del processed_images"
      ],
      "execution_count": 14,
      "outputs": []
    },
    {
      "cell_type": "code",
      "metadata": {
        "id": "ArxLygrc3pgk",
        "colab": {
          "base_uri": "https://localhost:8080/"
        },
        "outputId": "c8b066e9-e5d7-42b0-9df3-64f31a714e7a"
      },
      "source": [
        "slider_detector = SliderProbDetector(\n",
        "    sliding_window=sliding_window,\n",
        "    process_pipeline=process_pipeline,\n",
        "    classifier=ResnetModelWrapper(model),\n",
        "    treshold=0.8,\n",
        "    nms_overlap=0.4\n",
        ")\n",
        "\n",
        "true_positives, false_positives, false_negatives, processed_images = validate_model(\n",
        "    dataset_loader=dataset_loader,\n",
        "    input_folder_filepath=DRIVE_PATH+'data/raw/aerial-cars-dataset/val',\n",
        "    output_folder_filepath=DRIVE_PATH+'processed_images/resnet50/aerial-cars-dataset/norm/t8nms4_1e',\n",
        "    images_files_types=('jpg', 'JPG', 'png'),\n",
        "    annotations_files_types=('txt',),\n",
        "    detector=slider_detector,\n",
        "    workers=0\n",
        ")\n",
        "\n",
        "\n",
        "print()\n",
        "print('Precision:',  round(precision(true_positives, false_positives), 3))\n",
        "print('Recall:',  round(recall(true_positives, false_negatives), 3))\n",
        "print('F1Score:', round(f1_score(true_positives, false_positives, false_negatives), 3))"
      ],
      "execution_count": 15,
      "outputs": [
        {
          "output_type": "stream",
          "text": [
            " 11%|█         | 1/9 [00:04<00:38,  4.87s/it]"
          ],
          "name": "stderr"
        },
        {
          "output_type": "stream",
          "text": [
            "193\n"
          ],
          "name": "stdout"
        },
        {
          "output_type": "stream",
          "text": [
            "\r 22%|██▏       | 2/9 [00:09<00:34,  4.88s/it]"
          ],
          "name": "stderr"
        },
        {
          "output_type": "stream",
          "text": [
            "208\n"
          ],
          "name": "stdout"
        },
        {
          "output_type": "stream",
          "text": [
            "\r 33%|███▎      | 3/9 [00:14<00:29,  4.87s/it]"
          ],
          "name": "stderr"
        },
        {
          "output_type": "stream",
          "text": [
            "54\n"
          ],
          "name": "stdout"
        },
        {
          "output_type": "stream",
          "text": [
            "\r 44%|████▍     | 4/9 [00:19<00:24,  4.86s/it]"
          ],
          "name": "stderr"
        },
        {
          "output_type": "stream",
          "text": [
            "52\n"
          ],
          "name": "stdout"
        },
        {
          "output_type": "stream",
          "text": [
            "\r 56%|█████▌    | 5/9 [00:24<00:19,  4.85s/it]"
          ],
          "name": "stderr"
        },
        {
          "output_type": "stream",
          "text": [
            "229\n"
          ],
          "name": "stdout"
        },
        {
          "output_type": "stream",
          "text": [
            "\r 67%|██████▋   | 6/9 [00:50<00:33, 11.12s/it]"
          ],
          "name": "stderr"
        },
        {
          "output_type": "stream",
          "text": [
            "103\n"
          ],
          "name": "stdout"
        },
        {
          "output_type": "stream",
          "text": [
            "\r 78%|███████▊  | 7/9 [00:54<00:18,  9.27s/it]"
          ],
          "name": "stderr"
        },
        {
          "output_type": "stream",
          "text": [
            "222\n"
          ],
          "name": "stdout"
        },
        {
          "output_type": "stream",
          "text": [
            "\r 89%|████████▉ | 8/9 [00:59<00:07,  7.97s/it]"
          ],
          "name": "stderr"
        },
        {
          "output_type": "stream",
          "text": [
            "198\n"
          ],
          "name": "stdout"
        },
        {
          "output_type": "stream",
          "text": [
            "100%|██████████| 9/9 [01:04<00:00,  7.20s/it]"
          ],
          "name": "stderr"
        },
        {
          "output_type": "stream",
          "text": [
            "135\n"
          ],
          "name": "stdout"
        },
        {
          "output_type": "stream",
          "text": [
            "\n"
          ],
          "name": "stderr"
        },
        {
          "output_type": "stream",
          "text": [
            "\n",
            "Precision: 0.287\n",
            "Recall: 0.894\n",
            "F1Score: 0.434\n"
          ],
          "name": "stdout"
        }
      ]
    },
    {
      "cell_type": "markdown",
      "metadata": {
        "id": "FC9bJlql3f0b"
      },
      "source": [
        "treshold = 0.9; nms_overlap=0.4"
      ]
    },
    {
      "cell_type": "code",
      "metadata": {
        "id": "h_pUYkpU6z45"
      },
      "source": [
        "del processed_images"
      ],
      "execution_count": 16,
      "outputs": []
    },
    {
      "cell_type": "code",
      "metadata": {
        "id": "zdKmYegG3qg9",
        "colab": {
          "base_uri": "https://localhost:8080/"
        },
        "outputId": "5496388b-9b08-4b1a-ef67-648da14c0c84"
      },
      "source": [
        "slider_detector = SliderProbDetector(\n",
        "    sliding_window=sliding_window,\n",
        "    process_pipeline=process_pipeline,\n",
        "    classifier=ResnetModelWrapper(model),\n",
        "    treshold=0.9,\n",
        "    nms_overlap=0.4\n",
        ")\n",
        "\n",
        "true_positives, false_positives, false_negatives, processed_images = validate_model(\n",
        "    dataset_loader=dataset_loader,\n",
        "    input_folder_filepath=DRIVE_PATH+'data/raw/aerial-cars-dataset/val',\n",
        "    output_folder_filepath=DRIVE_PATH+'processed_images/resnet50/aerial-cars-dataset/norm/t9nms4_1e',\n",
        "    images_files_types=('jpg', 'JPG', 'png'),\n",
        "    annotations_files_types=('txt',),\n",
        "    detector=slider_detector,\n",
        "    workers=0\n",
        ")\n",
        "\n",
        "\n",
        "print()\n",
        "print('Precision:',  round(precision(true_positives, false_positives), 3))\n",
        "print('Recall:',  round(recall(true_positives, false_negatives), 3))\n",
        "print('F1Score:', round(f1_score(true_positives, false_positives, false_negatives), 3))"
      ],
      "execution_count": 12,
      "outputs": [
        {
          "output_type": "stream",
          "text": [
            " 11%|█         | 1/9 [00:06<00:50,  6.35s/it]"
          ],
          "name": "stderr"
        },
        {
          "output_type": "stream",
          "text": [
            "203\n"
          ],
          "name": "stdout"
        },
        {
          "output_type": "stream",
          "text": [
            "\r 22%|██▏       | 2/9 [00:10<00:40,  5.84s/it]"
          ],
          "name": "stderr"
        },
        {
          "output_type": "stream",
          "text": [
            "238\n"
          ],
          "name": "stdout"
        },
        {
          "output_type": "stream",
          "text": [
            "\r 33%|███▎      | 3/9 [00:15<00:32,  5.48s/it]"
          ],
          "name": "stderr"
        },
        {
          "output_type": "stream",
          "text": [
            "50\n"
          ],
          "name": "stdout"
        },
        {
          "output_type": "stream",
          "text": [
            "\r 44%|████▍     | 4/9 [00:20<00:26,  5.24s/it]"
          ],
          "name": "stderr"
        },
        {
          "output_type": "stream",
          "text": [
            "52\n"
          ],
          "name": "stdout"
        },
        {
          "output_type": "stream",
          "text": [
            "\r 56%|█████▌    | 5/9 [00:24<00:20,  5.07s/it]"
          ],
          "name": "stderr"
        },
        {
          "output_type": "stream",
          "text": [
            "263\n",
            "127\n"
          ],
          "name": "stdout"
        },
        {
          "output_type": "stream",
          "text": [
            " 78%|███████▊  | 7/9 [00:56<00:19,  9.54s/it]"
          ],
          "name": "stderr"
        },
        {
          "output_type": "stream",
          "text": [
            "228\n"
          ],
          "name": "stdout"
        },
        {
          "output_type": "stream",
          "text": [
            "\r 89%|████████▉ | 8/9 [01:01<00:08,  8.15s/it]"
          ],
          "name": "stderr"
        },
        {
          "output_type": "stream",
          "text": [
            "207\n"
          ],
          "name": "stdout"
        },
        {
          "output_type": "stream",
          "text": [
            "100%|██████████| 9/9 [01:06<00:00,  7.37s/it]"
          ],
          "name": "stderr"
        },
        {
          "output_type": "stream",
          "text": [
            "157\n"
          ],
          "name": "stdout"
        },
        {
          "output_type": "stream",
          "text": [
            "\n"
          ],
          "name": "stderr"
        },
        {
          "output_type": "stream",
          "text": [
            "\n",
            "Precision: 0.257\n",
            "Recall: 0.903\n",
            "F1Score: 0.4\n"
          ],
          "name": "stdout"
        }
      ]
    },
    {
      "cell_type": "markdown",
      "metadata": {
        "id": "758H67DX6eG2"
      },
      "source": [
        "treshold = 0.95; nms_overlap=0.4"
      ]
    },
    {
      "cell_type": "code",
      "metadata": {
        "id": "8JAKeq4V7tOW"
      },
      "source": [
        "del processed_images"
      ],
      "execution_count": null,
      "outputs": []
    },
    {
      "cell_type": "code",
      "metadata": {
        "id": "fihJeA315o1I",
        "colab": {
          "base_uri": "https://localhost:8080/"
        },
        "outputId": "f8e64d74-a7bf-467a-ef2e-8ca6a4e553e4"
      },
      "source": [
        "slider_detector = SliderProbDetector(\n",
        "    sliding_window=sliding_window,\n",
        "    process_pipeline=process_pipeline,\n",
        "    classifier=ResnetModelWrapper(model),\n",
        "    treshold=0.95,\n",
        "    nms_overlap=0.4\n",
        ")\n",
        "\n",
        "true_positives, false_positives, false_negatives, processed_images = validate_model(\n",
        "    dataset_loader=dataset_loader,\n",
        "    input_folder_filepath=DRIVE_PATH+'data/raw/aerial-cars-dataset/val',\n",
        "    output_folder_filepath=DRIVE_PATH+'processed_images/resnet50/aerial-cars-dataset/norm/t95nms4_1e',\n",
        "    images_files_types=('jpg', 'JPG', 'png'),\n",
        "    annotations_files_types=('txt',),\n",
        "    detector=slider_detector,\n",
        "    workers=0\n",
        ")\n",
        "\n",
        "\n",
        "print()\n",
        "print('Precision:',  round(precision(true_positives, false_positives), 3))\n",
        "print('Recall:',  round(recall(true_positives, false_negatives), 3))\n",
        "print('F1Score:', round(f1_score(true_positives, false_positives, false_negatives), 3))"
      ],
      "execution_count": 13,
      "outputs": [
        {
          "output_type": "stream",
          "text": [
            " 11%|█         | 1/9 [00:04<00:39,  4.93s/it]"
          ],
          "name": "stderr"
        },
        {
          "output_type": "stream",
          "text": [
            "188\n"
          ],
          "name": "stdout"
        },
        {
          "output_type": "stream",
          "text": [
            "\r 22%|██▏       | 2/9 [00:09<00:34,  4.91s/it]"
          ],
          "name": "stderr"
        },
        {
          "output_type": "stream",
          "text": [
            "226\n"
          ],
          "name": "stdout"
        },
        {
          "output_type": "stream",
          "text": [
            "\r 33%|███▎      | 3/9 [00:14<00:29,  4.90s/it]"
          ],
          "name": "stderr"
        },
        {
          "output_type": "stream",
          "text": [
            "48\n"
          ],
          "name": "stdout"
        },
        {
          "output_type": "stream",
          "text": [
            "\r 44%|████▍     | 4/9 [00:19<00:24,  4.87s/it]"
          ],
          "name": "stderr"
        },
        {
          "output_type": "stream",
          "text": [
            "47\n"
          ],
          "name": "stdout"
        },
        {
          "output_type": "stream",
          "text": [
            "\r 56%|█████▌    | 5/9 [00:24<00:19,  4.86s/it]"
          ],
          "name": "stderr"
        },
        {
          "output_type": "stream",
          "text": [
            "248\n"
          ],
          "name": "stdout"
        },
        {
          "output_type": "stream",
          "text": [
            "\r 67%|██████▋   | 6/9 [00:49<00:32, 10.87s/it]"
          ],
          "name": "stderr"
        },
        {
          "output_type": "stream",
          "text": [
            "110\n"
          ],
          "name": "stdout"
        },
        {
          "output_type": "stream",
          "text": [
            "\r 78%|███████▊  | 7/9 [00:54<00:18,  9.11s/it]"
          ],
          "name": "stderr"
        },
        {
          "output_type": "stream",
          "text": [
            "219\n"
          ],
          "name": "stdout"
        },
        {
          "output_type": "stream",
          "text": [
            "\r 89%|████████▉ | 8/9 [00:59<00:07,  7.83s/it]"
          ],
          "name": "stderr"
        },
        {
          "output_type": "stream",
          "text": [
            "193\n"
          ],
          "name": "stdout"
        },
        {
          "output_type": "stream",
          "text": [
            "100%|██████████| 9/9 [01:03<00:00,  7.10s/it]"
          ],
          "name": "stderr"
        },
        {
          "output_type": "stream",
          "text": [
            "151\n"
          ],
          "name": "stdout"
        },
        {
          "output_type": "stream",
          "text": [
            "\n"
          ],
          "name": "stderr"
        },
        {
          "output_type": "stream",
          "text": [
            "\n",
            "Precision: 0.259\n",
            "Recall: 0.85\n",
            "F1Score: 0.397\n"
          ],
          "name": "stdout"
        }
      ]
    },
    {
      "cell_type": "markdown",
      "metadata": {
        "id": "SRVe3kCCA8ae"
      },
      "source": [
        "treshold = 0.9; nms_overlap=0.3"
      ]
    },
    {
      "cell_type": "code",
      "metadata": {
        "id": "NXKo-eLO6iv_",
        "colab": {
          "base_uri": "https://localhost:8080/"
        },
        "outputId": "d9f2e665-0ec3-4454-f4ce-2c4017421950"
      },
      "source": [
        "processed_images = None\n",
        "\n",
        "slider_detector = SliderProbDetector(\n",
        "    sliding_window=sliding_window,\n",
        "    process_pipeline=process_pipeline,\n",
        "    classifier=ResnetModelWrapper(model),\n",
        "    treshold=0.9,\n",
        "    nms_overlap=0.3\n",
        ")\n",
        "\n",
        "true_positives, false_positives, false_negatives, processed_images = validate_model(\n",
        "    dataset_loader=dataset_loader,\n",
        "    input_folder_filepath=DRIVE_PATH+'data/raw/aerial-cars-dataset/val',\n",
        "    output_folder_filepath=DRIVE_PATH+'processed_images/resnet50/aerial-cars-dataset/norm/t9nms3',\n",
        "    images_files_types=('jpg', 'JPG', 'png'),\n",
        "    annotations_files_types=('txt',),\n",
        "    detector=slider_detector,\n",
        "    workers=0\n",
        ")\n",
        "\n",
        "\n",
        "print()\n",
        "print('Precision:',  round(precision(true_positives, false_positives), 3))\n",
        "print('Recall:',  round(recall(true_positives, false_negatives), 3))\n",
        "print('F1Score:', round(f1_score(true_positives, false_positives, false_negatives), 3))"
      ],
      "execution_count": null,
      "outputs": [
        {
          "output_type": "stream",
          "text": [
            " 11%|█         | 1/9 [00:06<00:52,  6.55s/it]"
          ],
          "name": "stderr"
        },
        {
          "output_type": "stream",
          "text": [
            "183\n"
          ],
          "name": "stdout"
        },
        {
          "output_type": "stream",
          "text": [
            "\r 22%|██▏       | 2/9 [00:11<00:41,  5.98s/it]"
          ],
          "name": "stderr"
        },
        {
          "output_type": "stream",
          "text": [
            "217\n"
          ],
          "name": "stdout"
        },
        {
          "output_type": "stream",
          "text": [
            "\r 33%|███▎      | 3/9 [00:15<00:33,  5.60s/it]"
          ],
          "name": "stderr"
        },
        {
          "output_type": "stream",
          "text": [
            "54\n"
          ],
          "name": "stdout"
        },
        {
          "output_type": "stream",
          "text": [
            "\r 44%|████▍     | 4/9 [00:20<00:26,  5.32s/it]"
          ],
          "name": "stderr"
        },
        {
          "output_type": "stream",
          "text": [
            "46\n"
          ],
          "name": "stdout"
        },
        {
          "output_type": "stream",
          "text": [
            "\r 56%|█████▌    | 5/9 [00:25<00:20,  5.13s/it]"
          ],
          "name": "stderr"
        },
        {
          "output_type": "stream",
          "text": [
            "238\n",
            "129\n"
          ],
          "name": "stdout"
        },
        {
          "output_type": "stream",
          "text": [
            " 78%|███████▊  | 7/9 [00:56<00:19,  9.51s/it]"
          ],
          "name": "stderr"
        },
        {
          "output_type": "stream",
          "text": [
            "224\n"
          ],
          "name": "stdout"
        },
        {
          "output_type": "stream",
          "text": [
            "\r 89%|████████▉ | 8/9 [01:01<00:08,  8.10s/it]"
          ],
          "name": "stderr"
        },
        {
          "output_type": "stream",
          "text": [
            "188\n"
          ],
          "name": "stdout"
        },
        {
          "output_type": "stream",
          "text": [
            "100%|██████████| 9/9 [01:06<00:00,  7.35s/it]"
          ],
          "name": "stderr"
        },
        {
          "output_type": "stream",
          "text": [
            "148\n"
          ],
          "name": "stdout"
        },
        {
          "output_type": "stream",
          "text": [
            "\n"
          ],
          "name": "stderr"
        },
        {
          "output_type": "stream",
          "text": [
            "\n",
            "Precision: 0.287\n",
            "Recall: 0.69\n",
            "F1Score: 0.405\n"
          ],
          "name": "stdout"
        }
      ]
    },
    {
      "cell_type": "markdown",
      "metadata": {
        "id": "iiHd-kEICVz_"
      },
      "source": [
        "treshold = 0.9; nms_overlap=0.5"
      ]
    },
    {
      "cell_type": "code",
      "metadata": {
        "id": "s-BOkY7zB8qe",
        "colab": {
          "base_uri": "https://localhost:8080/"
        },
        "outputId": "1a1eb1ae-a1a4-4311-abb4-71141f38f055"
      },
      "source": [
        "processed_images = None\n",
        "\n",
        "slider_detector = SliderProbDetector(\n",
        "    sliding_window=sliding_window,\n",
        "    process_pipeline=process_pipeline,\n",
        "    classifier=ResnetModelWrapper(model),\n",
        "    treshold=0.9,\n",
        "    nms_overlap=0.5\n",
        ")\n",
        "\n",
        "true_positives, false_positives, false_negatives, processed_images = validate_model(\n",
        "    dataset_loader=dataset_loader,\n",
        "    input_folder_filepath=DRIVE_PATH+'data/raw/aerial-cars-dataset/val',\n",
        "    output_folder_filepath=DRIVE_PATH+'processed_images/resnet50/aerial-cars-dataset/norm/t9nms5',\n",
        "    images_files_types=('jpg', 'JPG', 'png'),\n",
        "    annotations_files_types=('txt',),\n",
        "    detector=slider_detector,\n",
        "    workers=0\n",
        ")\n",
        "\n",
        "\n",
        "print()\n",
        "print('Precision:',  round(precision(true_positives, false_positives), 3))\n",
        "print('Recall:',  round(recall(true_positives, false_negatives), 3))\n",
        "print('F1Score:', round(f1_score(true_positives, false_positives, false_negatives), 3))"
      ],
      "execution_count": null,
      "outputs": [
        {
          "output_type": "stream",
          "text": [
            " 11%|█         | 1/9 [00:06<00:49,  6.19s/it]"
          ],
          "name": "stderr"
        },
        {
          "output_type": "stream",
          "text": [
            "188\n"
          ],
          "name": "stdout"
        },
        {
          "output_type": "stream",
          "text": [
            "\r 22%|██▏       | 2/9 [00:10<00:39,  5.71s/it]"
          ],
          "name": "stderr"
        },
        {
          "output_type": "stream",
          "text": [
            "253\n"
          ],
          "name": "stdout"
        },
        {
          "output_type": "stream",
          "text": [
            "\r 33%|███▎      | 3/9 [00:15<00:32,  5.38s/it]"
          ],
          "name": "stderr"
        },
        {
          "output_type": "stream",
          "text": [
            "50\n"
          ],
          "name": "stdout"
        },
        {
          "output_type": "stream",
          "text": [
            "\r 44%|████▍     | 4/9 [00:19<00:25,  5.14s/it]"
          ],
          "name": "stderr"
        },
        {
          "output_type": "stream",
          "text": [
            "45\n"
          ],
          "name": "stdout"
        },
        {
          "output_type": "stream",
          "text": [
            "\r 56%|█████▌    | 5/9 [00:24<00:19,  4.98s/it]"
          ],
          "name": "stderr"
        },
        {
          "output_type": "stream",
          "text": [
            "244\n",
            "159\n"
          ],
          "name": "stdout"
        },
        {
          "output_type": "stream",
          "text": [
            " 78%|███████▊  | 7/9 [00:55<00:18,  9.44s/it]"
          ],
          "name": "stderr"
        },
        {
          "output_type": "stream",
          "text": [
            "241\n"
          ],
          "name": "stdout"
        },
        {
          "output_type": "stream",
          "text": [
            "\r 89%|████████▉ | 8/9 [01:00<00:08,  8.06s/it]"
          ],
          "name": "stderr"
        },
        {
          "output_type": "stream",
          "text": [
            "187\n"
          ],
          "name": "stdout"
        },
        {
          "output_type": "stream",
          "text": [
            "100%|██████████| 9/9 [01:05<00:00,  7.28s/it]"
          ],
          "name": "stderr"
        },
        {
          "output_type": "stream",
          "text": [
            "159\n"
          ],
          "name": "stdout"
        },
        {
          "output_type": "stream",
          "text": [
            "\n"
          ],
          "name": "stderr"
        },
        {
          "output_type": "stream",
          "text": [
            "\n",
            "Precision: 0.257\n",
            "Recall: 0.867\n",
            "F1Score: 0.396\n"
          ],
          "name": "stdout"
        }
      ]
    },
    {
      "cell_type": "code",
      "metadata": {
        "id": "-WG_HlgTCeIS"
      },
      "source": [
        ""
      ],
      "execution_count": null,
      "outputs": []
    }
  ]
}