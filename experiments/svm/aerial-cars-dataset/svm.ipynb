{
 "metadata": {
  "language_info": {
   "codemirror_mode": {
    "name": "ipython",
    "version": 3
   },
   "file_extension": ".py",
   "mimetype": "text/x-python",
   "name": "python",
   "nbconvert_exporter": "python",
   "pygments_lexer": "ipython3",
   "version": "3.8.5-final"
  },
  "orig_nbformat": 2,
  "kernelspec": {
   "name": "python38564bitvenvcvvenv6cf5d49a40c1440a9f0299998fa89af2",
   "display_name": "Python 3.8.5 64-bit ('venv_cv': venv)",
   "language": "python"
  }
 },
 "nbformat": 4,
 "nbformat_minor": 2,
 "cells": [
  {
   "cell_type": "code",
   "execution_count": 1,
   "metadata": {},
   "outputs": [],
   "source": [
    "import pickle\n",
    "import numpy as np\n",
    "from sklearn.model_selection import train_test_split\n",
    "\n",
    "from src.models.train_model import train_svm\n",
    "from src.data.dataset_loaders import AerialCarsDatasetLoader\n",
    "from src.features.pipelines import RawImageToFeatures\n",
    "from src.data.image_loaders import AerialCarsFixedSizeImageLoader\n",
    "from src.models.detectors import SliderProbDetector\n",
    "from src.data.sliders import SlidingWindow\n",
    "from src.features.descriptors import HOGDescriptor, LBPDescriptor\n",
    "from src.models.classifiers import ProbSVMModelWrapper\n",
    "from src.evaluation import validate_model, precision, recall, f1_score"
   ]
  },
  {
   "source": [
    "# Aerial-Cars-Dataset\n",
    "# SVM Experiment"
   ],
   "cell_type": "markdown",
   "metadata": {}
  },
  {
   "source": [
    "### Data loading"
   ],
   "cell_type": "markdown",
   "metadata": {}
  },
  {
   "cell_type": "code",
   "execution_count": 2,
   "metadata": {},
   "outputs": [],
   "source": [
    "DATA_PATH = '../../../data/processed/aerial-cars-dataset/svm/data_svm.pickle'"
   ]
  },
  {
   "cell_type": "code",
   "execution_count": 3,
   "metadata": {},
   "outputs": [],
   "source": [
    "with open(DATA_PATH, 'rb') as f:\n",
    "    data = pickle.load(f)"
   ]
  },
  {
   "source": [
    "### SVM trainig"
   ],
   "cell_type": "markdown",
   "metadata": {}
  },
  {
   "cell_type": "code",
   "execution_count": 4,
   "metadata": {},
   "outputs": [],
   "source": [
    "SAVE_MODEL_PATH = '../../../models/svm/aerial_svm.pickle'"
   ]
  },
  {
   "cell_type": "code",
   "execution_count": 4,
   "metadata": {},
   "outputs": [],
   "source": [
    "model, report = train_svm(data, test_size=0.2, probability=True)"
   ]
  },
  {
   "cell_type": "code",
   "execution_count": 5,
   "metadata": {},
   "outputs": [
    {
     "output_type": "stream",
     "name": "stdout",
     "text": [
      "              precision    recall  f1-score   support\n\n           0       0.99      0.98      0.99       469\n           1       0.98      0.99      0.99       475\n\n    accuracy                           0.99       944\n   macro avg       0.99      0.99      0.99       944\nweighted avg       0.99      0.99      0.99       944\n\n"
     ]
    }
   ],
   "source": [
    "print(report)"
   ]
  },
  {
   "cell_type": "code",
   "execution_count": 11,
   "metadata": {},
   "outputs": [],
   "source": [
    "with open(SAVE_MODEL_PATH, 'wb') as f:\n",
    "    pickle.dump(model, f)"
   ]
  },
  {
   "source": [
    "### Validation"
   ],
   "cell_type": "markdown",
   "metadata": {}
  },
  {
   "cell_type": "code",
   "execution_count": 5,
   "metadata": {},
   "outputs": [],
   "source": [
    "with open(SAVE_MODEL_PATH, 'rb') as f:\n",
    "    model = pickle.load(f)"
   ]
  },
  {
   "cell_type": "code",
   "execution_count": 6,
   "metadata": {},
   "outputs": [],
   "source": [
    "BND_BOX_SIZE = (80, 80)\n",
    "\n",
    "dataset_loader = AerialCarsDatasetLoader(\n",
    "    image_loader=AerialCarsFixedSizeImageLoader(\n",
    "        bnd_box_size=BND_BOX_SIZE\n",
    "    )\n",
    ")\n",
    "\n",
    "process_pipeline = RawImageToFeatures(\n",
    "    processors=[],\n",
    "    descriptors=[\n",
    "        HOGDescriptor(\n",
    "            orientations = 9,\n",
    "            cells_per_block = (2, 2),\n",
    "            pixels_per_cell = (4, 4),\n",
    "            multichannel = True,\n",
    "            visualize = True\n",
    "        ),\n",
    "        LBPDescriptor(\n",
    "            bins = 256,\n",
    "            range = (0, 256)\n",
    "        )\n",
    "    ]\n",
    ")\n",
    "\n",
    "sliding_window = SlidingWindow(\n",
    "    step_size=20,\n",
    "    window_size=BND_BOX_SIZE\n",
    ")"
   ]
  },
  {
   "source": [
    "#### treshold = 0.7; nms_overlap=0.4"
   ],
   "cell_type": "markdown",
   "metadata": {}
  },
  {
   "cell_type": "code",
   "execution_count": 8,
   "metadata": {},
   "outputs": [
    {
     "output_type": "stream",
     "name": "stderr",
     "text": [
      " 11%|█         | 1/9 [02:46<22:12, 166.61s/it]39\n",
      " 22%|██▏       | 2/9 [05:42<19:46, 169.49s/it]48\n",
      " 33%|███▎      | 3/9 [08:48<17:26, 174.45s/it]77\n",
      " 44%|████▍     | 4/9 [11:48<14:40, 176.13s/it]75\n",
      " 56%|█████▌    | 5/9 [14:55<11:56, 179.13s/it]92\n",
      " 67%|██████▋   | 6/9 [17:53<08:56, 178.79s/it]82\n",
      " 78%|███████▊  | 7/9 [20:54<05:59, 179.72s/it]74\n",
      " 89%|████████▉ | 8/9 [23:58<03:00, 180.77s/it]82\n",
      "100%|██████████| 9/9 [36:41<00:00, 244.64s/it]84\n",
      "\n",
      "\n",
      "Precision: 0.289\n",
      "Recall: 0.805\n",
      "F1Score: 0.425\n"
     ]
    }
   ],
   "source": [
    "processed_images = None\n",
    "\n",
    "slider_detector = SliderProbDetector(\n",
    "    sliding_window=sliding_window,\n",
    "    process_pipeline=process_pipeline,\n",
    "    classifier=ProbSVMModelWrapper(model),\n",
    "    treshold=0.7,\n",
    "    nms_overlap=0.4\n",
    ")\n",
    "\n",
    "true_positives, false_positives, false_negatives, processed_images = validate_model(\n",
    "    dataset_loader=dataset_loader,\n",
    "    input_folder_filepath='../../../data/raw/aerial-cars-dataset/val',\n",
    "    output_folder_filepath='../../processed_images/svm/aerial-cars-dataset/t7nms4',\n",
    "    images_files_types=('jpg', 'JPG', 'png'),\n",
    "    annotations_files_types=('txt',),\n",
    "    detector=slider_detector,\n",
    "    workers=7\n",
    ")\n",
    "\n",
    "print()\n",
    "print('Precision:',  round(precision(true_positives, false_positives), 3))\n",
    "print('Recall:',  round(recall(true_positives, false_negatives), 3))\n",
    "print('F1Score:', round(f1_score(true_positives, false_positives, false_negatives), 3))"
   ]
  },
  {
   "source": [
    "#### treshold = 0.8; nms_overlap=0.4"
   ],
   "cell_type": "markdown",
   "metadata": {}
  },
  {
   "cell_type": "code",
   "execution_count": 9,
   "metadata": {},
   "outputs": [
    {
     "output_type": "stream",
     "name": "stderr",
     "text": [
      " 11%|█         | 1/9 [02:56<23:30, 176.26s/it]26\n",
      " 22%|██▏       | 2/9 [05:52<20:34, 176.31s/it]43\n",
      " 33%|███▎      | 3/9 [08:55<17:49, 178.19s/it]65\n",
      " 44%|████▍     | 4/9 [11:58<14:59, 179.81s/it]64\n",
      " 56%|█████▌    | 5/9 [15:05<12:06, 181.75s/it]78\n",
      " 67%|██████▋   | 6/9 [18:03<09:01, 180.64s/it]60\n",
      " 78%|███████▊  | 7/9 [21:01<06:00, 180.00s/it]57\n",
      " 89%|████████▉ | 8/9 [24:00<02:59, 179.55s/it]66\n",
      "100%|██████████| 9/9 [36:50<00:00, 245.59s/it]59\n",
      "\n",
      "\n",
      "Precision: 0.329\n",
      "Recall: 0.752\n",
      "F1Score: 0.458\n"
     ]
    }
   ],
   "source": [
    "processed_images = None\n",
    "\n",
    "slider_detector = SliderProbDetector(\n",
    "    sliding_window=sliding_window,\n",
    "    process_pipeline=process_pipeline,\n",
    "    classifier=ProbSVMModelWrapper(model),\n",
    "    treshold=0.8,\n",
    "    nms_overlap=0.4\n",
    ")\n",
    "\n",
    "true_positives, false_positives, false_negatives, processed_images = validate_model(\n",
    "    dataset_loader=dataset_loader,\n",
    "    input_folder_filepath='../../../data/raw/aerial-cars-dataset/val',\n",
    "    output_folder_filepath='../../processed_images/svm/aerial-cars-dataset/t8nms4',\n",
    "    images_files_types=('jpg', 'JPG', 'png'),\n",
    "    annotations_files_types=('txt',),\n",
    "    detector=slider_detector,\n",
    "    workers=7\n",
    ")\n",
    "\n",
    "print()\n",
    "print('Precision:',  round(precision(true_positives, false_positives), 3))\n",
    "print('Recall:',  round(recall(true_positives, false_negatives), 3))\n",
    "print('F1Score:', round(f1_score(true_positives, false_positives, false_negatives), 3))"
   ]
  },
  {
   "source": [
    "#### treshold = 0.9; nms_overlap=0.4"
   ],
   "cell_type": "markdown",
   "metadata": {}
  },
  {
   "cell_type": "code",
   "execution_count": 10,
   "metadata": {},
   "outputs": [
    {
     "output_type": "stream",
     "name": "stderr",
     "text": [
      " 11%|█         | 1/9 [02:52<22:59, 172.39s/it]20\n",
      " 22%|██▏       | 2/9 [05:50<20:19, 174.19s/it]30\n",
      " 33%|███▎      | 3/9 [08:48<17:31, 175.19s/it]48\n",
      " 44%|████▍     | 4/9 [11:41<14:32, 174.55s/it]52\n",
      " 56%|█████▌    | 5/9 [14:27<11:27, 172.00s/it]64\n",
      " 67%|██████▋   | 6/9 [17:04<08:23, 167.67s/it]41\n",
      " 78%|███████▊  | 7/9 [19:47<05:32, 166.07s/it]34\n",
      " 89%|████████▉ | 8/9 [22:30<02:45, 165.24s/it]44\n",
      "100%|██████████| 9/9 [34:27<00:00, 229.68s/it]35\n",
      "\n",
      "\n",
      "Precision: 0.389\n",
      "Recall: 0.664\n",
      "F1Score: 0.49\n"
     ]
    }
   ],
   "source": [
    "processed_images = None\n",
    "\n",
    "slider_detector = SliderProbDetector(\n",
    "    sliding_window=sliding_window,\n",
    "    process_pipeline=process_pipeline,\n",
    "    classifier=ProbSVMModelWrapper(model),\n",
    "    treshold=0.9,\n",
    "    nms_overlap=0.4\n",
    ")\n",
    "\n",
    "true_positives, false_positives, false_negatives, processed_images = validate_model(\n",
    "    dataset_loader=dataset_loader,\n",
    "    input_folder_filepath='../../../data/raw/aerial-cars-dataset/val',\n",
    "    output_folder_filepath='../../processed_images/svm/aerial-cars-dataset/t9nms4',\n",
    "    images_files_types=('jpg', 'JPG', 'png'),\n",
    "    annotations_files_types=('txt',),\n",
    "    detector=slider_detector,\n",
    "    workers=7\n",
    ")\n",
    "\n",
    "print()\n",
    "print('Precision:',  round(precision(true_positives, false_positives), 3))\n",
    "print('Recall:',  round(recall(true_positives, false_negatives), 3))\n",
    "print('F1Score:', round(f1_score(true_positives, false_positives, false_negatives), 3))"
   ]
  },
  {
   "source": [
    "#### treshold = 0.9; nms_overlap=0.3"
   ],
   "cell_type": "markdown",
   "metadata": {}
  },
  {
   "cell_type": "code",
   "execution_count": 11,
   "metadata": {},
   "outputs": [
    {
     "output_type": "stream",
     "name": "stderr",
     "text": [
      " 11%|█         | 1/9 [02:56<23:35, 176.93s/it]20\n",
      " 22%|██▏       | 2/9 [05:57<20:45, 177.99s/it]30\n",
      " 33%|███▎      | 3/9 [08:45<17:30, 175.09s/it]48\n",
      " 44%|████▍     | 4/9 [11:43<14:38, 175.78s/it]52\n",
      " 56%|█████▌    | 5/9 [14:35<11:39, 174.82s/it]64\n",
      " 67%|██████▋   | 6/9 [17:33<08:47, 175.71s/it]41\n",
      " 78%|███████▊  | 7/9 [20:40<05:58, 179.04s/it]34\n",
      " 89%|████████▉ | 8/9 [24:08<03:07, 187.85s/it]44\n",
      "100%|██████████| 9/9 [37:36<00:00, 250.68s/it]35\n",
      "\n",
      "\n",
      "Precision: 0.391\n",
      "Recall: 0.637\n",
      "F1Score: 0.485\n"
     ]
    }
   ],
   "source": [
    "processed_images = None\n",
    "\n",
    "slider_detector = SliderProbDetector(\n",
    "    sliding_window=sliding_window,\n",
    "    process_pipeline=process_pipeline,\n",
    "    classifier=ProbSVMModelWrapper(model),\n",
    "    treshold=0.9,\n",
    "    nms_overlap=0.3\n",
    ")\n",
    "\n",
    "true_positives, false_positives, false_negatives, processed_images = validate_model(\n",
    "    dataset_loader=dataset_loader,\n",
    "    input_folder_filepath='../../../data/raw/aerial-cars-dataset/val',\n",
    "    output_folder_filepath='../../processed_images/svm/aerial-cars-dataset/t9nms3',\n",
    "    images_files_types=('jpg', 'JPG', 'png'),\n",
    "    annotations_files_types=('txt',),\n",
    "    detector=slider_detector,\n",
    "    workers=7\n",
    ")\n",
    "\n",
    "print()\n",
    "print('Precision:',  round(precision(true_positives, false_positives), 3))\n",
    "print('Recall:',  round(recall(true_positives, false_negatives), 3))\n",
    "print('F1Score:', round(f1_score(true_positives, false_positives, false_negatives), 3))"
   ]
  },
  {
   "source": [
    "treshold = 0.9; nms_overlap=0.5"
   ],
   "cell_type": "markdown",
   "metadata": {}
  },
  {
   "cell_type": "code",
   "execution_count": null,
   "metadata": {},
   "outputs": [],
   "source": [
    "processed_images = None\n",
    "\n",
    "slider_detector = SliderProbDetector(\n",
    "    sliding_window=sliding_window,\n",
    "    process_pipeline=process_pipeline,\n",
    "    classifier=ProbSVMModelWrapper(model),\n",
    "    treshold=0.9,\n",
    "    nms_overlap=0.5\n",
    ")\n",
    "\n",
    "true_positives, false_positives, false_negatives, processed_images = validate_model(\n",
    "    dataset_loader=dataset_loader,\n",
    "    input_folder_filepath='../../../data/raw/aerial-cars-dataset/val',\n",
    "    output_folder_filepath='../../processed_images/svm/aerial-cars-dataset/t9nms5',\n",
    "    images_files_types=('jpg', 'JPG', 'png'),\n",
    "    annotations_files_types=('txt',),\n",
    "    detector=slider_detector,\n",
    "    workers=7\n",
    ")\n",
    "\n",
    "print()\n",
    "print('Precision:',  round(precision(true_positives, false_positives), 3))\n",
    "print('Recall:',  round(recall(true_positives, false_negatives), 3))\n",
    "print('F1Score:', round(f1_score(true_positives, false_positives, false_negatives), 3))"
   ]
  },
  {
   "cell_type": "code",
   "execution_count": null,
   "metadata": {},
   "outputs": [],
   "source": []
  }
 ]
}