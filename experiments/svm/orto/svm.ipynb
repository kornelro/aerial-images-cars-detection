{
 "metadata": {
  "language_info": {
   "codemirror_mode": {
    "name": "ipython",
    "version": 3
   },
   "file_extension": ".py",
   "mimetype": "text/x-python",
   "name": "python",
   "nbconvert_exporter": "python",
   "pygments_lexer": "ipython3",
   "version": "3.8.5-final"
  },
  "orig_nbformat": 2,
  "kernelspec": {
   "name": "python38564bitvenvcvvenv6cf5d49a40c1440a9f0299998fa89af2",
   "display_name": "Python 3.8.5 64-bit ('venv_cv': venv)",
   "language": "python"
  }
 },
 "nbformat": 4,
 "nbformat_minor": 2,
 "cells": [
  {
   "cell_type": "code",
   "execution_count": 1,
   "metadata": {},
   "outputs": [],
   "source": [
    "import pickle\n",
    "import numpy as np\n",
    "from sklearn.model_selection import train_test_split\n",
    "\n",
    "from src.models.train_model import train_svm\n",
    "from src.data.dataset_loaders import OrtoDatasetLoader\n",
    "from src.features.pipelines import RawImageToFeatures\n",
    "from src.data.image_loaders import OrtoFixedSizeImageLoader\n",
    "from src.models.detectors import SliderProbDetector\n",
    "from src.data.sliders import SlidingWindow\n",
    "from src.features.descriptors import HOGDescriptor, LBPDescriptor\n",
    "from src.models.classifiers import ProbSVMModelWrapper\n",
    "from src.evaluation import validate_model, precision, recall, f1_score"
   ]
  },
  {
   "source": [
    "# Orto\n",
    "# SVM Experiment"
   ],
   "cell_type": "markdown",
   "metadata": {}
  },
  {
   "source": [
    "### Validation"
   ],
   "cell_type": "markdown",
   "metadata": {}
  },
  {
   "cell_type": "code",
   "execution_count": 2,
   "metadata": {},
   "outputs": [],
   "source": [
    "MODEL_PATH = '../../../models/svm/aerial_svm.pickle'"
   ]
  },
  {
   "cell_type": "code",
   "execution_count": 3,
   "metadata": {},
   "outputs": [],
   "source": [
    "with open(MODEL_PATH, 'rb') as f:\n",
    "    model = pickle.load(f)"
   ]
  },
  {
   "cell_type": "code",
   "execution_count": 4,
   "metadata": {},
   "outputs": [],
   "source": [
    "BND_BOX_SIZE = (80, 80)\n",
    "\n",
    "dataset_loader = OrtoDatasetLoader(\n",
    "    image_loader=OrtoFixedSizeImageLoader(\n",
    "        bnd_box_size=BND_BOX_SIZE\n",
    "    )\n",
    ")\n",
    "\n",
    "process_pipeline = RawImageToFeatures(\n",
    "    processors=[],\n",
    "    descriptors=[\n",
    "        HOGDescriptor(\n",
    "            orientations = 9,\n",
    "            cells_per_block = (2, 2),\n",
    "            pixels_per_cell = (4, 4),\n",
    "            multichannel = True,\n",
    "            visualize = True\n",
    "        ),\n",
    "        LBPDescriptor(\n",
    "            bins = 256,\n",
    "            range = (0, 256)\n",
    "        )\n",
    "    ]\n",
    ")\n",
    "\n",
    "sliding_window = SlidingWindow(\n",
    "    step_size=20,\n",
    "    window_size=BND_BOX_SIZE\n",
    ")"
   ]
  },
  {
   "source": [
    "#### treshold = 0.9; nms_overlap=0.4"
   ],
   "cell_type": "markdown",
   "metadata": {}
  },
  {
   "cell_type": "code",
   "execution_count": 5,
   "metadata": {},
   "outputs": [
    {
     "output_type": "stream",
     "name": "stderr",
     "text": [
      " 20%|██        | 1/5 [07:51<31:24, 471.05s/it]8\n",
      " 40%|████      | 2/5 [15:55<23:45, 475.18s/it]3\n",
      " 60%|██████    | 3/5 [23:29<15:37, 468.59s/it]57\n",
      " 80%|████████  | 4/5 [31:00<07:43, 463.40s/it]43\n",
      "100%|██████████| 5/5 [38:39<00:00, 463.88s/it]49\n",
      "\n",
      "\n",
      "Precision: 0.474\n",
      "Recall: 0.14\n",
      "F1Score: 0.216\n"
     ]
    }
   ],
   "source": [
    "slider_detector = SliderProbDetector(\n",
    "    sliding_window=sliding_window,\n",
    "    process_pipeline=process_pipeline,\n",
    "    classifier=ProbSVMModelWrapper(model),\n",
    "    treshold=0.9,\n",
    "    nms_overlap=0.4\n",
    ")\n",
    "\n",
    "true_positives, false_positives, false_negatives, processed_images = validate_model(\n",
    "    dataset_loader=dataset_loader,\n",
    "    input_folder_filepath='../../../data/raw/orto/val',\n",
    "    output_folder_filepath='../../processed_images/svm/orto/t9nms4',\n",
    "    images_files_types=('png',),\n",
    "    annotations_files_types=('json',),\n",
    "    detector=slider_detector,\n",
    "    workers=7\n",
    ")\n",
    "\n",
    "print()\n",
    "print('Precision:',  round(precision(true_positives, false_positives), 3))\n",
    "print('Recall:',  round(recall(true_positives, false_negatives), 3))\n",
    "print('F1Score:', round(f1_score(true_positives, false_positives, false_negatives), 3))"
   ]
  },
  {
   "source": [
    "#### treshold = 0.95; nms_overlap=0.4"
   ],
   "cell_type": "markdown",
   "metadata": {}
  },
  {
   "cell_type": "code",
   "execution_count": 6,
   "metadata": {},
   "outputs": [],
   "source": [
    "del processed_images"
   ]
  },
  {
   "cell_type": "code",
   "execution_count": 7,
   "metadata": {},
   "outputs": [
    {
     "output_type": "stream",
     "name": "stderr",
     "text": [
      " 20%|██        | 1/5 [08:08<32:33, 488.45s/it]2\n",
      " 40%|████      | 2/5 [16:38<24:44, 494.92s/it]2\n",
      " 60%|██████    | 3/5 [24:15<16:07, 483.66s/it]28\n",
      " 80%|████████  | 4/5 [31:32<07:49, 469.56s/it]24\n",
      "100%|██████████| 5/5 [38:49<00:00, 465.85s/it]32\n",
      "\n",
      "\n",
      "Precision: 0.485\n",
      "Recall: 0.085\n",
      "F1Score: 0.145\n"
     ]
    }
   ],
   "source": [
    "slider_detector = SliderProbDetector(\n",
    "    sliding_window=sliding_window,\n",
    "    process_pipeline=process_pipeline,\n",
    "    classifier=ProbSVMModelWrapper(model),\n",
    "    treshold=0.95,\n",
    "    nms_overlap=0.4\n",
    ")\n",
    "\n",
    "true_positives, false_positives, false_negatives, processed_images = validate_model(\n",
    "    dataset_loader=dataset_loader,\n",
    "    input_folder_filepath='../../../data/raw/orto/val',\n",
    "    output_folder_filepath='../../processed_images/svm/orto/t95nms4',\n",
    "    images_files_types=('png',),\n",
    "    annotations_files_types=('json',),\n",
    "    detector=slider_detector,\n",
    "    workers=7\n",
    ")\n",
    "\n",
    "print()\n",
    "print('Precision:',  round(precision(true_positives, false_positives), 3))\n",
    "print('Recall:',  round(recall(true_positives, false_negatives), 3))\n",
    "print('F1Score:', round(f1_score(true_positives, false_positives, false_negatives), 3))"
   ]
  },
  {
   "source": [
    "#### treshold = 0.98; nms_overlap=0.4"
   ],
   "cell_type": "markdown",
   "metadata": {}
  },
  {
   "cell_type": "code",
   "execution_count": 8,
   "metadata": {},
   "outputs": [],
   "source": [
    "del processed_images"
   ]
  },
  {
   "cell_type": "code",
   "execution_count": 9,
   "metadata": {},
   "outputs": [
    {
     "output_type": "stream",
     "name": "stderr",
     "text": [
      " 20%|██        | 1/5 [07:13<28:53, 433.41s/it]0\n",
      " 40%|████      | 2/5 [14:22<21:36, 432.13s/it]2\n",
      " 60%|██████    | 3/5 [21:19<14:15, 427.60s/it]14\n",
      " 80%|████████  | 4/5 [28:15<07:04, 424.17s/it]13\n",
      "100%|██████████| 5/5 [35:15<00:00, 423.12s/it]20\n",
      "\n",
      "\n",
      "Precision: 0.568\n",
      "Recall: 0.054\n",
      "F1Score: 0.099\n"
     ]
    }
   ],
   "source": [
    "slider_detector = SliderProbDetector(\n",
    "    sliding_window=sliding_window,\n",
    "    process_pipeline=process_pipeline,\n",
    "    classifier=ProbSVMModelWrapper(model),\n",
    "    treshold=0.98,\n",
    "    nms_overlap=0.4\n",
    ")\n",
    "\n",
    "true_positives, false_positives, false_negatives, processed_images = validate_model(\n",
    "    dataset_loader=dataset_loader,\n",
    "    input_folder_filepath='../../../data/raw/orto/val',\n",
    "    output_folder_filepath='../../processed_images/svm/orto/t98nms4',\n",
    "    images_files_types=('png',),\n",
    "    annotations_files_types=('json',),\n",
    "    detector=slider_detector,\n",
    "    workers=8\n",
    ")\n",
    "\n",
    "print()\n",
    "print('Precision:',  round(precision(true_positives, false_positives), 3))\n",
    "print('Recall:',  round(recall(true_positives, false_negatives), 3))\n",
    "print('F1Score:', round(f1_score(true_positives, false_positives, false_negatives), 3))"
   ]
  },
  {
   "source": [
    "#### treshold = 0.9; nms_overlap=0.3"
   ],
   "cell_type": "markdown",
   "metadata": {}
  },
  {
   "cell_type": "code",
   "execution_count": 10,
   "metadata": {},
   "outputs": [],
   "source": [
    "del processed_images"
   ]
  },
  {
   "cell_type": "code",
   "execution_count": 11,
   "metadata": {},
   "outputs": [
    {
     "output_type": "stream",
     "name": "stderr",
     "text": [
      " 20%|██        | 1/5 [06:47<27:11, 407.87s/it]8\n",
      " 40%|████      | 2/5 [13:35<20:23, 407.91s/it]3\n",
      " 60%|██████    | 3/5 [20:24<13:36, 408.15s/it]57\n",
      " 80%|████████  | 4/5 [27:11<06:47, 407.86s/it]43\n",
      "100%|██████████| 5/5 [34:00<00:00, 408.03s/it]49\n",
      "\n",
      "\n",
      "Precision: 0.486\n",
      "Recall: 0.132\n",
      "F1Score: 0.208\n"
     ]
    }
   ],
   "source": [
    "slider_detector = SliderProbDetector(\n",
    "    sliding_window=sliding_window,\n",
    "    process_pipeline=process_pipeline,\n",
    "    classifier=ProbSVMModelWrapper(model),\n",
    "    treshold=0.9,\n",
    "    nms_overlap=0.3\n",
    ")\n",
    "\n",
    "true_positives, false_positives, false_negatives, processed_images = validate_model(\n",
    "    dataset_loader=dataset_loader,\n",
    "    input_folder_filepath='../../../data/raw/orto/val',\n",
    "    output_folder_filepath='../../processed_images/svm/orto/t9nms3',\n",
    "    images_files_types=('png',),\n",
    "    annotations_files_types=('json',),\n",
    "    detector=slider_detector,\n",
    "    workers=8\n",
    ")\n",
    "\n",
    "print()\n",
    "print('Precision:',  round(precision(true_positives, false_positives), 3))\n",
    "print('Recall:',  round(recall(true_positives, false_negatives), 3))\n",
    "print('F1Score:', round(f1_score(true_positives, false_positives, false_negatives), 3))"
   ]
  },
  {
   "source": [
    "#### treshold = 0.9; nms_overlap=0.5"
   ],
   "cell_type": "markdown",
   "metadata": {}
  },
  {
   "cell_type": "code",
   "execution_count": 12,
   "metadata": {},
   "outputs": [],
   "source": [
    "del processed_images"
   ]
  },
  {
   "cell_type": "code",
   "execution_count": 13,
   "metadata": {},
   "outputs": [
    {
     "output_type": "stream",
     "name": "stderr",
     "text": [
      " 20%|██        | 1/5 [07:05<28:21, 425.27s/it]8\n",
      " 40%|████      | 2/5 [13:57<21:04, 421.35s/it]3\n",
      " 60%|██████    | 3/5 [20:46<13:55, 417.79s/it]57\n",
      " 80%|████████  | 4/5 [27:35<06:55, 415.07s/it]43\n",
      "100%|██████████| 5/5 [34:25<00:00, 413.06s/it]49\n",
      "\n",
      "\n",
      "Precision: 0.474\n",
      "Recall: 0.14\n",
      "F1Score: 0.216\n"
     ]
    }
   ],
   "source": [
    "slider_detector = SliderProbDetector(\n",
    "    sliding_window=sliding_window,\n",
    "    process_pipeline=process_pipeline,\n",
    "    classifier=ProbSVMModelWrapper(model),\n",
    "    treshold=0.9,\n",
    "    nms_overlap=0.5\n",
    ")\n",
    "\n",
    "true_positives, false_positives, false_negatives, processed_images = validate_model(\n",
    "    dataset_loader=dataset_loader,\n",
    "    input_folder_filepath='../../../data/raw/orto/val',\n",
    "    output_folder_filepath='../../processed_images/svm/orto/t9nms5',\n",
    "    images_files_types=('png',),\n",
    "    annotations_files_types=('json',),\n",
    "    detector=slider_detector,\n",
    "    workers=8\n",
    ")\n",
    "\n",
    "print()\n",
    "print('Precision:',  round(precision(true_positives, false_positives), 3))\n",
    "print('Recall:',  round(recall(true_positives, false_negatives), 3))\n",
    "print('F1Score:', round(f1_score(true_positives, false_positives, false_negatives), 3))"
   ]
  },
  {
   "source": [
    "#### treshold = 0.95; nms_overlap=0.3"
   ],
   "cell_type": "markdown",
   "metadata": {}
  },
  {
   "cell_type": "code",
   "execution_count": 14,
   "metadata": {},
   "outputs": [],
   "source": [
    "del processed_images"
   ]
  },
  {
   "cell_type": "code",
   "execution_count": 15,
   "metadata": {},
   "outputs": [
    {
     "output_type": "stream",
     "name": "stderr",
     "text": [
      " 20%|██        | 1/5 [06:48<27:15, 408.87s/it]2\n",
      " 40%|████      | 2/5 [13:37<20:26, 408.76s/it]2\n",
      " 60%|██████    | 3/5 [20:24<13:36, 408.34s/it]28\n",
      " 80%|████████  | 4/5 [27:14<06:48, 408.62s/it]24\n",
      "100%|██████████| 5/5 [34:00<00:00, 408.19s/it]32\n",
      "\n",
      "\n",
      "Precision: 0.5\n",
      "Recall: 0.08\n",
      "F1Score: 0.138\n"
     ]
    }
   ],
   "source": [
    "slider_detector = SliderProbDetector(\n",
    "    sliding_window=sliding_window,\n",
    "    process_pipeline=process_pipeline,\n",
    "    classifier=ProbSVMModelWrapper(model),\n",
    "    treshold=0.95,\n",
    "    nms_overlap=0.3\n",
    ")\n",
    "\n",
    "true_positives, false_positives, false_negatives, processed_images = validate_model(\n",
    "    dataset_loader=dataset_loader,\n",
    "    input_folder_filepath='../../../data/raw/orto/val',\n",
    "    output_folder_filepath='../../processed_images/svm/orto/t95nms3',\n",
    "    images_files_types=('png',),\n",
    "    annotations_files_types=('json',),\n",
    "    detector=slider_detector,\n",
    "    workers=8\n",
    ")\n",
    "\n",
    "print()\n",
    "print('Precision:',  round(precision(true_positives, false_positives), 3))\n",
    "print('Recall:',  round(recall(true_positives, false_negatives), 3))\n",
    "print('F1Score:', round(f1_score(true_positives, false_positives, false_negatives), 3))"
   ]
  },
  {
   "source": [
    "#### treshold = 0.95; nms_overlap=0.5"
   ],
   "cell_type": "markdown",
   "metadata": {}
  },
  {
   "cell_type": "code",
   "execution_count": 16,
   "metadata": {},
   "outputs": [],
   "source": [
    "del processed_images"
   ]
  },
  {
   "cell_type": "code",
   "execution_count": 17,
   "metadata": {},
   "outputs": [
    {
     "output_type": "stream",
     "name": "stderr",
     "text": [
      " 20%|██        | 1/5 [06:48<27:13, 408.30s/it]2\n",
      " 40%|████      | 2/5 [13:33<20:21, 407.30s/it]2\n",
      " 60%|██████    | 3/5 [20:20<13:34, 407.37s/it]28\n",
      " 80%|████████  | 4/5 [27:07<06:47, 407.28s/it]24\n",
      "100%|██████████| 5/5 [33:57<00:00, 407.50s/it]32\n",
      "\n",
      "\n",
      "Precision: 0.485\n",
      "Recall: 0.085\n",
      "F1Score: 0.145\n"
     ]
    }
   ],
   "source": [
    "slider_detector = SliderProbDetector(\n",
    "    sliding_window=sliding_window,\n",
    "    process_pipeline=process_pipeline,\n",
    "    classifier=ProbSVMModelWrapper(model),\n",
    "    treshold=0.95,\n",
    "    nms_overlap=0.5\n",
    ")\n",
    "\n",
    "true_positives, false_positives, false_negatives, processed_images = validate_model(\n",
    "    dataset_loader=dataset_loader,\n",
    "    input_folder_filepath='../../../data/raw/orto/val',\n",
    "    output_folder_filepath='../../processed_images/svm/orto/t95nms5',\n",
    "    images_files_types=('png',),\n",
    "    annotations_files_types=('json',),\n",
    "    detector=slider_detector,\n",
    "    workers=8\n",
    ")\n",
    "\n",
    "print()\n",
    "print('Precision:',  round(precision(true_positives, false_positives), 3))\n",
    "print('Recall:',  round(recall(true_positives, false_negatives), 3))\n",
    "print('F1Score:', round(f1_score(true_positives, false_positives, false_negatives), 3))"
   ]
  },
  {
   "cell_type": "code",
   "execution_count": null,
   "metadata": {},
   "outputs": [],
   "source": []
  }
 ]
}